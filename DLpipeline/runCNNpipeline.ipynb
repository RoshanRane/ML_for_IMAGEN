{
 "cells": [
  {
   "cell_type": "markdown",
   "metadata": {},
   "source": [
    "# CNN training on IMAGEN data"
   ]
  },
  {
   "cell_type": "markdown",
   "metadata": {},
   "source": [
    "#### Import necessary modules and select the GPU"
   ]
  },
  {
   "cell_type": "code",
   "execution_count": 3,
   "metadata": {},
   "outputs": [],
   "source": [
    "%matplotlib inline\n",
    "%load_ext autoreload\n",
    "%autoreload 2"
   ]
  },
  {
   "cell_type": "code",
   "execution_count": 4,
   "metadata": {},
   "outputs": [],
   "source": [
    "# dependencies and plotting\n",
    "import os, sys, inspect\n",
    "from glob import glob\n",
    "import h5py\n",
    "import matplotlib.pyplot as plt \n",
    "import numpy as np\n",
    "\n",
    "# path\n",
    "from pathlib import Path\n",
    "\n",
    "# pytorch\n",
    "import torch\n",
    "import torch.nn as nn\n",
    "import torch.nn.functional as F\n",
    "import torch.optim as optim\n",
    "from torchvision import transforms\n",
    "from torch.utils.data import Dataset, DataLoader\n",
    "\n",
    "# sklearn functions\n",
    "from sklearn.metrics import roc_curve, auc\n",
    "from sklearn.model_selection import train_test_split\n",
    "\n",
    "# load functions from nitorch\n",
    "sys.path.insert(1,\"/ritter/roshan/workspace/nitorch/\")\n",
    "from nitorch.transforms import  ToTensor, SagittalTranslate, SagittalFlip, IntensityRescale \n",
    "from nitorch.callbacks import EarlyStopping, ModelCheckpoint\n",
    "# from nitorch.trainer import Trainer\n",
    "from nitorch.metrics import binary_balanced_accuracy, sensitivity, specificity\n",
    "from nitorch.utils import count_parameters\n",
    "from nitorch.data import *\n",
    "\n",
    "from CNNpipeline import *\n",
    "from models import *"
   ]
  },
  {
   "cell_type": "code",
   "execution_count": 3,
   "metadata": {},
   "outputs": [],
   "source": [
    "gpus = [0,1,2]\n",
    "# check_gpu_status(gpus)"
   ]
  },
  {
   "cell_type": "code",
   "execution_count": 31,
   "metadata": {},
   "outputs": [
    {
     "data": {
      "text/plain": [
       "array([0.85714286, 0.57142857, 0.85714286, 0.85714286, 0.85714286])"
      ]
     },
     "execution_count": 31,
     "metadata": {},
     "output_type": "execute_result"
    }
   ],
   "source": [
    "a = np.array([1, 2, 6, 4, 2, 3, 2])\n",
    "_, c = np.unique(a, return_counts=True)\n"
   ]
  },
  {
   "cell_type": "markdown",
   "metadata": {},
   "source": [
    "### Prepare Dataset"
   ]
  },
  {
   "cell_type": "code",
   "execution_count": 32,
   "metadata": {},
   "outputs": [
    {
     "data": {
      "text/plain": [
       "'0.17.0'"
      ]
     },
     "execution_count": 32,
     "metadata": {},
     "output_type": "execute_result"
    }
   ],
   "source": [
    "import joblib\n",
    "joblib.__version__"
   ]
  },
  {
   "cell_type": "code",
   "execution_count": 4,
   "metadata": {},
   "outputs": [],
   "source": [
    "# Check the directory and file\n",
    "DATA_DIR = \"/ritter/share/data/IMAGEN/h5files/\"\n",
    "h5_file = \"fullbrain-fu3-z2-bingel3u6-n*.h5\"\n",
    "h5_file_holdout = \"fullbrain-fu3-hold-z2-bingel3u6-n*.h5\"\n",
    "\n",
    "data = h5py.File(glob(DATA_DIR+h5_file)[0], 'r')\n",
    "label = data.attrs['labels'][0] #'sex'\n",
    "X_dataset = np.array(data['X'])\n",
    "y_dataset = np.array(data[label]) \n",
    "\n",
    "data_hold = h5py.File(glob(DATA_DIR+h5_file_holdout)[0], 'r')\n",
    "X_test = np.array(data_hold['X'])\n",
    "y_test = np.array(data_hold[label]) "
   ]
  },
  {
   "cell_type": "markdown",
   "metadata": {},
   "source": [
    "##### Split the data"
   ]
  },
  {
   "cell_type": "code",
   "execution_count": 11,
   "metadata": {},
   "outputs": [],
   "source": [
    "# test_size=20% and train_size=80% for total, training and validation\n",
    "X_train, X_val, y_train, y_val = train_test_split(\n",
    "    X_dataset, y_dataset, \n",
    "    test_size=0.20, stratify=y_dataset,\n",
    "    random_state=42)"
   ]
  },
  {
   "cell_type": "code",
   "execution_count": 12,
   "metadata": {},
   "outputs": [
    {
     "name": "stdout",
     "output_type": "stream",
     "text": [
      "keys in h5_file: ['Binge', 'X', 'i', 'sex', 'site']\n"
     ]
    },
    {
     "data": {
      "text/html": [
       "<div>\n",
       "<style scoped>\n",
       "    .dataframe tbody tr th:only-of-type {\n",
       "        vertical-align: middle;\n",
       "    }\n",
       "\n",
       "    .dataframe tbody tr th {\n",
       "        vertical-align: top;\n",
       "    }\n",
       "\n",
       "    .dataframe thead th {\n",
       "        text-align: right;\n",
       "    }\n",
       "</style>\n",
       "<table border=\"1\" class=\"dataframe\">\n",
       "  <thead>\n",
       "    <tr style=\"text-align: right;\">\n",
       "      <th></th>\n",
       "      <th>total</th>\n",
       "      <th>class0</th>\n",
       "      <th>class1</th>\n",
       "    </tr>\n",
       "  </thead>\n",
       "  <tbody>\n",
       "    <tr>\n",
       "      <th>all data</th>\n",
       "      <td>798</td>\n",
       "      <td>457</td>\n",
       "      <td>341</td>\n",
       "    </tr>\n",
       "    <tr>\n",
       "      <th>training set</th>\n",
       "      <td>556</td>\n",
       "      <td>318</td>\n",
       "      <td>238</td>\n",
       "    </tr>\n",
       "    <tr>\n",
       "      <th>validation set</th>\n",
       "      <td>140</td>\n",
       "      <td>80</td>\n",
       "      <td>60</td>\n",
       "    </tr>\n",
       "    <tr>\n",
       "      <th>holdout set</th>\n",
       "      <td>102</td>\n",
       "      <td>59</td>\n",
       "      <td>43</td>\n",
       "    </tr>\n",
       "  </tbody>\n",
       "</table>\n",
       "</div>"
      ],
      "text/plain": [
       "                total  class0  class1\n",
       "all data          798     457     341\n",
       "training set      556     318     238\n",
       "validation set    140      80      60\n",
       "holdout set       102      59      43"
      ]
     },
     "metadata": {},
     "output_type": "display_data"
    },
    {
     "name": "stdout",
     "output_type": "stream",
     "text": [
      "states of the label 'Binge': [0.0, 1.0]\n",
      "examples of the label: [0. 1. 1. 0. 1.]\n"
     ]
    }
   ],
   "source": [
    "y_all = np.concatenate([y_train, y_val, y_test])\n",
    "print(f'keys in h5_file: {[i for i in data.keys()]}')\n",
    "\n",
    "df_size = pd.DataFrame({\n",
    "    \"all data\":       {\"total\":len(y_all), \"class0\":np.sum(y_all), \"class1\":int(len(y_all)-np.sum(y_all))},\n",
    "    \"training set\":   {\"total\":len(y_train), \"class0\":np.sum(y_train), \"class1\":int(len(y_train)-np.sum(y_train))},\n",
    "    \"validation set\": {\"total\":len(y_val), \"class0\":np.sum(y_val), \"class1\":int(len(y_val)-np.sum(y_val))},\n",
    "    \"holdout set\":    {\"total\":len(y_test), \"class0\":np.sum(y_test), \"class1\":int(len(y_test)-np.sum(y_test))},\n",
    "}, dtype=int).T\n",
    "display(df_size)\n",
    "\n",
    "# Sanity checks\n",
    "print(f\"states of the label '{label}': {list(set(y_all))}\")\n",
    "print(f'examples of the label: {y_val[:5]}')"
   ]
  },
  {
   "cell_type": "markdown",
   "metadata": {},
   "source": [
    "<b>Define Image Augmentations</b>"
   ]
  },
  {
   "cell_type": "code",
   "execution_count": 13,
   "metadata": {},
   "outputs": [],
   "source": [
    "augmentations = [SagittalFlip(prob=0.5), SagittalTranslate(dist=(-2, 2)), IntensityRescale(masked=False)]\n",
    "transform = transforms.Compose(augmentations + [ToTensor()])"
   ]
  },
  {
   "cell_type": "code",
   "execution_count": 15,
   "metadata": {},
   "outputs": [],
   "source": [
    "IMAGEN_data_train = myDataset(X_train, y_train, transform=transform)\n",
    "IMAGEN_data_val = myDataset(X_val, y_val, transform=transform)\n",
    "IMAGEN_data_test = myDataset( X_test, y_test, transform=transform)"
   ]
  },
  {
   "cell_type": "markdown",
   "metadata": {},
   "source": [
    "<b>Data Visualization</b>"
   ]
  },
  {
   "cell_type": "code",
   "execution_count": 1,
   "metadata": {},
   "outputs": [],
   "source": [
    "# for i in [1,29,77, 99]:\n",
    "#     sample = IMAGEN_data_train[i]\n",
    "#     img = sample[\"image\"].numpy()[0]\n",
    "#     lbl = sample[\"label\"].numpy()[0]\n",
    "#     if lbl: \n",
    "#         print(f\"AAM subject {i}\")\n",
    "#     else:\n",
    "#         print(f\"Control subject {i}\")\n",
    "# #     print(\"img shape =\", img.shape, \"value (max, mean, min)=\", (img.max(), round(img.mean(),2), img.min()))\n",
    "#     cut_coords = [43, 57, 45]\n",
    "\n",
    "#     show_brain(img, cut_coords, cmap=\"gray\", draw_cross=False)\n",
    "#     plt.show()"
   ]
  },
  {
   "cell_type": "markdown",
   "metadata": {},
   "source": [
    "### Prepare the model"
   ]
  },
  {
   "cell_type": "code",
   "execution_count": 11,
   "metadata": {},
   "outputs": [
    {
     "ename": "NameError",
     "evalue": "name 'gpu' is not defined",
     "output_type": "error",
     "traceback": [
      "\u001b[0;31m---------------------------------------------------------------------------\u001b[0m",
      "\u001b[0;31mNameError\u001b[0m                                 Traceback (most recent call last)",
      "\u001b[0;32m<ipython-input-11-eb5fb49227d2>\u001b[0m in \u001b[0;36m<module>\u001b[0;34m\u001b[0m\n\u001b[1;32m      1\u001b[0m \u001b[0;31m# Instantiate our model, specify the use of CUDA with appropriate GPU\u001b[0m\u001b[0;34m\u001b[0m\u001b[0;34m\u001b[0m\u001b[0;34m\u001b[0m\u001b[0m\n\u001b[1;32m      2\u001b[0m \u001b[0;31m# and check out the number of parameters using count_parameters imported from nitorch\u001b[0m\u001b[0;34m\u001b[0m\u001b[0;34m\u001b[0m\u001b[0;34m\u001b[0m\u001b[0m\n\u001b[0;32m----> 3\u001b[0;31m \u001b[0mnet\u001b[0m \u001b[0;34m=\u001b[0m \u001b[0mSixtyFourNet\u001b[0m\u001b[0;34m(\u001b[0m\u001b[0;34m)\u001b[0m\u001b[0;34m.\u001b[0m\u001b[0mcuda\u001b[0m\u001b[0;34m(\u001b[0m\u001b[0mgpu\u001b[0m\u001b[0;34m)\u001b[0m\u001b[0;34m\u001b[0m\u001b[0;34m\u001b[0m\u001b[0m\n\u001b[0m",
      "\u001b[0;31mNameError\u001b[0m: name 'gpu' is not defined"
     ]
    }
   ],
   "source": [
    "# Instantiate our model, specify the use of CUDA with appropriate GPU \n",
    "# and check out the number of parameters using count_parameters imported from nitorch\n",
    "net = SixtyFourNet().cuda(gpu)\n"
   ]
  },
  {
   "cell_type": "markdown",
   "metadata": {},
   "source": [
    "### Training"
   ]
  },
  {
   "cell_type": "code",
   "execution_count": 15,
   "metadata": {},
   "outputs": [],
   "source": [
    "output_dir = \"results/imagen_fu3_pt\"\n",
    "if os.path.exists(output_dir) and (len(os.listdir(output_dir)) != 0): \n",
    "    print(\"[WARN]: files already exist in this directory. Move or delete them first.\")"
   ]
  },
  {
   "cell_type": "code",
   "execution_count": 16,
   "metadata": {},
   "outputs": [],
   "source": [
    "# Define the variables we want to pass into the model_fit function\n",
    "trials=5\n",
    "num_epochs=50\n",
    "batch_size=8\n",
    "# callback settings\n",
    "earlystop_patience=8\n",
    "ignore_epochs=earlystop_patience\n",
    "retain_metric = binary_balanced_accuracy\n",
    "\n",
    "debug=False\n",
    "if debug:\n",
    "    # only use 10 data points\n",
    "    for data in IMAGEN_data_train, IMAGEN_data_val, IMAGEN_data_test:\n",
    "        data.X = data.X[:10]\n",
    "        data.y = data.y[:10]\n",
    "    trials=1\n",
    "    num_epochs=5\n",
    "    batch_size=2\n",
    "    earlystop_patience, ignore_epochs=2,0"
   ]
  },
  {
   "cell_type": "code",
   "execution_count": 17,
   "metadata": {},
   "outputs": [],
   "source": [
    "metrics = [retain_metric]\n",
    "callbacks = [\n",
    "    EarlyStopping(earlystop_patience, ignore_before=ignore_epochs, \n",
    "                  retain_metric=\"loss\", mode='min'), # dd: do early stopping on the loss instead of the metric\n",
    "    ModelCheckpoint(path=output_dir, store_best=True, \n",
    "                    ignore_before=ignore_epochs, retain_metric=retain_metric)\n",
    "]"
   ]
  },
  {
   "cell_type": "code",
   "execution_count": null,
   "metadata": {
    "scrolled": true,
    "tags": []
   },
   "outputs": [
    {
     "name": "stdout",
     "output_type": "stream",
     "text": [
      "-----------------------------------------\n",
      "Starting trial 0\n",
      "[0,    17] loss: 1.44150\n",
      "[0,    34] loss: 1.11725\n",
      "[0,    51] loss: 0.97316\n",
      "[0,    68] loss: 0.91672\n",
      "Time elapsed: 0h:0m:34s\n",
      "train binary_balanced_accuracy: 56.87 %\n",
      "val loss: 0.68346\n",
      "val binary_balanced_accuracy: 50.00 %\n",
      "[1,    17] loss: 0.68113\n",
      "[1,    34] loss: 0.67649\n",
      "[1,    51] loss: 0.67897\n",
      "[1,    68] loss: 0.67992\n",
      "Time elapsed: 0h:1m:10s\n",
      "train binary_balanced_accuracy: 50.00 %\n",
      "val loss: 0.68471\n",
      "val binary_balanced_accuracy: 48.75 %\n",
      "[2,    17] loss: 0.67524\n",
      "[2,    34] loss: 0.67544\n",
      "[2,    51] loss: 0.66844\n",
      "[2,    68] loss: 0.67270\n",
      "Time elapsed: 0h:2m:3s\n",
      "train binary_balanced_accuracy: 54.76 %\n",
      "val loss: 0.68717\n",
      "val binary_balanced_accuracy: 53.75 %\n",
      "[3,    17] loss: 0.67151\n",
      "[3,    34] loss: 0.67549\n",
      "[3,    51] loss: 0.67854\n",
      "[3,    68] loss: 0.67432\n",
      "Time elapsed: 0h:2m:40s\n",
      "train binary_balanced_accuracy: 62.50 %\n",
      "val loss: 0.68417\n",
      "val binary_balanced_accuracy: 50.42 %\n",
      "[4,    17] loss: 0.68761\n",
      "[4,    34] loss: 0.66029\n",
      "[4,    51] loss: 0.66870\n",
      "[4,    68] loss: 0.66759\n",
      "Time elapsed: 0h:3m:17s\n",
      "train binary_balanced_accuracy: 53.02 %\n",
      "val loss: 0.67970\n",
      "val binary_balanced_accuracy: 52.08 %\n",
      "[5,    17] loss: 0.64665\n",
      "[5,    34] loss: 0.66067\n",
      "[5,    51] loss: 0.66152\n",
      "[5,    68] loss: 0.65581\n",
      "Time elapsed: 0h:3m:54s\n",
      "train binary_balanced_accuracy: 58.84 %\n",
      "val loss: 0.69772\n",
      "val binary_balanced_accuracy: 51.25 %\n",
      "[6,    17] loss: 0.62667\n",
      "[6,    34] loss: 0.65684\n",
      "[6,    51] loss: 0.64986\n",
      "[6,    68] loss: 0.64881\n",
      "Time elapsed: 0h:4m:31s\n",
      "train binary_balanced_accuracy: 66.79 %\n",
      "val loss: 0.68777\n",
      "val binary_balanced_accuracy: 54.17 %\n",
      "[7,    17] loss: 0.64767\n",
      "[7,    34] loss: 0.64321\n",
      "[7,    51] loss: 0.64284\n",
      "[7,    68] loss: 0.63975\n",
      "Time elapsed: 0h:5m:8s\n",
      "train binary_balanced_accuracy: 57.67 %\n",
      "val loss: 0.66629\n",
      "val binary_balanced_accuracy: 57.08 %\n",
      "[8,    17] loss: 0.61638\n",
      "[8,    34] loss: 0.63291\n",
      "[8,    51] loss: 0.62780\n",
      "[8,    68] loss: 0.62632\n",
      "Time elapsed: 0h:5m:45s\n",
      "train binary_balanced_accuracy: 58.33 %\n",
      "val loss: 0.66144\n",
      "val binary_balanced_accuracy: 58.54 %\n",
      "[9,    17] loss: 0.63162\n",
      "[9,    34] loss: 0.60483\n",
      "[9,    51] loss: 0.62235\n",
      "[9,    68] loss: 0.62609\n",
      "Time elapsed: 0h:6m:45s\n",
      "train binary_balanced_accuracy: 60.99 %\n",
      "val loss: 0.65964\n",
      "val binary_balanced_accuracy: 56.46 %\n",
      "[10,    17] loss: 0.63926\n",
      "[10,    34] loss: 0.62771\n",
      "[10,    51] loss: 0.62616\n",
      "[10,    68] loss: 0.61782\n",
      "Time elapsed: 0h:7m:22s\n",
      "train binary_balanced_accuracy: 74.37 %\n",
      "val loss: 0.69172\n",
      "val binary_balanced_accuracy: 61.46 %\n",
      "[11,    17] loss: 0.66753\n",
      "[11,    34] loss: 0.63740\n",
      "[11,    51] loss: 0.63317\n",
      "[11,    68] loss: 0.60997\n",
      "Time elapsed: 0h:7m:59s\n",
      "train binary_balanced_accuracy: 76.67 %\n",
      "val loss: 0.65989\n",
      "val binary_balanced_accuracy: 64.17 %\n",
      "[12,    17] loss: 0.60421\n",
      "[12,    34] loss: 0.59136\n",
      "[12,    51] loss: 0.59894\n",
      "[12,    68] loss: 0.60020\n",
      "Time elapsed: 0h:8m:36s\n",
      "train binary_balanced_accuracy: 67.33 %\n",
      "val loss: 0.68178\n",
      "val binary_balanced_accuracy: 61.04 %\n",
      "[13,    17] loss: 0.55985\n",
      "[13,    34] loss: 0.59030\n",
      "[13,    51] loss: 0.57801\n",
      "[13,    68] loss: 0.60196\n",
      "Time elapsed: 0h:9m:13s\n",
      "train binary_balanced_accuracy: 74.75 %\n",
      "val loss: 0.67673\n",
      "val binary_balanced_accuracy: 53.96 %\n",
      "[14,    17] loss: 0.57379\n",
      "[14,    34] loss: 0.58771\n",
      "[14,    51] loss: 0.58050\n",
      "[14,    68] loss: 0.58617\n",
      "Time elapsed: 0h:9m:50s\n",
      "train binary_balanced_accuracy: 59.38 %\n",
      "val loss: 0.65903\n",
      "val binary_balanced_accuracy: 62.71 %\n",
      "[15,    17] loss: 0.56103\n",
      "[15,    34] loss: 0.58661\n",
      "[15,    51] loss: 0.58017\n",
      "[15,    68] loss: 0.59147\n",
      "Time elapsed: 0h:10m:27s\n",
      "train binary_balanced_accuracy: 55.64 %\n",
      "val loss: 0.68447\n",
      "val binary_balanced_accuracy: 62.71 %\n",
      "[16,    17] loss: 0.55958\n",
      "[16,    34] loss: 0.58326\n",
      "[16,    51] loss: 0.59824\n",
      "[16,    68] loss: 0.57819\n",
      "Time elapsed: 0h:11m:4s\n",
      "train binary_balanced_accuracy: 75.76 %\n",
      "val loss: 0.67689\n",
      "val binary_balanced_accuracy: 61.04 %\n",
      "[17,    17] loss: 0.57521\n",
      "[17,    34] loss: 0.53915\n",
      "[17,    51] loss: 0.54818\n",
      "[17,    68] loss: 0.54472\n",
      "Time elapsed: 0h:11m:51s\n",
      "train binary_balanced_accuracy: 62.67 %\n",
      "val loss: 0.66292\n",
      "val binary_balanced_accuracy: 68.54 %\n",
      "[18,    17] loss: 0.51537\n",
      "[18,    34] loss: 0.52665\n",
      "[18,    51] loss: 0.51908\n",
      "[18,    68] loss: 0.52310\n",
      "Time elapsed: 0h:12m:28s\n",
      "train binary_balanced_accuracy: 66.10 %\n",
      "val loss: 0.64948\n",
      "val binary_balanced_accuracy: 64.58 %\n",
      "[19,    17] loss: 0.49101\n",
      "[19,    34] loss: 0.47258\n",
      "[19,    51] loss: 0.49703\n",
      "[19,    68] loss: 0.51419\n",
      "Time elapsed: 0h:13m:6s\n",
      "train binary_balanced_accuracy: 64.88 %\n",
      "val loss: 0.65812\n",
      "val binary_balanced_accuracy: 64.79 %\n",
      "[20,    17] loss: 0.50321\n",
      "[20,    34] loss: 0.45015\n",
      "[20,    51] loss: 0.47012\n",
      "[20,    68] loss: 0.48902\n",
      "Time elapsed: 0h:13m:44s\n",
      "train binary_balanced_accuracy: 72.50 %\n",
      "val loss: 0.72026\n",
      "val binary_balanced_accuracy: 62.29 %\n",
      "[21,    17] loss: 0.43537\n",
      "[21,    34] loss: 0.43616\n",
      "[21,    51] loss: 0.44407\n",
      "[21,    68] loss: 0.46074\n",
      "Time elapsed: 0h:14m:22s\n",
      "train binary_balanced_accuracy: 79.33 %\n",
      "val loss: 0.64837\n",
      "val binary_balanced_accuracy: 63.33 %\n",
      "[22,    17] loss: 0.47515\n",
      "[22,    34] loss: 0.47601\n",
      "[22,    51] loss: 0.48792\n",
      "[22,    68] loss: 0.47381\n",
      "Time elapsed: 0h:14m:59s\n",
      "train binary_balanced_accuracy: 72.98 %\n",
      "val loss: 0.68367\n",
      "val binary_balanced_accuracy: 68.33 %\n",
      "[23,    17] loss: 0.40386\n",
      "[23,    34] loss: 0.39013\n",
      "[23,    51] loss: 0.43798\n",
      "[23,    68] loss: 0.44511\n",
      "Time elapsed: 0h:15m:37s\n",
      "train binary_balanced_accuracy: 89.33 %\n",
      "val loss: 0.61495\n",
      "val binary_balanced_accuracy: 70.83 %\n",
      "[24,    17] loss: 0.39363\n",
      "[24,    34] loss: 0.42949\n",
      "[24,    51] loss: 0.40902\n",
      "[24,    68] loss: 0.41874\n",
      "Time elapsed: 0h:16m:16s\n",
      "train binary_balanced_accuracy: 94.95 %\n",
      "val loss: 0.66460\n",
      "val binary_balanced_accuracy: 69.79 %\n",
      "[25,    17] loss: 0.46884\n",
      "[25,    34] loss: 0.43613\n",
      "[25,    51] loss: 0.41971\n",
      "[25,    68] loss: 0.41280\n",
      "Time elapsed: 0h:16m:54s\n",
      "train binary_balanced_accuracy: 80.00 %\n",
      "val loss: 0.72307\n",
      "val binary_balanced_accuracy: 70.62 %\n",
      "[26,    17] loss: 0.32081\n",
      "[26,    34] loss: 0.35937\n",
      "[26,    51] loss: 0.38427\n",
      "[26,    68] loss: 0.38686\n",
      "Time elapsed: 0h:17m:32s\n",
      "train binary_balanced_accuracy: 85.00 %\n",
      "val loss: 0.73021\n",
      "val binary_balanced_accuracy: 65.21 %\n",
      "[27,    17] loss: 0.42659\n",
      "[27,    34] loss: 0.38175\n",
      "[27,    51] loss: 0.37913\n",
      "[27,    68] loss: 0.37188\n",
      "Time elapsed: 0h:18m:9s\n",
      "train binary_balanced_accuracy: 85.21 %\n",
      "val loss: 0.70805\n",
      "val binary_balanced_accuracy: 67.71 %\n",
      "[28,    17] loss: 0.35521\n",
      "[28,    34] loss: 0.33420\n",
      "[28,    51] loss: 0.33073\n",
      "[28,    68] loss: 0.34479\n",
      "Time elapsed: 0h:18m:47s\n",
      "train binary_balanced_accuracy: 78.12 %\n",
      "val loss: 0.73016\n",
      "val binary_balanced_accuracy: 65.62 %\n",
      "[29,    17] loss: 0.27031\n",
      "[29,    34] loss: 0.32706\n",
      "[29,    51] loss: 0.32666\n",
      "[29,    68] loss: 0.34937\n",
      "Time elapsed: 0h:19m:25s\n",
      "train binary_balanced_accuracy: 89.77 %\n",
      "val loss: 0.69696\n",
      "val binary_balanced_accuracy: 67.50 %\n",
      "[30,    17] loss: 0.31436\n",
      "[30,    34] loss: 0.28981\n",
      "[30,    51] loss: 0.34759\n",
      "[30,    68] loss: 0.33062\n",
      "Time elapsed: 0h:20m:2s\n",
      "train binary_balanced_accuracy: 85.42 %\n",
      "val loss: 0.73055\n",
      "val binary_balanced_accuracy: 64.58 %\n",
      "[31,    17] loss: 0.29814\n",
      "[31,    34] loss: 0.28793\n",
      "[31,    51] loss: 0.29500\n",
      "[31,    68] loss: 0.29799\n",
      "Time elapsed: 0h:20m:40s\n",
      "train binary_balanced_accuracy: 92.01 %\n",
      "val loss: 0.70118\n",
      "val binary_balanced_accuracy: 66.25 %\n",
      "Early stopping at epoch 31.\n",
      "Best model was at epoch 23 with val metric score = 0.6149524062605841\n",
      "[32,    17] loss: 0.29253\n",
      "[32,    34] loss: 0.26260\n",
      "[32,    51] loss: 0.26233\n",
      "[32,    68] loss: 0.25051\n",
      "Time elapsed: 0h:21m:17s\n",
      "train binary_balanced_accuracy: 84.00 %\n",
      "val loss: 0.88496\n",
      "val binary_balanced_accuracy: 64.38 %\n",
      "Early stopping at epoch 32.\n",
      "Best model was at epoch 23 with val metric score = 0.6149524062605841\n",
      "[33,    17] loss: 0.27070\n",
      "[33,    34] loss: 0.26952\n",
      "[33,    51] loss: 0.24866\n",
      "[33,    68] loss: 0.26209\n",
      "Time elapsed: 0h:21m:58s\n",
      "train binary_balanced_accuracy: 87.50 %\n",
      "val loss: 0.78001\n",
      "val binary_balanced_accuracy: 67.29 %\n",
      "Early stopping at epoch 33.\n",
      "Best model was at epoch 23 with val metric score = 0.6149524062605841\n",
      "[34,    17] loss: 0.27438\n",
      "[34,    34] loss: 0.24465\n",
      "[34,    51] loss: 0.22415\n",
      "[34,    68] loss: 0.22707\n",
      "Time elapsed: 0h:22m:35s\n",
      "train binary_balanced_accuracy: 88.36 %\n",
      "val loss: 0.82141\n",
      "val binary_balanced_accuracy: 71.04 %\n",
      "Early stopping at epoch 34.\n",
      "Best model was at epoch 23 with val metric score = 0.6149524062605841\n",
      "[35,    17] loss: 0.26923\n",
      "[35,    34] loss: 0.22688\n",
      "[35,    51] loss: 0.23173\n",
      "[35,    68] loss: 0.22761\n",
      "Time elapsed: 0h:23m:13s\n",
      "train binary_balanced_accuracy: 92.71 %\n",
      "val loss: 0.88784\n",
      "val binary_balanced_accuracy: 66.25 %\n",
      "Early stopping at epoch 35.\n",
      "Best model was at epoch 23 with val metric score = 0.6149524062605841\n",
      "[36,    17] loss: 0.20414\n",
      "[36,    34] loss: 0.19464\n",
      "[36,    51] loss: 0.17529\n",
      "[36,    68] loss: 0.18742\n",
      "Time elapsed: 0h:23m:50s\n",
      "train binary_balanced_accuracy: 89.00 %\n",
      "val loss: 0.84984\n",
      "val binary_balanced_accuracy: 70.83 %\n",
      "Early stopping at epoch 36.\n",
      "Best model was at epoch 23 with val metric score = 0.6149524062605841\n",
      "[37,    17] loss: 0.17683\n",
      "[37,    34] loss: 0.21996\n",
      "[37,    51] loss: 0.27081\n",
      "[37,    68] loss: 0.27208\n",
      "Time elapsed: 0h:24m:28s\n",
      "train binary_balanced_accuracy: 90.40 %\n",
      "val loss: 0.95096\n",
      "val binary_balanced_accuracy: 61.87 %\n",
      "Early stopping at epoch 37.\n",
      "Best model was at epoch 23 with val metric score = 0.6149524062605841\n",
      "[38,    17] loss: 0.28475\n",
      "[38,    34] loss: 0.24571\n",
      "[38,    51] loss: 0.26350\n",
      "[38,    68] loss: 0.24087\n",
      "Time elapsed: 0h:25m:6s\n",
      "train binary_balanced_accuracy: 94.64 %\n",
      "val loss: 0.77101\n",
      "val binary_balanced_accuracy: 69.79 %\n",
      "Early stopping at epoch 38.\n",
      "Best model was at epoch 23 with val metric score = 0.6149524062605841\n",
      "[39,    17] loss: 0.16224\n",
      "[39,    34] loss: 0.17759\n",
      "[39,    51] loss: 0.17633\n",
      "[39,    68] loss: 0.19375\n",
      "Time elapsed: 0h:25m:43s\n",
      "train binary_balanced_accuracy: 92.50 %\n",
      "val loss: 0.81605\n",
      "val binary_balanced_accuracy: 68.75 %\n",
      "Early stopping at epoch 39.\n",
      "Best model was at epoch 23 with val metric score = 0.6149524062605841\n",
      "[40,    17] loss: 0.20160\n",
      "[40,    34] loss: 0.20016\n",
      "[40,    51] loss: 0.20366\n",
      "[40,    68] loss: 0.18006\n",
      "Time elapsed: 0h:26m:21s\n",
      "train binary_balanced_accuracy: 92.36 %\n",
      "val loss: 0.83759\n",
      "val binary_balanced_accuracy: 70.42 %\n",
      "Early stopping at epoch 40.\n",
      "Best model was at epoch 23 with val metric score = 0.6149524062605841\n",
      "[41,    17] loss: 0.18795\n",
      "[41,    34] loss: 0.20755\n",
      "[41,    51] loss: 0.19127\n",
      "[41,    68] loss: 0.17846\n",
      "Time elapsed: 0h:26m:58s\n",
      "train binary_balanced_accuracy: 95.65 %\n",
      "val loss: 0.94670\n",
      "val binary_balanced_accuracy: 67.08 %\n",
      "Early stopping at epoch 41.\n",
      "Best model was at epoch 23 with val metric score = 0.6149524062605841\n",
      "[42,    17] loss: 0.10765\n",
      "[42,    34] loss: 0.12327\n",
      "[42,    51] loss: 0.12591\n",
      "[42,    68] loss: 0.12928\n",
      "Time elapsed: 0h:27m:36s\n",
      "train binary_balanced_accuracy: 96.43 %\n",
      "val loss: 0.93203\n",
      "val binary_balanced_accuracy: 67.29 %\n",
      "Early stopping at epoch 42.\n",
      "Best model was at epoch 23 with val metric score = 0.6149524062605841\n",
      "[43,    17] loss: 0.19324\n",
      "[43,    34] loss: 0.21055\n",
      "[43,    51] loss: 0.18324\n",
      "[43,    68] loss: 0.19227\n",
      "Time elapsed: 0h:28m:14s\n",
      "train binary_balanced_accuracy: 92.58 %\n",
      "val loss: 1.05872\n",
      "val binary_balanced_accuracy: 65.00 %\n",
      "Early stopping at epoch 43.\n",
      "Best model was at epoch 23 with val metric score = 0.6149524062605841\n",
      "[44,    17] loss: 0.21630\n",
      "[44,    34] loss: 0.17495\n",
      "[44,    51] loss: 0.17290\n",
      "[44,    68] loss: 0.15321\n",
      "Time elapsed: 0h:28m:51s\n",
      "train binary_balanced_accuracy: 94.44 %\n",
      "val loss: 0.89759\n",
      "val binary_balanced_accuracy: 69.38 %\n",
      "Early stopping at epoch 44.\n",
      "Best model was at epoch 23 with val metric score = 0.6149524062605841\n",
      "[45,    17] loss: 0.12704\n",
      "[45,    34] loss: 0.09812\n",
      "[45,    51] loss: 0.10611\n",
      "[45,    68] loss: 0.11576\n",
      "Time elapsed: 0h:29m:29s\n",
      "train binary_balanced_accuracy: 92.50 %\n",
      "val loss: 1.01104\n",
      "val binary_balanced_accuracy: 62.50 %\n",
      "Early stopping at epoch 45.\n",
      "Best model was at epoch 23 with val metric score = 0.6149524062605841\n",
      "[46,    17] loss: 0.13785\n",
      "[46,    34] loss: 0.11526\n",
      "[46,    51] loss: 0.09956\n",
      "[46,    68] loss: 0.11529\n",
      "Time elapsed: 0h:30m:9s\n",
      "train binary_balanced_accuracy: 100.00 %\n",
      "val loss: 0.96204\n",
      "val binary_balanced_accuracy: 63.12 %\n",
      "Early stopping at epoch 46.\n",
      "Best model was at epoch 23 with val metric score = 0.6149524062605841\n",
      "[47,    17] loss: 0.13675\n",
      "[47,    34] loss: 0.16811\n",
      "[47,    51] loss: 0.13148\n",
      "[47,    68] loss: 0.12321\n",
      "Time elapsed: 0h:30m:47s\n",
      "train binary_balanced_accuracy: 92.71 %\n",
      "val loss: 0.95537\n",
      "val binary_balanced_accuracy: 64.58 %\n",
      "Early stopping at epoch 47.\n",
      "Best model was at epoch 23 with val metric score = 0.6149524062605841\n",
      "[48,    17] loss: 0.05514\n",
      "[48,    34] loss: 0.06017\n",
      "[48,    51] loss: 0.07255\n",
      "[48,    68] loss: 0.07442\n",
      "Time elapsed: 0h:31m:24s\n",
      "train binary_balanced_accuracy: 100.00 %\n",
      "val loss: 0.93427\n",
      "val binary_balanced_accuracy: 67.71 %\n",
      "Early stopping at epoch 48.\n",
      "Best model was at epoch 23 with val metric score = 0.6149524062605841\n",
      "[49,    17] loss: 0.15003\n",
      "[49,    34] loss: 0.10023\n",
      "[49,    51] loss: 0.11526\n",
      "[49,    68] loss: 0.10275\n",
      "Time elapsed: 0h:32m:2s\n",
      "train binary_balanced_accuracy: 93.18 %\n",
      "val loss: 1.03780\n",
      "val binary_balanced_accuracy: 61.46 %\n",
      "Early stopping at epoch 49.\n",
      "Best model was at epoch 23 with val metric score = 0.6149524062605841\n",
      "Total time elapsed: 0h:32m:4s\n",
      "Writing model to disk...\n",
      "[ModelCheckpoint] Best result during training: 0.71. Saving model..\n",
      "eval loss: 1.00419\n",
      "eval binary_balanced_accuracy: 63.54 %\n"
     ]
    },
    {
     "data": {
      "image/png": "[encoded data removed]",
      "text/plain": [
       "<Figure size 432x288 with 1 Axes>"
      ]
     },
     "metadata": {
      "needs_background": "light"
     },
     "output_type": "display_data"
    },
    {
     "name": "stdout",
     "output_type": "stream",
     "text": [
      "-----------------------------------------\n",
      "Starting trial 1\n",
      "[0,    17] loss: 1.12181\n",
      "[0,    34] loss: 0.92359\n",
      "[0,    51] loss: 0.83721\n",
      "[0,    68] loss: 0.79944\n",
      "Time elapsed: 0h:0m:35s\n",
      "train binary_balanced_accuracy: 57.02 %\n",
      "val loss: 0.68932\n",
      "val binary_balanced_accuracy: 50.00 %\n",
      "[1,    17] loss: 0.67144\n",
      "[1,    34] loss: 0.68509\n",
      "[1,    51] loss: 0.68821\n",
      "[1,    68] loss: 0.68229\n",
      "Time elapsed: 0h:1m:12s\n",
      "train binary_balanced_accuracy: 50.00 %\n",
      "val loss: 0.68888\n",
      "val binary_balanced_accuracy: 50.42 %\n",
      "[2,    17] loss: 0.68119\n",
      "[2,    34] loss: 0.67163\n",
      "[2,    51] loss: 0.67488\n",
      "[2,    68] loss: 0.67265\n",
      "Time elapsed: 0h:1m:50s\n",
      "train binary_balanced_accuracy: 50.00 %\n",
      "val loss: 0.69015\n",
      "val binary_balanced_accuracy: 53.54 %\n"
     ]
    }
   ],
   "source": [
    "# Call the model_fit function and print the mean and std of the metrics over all trials\n",
    "best_metric, trial_metrics, models = train_n_times(\n",
    "    network=SixtyFourNet, \n",
    "    train_data=IMAGEN_data_train, \n",
    "    val_data=IMAGEN_data_val,\n",
    "    gpu=gpu,\n",
    "    callbacks=callbacks,\n",
    "    pretrained_model=\"results/pretrained_adni/trial_0_BEST_ITERATION.h5\",\n",
    "    metrics=metrics,\n",
    "    trials=trials,\n",
    "    b=batch_size,\n",
    "    num_epochs=num_epochs,\n",
    "    retain_metric=retain_metric,\n",
    "    show_train_steps=None,\n",
    "    show_validation_epochs=1,\n",
    "    output_dir=output_dir)"
   ]
  },
  {
   "cell_type": "code",
   "execution_count": 28,
   "metadata": {},
   "outputs": [
    {
     "name": "stdout",
     "output_type": "stream",
     "text": [
      "Trial-wise scores: [61.46 65.62 63.54 70.42 74.79]%\n",
      "(mean ± std.dev) = (67.17% ± 4.83)\n",
      "Trial-wise best scores: [71.04 71.46 71.88 71.88 74.79]%\n",
      "(mean ± std.dev) = (72.21% ± 1.33)\n"
     ]
    }
   ],
   "source": [
    "trial_metrics=np.array(trial_metrics)\n",
    "best_metric=np.array(best_metric)\n",
    "print(f\"Trial-wise scores: {np.round(trial_metrics*100, decimals=2)}%\")\n",
    "print(f\"(mean\"+u\" \\u00B1 \"+f\"std.dev) = ({np.round(np.mean(trial_metrics)*100, decimals=2)}%\"+\\\n",
    "     u\" \\u00B1 \"+ f\"{np.round(np.std(trial_metrics)*100, decimals=2)})\")\n",
    "print(f\"Trial-wise best scores: {np.round(best_metric*100, decimals=2)}%\")\n",
    "print(f\"(mean\"+u\" \\u00B1 \"+f\"std.dev) = ({np.round(np.mean(best_metric)*100, decimals=2)}%\" + \\\n",
    "    u\" \\u00B1 \" + f\"{np.round(np.std(best_metric)*100, decimals=2)})\")"
   ]
  },
  {
   "cell_type": "markdown",
   "metadata": {},
   "source": [
    "### Start inference"
   ]
  },
  {
   "cell_type": "markdown",
   "metadata": {},
   "source": [
    "#### Using best model checkpoint for inference"
   ]
  },
  {
   "cell_type": "markdown",
   "metadata": {},
   "source": [
    "Now that we have saved the models from each trial, we can load them and evaluate their performance on the test set."
   ]
  },
  {
   "cell_type": "code",
   "execution_count": 23,
   "metadata": {},
   "outputs": [],
   "source": [
    "test_loader = DataLoader(IMAGEN_data_test, batch_size=1, num_workers=1, shuffle=True)"
   ]
  },
  {
   "cell_type": "code",
   "execution_count": 24,
   "metadata": {},
   "outputs": [
    {
     "name": "stdout",
     "output_type": "stream",
     "text": [
      "trial 0\n",
      "Balanced Accuracy: 0.7067402443831297\n",
      "Specificity: 0.8372093023255814\n",
      "Sensitivity: 0.576271186440678\n",
      "\n",
      "trial 1\n",
      "Balanced Accuracy: 0.7566022861647616\n",
      "Specificity: 0.7674418604651163\n",
      "Sensitivity: 0.7457627118644068\n",
      "\n",
      "trial 2\n",
      "Balanced Accuracy: 0.6834844304296412\n",
      "Specificity: 0.7906976744186046\n",
      "Sensitivity: 0.576271186440678\n",
      "\n",
      "trial 3\n",
      "Balanced Accuracy: 0.7830114308238076\n",
      "Specificity: 0.8372093023255814\n",
      "Sensitivity: 0.7288135593220338\n",
      "\n",
      "trial 4\n",
      "Balanced Accuracy: 0.7396531336223886\n",
      "Specificity: 0.7674418604651163\n",
      "Sensitivity: 0.711864406779661\n",
      "\n",
      "######## Final results ########\n",
      "Binary balanced accuracy mean: 73.39 %\n",
      "Specificity mean: 80.00 %\n",
      "Sensitivity mean: 66.78 %\n"
     ]
    },
    {
     "data": {
      "image/png": "[encoded data removed]",
      "text/plain": [
       "<Figure size 360x360 with 1 Axes>"
      ]
     },
     "metadata": {
      "needs_background": "light"
     },
     "output_type": "display_data"
    },
    {
     "data": {
      "image/png": "[encoded data removed]",
      "text/plain": [
       "<Figure size 360x360 with 1 Axes>"
      ]
     },
     "metadata": {
      "needs_background": "light"
     },
     "output_type": "display_data"
    },
    {
     "data": {
      "image/png": "[encoded data removed]",
      "text/plain": [
       "<Figure size 360x360 with 1 Axes>"
      ]
     },
     "metadata": {
      "needs_background": "light"
     },
     "output_type": "display_data"
    },
    {
     "data": {
      "image/png": "[encoded data removed]",
      "text/plain": [
       "<Figure size 360x360 with 1 Axes>"
      ]
     },
     "metadata": {
      "needs_background": "light"
     },
     "output_type": "display_data"
    },
    {
     "data": {
      "image/png": "[encoded data removed]",
      "text/plain": [
       "<Figure size 360x360 with 1 Axes>"
      ]
     },
     "metadata": {
      "needs_background": "light"
     },
     "output_type": "display_data"
    }
   ],
   "source": [
    "model_dirs = glob(output_dir+\"/trial*-best.h5\")\n",
    "assert len(model_dirs) == trials\n",
    "evaluate_models(test_loader, model_dirs, SixtyFourNet, \n",
    "                gpu=gpu, output_dir=output_dir)"
   ]
  },
  {
   "cell_type": "code",
   "execution_count": null,
   "metadata": {},
   "outputs": [],
   "source": []
  }
 ],
 "metadata": {
  "kernelspec": {
   "display_name": "Python 3",
   "language": "python",
   "name": "python3"
  },
  "language_info": {
   "codemirror_mode": {
    "name": "ipython",
    "version": 3
   },
   "file_extension": ".py",
   "mimetype": "text/x-python",
   "name": "python",
   "nbconvert_exporter": "python",
   "pygments_lexer": "ipython3",
   "version": "3.7.9"
  }
 },
 "nbformat": 4,
 "nbformat_minor": 4
}
