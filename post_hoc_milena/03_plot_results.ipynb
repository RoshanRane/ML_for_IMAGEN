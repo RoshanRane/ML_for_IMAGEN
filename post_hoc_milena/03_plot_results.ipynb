{
 "cells": [
  {
   "cell_type": "code",
   "execution_count": 52,
   "metadata": {},
   "outputs": [
    {
     "name": "stdout",
     "output_type": "stream",
     "text": [
      "The autoreload extension is already loaded. To reload it, use:\n",
      "  %reload_ext autoreload\n"
     ]
    }
   ],
   "source": [
    "%load_ext autoreload\n",
    "%autoreload 3"
   ]
  },
  {
   "cell_type": "code",
   "execution_count": 69,
   "metadata": {},
   "outputs": [],
   "source": [
    "import pandas as pd \n",
    "import numpy as np\n",
    "from glob import glob\n",
    "from os.path import join \n",
    "import os \n",
    "from scikits.bootstrap import ci\n",
    "import matplotlib.pyplot as plt\n",
    "import seaborn as sns\n",
    "from statsmodels.stats.multitest import fdrcorrection\n",
    "import sys\n",
    "from tqdm.notebook import tqdm\n",
    "\n",
    "sns.set(style=\"whitegrid\", context='paper', color_codes=False)\n",
    "from plotResults import *"
   ]
  },
  {
   "cell_type": "markdown",
   "metadata": {},
   "source": [
    "# Import ML pipeline results data frame"
   ]
  },
  {
   "cell_type": "code",
   "execution_count": 70,
   "metadata": {},
   "outputs": [],
   "source": [
    "CONFOUND_FOLDER=\"posthoc-cc-fu2-anxdx-total-n634\"\n",
    "DATE_TIME=\"20220131-1948\"\n",
    "\n",
    "df = pd.read_csv(f\"/ritter/share/projects/Lab_Rotation_Milena/MLpipelines/results/{CONFOUND_FOLDER}/{DATE_TIME}/run.csv\")"
   ]
  },
  {
   "cell_type": "markdown",
   "metadata": {},
   "source": [
    "# Import confound data frame"
   ]
  },
  {
   "cell_type": "code",
   "execution_count": 71,
   "metadata": {},
   "outputs": [],
   "source": [
    "# the analysis timepoint (timepoint of imaging data X) to look into \n",
    "TP = \"FU2\" # \"FU2\", \"BL\"  "
   ]
  },
  {
   "cell_type": "code",
   "execution_count": 72,
   "metadata": {},
   "outputs": [
    {
     "name": "stdout",
     "output_type": "stream",
     "text": [
      "Variable controlling for:: Anxdx-Total\n"
     ]
    },
    {
     "data": {
      "text/plain": [
       "5.0"
      ]
     },
     "execution_count": 72,
     "metadata": {},
     "output_type": "execute_result"
    }
   ],
   "source": [
    "INSTRU_QUESTIONNAIRE=\"ANXDX\"\n",
    "INSTRU_QUESTION=\"Total\"\n",
    "\n",
    "# a unique name for the instrument to save filenames \n",
    "from slugify import slugify\n",
    "INSTRU_NAME = slugify(INSTRU_QUESTIONNAIRE +'_'+ INSTRU_QUESTION)\n",
    "print(\"Variable controlling for::\", INSTRU_NAME.title())\n",
    "\n",
    "instrument_df = pd.read_csv(f\"/ritter/share/data/IMAGEN/posthoc/all_{INSTRU_QUESTIONNAIRE}.csv\").set_index('ID')\n",
    "\n",
    "if TP == \"FU3\":\n",
    "    instrument_df = instrument_df.groupby('Session').get_group('FU3')\n",
    "elif TP == \"FU2\":\n",
    "    instrument_df = instrument_df.groupby('Session').get_group('FU2')\n",
    "elif TP == \"FU1\":\n",
    "    instrument_df = instrument_df.groupby('Session').get_group('FU1')\n",
    "elif TP == \"BL\":\n",
    "    instrument_df = instrument_df.groupby('Session').get_group('BL')\n",
    "    \n",
    "# compute median\n",
    "instrument_df[INSTRU_QUESTION].median()"
   ]
  },
  {
   "cell_type": "code",
   "execution_count": 73,
   "metadata": {},
   "outputs": [
    {
     "data": {
      "image/png": "[encoded data removed]",
      "text/plain": [
       "<Figure size 432x288 with 1 Axes>"
      ]
     },
     "metadata": {},
     "output_type": "display_data"
    }
   ],
   "source": [
    "instrument_df = instrument_df[INSTRU_QUESTION]\n",
    "\n",
    "# binarize the question ####adapt!\n",
    "instrument = instrument_df.copy()\n",
    "instrument[instrument_df<5] =  0\n",
    "instrument[instrument_df>=5] = 1\n",
    "\n",
    "instrument.value_counts(dropna=False).sort_index().plot.bar(title=INSTRU_NAME.title(), xlabel='values', ylabel='counts')\n",
    "\n",
    "plt.show()"
   ]
  },
  {
   "cell_type": "code",
   "execution_count": 74,
   "metadata": {},
   "outputs": [
    {
     "name": "stdout",
     "output_type": "stream",
     "text": [
      "Final dataframe prepared. \n",
      "Total subjects = 634\n"
     ]
    }
   ],
   "source": [
    "# import the data loader\n",
    "sys.path.append(\"../\")\n",
    "from imagen_dataloader import *\n",
    "\n",
    "VIZ=False\n",
    "imagen = Imagen()\n",
    "\n",
    "# add the instrument as a confound variable\n",
    "imagen.df.loc[:, (TP,INSTRU_NAME)] = instrument\n",
    "# for subjects missing this information, force the value to the majority class. This is a temporary workaround but may not be true, of course\n",
    "imagen.df.loc[:, (TP,INSTRU_NAME)] = imagen.df.loc[:, (TP,INSTRU_NAME)].fillna(0)\n",
    "\n",
    "# load the 'Binge drinking' label from ESPAD questionnaire's 19a question\n",
    "LBL_QUESTIONNAIRE=\"ESPAD_FU3\"\n",
    "LBL_QUESTION=\"19a\"\n",
    "LABEL_NAME = 'Binge'\n",
    "\n",
    "dfq = pd.read_csv(qs[LBL_QUESTIONNAIRE], usecols=[\"User code\", LBL_QUESTION], dtype={\"User code\":str})\n",
    "dfq[\"ID\"] = dfq[\"User code\"].str.replace(\"-C\", \"\").replace(\"-I\", \"\").astype(int)\n",
    "dfq = dfq.drop(\"User code\", axis=1)\n",
    "imagen.load_label(dfq, col=LBL_QUESTION, binarize=True, class0=3, class1=6, y_colname=LABEL_NAME, viz=False)\n",
    "\n",
    "imagen.prepare_X(TP, confs=['sex', 'site', INSTRU_NAME], viz=VIZ) \n",
    "imagen.hdf5_name_x = 'posthoc-cc-'"
   ]
  },
  {
   "cell_type": "code",
   "execution_count": 75,
   "metadata": {},
   "outputs": [
    {
     "data": {
      "text/plain": [
       "ID\n",
       "112288       0\n",
       "215284       8\n",
       "240546       4\n",
       "297685       2\n",
       "308867       1\n",
       "            ..\n",
       "99677574     0\n",
       "99873252     0\n",
       "99875982    11\n",
       "99930021     5\n",
       "99954902     3\n",
       "Name: Total, Length: 1321, dtype: int64"
      ]
     },
     "execution_count": 75,
     "metadata": {},
     "output_type": "execute_result"
    }
   ],
   "source": [
    "instrument_df"
   ]
  },
  {
   "cell_type": "markdown",
   "metadata": {},
   "source": [
    "# Plot confound distribution and ML results"
   ]
  },
  {
   "cell_type": "code",
   "execution_count": 76,
   "metadata": {},
   "outputs": [
    {
     "data": {
      "image/png": "[encoded data removed]",
      "text/plain": [
       "<Figure size 432x288 with 1 Axes>"
      ]
     },
     "metadata": {},
     "output_type": "display_data"
    },
    {
     "data": {
      "image/png": "[encoded data removed]",
      "text/plain": [
       "<Figure size 960x264 with 2 Axes>"
      ]
     },
     "metadata": {},
     "output_type": "display_data"
    }
   ],
   "source": [
    "imagen.df_out[[LABEL_NAME, INSTRU_NAME]].value_counts().unstack().plot.bar()\n",
    "plot_result(df, x=\"test_score\", beautify_io=False)\n",
    "plt.show()"
   ]
  },
  {
   "cell_type": "markdown",
   "metadata": {
    "tags": []
   },
   "source": [
    "# Compare numerical accuracies"
   ]
  },
  {
   "cell_type": "code",
   "execution_count": 77,
   "metadata": {},
   "outputs": [],
   "source": [
    "df = pd.read_csv(f\"/ritter/share/projects/Lab_Rotation_Milena/MLpipelines/results/{CONFOUND_FOLDER}/{DATE_TIME}/run.csv\")\n",
    "\n",
    "# Linear Regression\n",
    "df_LR_BL = df.loc[(df['io'] == 'X-Binge') & (df['technique'] == 'baseline-cb') & (df['model'] == 'LR')]\n",
    "df_LR_CB = df.loc[(df['io'] == 'X-Binge') & (df['technique'] == 'cb') & (df['model'] == 'LR')]\n",
    "# Linear SVM\n",
    "df_LSVM_BL = df.loc[(df['io'] == 'X-Binge') & (df['technique'] == 'baseline-cb') & (df['model'] == 'SVM-lin')]\n",
    "df_LSVM_CB = df.loc[(df['io'] == 'X-Binge') & (df['technique'] == 'cb') & (df['model'] == 'SVM-lin')]\n",
    "# Gradient Boosting\n",
    "df_GB_BL = df.loc[(df['io'] == 'X-Binge') & (df['technique'] == 'baseline-cb') & (df['model'] == 'GB')]\n",
    "df_GB_CB = df.loc[(df['io'] == 'X-Binge') & (df['technique'] == 'cb') & (df['model'] == 'GB')]\n",
    "# Non-linear SVM\n",
    "df_NLSVM_BL = df.loc[(df['io'] == 'X-Binge') & (df['technique'] == 'baseline-cb') & (df['model'] == 'SVM-rbf')]\n",
    "df_NLSVM_CB = df.loc[(df['io'] == 'X-Binge') & (df['technique'] == 'cb') & (df['model'] == 'SVM-rbf')]\n"
   ]
  },
  {
   "cell_type": "code",
   "execution_count": 78,
   "metadata": {},
   "outputs": [],
   "source": [
    "# initialize data of lists\n",
    "acc_data = {# 'Confound':['combined BIS & PSS & NEO Extro', 'combined BIS & PSS & NEO Extro', 'combined BIS & PSS & NEO Extro',\n",
    "            #         'combined BIS & PSS & NEO Extro'],\n",
    "             'Confound':[f'{INSTRU_QUESTIONNAIRE}_{INSTRU_QUESTION}', f'{INSTRU_QUESTIONNAIRE}_{INSTRU_QUESTION}',\n",
    "                     f'{INSTRU_QUESTIONNAIRE}_{INSTRU_QUESTION}', f'{INSTRU_QUESTIONNAIRE}_{INSTRU_QUESTION}'],\n",
    "            'TP':[f'{TP}', f'{TP}', f'{TP}', f'{TP}'],\n",
    "            'Model':['Linear Regression', 'Linear SVM', 'Gradient Boosting', 'Kernel SVM'], \n",
    "            'Accuracy Baseline-CB':[df_LR_BL['test_score'].mean(), df_LSVM_BL['test_score'].mean(), df_GB_BL['test_score'].mean(), \n",
    "                                    df_NLSVM_BL['test_score'].mean()], \n",
    "            'Accuracy CB':[df_LR_CB['test_score'].mean(), df_LSVM_CB['test_score'].mean(), df_GB_CB['test_score'].mean(), \n",
    "                           df_NLSVM_CB['test_score'].mean()],\n",
    "            'Accuracy Diff CB - BL':[df_LR_CB['test_score'].mean()-df_LR_BL['test_score'].mean(), \n",
    "                                    df_LSVM_CB['test_score'].mean()-df_LSVM_BL['test_score'].mean(),\n",
    "                                    df_GB_CB['test_score'].mean()-df_GB_BL['test_score'].mean(),\n",
    "                                    df_NLSVM_CB['test_score'].mean()-df_NLSVM_BL['test_score'].mean()]}\n",
    " \n",
    "# Create DataFrame\n",
    "acc_df = pd.DataFrame(acc_data)"
   ]
  },
  {
   "cell_type": "code",
   "execution_count": 79,
   "metadata": {},
   "outputs": [
    {
     "data": {
      "text/html": [
       "<div>\n",
       "<style scoped>\n",
       "    .dataframe tbody tr th:only-of-type {\n",
       "        vertical-align: middle;\n",
       "    }\n",
       "\n",
       "    .dataframe tbody tr th {\n",
       "        vertical-align: top;\n",
       "    }\n",
       "\n",
       "    .dataframe thead th {\n",
       "        text-align: right;\n",
       "    }\n",
       "</style>\n",
       "<table border=\"1\" class=\"dataframe\">\n",
       "  <thead>\n",
       "    <tr style=\"text-align: right;\">\n",
       "      <th></th>\n",
       "      <th>Confound</th>\n",
       "      <th>TP</th>\n",
       "      <th>Model</th>\n",
       "      <th>Accuracy Baseline-CB</th>\n",
       "      <th>Accuracy CB</th>\n",
       "      <th>Accuracy Diff CB - BL</th>\n",
       "    </tr>\n",
       "  </thead>\n",
       "  <tbody>\n",
       "    <tr>\n",
       "      <th>0</th>\n",
       "      <td>ANXDX_Total</td>\n",
       "      <td>FU2</td>\n",
       "      <td>Linear Regression</td>\n",
       "      <td>0.650493</td>\n",
       "      <td>0.630821</td>\n",
       "      <td>-0.019672</td>\n",
       "    </tr>\n",
       "    <tr>\n",
       "      <th>1</th>\n",
       "      <td>ANXDX_Total</td>\n",
       "      <td>FU2</td>\n",
       "      <td>Linear SVM</td>\n",
       "      <td>0.674840</td>\n",
       "      <td>0.650144</td>\n",
       "      <td>-0.024695</td>\n",
       "    </tr>\n",
       "    <tr>\n",
       "      <th>2</th>\n",
       "      <td>ANXDX_Total</td>\n",
       "      <td>FU2</td>\n",
       "      <td>Gradient Boosting</td>\n",
       "      <td>0.713653</td>\n",
       "      <td>0.706851</td>\n",
       "      <td>-0.006801</td>\n",
       "    </tr>\n",
       "    <tr>\n",
       "      <th>3</th>\n",
       "      <td>ANXDX_Total</td>\n",
       "      <td>FU2</td>\n",
       "      <td>Kernel SVM</td>\n",
       "      <td>0.737960</td>\n",
       "      <td>0.723331</td>\n",
       "      <td>-0.014628</td>\n",
       "    </tr>\n",
       "  </tbody>\n",
       "</table>\n",
       "</div>"
      ],
      "text/plain": [
       "      Confound   TP              Model  Accuracy Baseline-CB  Accuracy CB  \\\n",
       "0  ANXDX_Total  FU2  Linear Regression              0.650493     0.630821   \n",
       "1  ANXDX_Total  FU2         Linear SVM              0.674840     0.650144   \n",
       "2  ANXDX_Total  FU2  Gradient Boosting              0.713653     0.706851   \n",
       "3  ANXDX_Total  FU2         Kernel SVM              0.737960     0.723331   \n",
       "\n",
       "   Accuracy Diff CB - BL  \n",
       "0              -0.019672  \n",
       "1              -0.024695  \n",
       "2              -0.006801  \n",
       "3              -0.014628  "
      ]
     },
     "execution_count": 79,
     "metadata": {},
     "output_type": "execute_result"
    }
   ],
   "source": [
    "acc_df"
   ]
  },
  {
   "cell_type": "code",
   "execution_count": 80,
   "metadata": {},
   "outputs": [],
   "source": [
    "# just for first variable\n",
    "# acc_df.to_csv(f'/ritter/share/projects/Lab_Rotation_Milena/posthoc_analysis/accuracy.csv', index=False)"
   ]
  },
  {
   "cell_type": "code",
   "execution_count": 81,
   "metadata": {},
   "outputs": [],
   "source": [
    "# read general accuracy file containing accuracy changes for all confounds\n",
    "acc_total = pd.read_csv('/ritter/share/projects/Lab_Rotation_Milena/posthoc_analysis/accuracy.csv')"
   ]
  },
  {
   "cell_type": "code",
   "execution_count": 82,
   "metadata": {},
   "outputs": [],
   "source": [
    "# delete specific rows\n",
    "# acc_new = acc_total.loc[acc_total[\"Confound\"] != 'LEQ_Sexuality mean frequency']\n",
    "# acc_new = acc_total.loc[(acc_total['TP'] != 'BL') & (acc_total['Confound'] != 'ESPAD_Alc_Expectancy Total')]"
   ]
  },
  {
   "cell_type": "code",
   "execution_count": 83,
   "metadata": {},
   "outputs": [],
   "source": [
    "# concatenate new accuracy df to general accuracy file\n",
    "acc_new = pd.concat([acc_total, acc_df])"
   ]
  },
  {
   "cell_type": "code",
   "execution_count": 84,
   "metadata": {},
   "outputs": [
    {
     "data": {
      "text/html": [
       "<div>\n",
       "<style scoped>\n",
       "    .dataframe tbody tr th:only-of-type {\n",
       "        vertical-align: middle;\n",
       "    }\n",
       "\n",
       "    .dataframe tbody tr th {\n",
       "        vertical-align: top;\n",
       "    }\n",
       "\n",
       "    .dataframe thead th {\n",
       "        text-align: right;\n",
       "    }\n",
       "</style>\n",
       "<table border=\"1\" class=\"dataframe\">\n",
       "  <thead>\n",
       "    <tr style=\"text-align: right;\">\n",
       "      <th></th>\n",
       "      <th>Confound</th>\n",
       "      <th>TP</th>\n",
       "      <th>Model</th>\n",
       "      <th>Accuracy Baseline-CB</th>\n",
       "      <th>Accuracy CB</th>\n",
       "      <th>Accuracy Diff CB - BL</th>\n",
       "    </tr>\n",
       "  </thead>\n",
       "  <tbody>\n",
       "    <tr>\n",
       "      <th>0</th>\n",
       "      <td>BIS_BIS Total</td>\n",
       "      <td>FU3</td>\n",
       "      <td>Linear Regression</td>\n",
       "      <td>0.623891</td>\n",
       "      <td>0.592944</td>\n",
       "      <td>-0.030947</td>\n",
       "    </tr>\n",
       "    <tr>\n",
       "      <th>1</th>\n",
       "      <td>BIS_BIS Total</td>\n",
       "      <td>FU3</td>\n",
       "      <td>Linear SVM</td>\n",
       "      <td>0.654336</td>\n",
       "      <td>0.618104</td>\n",
       "      <td>-0.036233</td>\n",
       "    </tr>\n",
       "    <tr>\n",
       "      <th>2</th>\n",
       "      <td>BIS_BIS Total</td>\n",
       "      <td>FU3</td>\n",
       "      <td>Gradient Boosting</td>\n",
       "      <td>0.678009</td>\n",
       "      <td>0.644950</td>\n",
       "      <td>-0.033060</td>\n",
       "    </tr>\n",
       "    <tr>\n",
       "      <th>3</th>\n",
       "      <td>BIS_BIS Total</td>\n",
       "      <td>FU3</td>\n",
       "      <td>Kernel SVM</td>\n",
       "      <td>0.692938</td>\n",
       "      <td>0.667005</td>\n",
       "      <td>-0.025933</td>\n",
       "    </tr>\n",
       "    <tr>\n",
       "      <th>4</th>\n",
       "      <td>ESPAD_first_drunk_fd</td>\n",
       "      <td>FU3</td>\n",
       "      <td>Linear Regression</td>\n",
       "      <td>0.623891</td>\n",
       "      <td>0.605564</td>\n",
       "      <td>-0.018327</td>\n",
       "    </tr>\n",
       "    <tr>\n",
       "      <th>...</th>\n",
       "      <td>...</td>\n",
       "      <td>...</td>\n",
       "      <td>...</td>\n",
       "      <td>...</td>\n",
       "      <td>...</td>\n",
       "      <td>...</td>\n",
       "    </tr>\n",
       "    <tr>\n",
       "      <th>167</th>\n",
       "      <td>combined BIS &amp; PSS &amp; NEO Extro</td>\n",
       "      <td>FU3</td>\n",
       "      <td>Kernel SVM</td>\n",
       "      <td>0.692938</td>\n",
       "      <td>0.678441</td>\n",
       "      <td>-0.014497</td>\n",
       "    </tr>\n",
       "    <tr>\n",
       "      <th>0</th>\n",
       "      <td>ANXDX_Total</td>\n",
       "      <td>FU2</td>\n",
       "      <td>Linear Regression</td>\n",
       "      <td>0.650493</td>\n",
       "      <td>0.630821</td>\n",
       "      <td>-0.019672</td>\n",
       "    </tr>\n",
       "    <tr>\n",
       "      <th>1</th>\n",
       "      <td>ANXDX_Total</td>\n",
       "      <td>FU2</td>\n",
       "      <td>Linear SVM</td>\n",
       "      <td>0.674840</td>\n",
       "      <td>0.650144</td>\n",
       "      <td>-0.024695</td>\n",
       "    </tr>\n",
       "    <tr>\n",
       "      <th>2</th>\n",
       "      <td>ANXDX_Total</td>\n",
       "      <td>FU2</td>\n",
       "      <td>Gradient Boosting</td>\n",
       "      <td>0.713653</td>\n",
       "      <td>0.706851</td>\n",
       "      <td>-0.006801</td>\n",
       "    </tr>\n",
       "    <tr>\n",
       "      <th>3</th>\n",
       "      <td>ANXDX_Total</td>\n",
       "      <td>FU2</td>\n",
       "      <td>Kernel SVM</td>\n",
       "      <td>0.737960</td>\n",
       "      <td>0.723331</td>\n",
       "      <td>-0.014628</td>\n",
       "    </tr>\n",
       "  </tbody>\n",
       "</table>\n",
       "<p>172 rows × 6 columns</p>\n",
       "</div>"
      ],
      "text/plain": [
       "                           Confound   TP              Model  \\\n",
       "0                     BIS_BIS Total  FU3  Linear Regression   \n",
       "1                     BIS_BIS Total  FU3         Linear SVM   \n",
       "2                     BIS_BIS Total  FU3  Gradient Boosting   \n",
       "3                     BIS_BIS Total  FU3         Kernel SVM   \n",
       "4              ESPAD_first_drunk_fd  FU3  Linear Regression   \n",
       "..                              ...  ...                ...   \n",
       "167  combined BIS & PSS & NEO Extro  FU3         Kernel SVM   \n",
       "0                       ANXDX_Total  FU2  Linear Regression   \n",
       "1                       ANXDX_Total  FU2         Linear SVM   \n",
       "2                       ANXDX_Total  FU2  Gradient Boosting   \n",
       "3                       ANXDX_Total  FU2         Kernel SVM   \n",
       "\n",
       "     Accuracy Baseline-CB  Accuracy CB  Accuracy Diff CB - BL  \n",
       "0                0.623891     0.592944              -0.030947  \n",
       "1                0.654336     0.618104              -0.036233  \n",
       "2                0.678009     0.644950              -0.033060  \n",
       "3                0.692938     0.667005              -0.025933  \n",
       "4                0.623891     0.605564              -0.018327  \n",
       "..                    ...          ...                    ...  \n",
       "167              0.692938     0.678441              -0.014497  \n",
       "0                0.650493     0.630821              -0.019672  \n",
       "1                0.674840     0.650144              -0.024695  \n",
       "2                0.713653     0.706851              -0.006801  \n",
       "3                0.737960     0.723331              -0.014628  \n",
       "\n",
       "[172 rows x 6 columns]"
      ]
     },
     "execution_count": 84,
     "metadata": {},
     "output_type": "execute_result"
    }
   ],
   "source": [
    "acc_new"
   ]
  },
  {
   "cell_type": "code",
   "execution_count": 85,
   "metadata": {},
   "outputs": [],
   "source": [
    "# save concatenated file\n",
    "acc_new.to_csv('/ritter/share/projects/Lab_Rotation_Milena/posthoc_analysis/accuracy.csv', index=False)"
   ]
  },
  {
   "cell_type": "code",
   "execution_count": null,
   "metadata": {},
   "outputs": [],
   "source": []
  },
  {
   "cell_type": "code",
   "execution_count": null,
   "metadata": {},
   "outputs": [],
   "source": []
  }
 ],
 "metadata": {
  "kernelspec": {
   "display_name": "Python 3 (ipykernel)",
   "language": "python",
   "name": "python3"
  },
  "language_info": {
   "codemirror_mode": {
    "name": "ipython",
    "version": 3
   },
   "file_extension": ".py",
   "mimetype": "text/x-python",
   "name": "python",
   "nbconvert_exporter": "python",
   "pygments_lexer": "ipython3",
   "version": "3.9.7"
  },
  "toc-autonumbering": false,
  "toc-showcode": false,
  "toc-showmarkdowntxt": false,
  "toc-showtags": false
 },
 "nbformat": 4,
 "nbformat_minor": 4
}
