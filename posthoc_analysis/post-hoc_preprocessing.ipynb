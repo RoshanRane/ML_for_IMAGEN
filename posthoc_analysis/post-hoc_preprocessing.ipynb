{
 "cells": [
  {
   "cell_type": "markdown",
   "metadata": {},
   "source": [
    "### Generate the post hoc dataset for analysis"
   ]
  },
  {
   "cell_type": "code",
   "execution_count": 1,
   "metadata": {},
   "outputs": [],
   "source": [
    "from imagen_posthocloader import *"
   ]
  },
  {
   "cell_type": "code",
   "execution_count": 2,
   "metadata": {},
   "outputs": [],
   "source": [
    "DATA_DIR = \"/ritter/share/data/IMAGEN\"\n",
    "posthoc = IMAGEN_posthoc()"
   ]
  },
  {
   "cell_type": "markdown",
   "metadata": {},
   "source": [
    "### 1. Load the [INSTRUMENT](https://imagen-europe.com/resources/imagen-dataset/documentation/) data"
   ]
  },
  {
   "cell_type": "markdown",
   "metadata": {},
   "source": [
    "#### collect the selected instrument files from IMAGEN_RAW and store in posthoc"
   ]
  },
  {
   "cell_type": "markdown",
   "metadata": {},
   "source": [
    "Please refer to <i>set_INSTRUMENT()</i> in <i>imagen_posthocloader.py</i>, and load the file and save it as <b> all_*.csv</b> "
   ]
  },
  {
   "cell_type": "code",
   "execution_count": 3,
   "metadata": {},
   "outputs": [],
   "source": [
    "# Instrument\n",
    "NEO   = posthoc.set_INSTRUMENT('NEO') #, save=True)\n",
    "SURPS = posthoc.set_INSTRUMENT('SURPS') #, save=True)\n",
    "CTQ   = posthoc.set_INSTRUMENT('CTQ') #, save=True)\n",
    "CTS   = posthoc.set_INSTRUMENT('CTS') #, save=True)\n",
    "LEQ   = posthoc.set_INSTRUMENT('LEQ') #, save=True)\n",
    "PBQ   = posthoc.set_INSTRUMENT('PBQ') #, save=True)\n",
    "GEN   = posthoc.set_INSTRUMENT('GEN') #, save=True)\n",
    "FTND  = posthoc.set_INSTRUMENT('FTND') #, save=True)"
   ]
  },
  {
   "cell_type": "code",
   "execution_count": 4,
   "metadata": {},
   "outputs": [
    {
     "name": "stdout",
     "output_type": "stream",
     "text": [
      "['Openness mean', 'Conscientiousness mean', 'Extroversion mean', 'Agreeableness mean', 'Neuroticism mean', 'Anxiety Sensitivity mean', 'Hopelessness mean', 'Impulsivity mean', 'Sensation seeking mean', 'Emotional abuse sum', 'Physical abuse sum', 'Sexual abuse sum', 'Emotional neglect sum', 'Physical neglect sum', 'Denial sum', 'Family valence', 'Accident valence', 'Sexuality valence', 'Autonomy valence', 'Devience valence', 'Relocation valence', 'Distress valence', 'Noscale valence', 'Overall valence', 'Family mean frequency', 'Accident mean frequency', 'Sexuality mean frequency', 'Autonomy mean frequency', 'Devience mean frequency', 'Relocation mean frequency', 'Distress mean frequency', 'Noscale mean frequency', 'Overall mean frequency', 'pbq_03', 'pbq_03a', 'pbq_03b', 'pbq_03c', 'pbq_05', 'pbq_05a', 'pbq_05b', 'pbq_05c', 'pbq_06', 'pbq_06a', 'pbq_12', 'pbq_13', 'pbq_13a', 'pbq_13b', 'pbq_13g', 'Paternal_disorder', 'Maternal_disorder', 'Likelihood of nicotine dependence child']\n"
     ]
    }
   ],
   "source": [
    "# general information of the instrument\n",
    "# selected ROI\n",
    "col_NEO = list(NEO.columns[2:].values)\n",
    "col_SURPS = list(SURPS.columns[2:].values)\n",
    "col_CTQ = list(CTQ.columns[2:].values)\n",
    "col_CTS = list(CTS.columns[2:].values)\n",
    "col_LEQ = list(LEQ.columns[2:].values)\n",
    "col_PBQ = list(PBQ.columns[2:].values)\n",
    "col_GEN = list(GEN.columns[2:].values)\n",
    "col_FTND = list(FTND.columns[2:].values)\n",
    "roi_list = col_NEO + col_SURPS + col_CTQ + col_LEQ + col_PBQ + col_GEN + col_FTND\n",
    "print(roi_list)"
   ]
  },
  {
   "cell_type": "markdown",
   "metadata": {},
   "source": [
    "### 2. Load the HDF5 data"
   ]
  },
  {
   "cell_type": "markdown",
   "metadata": {},
   "source": [
    "#### collect the HDF5 files from h5files and save in posthoc"
   ]
  },
  {
   "cell_type": "markdown",
   "metadata": {},
   "source": [
    "Please refer to <i>set_HDF5()</i> in <i>imagen_posthocloader.py</i>, and load the file and save it as <b> all_*.csv</b>"
   ]
  },
  {
   "cell_type": "code",
   "execution_count": 5,
   "metadata": {},
   "outputs": [],
   "source": [
    "# Hdf5\n",
    "BINGE = posthoc.set_HDF5('Binge') #, save=True)"
   ]
  },
  {
   "cell_type": "code",
   "execution_count": 6,
   "metadata": {},
   "outputs": [
    {
     "data": {
      "text/plain": [
       "Index(['ID', 'Session', 'y', 'Dataset', 'Sex', 'Site', 'Class'], dtype='object')"
      ]
     },
     "execution_count": 6,
     "metadata": {},
     "output_type": "execute_result"
    }
   ],
   "source": [
    "# general information of the hdf5\n",
    "BINGE.columns"
   ]
  },
  {
   "cell_type": "markdown",
   "metadata": {},
   "source": [
    "### 3. Load the RUN data"
   ]
  },
  {
   "cell_type": "markdown",
   "metadata": {},
   "source": [
    "#### collect the RUN file from results and save in posthoc"
   ]
  },
  {
   "cell_type": "markdown",
   "metadata": {},
   "source": [
    "Please refer to <i>set_RUN()</i> in <i>imagen_posthocloader.py</i>, and load the file and save it as <b> all_*.csv</b>"
   ]
  },
  {
   "cell_type": "code",
   "execution_count": 7,
   "metadata": {},
   "outputs": [],
   "source": [
    "# RUN\n",
    "RUN = posthoc.set_RUN('../results/holdout_all-tp_run.csv') #, save=True)"
   ]
  },
  {
   "cell_type": "code",
   "execution_count": 8,
   "metadata": {},
   "outputs": [
    {
     "data": {
      "text/plain": [
       "Index(['i', 'o', 'io', 'technique', 'Session', 'Trial', 'path', 'n_samples',\n",
       "       'n_samples_cc', 'i_is_conf', 'o_is_conf', 'Model', 'model_SVM-rbf__C',\n",
       "       'model_SVM-rbf__gamma', 'runtime', 'model_SVM-lin__C',\n",
       "       'model_GB__learning_rate', 'model_LR__C', 'train_score', 'valid_score',\n",
       "       'test_score', 'roc_auc', 'holdout_score', 'holdout_roc_auc', 'dataset',\n",
       "       'ID', 'true_label', 'prediction', 'TP prob', 'TN prob', 'FP prob',\n",
       "       'FN prob', 'T prob', 'F prob', 'Prob', 'Predict TF', 'Model PN',\n",
       "       'Label PN'],\n",
       "      dtype='object')"
      ]
     },
     "execution_count": 8,
     "metadata": {},
     "output_type": "execute_result"
    }
   ],
   "source": [
    "# general infromation of the hdf5\n",
    "RUN.columns"
   ]
  },
  {
   "cell_type": "markdown",
   "metadata": {},
   "source": [
    "### 4. Save the INSTRUMENT data"
   ]
  },
  {
   "cell_type": "markdown",
   "metadata": {},
   "source": [
    "#### collect the instrument files from posthoc into one file"
   ]
  },
  {
   "cell_type": "markdown",
   "metadata": {},
   "source": [
    "Please refer to <i>to_INSTRUMENT()</i> in <i>imagen_posthocloader.py</i>, and load the file"
   ]
  },
  {
   "cell_type": "code",
   "execution_count": 9,
   "metadata": {},
   "outputs": [],
   "source": [
    "# collect the instrument file \n",
    "inst_list = [NEO, SURPS,CTQ, CTS, LEQ, PBQ, GEN,FTND]\n",
    "# save the instrument file\n",
    "INST = posthoc.to_INSTRUMENT(inst_list) #, save=True)"
   ]
  },
  {
   "cell_type": "code",
   "execution_count": 10,
   "metadata": {},
   "outputs": [
    {
     "name": "stdout",
     "output_type": "stream",
     "text": [
      "['Openness mean', 'Conscientiousness mean', 'Extroversion mean', 'Agreeableness mean', 'Neuroticism mean', 'Anxiety Sensitivity mean', 'Hopelessness mean', 'Impulsivity mean', 'Sensation seeking mean', 'Emotional abuse sum', 'Physical abuse sum', 'Sexual abuse sum', 'Emotional neglect sum', 'Physical neglect sum', 'Denial sum', 'Assault mean', 'Injury mean', 'Negotiation mean', 'Psychological Aggression mean', 'Sexual Coercion mean', 'Family valence', 'Accident valence', 'Sexuality valence', 'Autonomy valence', 'Devience valence', 'Relocation valence', 'Distress valence', 'Noscale valence', 'Overall valence', 'Family mean frequency', 'Accident mean frequency', 'Sexuality mean frequency', 'Autonomy mean frequency', 'Devience mean frequency', 'Relocation mean frequency', 'Distress mean frequency', 'Noscale mean frequency', 'Overall mean frequency', 'pbq_03', 'pbq_03a', 'pbq_03b', 'pbq_03c', 'pbq_05', 'pbq_05a', 'pbq_05b', 'pbq_05c', 'pbq_06', 'pbq_06a', 'pbq_12', 'pbq_13', 'pbq_13a', 'pbq_13b', 'pbq_13g', 'Paternal_disorder', 'Maternal_disorder', 'Likelihood of nicotine dependence child']\n"
     ]
    }
   ],
   "source": [
    "# general information of the instrument\n",
    "# selected ROI\n",
    "col_INST = list(INST.columns[2:].values)\n",
    "print(col_INST)"
   ]
  },
  {
   "cell_type": "markdown",
   "metadata": {},
   "source": [
    "### 5. Read the INSTRUMENT data"
   ]
  },
  {
   "cell_type": "markdown",
   "metadata": {},
   "source": [
    "#### read the instrument files from posthoc into one file"
   ]
  },
  {
   "cell_type": "markdown",
   "metadata": {},
   "source": [
    "Please refer to <i>read_INSTRUMENT()</i> in <i>imagen_posthocloader.py</i>, and load the file"
   ]
  },
  {
   "cell_type": "code",
   "execution_count": 11,
   "metadata": {},
   "outputs": [],
   "source": [
    "INST = posthoc.read_INSTRUMENT('IMAGEN_INSTRUMENT.csv')"
   ]
  },
  {
   "cell_type": "code",
   "execution_count": 12,
   "metadata": {},
   "outputs": [
    {
     "data": {
      "text/plain": [
       "Index(['ID', 'Session', 'Openness mean', 'Conscientiousness mean',\n",
       "       'Extroversion mean', 'Agreeableness mean', 'Neuroticism mean',\n",
       "       'Anxiety Sensitivity mean', 'Hopelessness mean', 'Impulsivity mean',\n",
       "       'Sensation seeking mean', 'Emotional abuse sum', 'Physical abuse sum',\n",
       "       'Sexual abuse sum', 'Emotional neglect sum', 'Physical neglect sum',\n",
       "       'Denial sum', 'Assault mean', 'Injury mean', 'Negotiation mean',\n",
       "       'Psychological Aggression mean', 'Sexual Coercion mean',\n",
       "       'Family valence', 'Accident valence', 'Sexuality valence',\n",
       "       'Autonomy valence', 'Devience valence', 'Relocation valence',\n",
       "       'Distress valence', 'Noscale valence', 'Overall valence',\n",
       "       'Family mean frequency', 'Accident mean frequency',\n",
       "       'Sexuality mean frequency', 'Autonomy mean frequency',\n",
       "       'Devience mean frequency', 'Relocation mean frequency',\n",
       "       'Distress mean frequency', 'Noscale mean frequency',\n",
       "       'Overall mean frequency', 'pbq_03', 'pbq_03a', 'pbq_03b', 'pbq_03c',\n",
       "       'pbq_05', 'pbq_05a', 'pbq_05b', 'pbq_05c', 'pbq_06', 'pbq_06a',\n",
       "       'pbq_12', 'pbq_13', 'pbq_13a', 'pbq_13b', 'pbq_13g',\n",
       "       'Paternal_disorder', 'Maternal_disorder',\n",
       "       'Likelihood of nicotine dependence child'],\n",
       "      dtype='object')"
      ]
     },
     "execution_count": 12,
     "metadata": {},
     "output_type": "execute_result"
    }
   ],
   "source": [
    "# general information of the instrument\n",
    "INST.columns"
   ]
  },
  {
   "cell_type": "markdown",
   "metadata": {},
   "source": [
    "### 6. Read the HDF5 data"
   ]
  },
  {
   "cell_type": "markdown",
   "metadata": {},
   "source": [
    "#### collect the hdf5 files from posthoc into one file"
   ]
  },
  {
   "cell_type": "markdown",
   "metadata": {},
   "source": [
    "Please refer to <i>to_HDF5()</i> in <i>imagen_posthocloader.py</i>, and load the file and save it as <b> all_*.csv</b>"
   ]
  },
  {
   "cell_type": "code",
   "execution_count": 13,
   "metadata": {},
   "outputs": [],
   "source": [
    "HDF5 = posthoc.to_HDF5('all_Binge.csv') # ,save=True)"
   ]
  },
  {
   "cell_type": "markdown",
   "metadata": {},
   "source": [
    "#### read the HDF5 files from posthoc into one file"
   ]
  },
  {
   "cell_type": "markdown",
   "metadata": {},
   "source": [
    "Please refer to <i>read_HDF5()</i> in <i>imagen_posthocloader.py</i>, and load the file</b>"
   ]
  },
  {
   "cell_type": "code",
   "execution_count": 14,
   "metadata": {},
   "outputs": [],
   "source": [
    "HDF5 = posthoc.read_HDF5('IMAGEN_HDF5.csv')"
   ]
  },
  {
   "cell_type": "code",
   "execution_count": 15,
   "metadata": {},
   "outputs": [
    {
     "data": {
      "text/plain": [
       "Index(['ID', 'Session', 'y', 'Dataset', 'Sex', 'Site', 'Class'], dtype='object')"
      ]
     },
     "execution_count": 15,
     "metadata": {},
     "output_type": "execute_result"
    }
   ],
   "source": [
    "# general information of the hdf5\n",
    "HDF5.columns"
   ]
  },
  {
   "cell_type": "markdown",
   "metadata": {},
   "source": [
    "### 7. Read the RUN data"
   ]
  },
  {
   "cell_type": "markdown",
   "metadata": {},
   "source": [
    "#### select the ROI of the RUN file from posthoc into one file"
   ]
  },
  {
   "cell_type": "markdown",
   "metadata": {},
   "source": [
    "Please refer to <i>to_RUN()</i> in <i>imagen_posthocloader.py</i>, and load the file and save it as <b> all_*.csv</b>"
   ]
  },
  {
   "cell_type": "code",
   "execution_count": 16,
   "metadata": {},
   "outputs": [],
   "source": [
    "COL = ['ID','Session','Trial','dataset','io','technique','Model',\n",
    "       'TP prob','TN prob','FP prob','FN prob','T prob','F prob','Prob',\n",
    "       'Predict TF','Model PN','Label PN','true_label','prediction']"
   ]
  },
  {
   "cell_type": "code",
   "execution_count": 17,
   "metadata": {},
   "outputs": [],
   "source": [
    "RUN = posthoc.to_RUN('all_RUN.csv', COL) #, save = True)"
   ]
  },
  {
   "cell_type": "code",
   "execution_count": 18,
   "metadata": {},
   "outputs": [
    {
     "data": {
      "text/plain": [
       "Index(['ID', 'Session', 'Trial', 'dataset', 'io', 'technique', 'Model',\n",
       "       'TP prob', 'TN prob', 'FP prob', 'FN prob', 'T prob', 'F prob', 'Prob',\n",
       "       'Predict TF', 'Model PN', 'Label PN', 'true_label', 'prediction'],\n",
       "      dtype='object')"
      ]
     },
     "execution_count": 18,
     "metadata": {},
     "output_type": "execute_result"
    }
   ],
   "source": [
    "# general information of the run\n",
    "RUN.columns"
   ]
  },
  {
   "cell_type": "markdown",
   "metadata": {},
   "source": [
    "#### read the RUN files from posthoc into one file"
   ]
  },
  {
   "cell_type": "markdown",
   "metadata": {},
   "source": [
    "Please refer to <i>read_RUN()</i> in <i>imagen_posthocloader.py</i>, and load the file"
   ]
  },
  {
   "cell_type": "code",
   "execution_count": 19,
   "metadata": {},
   "outputs": [],
   "source": [
    "RUN = posthoc.read_RUN('IMAGEN_RUN.csv')"
   ]
  },
  {
   "cell_type": "code",
   "execution_count": 20,
   "metadata": {},
   "outputs": [
    {
     "data": {
      "text/plain": [
       "Index(['ID', 'Session', 'Trial', 'dataset', 'io', 'technique', 'Model',\n",
       "       'TP prob', 'TN prob', 'FP prob', 'FN prob', 'T prob', 'F prob', 'Prob',\n",
       "       'Predict TF', 'Model PN', 'Label PN', 'true_label', 'prediction'],\n",
       "      dtype='object')"
      ]
     },
     "execution_count": 20,
     "metadata": {},
     "output_type": "execute_result"
    }
   ],
   "source": [
    "# general information of the run\n",
    "RUN.columns"
   ]
  },
  {
   "cell_type": "markdown",
   "metadata": {},
   "source": [
    "### 8. Save the post hoc dataset"
   ]
  },
  {
   "cell_type": "markdown",
   "metadata": {},
   "source": [
    "#### set the dataset for analysis of diagnosis (X:FU3 == y:FU3)"
   ]
  },
  {
   "cell_type": "markdown",
   "metadata": {},
   "source": [
    "Please refer to <i>to_posthoc()</i> in <i>imagen_posthocloader.py</i>, and load the file and save it as <b> all_*.csv</b>"
   ]
  },
  {
   "cell_type": "code",
   "execution_count": 21,
   "metadata": {},
   "outputs": [],
   "source": [
    "DATA = ['IMAGEN_INSTRUMENT.csv', 'IMAGEN_HDF5.csv', 'IMAGEN_RUN.csv']\n",
    "FU3 = posthoc.to_posthoc(DATA) # , save=True)"
   ]
  },
  {
   "cell_type": "code",
   "execution_count": 22,
   "metadata": {},
   "outputs": [
    {
     "data": {
      "text/plain": [
       "Index(['ID', 'Session', 'Openness mean', 'Conscientiousness mean',\n",
       "       'Extroversion mean', 'Agreeableness mean', 'Neuroticism mean',\n",
       "       'Anxiety Sensitivity mean', 'Hopelessness mean', 'Impulsivity mean',\n",
       "       'Sensation seeking mean', 'Emotional abuse sum', 'Physical abuse sum',\n",
       "       'Sexual abuse sum', 'Emotional neglect sum', 'Physical neglect sum',\n",
       "       'Denial sum', 'Assault mean', 'Injury mean', 'Negotiation mean',\n",
       "       'Psychological Aggression mean', 'Sexual Coercion mean',\n",
       "       'Family valence', 'Accident valence', 'Sexuality valence',\n",
       "       'Autonomy valence', 'Devience valence', 'Relocation valence',\n",
       "       'Distress valence', 'Noscale valence', 'Overall valence',\n",
       "       'Family mean frequency', 'Accident mean frequency',\n",
       "       'Sexuality mean frequency', 'Autonomy mean frequency',\n",
       "       'Devience mean frequency', 'Relocation mean frequency',\n",
       "       'Distress mean frequency', 'Noscale mean frequency',\n",
       "       'Overall mean frequency', 'pbq_03', 'pbq_03a', 'pbq_03b', 'pbq_03c',\n",
       "       'pbq_05', 'pbq_05a', 'pbq_05b', 'pbq_05c', 'pbq_06', 'pbq_06a',\n",
       "       'pbq_12', 'pbq_13', 'pbq_13a', 'pbq_13b', 'pbq_13g',\n",
       "       'Paternal_disorder', 'Maternal_disorder',\n",
       "       'Likelihood of nicotine dependence child', 'y', 'Dataset', 'Sex',\n",
       "       'Site', 'Class', 'Trial', 'dataset', 'io', 'technique', 'Model',\n",
       "       'TP prob', 'TN prob', 'FP prob', 'FN prob', 'T prob', 'F prob', 'Prob',\n",
       "       'Predict TF', 'Model PN', 'Label PN', 'true_label', 'prediction'],\n",
       "      dtype='object')"
      ]
     },
     "execution_count": 22,
     "metadata": {},
     "output_type": "execute_result"
    }
   ],
   "source": [
    "# general information of the instrument\n",
    "FU3.columns"
   ]
  },
  {
   "cell_type": "code",
   "execution_count": 23,
   "metadata": {},
   "outputs": [
    {
     "data": {
      "text/plain": [
       "ID                        19767886\n",
       "Session                        FU3\n",
       "Openness mean              2.33333\n",
       "Conscientiousness mean     3.08333\n",
       "Extroversion mean          2.58333\n",
       "                            ...   \n",
       "Predict TF                 TP & TN\n",
       "Model PN                   TN & FN\n",
       "Label PN                   TN & FP\n",
       "true_label                       0\n",
       "prediction                  0.2076\n",
       "Name: 1000, Length: 80, dtype: object"
      ]
     },
     "execution_count": 23,
     "metadata": {},
     "output_type": "execute_result"
    }
   ],
   "source": [
    "FU3.iloc[1000]"
   ]
  },
  {
   "cell_type": "markdown",
   "metadata": {},
   "source": [
    "#### set the dataset for analysis of prognosis (X:FU3 != y:FU3)"
   ]
  },
  {
   "cell_type": "markdown",
   "metadata": {},
   "source": [
    "Please refer to <i>read_posthoc()</i> in <i>imagen_posthocloader.py</i>, and load the file"
   ]
  },
  {
   "cell_type": "code",
   "execution_count": 24,
   "metadata": {},
   "outputs": [],
   "source": [
    "FU3 = posthoc.read_posthoc('IMAGEN_posthoc.csv')"
   ]
  },
  {
   "cell_type": "code",
   "execution_count": 25,
   "metadata": {},
   "outputs": [
    {
     "name": "stdout",
     "output_type": "stream",
     "text": [
      "['ID', 'Session', 'Openness mean', 'Conscientiousness mean', 'Extroversion mean', 'Agreeableness mean', 'Neuroticism mean', 'Anxiety Sensitivity mean', 'Hopelessness mean', 'Impulsivity mean', 'Sensation seeking mean', 'Emotional abuse sum', 'Physical abuse sum', 'Sexual abuse sum', 'Emotional neglect sum', 'Physical neglect sum', 'Denial sum', 'Assault mean', 'Injury mean', 'Negotiation mean', 'Psychological Aggression mean', 'Sexual Coercion mean', 'Family valence', 'Accident valence', 'Sexuality valence', 'Autonomy valence', 'Devience valence', 'Relocation valence', 'Distress valence', 'Noscale valence', 'Overall valence', 'Family mean frequency', 'Accident mean frequency', 'Sexuality mean frequency', 'Autonomy mean frequency', 'Devience mean frequency', 'Relocation mean frequency', 'Distress mean frequency', 'Noscale mean frequency', 'Overall mean frequency', 'pbq_03', 'pbq_03a', 'pbq_03b', 'pbq_03c', 'pbq_05', 'pbq_05a', 'pbq_05b', 'pbq_05c', 'pbq_06', 'pbq_06a', 'pbq_12', 'pbq_13', 'pbq_13a', 'pbq_13b', 'pbq_13g', 'Paternal_disorder', 'Maternal_disorder', 'Likelihood of nicotine dependence child', 'y', 'Dataset', 'Sex', 'Site', 'Class', 'Trial', 'dataset', 'io', 'technique', 'Model', 'TP prob', 'TN prob', 'FP prob', 'FN prob', 'T prob', 'F prob', 'Prob', 'Predict TF', 'Model PN', 'Label PN', 'true_label', 'prediction']\n"
     ]
    }
   ],
   "source": [
    "# general information of the instrument\n",
    "print(list(FU3.columns))"
   ]
  },
  {
   "cell_type": "code",
   "execution_count": 26,
   "metadata": {},
   "outputs": [
    {
     "name": "stdout",
     "output_type": "stream",
     "text": [
      "ID                        19767886\n",
      "Session                        FU3\n",
      "Openness mean              2.33333\n",
      "Conscientiousness mean     3.08333\n",
      "Extroversion mean          2.58333\n",
      "                            ...   \n",
      "Predict TF                 TP & TN\n",
      "Model PN                   TN & FN\n",
      "Label PN                   TN & FP\n",
      "true_label                       0\n",
      "prediction                  0.2076\n",
      "Name: 1000, Length: 80, dtype: object\n"
     ]
    }
   ],
   "source": [
    "print(FU3.iloc[1000])"
   ]
  }
 ],
 "metadata": {
  "kernelspec": {
   "display_name": "Python 3",
   "language": "python",
   "name": "python3"
  },
  "language_info": {
   "codemirror_mode": {
    "name": "ipython",
    "version": 3
   },
   "file_extension": ".py",
   "mimetype": "text/x-python",
   "name": "python",
   "nbconvert_exporter": "python",
   "pygments_lexer": "ipython3",
   "version": "3.8.3"
  }
 },
 "nbformat": 4,
 "nbformat_minor": 4
}
