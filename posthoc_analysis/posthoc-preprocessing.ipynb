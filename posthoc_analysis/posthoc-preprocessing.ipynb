{
 "cells": [
  {
   "cell_type": "markdown",
   "metadata": {},
   "source": [
    "## Create INSTRUMENT files using dataset, and generate a Run file"
   ]
  },
  {
   "cell_type": "markdown",
   "metadata": {},
   "source": [
    "POSTHOC PREPROCESSING PIPELINE"
   ]
  },
  {
   "cell_type": "code",
   "execution_count": 1,
   "metadata": {},
   "outputs": [],
   "source": [
    "import pandas as pd\n",
    "from glob import glob\n",
    "from itertools import chain, repeat\n",
    "\n",
    "from imagen_instrumentloader import *"
   ]
  },
  {
   "cell_type": "markdown",
   "metadata": {},
   "source": [
    "## 1. Load the dataset and create the INSTRUMENT files"
   ]
  },
  {
   "cell_type": "markdown",
   "metadata": {},
   "source": [
    "### 1.1. PSYCHOLOGICAL PROFILE"
   ]
  },
  {
   "cell_type": "markdown",
   "metadata": {},
   "source": [
    "#### 1.1.1. NEO-PI-R with newlbls-fu3-espad-fu3-19a-binge-n650 in ALL session (BL, FU1, FU2, and FU3)"
   ]
  },
  {
   "cell_type": "code",
   "execution_count": 2,
   "metadata": {},
   "outputs": [],
   "source": [
    "NEO = IMAGEN_instrument()"
   ]
  },
  {
   "cell_type": "markdown",
   "metadata": {},
   "source": [
    "<b> Load the dataset, and get INSTRUMENT files"
   ]
  },
  {
   "cell_type": "code",
   "execution_count": 3,
   "metadata": {},
   "outputs": [],
   "source": [
    "df_binge_BL_NEO = NEO.get_instrument(\n",
    "    \"newlbls-fu3-espad-fu3-19a-binge-n650.h5\",                # h5files\n",
    "    \"BL\",                                                     # session\n",
    "    \"IMAGEN-IMGN_NEO_FFI_CHILD_RC5-IMAGEN_SURVEY_DIGEST.csv\", # instrument\n",
    "    \"NEO\"                                                     # name\n",
    ")\n",
    "df_binge_FU1_NEO = NEO.get_instrument(\n",
    "    \"newlbls-fu3-espad-fu3-19a-binge-n650.h5\",                   # h5files\n",
    "    \"FU1\",                                                       # session\n",
    "    \"IMAGEN-IMGN_NEO_FFI_CHILD_FU_RC5-IMAGEN_SURVEY_DIGEST.csv\", # instrument\n",
    "    \"NEO\"                                                        # name\n",
    ")\n",
    "df_binge_FU2_NEO = NEO.get_instrument(\n",
    "    \"newlbls-fu3-espad-fu3-19a-binge-n650.h5\",          # h5files\n",
    "    \"FU2\",                                              # session\n",
    "    \"IMAGEN-IMGN_NEO_FFI_FU2-IMAGEN_SURVEY_DIGEST.csv\", # instrument\n",
    "    \"NEO\"                                               # name\n",
    ")\n",
    "df_binge_FU3_NEO = NEO.get_instrument(\n",
    "    \"newlbls-fu3-espad-fu3-19a-binge-n650.h5\", # h5files\n",
    "    \"FU3\",                                     # session\n",
    "    \"IMAGEN-IMGN_NEO_FFI_FU3.csv\",             # instrument\n",
    "    \"NEO\"                                      # roi name\n",
    ")                                     "
   ]
  },
  {
   "cell_type": "markdown",
   "metadata": {},
   "source": [
    "<b> Create the INSTURMENT files </b>"
   ]
  },
  {
   "cell_type": "code",
   "execution_count": 4,
   "metadata": {},
   "outputs": [
    {
     "data": {
      "text/plain": [
       "\"\\nExamples\\n--------\\n>>> from imagen_instrumentloader import *\\n>>> NEO = IMAGEN_instrument()\\n>>> df_binge_NEO = NEO.read_instrument(\\n...     'newlbls-fu3-espad-fu3-19a-binge-n650_NEO.csv'\\n... )\\n>>> col_binge_NEO = df_binge_NEO.columns[:-6]\\n>>> df_binge_NEO.groupby(['Session','Class'])[col_binge_NEO].mean()\\n\""
      ]
     },
     "execution_count": 4,
     "metadata": {},
     "output_type": "execute_result"
    }
   ],
   "source": [
    "session = [df_binge_BL_NEO, df_binge_FU1_NEO,\n",
    "           df_binge_FU2_NEO, df_binge_FU3_NEO]\n",
    "\n",
    "keys = ['BL','FU1','FU2','FU3']\n",
    "\n",
    "df_binge_NEO = NEO.to_instrument(\n",
    "    session, keys, save = True\n",
    ")\n",
    "col_binge_NEO = df_binge_NEO.columns[:-6]\n",
    "df_binge_NEO.groupby(['Session','Class'])[col_binge_NEO].mean()\n",
    "\n",
    "\"\"\"\n",
    "Examples\n",
    "--------\n",
    ">>> from imagen_instrumentloader import *\n",
    ">>> NEO = IMAGEN_instrument()\n",
    ">>> df_binge_NEO = NEO.read_instrument(\n",
    "...     'newlbls-fu3-espad-fu3-19a-binge-n650_NEO.csv'\n",
    "... )\n",
    ">>> col_binge_NEO = df_binge_NEO.columns[:-6]\n",
    ">>> df_binge_NEO.groupby(['Session','Class'])[col_binge_NEO].mean()\n",
    "\"\"\""
   ]
  },
  {
   "cell_type": "markdown",
   "metadata": {},
   "source": [
    "#### 1.1.2. SURPS with newlbls-fu3-espad-fu3-19a-binge-n650 in all session (BL, FU1, FU2, and FU3)"
   ]
  },
  {
   "cell_type": "code",
   "execution_count": 5,
   "metadata": {},
   "outputs": [],
   "source": [
    "SURPS = IMAGEN_instrument()"
   ]
  },
  {
   "cell_type": "markdown",
   "metadata": {},
   "source": [
    "<b> Load the dataset, and get INSTRUMENT files"
   ]
  },
  {
   "cell_type": "code",
   "execution_count": 6,
   "metadata": {},
   "outputs": [],
   "source": [
    "df_binge_BL_SURPS = SURPS.get_instrument(\n",
    "    \"newlbls-fu3-espad-fu3-19a-binge-n650.h5\",        # h5files\n",
    "    \"BL\",                                             # session\n",
    "    \"IMAGEN-IMGN_SURPS_RC5-IMAGEN_SURVEY_DIGEST.csv\", # instrument\n",
    "    \"SURPS\"                                           # roi name\n",
    ")\n",
    "df_binge_FU1_SURPS = SURPS.get_instrument(\n",
    "    \"newlbls-fu3-espad-fu3-19a-binge-n650.h5\",           # h5files\n",
    "    \"FU1\",                                               # session\n",
    "    \"IMAGEN-IMGN_SURPS_FU_RC5-IMAGEN_SURVEY_DIGEST.csv\", # instrument\n",
    "    \"SURPS\"                                              # roi name\n",
    ")\n",
    "df_binge_FU2_SURPS = SURPS.get_instrument(\n",
    "    \"newlbls-fu3-espad-fu3-19a-binge-n650.h5\",        # h5files\n",
    "    \"FU2\",                                            # session\n",
    "    \"IMAGEN-IMGN_SURPS_FU2-IMAGEN_SURVEY_DIGEST.csv\", # instrument\n",
    "    \"SURPS\"                                           # roi name\n",
    ")\n",
    "df_binge_FU3_SURPS = SURPS.get_instrument(\n",
    "    \"newlbls-fu3-espad-fu3-19a-binge-n650.h5\", # h5files\n",
    "    \"FU3\",                                     # session\n",
    "    \"IMAGEN-IMGN_SURPS_FU3.csv\",               # instrument\n",
    "    \"SURPS\"                                    # roi name\n",
    ")"
   ]
  },
  {
   "cell_type": "markdown",
   "metadata": {},
   "source": [
    "<b> Create the INSTURMENT files </b>"
   ]
  },
  {
   "cell_type": "code",
   "execution_count": 7,
   "metadata": {},
   "outputs": [
    {
     "data": {
      "text/plain": [
       "\"\\nExamples\\n--------\\n>>> from imagen_instrumentloader import *\\n>>> SURPS = IMAGEN_instrument()\\n>>> df_binge_SURPS = SURPS.read_instrument(\\n...     'newlbls-fu3-espad-fu3-19a-binge-n650_SURPS.csv'\\n... )\\n>>> col_binge_SURPS = df_binge_SURPS.columns[:-6]\\n>>> df_binge_SURPS.groupby(['Session','Class'])[col_binge_SURPS].mean()\\n\""
      ]
     },
     "execution_count": 7,
     "metadata": {},
     "output_type": "execute_result"
    }
   ],
   "source": [
    "session = [df_binge_BL_SURPS, df_binge_FU1_SURPS,\n",
    "           df_binge_FU2_SURPS, df_binge_FU3_SURPS]\n",
    "\n",
    "keys = ['BL','FU1','FU2','FU3']\n",
    "\n",
    "df_binge_SURPS = SURPS.to_instrument(\n",
    "    session, keys, save = True\n",
    ")\n",
    "col_binge_SURPS = df_binge_SURPS.columns[:-6]\n",
    "df_binge_SURPS.groupby(['Session','Class'])[col_binge_SURPS].mean()\n",
    "\n",
    "\"\"\"\n",
    "Examples\n",
    "--------\n",
    ">>> from imagen_instrumentloader import *\n",
    ">>> SURPS = IMAGEN_instrument()\n",
    ">>> df_binge_SURPS = SURPS.read_instrument(\n",
    "...     'newlbls-fu3-espad-fu3-19a-binge-n650_SURPS.csv'\n",
    "... )\n",
    ">>> col_binge_SURPS = df_binge_SURPS.columns[:-6]\n",
    ">>> df_binge_SURPS.groupby(['Session','Class'])[col_binge_SURPS].mean()\n",
    "\"\"\""
   ]
  },
  {
   "cell_type": "markdown",
   "metadata": {},
   "source": [
    "### 1.2. SOCIO-ECONOMIC PROFILE"
   ]
  },
  {
   "cell_type": "markdown",
   "metadata": {},
   "source": [
    "#### 1.2.1. CTQ-SF with newlbls-fu3-espad-fu3-19a-binge-n650 in One session (FU2)"
   ]
  },
  {
   "cell_type": "code",
   "execution_count": 8,
   "metadata": {},
   "outputs": [],
   "source": [
    "CTQ = IMAGEN_instrument()"
   ]
  },
  {
   "cell_type": "markdown",
   "metadata": {},
   "source": [
    "<b> Load the dataset, and get INSTRUMENT files"
   ]
  },
  {
   "cell_type": "code",
   "execution_count": 9,
   "metadata": {},
   "outputs": [],
   "source": [
    "df_binge_CTQ_FU2 = CTQ.get_instrument(\n",
    "    \"newlbls-fu3-espad-fu3-19a-binge-n650.h5\",     # h5files\n",
    "    \"FU2\",                                         # session\n",
    "    \"IMAGEN-IMGN_CTQ_CHILD_FU2-IMAGEN_DIGEST.csv\", # instrument\n",
    "    \"CTQ\"                                          # name\n",
    ")"
   ]
  },
  {
   "cell_type": "markdown",
   "metadata": {},
   "source": [
    "<b> Create the INSTURMENT files </b>"
   ]
  },
  {
   "cell_type": "code",
   "execution_count": 10,
   "metadata": {},
   "outputs": [
    {
     "data": {
      "text/plain": [
       "\"\\nExamples\\n--------\\n>>> from imagen_instrumentloader import *\\n>>> CTQ = IMAGEN_instrument()\\n>>> df_binge_CTQ = CTQ.read_instrument(\\n...     'newlbls-fu3-espad-fu3-19a-binge-n650_CTQ.csv'\\n... )\\n>>> col_binge_CTQ = df_binge_CTQ.columns[:-6]\\n>>> df_binge_CTQ.groupby(['Session','Class'])[col_binge_CTQ].mean()\\n\""
      ]
     },
     "execution_count": 10,
     "metadata": {},
     "output_type": "execute_result"
    }
   ],
   "source": [
    "session = [df_binge_CTQ_FU2]\n",
    "\n",
    "keys = ['FU2']\n",
    "\n",
    "df_binge_CTQ = CTQ.to_instrument(\n",
    "    session, keys, save = True\n",
    ")\n",
    "col_binge_CTQ = df_binge_CTQ.columns[:-6]\n",
    "df_binge_CTQ.groupby(['Session','Class'])[col_binge_CTQ].mean()\n",
    "\n",
    "\"\"\"\n",
    "Examples\n",
    "--------\n",
    ">>> from imagen_instrumentloader import *\n",
    ">>> CTQ = IMAGEN_instrument()\n",
    ">>> df_binge_CTQ = CTQ.read_instrument(\n",
    "...     'newlbls-fu3-espad-fu3-19a-binge-n650_CTQ.csv'\n",
    "... )\n",
    ">>> col_binge_CTQ = df_binge_CTQ.columns[:-6]\n",
    ">>> df_binge_CTQ.groupby(['Session','Class'])[col_binge_CTQ].mean()\n",
    "\"\"\""
   ]
  },
  {
   "cell_type": "markdown",
   "metadata": {},
   "source": [
    "#### 1.2.2 LEQ with newlbls-fu3-espad-fu3-19a-binge-n650 in All session (BL, FU1, FU2, and FU3)"
   ]
  },
  {
   "cell_type": "code",
   "execution_count": 11,
   "metadata": {},
   "outputs": [],
   "source": [
    "LEQ = IMAGEN_instrument()"
   ]
  },
  {
   "cell_type": "markdown",
   "metadata": {},
   "source": [
    "<b> Load the dataset, and get INSTRUMENT files"
   ]
  },
  {
   "cell_type": "code",
   "execution_count": 12,
   "metadata": {},
   "outputs": [],
   "source": [
    "df_binge_BL_LEQ = LEQ.get_instrument(\n",
    "    \"newlbls-fu3-espad-fu3-19a-binge-n650.h5\", # h5files\n",
    "    \"BL\",                                      # session\n",
    "    \"IMAGEN-IMGN_LEQ_RC5-BASIC_DIGEST.csv\",    # instrument\n",
    "    \"LEQ\"                                      # name\n",
    ")\n",
    "df_binge_FU1_LEQ = LEQ.get_instrument(\n",
    "    \"newlbls-fu3-espad-fu3-19a-binge-n650.h5\",  # h5files\n",
    "    \"FU1\",                                      # session\n",
    "    \"IMAGEN-IMGN_LEQ_FU_RC5-IMAGEN_DIGEST.csv\", # instrument\n",
    "    \"LEQ\"                                       # name\n",
    ")\n",
    "df_binge_FU2_LEQ = LEQ.get_instrument(\n",
    "    \"newlbls-fu3-espad-fu3-19a-binge-n650.h5\", # h5files\n",
    "    \"FU2\",                                     # session\n",
    "    \"IMAGEN-IMGN_LEQ_FU2-IMAGEN_DIGEST.csv\",   # instrument\n",
    "    \"LEQ\"                                      # name\n",
    ")\n",
    "df_binge_FU3_LEQ = LEQ.get_instrument(\n",
    "    \"newlbls-fu3-espad-fu3-19a-binge-n650.h5\", # h5files\n",
    "    \"FU3\",                                     # session\n",
    "    \"IMAGEN-IMGN_LEQ_FU3.csv\",                 # instrument\n",
    "    \"LEQ\"                                      # name\n",
    ")"
   ]
  },
  {
   "cell_type": "markdown",
   "metadata": {},
   "source": [
    "<b> Create the INSTURMENT files </b>"
   ]
  },
  {
   "cell_type": "code",
   "execution_count": 13,
   "metadata": {},
   "outputs": [
    {
     "data": {
      "text/plain": [
       "\"\\nExamples\\n--------\\n>>> from imagen_instrumentloader import *\\n>>> LEQ = IMAGEN_instrument()\\n>>> df_binge_LEQ = LEQ.read_instrument(\\n...     'newlbls-fu3-espad-fu3-19a-binge-n650_LEQ.csv'\\n... )\\n>>> col_binge_LEQ = df_binge_LEQ.columns[:-6]\\n>>> df_binge_LEQ.groupby(['Session','Class'])[col_binge_LEQ].mean()\\n\""
      ]
     },
     "execution_count": 13,
     "metadata": {},
     "output_type": "execute_result"
    }
   ],
   "source": [
    "session = [df_binge_BL_LEQ, df_binge_FU1_LEQ,\n",
    "           df_binge_FU2_LEQ, df_binge_FU3_LEQ]\n",
    "\n",
    "keys = ['BL','FU1','FU2','FU3']\n",
    "\n",
    "df_binge_LEQ = LEQ.to_instrument(\n",
    "    session, keys, save = True\n",
    ")\n",
    "col_binge_LEQ = df_binge_LEQ.columns[:-6]\n",
    "df_binge_LEQ.groupby(['Session','Class'])[col_binge_LEQ].mean()\n",
    "\n",
    "\"\"\"\n",
    "Examples\n",
    "--------\n",
    ">>> from imagen_instrumentloader import *\n",
    ">>> LEQ = IMAGEN_instrument()\n",
    ">>> df_binge_LEQ = LEQ.read_instrument(\n",
    "...     'newlbls-fu3-espad-fu3-19a-binge-n650_LEQ.csv'\n",
    "... )\n",
    ">>> col_binge_LEQ = df_binge_LEQ.columns[:-6]\n",
    ">>> df_binge_LEQ.groupby(['Session','Class'])[col_binge_LEQ].mean()\n",
    "\"\"\""
   ]
  },
  {
   "cell_type": "markdown",
   "metadata": {},
   "source": [
    "#### 1.2.3. PBQ with newlbls-fu3-espad-fu3-19a-binge-n650 in Two session (BL, and FU1)"
   ]
  },
  {
   "cell_type": "code",
   "execution_count": 14,
   "metadata": {},
   "outputs": [],
   "source": [
    "PBQ = IMAGEN_instrument()"
   ]
  },
  {
   "cell_type": "markdown",
   "metadata": {},
   "source": [
    "<b> Load the dataset, and get INSTRUMENT files"
   ]
  },
  {
   "cell_type": "code",
   "execution_count": 15,
   "metadata": {},
   "outputs": [],
   "source": [
    "df_binge_BL_PBQ = PBQ.get_instrument(\n",
    "    \"newlbls-fu3-espad-fu3-19a-binge-n650.h5\", # h5files\n",
    "    \"BL\",                                      # session\n",
    "    \"IMAGEN-IMGN_PBQ_RC1-BASIC_DIGEST.csv\",    # instrument\n",
    "    \"PBQ\"                                      # roi name\n",
    ")\n",
    "df_binge_FU1_PBQ = PBQ.get_instrument(\n",
    "    \"newlbls-fu3-espad-fu3-19a-binge-n650.h5\", # h5files\n",
    "    \"FU1\",                                     # session\n",
    "    \"IMAGEN-IMGN_PBQ_FU_RC1-BASIC_DIGEST.csv\", # instrument\n",
    "    \"PBQ\"                                      # name\n",
    ")"
   ]
  },
  {
   "cell_type": "markdown",
   "metadata": {},
   "source": [
    "<b> Create the INSTURMENT files </b>"
   ]
  },
  {
   "cell_type": "code",
   "execution_count": 16,
   "metadata": {},
   "outputs": [
    {
     "data": {
      "text/plain": [
       "\"\\nExamples\\n--------\\n>>> from imagen_instrumentloader import *\\n>>> PBQ = IMAGEN_instrument()\\n>>> df_binge_PBQ = PBQ.read_instrument(\\n...     'newlbls-fu3-espad-fu3-19a-binge-n650_PBQ.csv'\\n... )\\n>>> col_binge_PBQ = df_binge_PBQ.columns[:-6]\\n>>> df_binge_PBQ.groupby(['Session','Class'])[col_binge_PBQ].count()\\n>>> df_binge_PBQ.info()\\n\""
      ]
     },
     "execution_count": 16,
     "metadata": {},
     "output_type": "execute_result"
    }
   ],
   "source": [
    "session = [df_binge_BL_PBQ, df_binge_FU1_PBQ]\n",
    "\n",
    "keys = ['BL','FU1']\n",
    "\n",
    "df_binge_PBQ = PBQ.to_instrument(\n",
    "    session, keys, save = True\n",
    ")\n",
    "col_binge_PBQ = df_binge_PBQ.columns[:-6]\n",
    "df_binge_PBQ.groupby(['Session','Class'])[col_binge_PBQ].count()\n",
    "\n",
    "\"\"\"\n",
    "Examples\n",
    "--------\n",
    ">>> from imagen_instrumentloader import *\n",
    ">>> PBQ = IMAGEN_instrument()\n",
    ">>> df_binge_PBQ = PBQ.read_instrument(\n",
    "...     'newlbls-fu3-espad-fu3-19a-binge-n650_PBQ.csv'\n",
    "... )\n",
    ">>> col_binge_PBQ = df_binge_PBQ.columns[:-6]\n",
    ">>> df_binge_PBQ.groupby(['Session','Class'])[col_binge_PBQ].count()\n",
    ">>> df_binge_PBQ.info()\n",
    "\"\"\""
   ]
  },
  {
   "cell_type": "markdown",
   "metadata": {},
   "source": [
    "#### 1.2.4. CTS with newlbls-fu3-espad-fu3-19a-binge-n650 in One session (BL)"
   ]
  },
  {
   "cell_type": "code",
   "execution_count": 17,
   "metadata": {},
   "outputs": [],
   "source": [
    "CTS = IMAGEN_instrument()"
   ]
  },
  {
   "cell_type": "markdown",
   "metadata": {},
   "source": [
    "<b> Load the dataset, and get INSTRUMENT files"
   ]
  },
  {
   "cell_type": "code",
   "execution_count": 18,
   "metadata": {},
   "outputs": [],
   "source": [
    "df_binge_BL_CTS = CTS.get_instrument(\n",
    "    \"newlbls-fu3-espad-fu3-19a-binge-n650.h5\",     # h5files\n",
    "    \"BL\",                                          # session\n",
    "    \"IMAGEN-IMGN_CTS_PARENT_RC5-BASIC_DIGEST.csv\", # instrument\n",
    "    \"CTS\"                                          # name\n",
    ")"
   ]
  },
  {
   "cell_type": "markdown",
   "metadata": {},
   "source": [
    "<b> Create the INSTURMENT files </b>"
   ]
  },
  {
   "cell_type": "code",
   "execution_count": 19,
   "metadata": {},
   "outputs": [
    {
     "data": {
      "text/plain": [
       "\"\\nExamples\\n--------\\n>>> from imagen_instrumentloader import *\\n>>> CTS = IMAGEN_instrument()\\n>>> df_binge_CTS = CTS.read_instrument(\\n...     'newlbls-fu3-espad-fu3-19a-binge-n650_CTS.csv'\\n... )\\n>>> col_binge_CTS = df_binge_CTS.columns[:-6]\\n>>> df_binge_CTS.groupby(['Session','Class'])[col_binge_CTS].mean()\\n\""
      ]
     },
     "execution_count": 19,
     "metadata": {},
     "output_type": "execute_result"
    }
   ],
   "source": [
    "session = [df_binge_BL_CTS]\n",
    "\n",
    "keys = ['BL']\n",
    "\n",
    "df_binge_CTS = CTS.to_instrument(\n",
    "    session, keys, save = True\n",
    ")\n",
    "col_binge_CTS = df_binge_CTS.columns[:-6]\n",
    "df_binge_CTS.groupby(['Session','Class'])[col_binge_CTS].mean()\n",
    "\n",
    "\"\"\"\n",
    "Examples\n",
    "--------\n",
    ">>> from imagen_instrumentloader import *\n",
    ">>> CTS = IMAGEN_instrument()\n",
    ">>> df_binge_CTS = CTS.read_instrument(\n",
    "...     'newlbls-fu3-espad-fu3-19a-binge-n650_CTS.csv'\n",
    "... )\n",
    ">>> col_binge_CTS = df_binge_CTS.columns[:-6]\n",
    ">>> df_binge_CTS.groupby(['Session','Class'])[col_binge_CTS].mean()\n",
    "\"\"\""
   ]
  },
  {
   "cell_type": "markdown",
   "metadata": {},
   "source": [
    "#### 1.2.5. GEN with newlbls-fu3-espad-fu3-19a-binge-n650 in One session (BL)"
   ]
  },
  {
   "cell_type": "code",
   "execution_count": 20,
   "metadata": {},
   "outputs": [],
   "source": [
    "GEN = IMAGEN_instrument()"
   ]
  },
  {
   "cell_type": "markdown",
   "metadata": {},
   "source": [
    "<b> Load the dataset, and get INSTRUMENT files"
   ]
  },
  {
   "cell_type": "code",
   "execution_count": 21,
   "metadata": {},
   "outputs": [],
   "source": [
    "df_binge_BL_GEN = GEN.get_instrument(\n",
    "    \"newlbls-fu3-espad-fu3-19a-binge-n650.h5\",     # h5files\n",
    "    \"BL\",                                          # session\n",
    "    \"IMAGEN-IMGN_GEN_RC5-BASIC_DIGEST.csv\",        # instrument\n",
    "    \"GEN\"                                          # name\n",
    ")\n",
    "col_binge_GEN = df_binge_BL_GEN.columns[:-6]"
   ]
  },
  {
   "cell_type": "markdown",
   "metadata": {},
   "source": [
    "<b> Create the INSTURMENT files </b>"
   ]
  },
  {
   "cell_type": "code",
   "execution_count": 22,
   "metadata": {},
   "outputs": [
    {
     "data": {
      "text/plain": [
       "\"\\nExamples\\n--------\\n>>> from imagen_instrumentloader import *\\n>>> GEN = IMAGEN_instrument()\\n>>> df_binge_GEN = GEN.read_instrument(\\n...     'newlbls-fu3-espad-fu3-19a-binge-n650_GEN.csv'\\n... )\\n>>> col_binge_GEN = df_binge_GEN.columns[:-6]\\n>>> df_binge_GEN.groupby(['Session','Class'])[col_binge_GEN].count()\\n\""
      ]
     },
     "execution_count": 22,
     "metadata": {},
     "output_type": "execute_result"
    }
   ],
   "source": [
    "session = [df_binge_BL_GEN]\n",
    "\n",
    "keys = ['BL']\n",
    "\n",
    "df_binge_GEN = GEN.to_instrument(\n",
    "    session, keys, save = True\n",
    ")\n",
    "col_binge_GEN = df_binge_GEN.columns[:-6]\n",
    "\n",
    "\"\"\"\n",
    "Examples\n",
    "--------\n",
    ">>> from imagen_instrumentloader import *\n",
    ">>> GEN = IMAGEN_instrument()\n",
    ">>> df_binge_GEN = GEN.read_instrument(\n",
    "...     'newlbls-fu3-espad-fu3-19a-binge-n650_GEN.csv'\n",
    "... )\n",
    ">>> col_binge_GEN = df_binge_GEN.columns[:-6]\n",
    ">>> df_binge_GEN.groupby(['Session','Class'])[col_binge_GEN].count()\n",
    "\"\"\""
   ]
  },
  {
   "cell_type": "markdown",
   "metadata": {},
   "source": [
    "#### 1.2.6. BMI with newlbls-fu3-espad-fu3-19a-binge-n650 in One session (BL, FU1, FU2, and FU3)"
   ]
  },
  {
   "cell_type": "markdown",
   "metadata": {},
   "source": [
    "(to do) However, there is no BMI data"
   ]
  },
  {
   "cell_type": "markdown",
   "metadata": {},
   "source": [
    "<b> Load the dataset, and get INSTRUMENT files"
   ]
  },
  {
   "cell_type": "markdown",
   "metadata": {},
   "source": [
    "(to do)"
   ]
  },
  {
   "cell_type": "markdown",
   "metadata": {},
   "source": [
    "<b> Create the INSTURMENT files </b>"
   ]
  },
  {
   "cell_type": "markdown",
   "metadata": {},
   "source": [
    "(to do)"
   ]
  },
  {
   "cell_type": "markdown",
   "metadata": {},
   "source": [
    "### 1.3. OTHER CO-MORBIDITIES"
   ]
  },
  {
   "cell_type": "markdown",
   "metadata": {},
   "source": [
    "#### 1.3.1. FTND with newlbls-fu3-espad-fu3-19a-binge-n650 in All session (BL, FU1, FU2, and FU3)"
   ]
  },
  {
   "cell_type": "markdown",
   "metadata": {},
   "source": [
    "(to do)"
   ]
  },
  {
   "cell_type": "markdown",
   "metadata": {},
   "source": [
    "<b> Load the dataset, and get INSTRUMENT files"
   ]
  },
  {
   "cell_type": "markdown",
   "metadata": {},
   "source": [
    "(to do)"
   ]
  },
  {
   "cell_type": "markdown",
   "metadata": {},
   "source": [
    "<b> Create the INSTURMENT files </b>"
   ]
  },
  {
   "cell_type": "markdown",
   "metadata": {},
   "source": [
    "(to do)"
   ]
  },
  {
   "cell_type": "markdown",
   "metadata": {},
   "source": [
    "#### 1.3.2. DAST with newlbls-fu3-espad-fu3-19a-binge-n650 in All session (BL, FU1, FU2, and FU3)"
   ]
  },
  {
   "cell_type": "markdown",
   "metadata": {},
   "source": [
    "(to do)"
   ]
  },
  {
   "cell_type": "markdown",
   "metadata": {},
   "source": [
    "<b> Load the dataset, and get INSTRUMENT files"
   ]
  },
  {
   "cell_type": "markdown",
   "metadata": {},
   "source": [
    "(to do)"
   ]
  },
  {
   "cell_type": "markdown",
   "metadata": {},
   "source": [
    "<b> Create the INSTURMENT files </b>"
   ]
  },
  {
   "cell_type": "markdown",
   "metadata": {},
   "source": [
    "#### 1.3.3. SCID-SUD with newlbls-fu3-espad-fu3-19a-binge-n650 in All session (BL, FU1, FU2, and FU3)"
   ]
  },
  {
   "cell_type": "markdown",
   "metadata": {},
   "source": [
    "(to do)"
   ]
  },
  {
   "cell_type": "markdown",
   "metadata": {},
   "source": [
    "<b> Load the dataset, and get INSTRUMENT files"
   ]
  },
  {
   "cell_type": "markdown",
   "metadata": {},
   "source": [
    "(to do)"
   ]
  },
  {
   "cell_type": "markdown",
   "metadata": {},
   "source": [
    "<b> Create the INSTURMENT files </b>"
   ]
  },
  {
   "cell_type": "markdown",
   "metadata": {},
   "source": [
    "(to do)"
   ]
  },
  {
   "cell_type": "markdown",
   "metadata": {},
   "source": [
    "#### 1.3.4. DMQ with newlbls-fu3-espad-fu3-19a-binge-n650 in One session (FU3)"
   ]
  },
  {
   "cell_type": "markdown",
   "metadata": {},
   "source": [
    "(to do)"
   ]
  },
  {
   "cell_type": "markdown",
   "metadata": {},
   "source": [
    "<b> Load the dataset, and get INSTRUMENT files"
   ]
  },
  {
   "cell_type": "markdown",
   "metadata": {},
   "source": [
    "(to do)"
   ]
  },
  {
   "cell_type": "markdown",
   "metadata": {},
   "source": [
    "<b> Create the INSTURMENT files </b>"
   ]
  },
  {
   "cell_type": "markdown",
   "metadata": {},
   "source": [
    "(to do)"
   ]
  },
  {
   "cell_type": "markdown",
   "metadata": {},
   "source": [
    "#### 1.3.5. BSI-53 with newlbls-fu3-espad-fu3-19a-binge-n650 in One session (FU3)"
   ]
  },
  {
   "cell_type": "markdown",
   "metadata": {},
   "source": [
    "(to do)"
   ]
  },
  {
   "cell_type": "markdown",
   "metadata": {},
   "source": [
    "<b> Load the dataset, and get INSTRUMENT files"
   ]
  },
  {
   "cell_type": "markdown",
   "metadata": {},
   "source": [
    "(to do)"
   ]
  },
  {
   "cell_type": "markdown",
   "metadata": {},
   "source": [
    "<b> Create the INSTURMENT files </b>"
   ]
  },
  {
   "cell_type": "markdown",
   "metadata": {},
   "source": [
    "(to do)"
   ]
  },
  {
   "cell_type": "markdown",
   "metadata": {},
   "source": [
    "#### 1.3.6. AUDIT with newlbls-fu3-espad-fu3-19a-binge-n650 in All session (BL, FU1, FU2, and FU3)"
   ]
  },
  {
   "cell_type": "markdown",
   "metadata": {},
   "source": [
    "(to do)"
   ]
  },
  {
   "cell_type": "markdown",
   "metadata": {},
   "source": [
    "<b> Load the dataset, and get INSTRUMENT files"
   ]
  },
  {
   "cell_type": "markdown",
   "metadata": {},
   "source": [
    "(to do)"
   ]
  },
  {
   "cell_type": "markdown",
   "metadata": {},
   "source": [
    "<b> Create the INSTURMENT files </b>"
   ]
  },
  {
   "cell_type": "markdown",
   "metadata": {},
   "source": [
    "(to do)"
   ]
  },
  {
   "cell_type": "markdown",
   "metadata": {},
   "source": [
    "#### 1.3.7. MAST with newlbls-fu3-espad-fu3-19a-binge-n650 in All session (BL, FU1, FU2, and FU3)"
   ]
  },
  {
   "cell_type": "markdown",
   "metadata": {},
   "source": [
    "(to do)"
   ]
  },
  {
   "cell_type": "markdown",
   "metadata": {},
   "source": [
    "<b> Load the dataset, and get INSTRUMENT files"
   ]
  },
  {
   "cell_type": "markdown",
   "metadata": {},
   "source": [
    "(to do)"
   ]
  },
  {
   "cell_type": "markdown",
   "metadata": {},
   "source": [
    "<b> Create the INSTURMENT files </b>"
   ]
  },
  {
   "cell_type": "markdown",
   "metadata": {},
   "source": [
    "(to do)"
   ]
  },
  {
   "cell_type": "markdown",
   "metadata": {},
   "source": [
    "## 2. Generate the RUN file for posthoc-analysis"
   ]
  },
  {
   "cell_type": "markdown",
   "metadata": {},
   "source": [
    "### 2.1. Generate the dataset RUN file"
   ]
  },
  {
   "cell_type": "markdown",
   "metadata": {},
   "source": [
    "#### 2.1.1 Validation dataset result to RUN file"
   ]
  },
  {
   "cell_type": "markdown",
   "metadata": {},
   "source": [
    "<b> Load the dataset <b/>"
   ]
  },
  {
   "cell_type": "code",
   "execution_count": 23,
   "metadata": {},
   "outputs": [],
   "source": [
    "df = pd.read_csv(sorted(glob(\"results/newlbls-fu3-espad-fu3-19a-binge-*/*/run.csv\"))[-1])\n",
    "\n",
    "# This part need to be updated using directly h5files\n",
    "CTQ = IMAGEN_instrument()\n",
    "binge_CTQ = CTQ.read_instrument(\n",
    "    'newlbls-fu3-espad-fu3-19a-binge-n650_CTQ.csv'\n",
    ")"
   ]
  },
  {
   "cell_type": "markdown",
   "metadata": {},
   "source": [
    "<b> Generate the RUN dataframe </b>"
   ]
  },
  {
   "cell_type": "code",
   "execution_count": 24,
   "metadata": {},
   "outputs": [],
   "source": [
    "test_id = sum([df['test_ids'][i].strip('][').split(', ') for i in range(28)], [])\n",
    "test_probs = np.array([prob_lists for probs in df[\"test_probs\"] for prob_lists in eval(probs)])[:,1]\n",
    "test_lbls = sum([df['test_lbls'][i].strip('][').split(', ') for i in range(28)], [])\n",
    "model = [g for (g, dfi) in df.groupby([\"i\", \"o\", \"technique\", \"model\"])]\n",
    "test_model = list(chain.from_iterable((repeat(number, 650) for number in model)))\n",
    "col_binge_CTQ = binge_CTQ.columns[:-6]\n",
    "\n",
    "df2 = pd.DataFrame({\n",
    "    \"ID\" : test_id,\n",
    "    \"Model\" : test_model,\n",
    "    \"Probability\" : test_probs, \n",
    "    \"Labels\" : test_lbls,})\n",
    "DF = df2.astype({\"ID\":'int', \"Probability\":'float', \"Labels\":'float'})\n",
    "\n",
    "DF = pd.merge(DF, binge_CTQ[['ID','Site','Sex','Class']], on='ID', how = 'outer')"
   ]
  },
  {
   "cell_type": "markdown",
   "metadata": {},
   "source": [
    "<b> Save the RUN file"
   ]
  },
  {
   "cell_type": "code",
   "execution_count": 25,
   "metadata": {},
   "outputs": [],
   "source": [
    "DF.to_csv('newlbls-fu3-espad-fu3-19a-binge-n650_val_run.csv', index=False)"
   ]
  },
  {
   "cell_type": "markdown",
   "metadata": {},
   "source": [
    "#### 2.2.1 Test dataset result to RUN file"
   ]
  },
  {
   "cell_type": "markdown",
   "metadata": {},
   "source": [
    "<b> Load the dataset <b/>"
   ]
  },
  {
   "cell_type": "markdown",
   "metadata": {},
   "source": [
    "(to do)"
   ]
  },
  {
   "cell_type": "markdown",
   "metadata": {},
   "source": [
    "<b> Generate the RUN dataframe </b>"
   ]
  },
  {
   "cell_type": "markdown",
   "metadata": {},
   "source": [
    "(to do)"
   ]
  },
  {
   "cell_type": "markdown",
   "metadata": {},
   "source": [
    "<b> Save the RUN file"
   ]
  },
  {
   "cell_type": "markdown",
   "metadata": {},
   "source": [
    "(to do)"
   ]
  },
  {
   "cell_type": "code",
   "execution_count": null,
   "metadata": {},
   "outputs": [],
   "source": []
  }
 ],
 "metadata": {
  "kernelspec": {
   "display_name": "Python 3",
   "language": "python",
   "name": "python3"
  },
  "language_info": {
   "codemirror_mode": {
    "name": "ipython",
    "version": 3
   },
   "file_extension": ".py",
   "mimetype": "text/x-python",
   "name": "python",
   "nbconvert_exporter": "python",
   "pygments_lexer": "ipython3",
   "version": "3.8.3"
  }
 },
 "nbformat": 4,
 "nbformat_minor": 4
}
