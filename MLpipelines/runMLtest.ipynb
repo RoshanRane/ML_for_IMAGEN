{
 "cells": [
  {
   "cell_type": "code",
   "execution_count": 40,
   "id": "ea684235-ab49-4989-8999-857711237162",
   "metadata": {},
   "outputs": [
    {
     "name": "stdout",
     "output_type": "stream",
     "text": [
      "The autoreload extension is already loaded. To reload it, use:\n",
      "  %reload_ext autoreload\n"
     ]
    }
   ],
   "source": [
    "%load_ext autoreload\n",
    "%autoreload 2"
   ]
  },
  {
   "cell_type": "code",
   "execution_count": 41,
   "id": "dda4f90f-069e-45b4-bee1-ed23eb35e1f8",
   "metadata": {},
   "outputs": [],
   "source": [
    "import os, sys\n",
    "from glob import glob\n",
    "from os.path import join, isfile\n",
    "import numpy as np\n",
    "import pandas as pd\n",
    "\n",
    "import time\n",
    "from datetime import datetime\n",
    "from copy import deepcopy\n",
    "\n",
    "from sklearn.metrics import balanced_accuracy_score, roc_auc_score, get_scorer, make_scorer, confusion_matrix\n",
    "from sklearn.feature_selection import SelectKBest, VarianceThreshold\n",
    "from sklearn.preprocessing import StandardScaler, MinMaxScaler\n",
    "from sklearn.model_selection import ParameterGrid, StratifiedKFold\n",
    "\n",
    "from imblearn.pipeline import Pipeline\n",
    "\n",
    "from sklearn.linear_model import LogisticRegression\n",
    "from sklearn.svm import SVC, LinearSVC\n",
    "from xgboost import XGBClassifier\n",
    "from sklearn.naive_bayes import GaussianNB\n",
    "\n",
    "from joblib import Parallel, delayed, dump, load\n",
    "\n",
    "# Local imports\n",
    "from MLpipeline import *\n",
    "from confounds import *"
   ]
  },
  {
   "cell_type": "code",
   "execution_count": 3,
   "id": "d2b3b66e-dea7-4421-a8e6-0ae6d8b08b07",
   "metadata": {},
   "outputs": [],
   "source": [
    "# Define settings for the experiment \n",
    "DATA_DIR = \"/ritter/share/data/IMAGEN\"\n",
    "\n",
    "## Permutation tests\n",
    "# Total number of permutation tests to run. Set to 0 to not perform any permutations. \n",
    "N_PERMUTATIONS = 1000\n",
    "N_JOBS = 30 # parallel jobs\n",
    "PARALLELIZE = False # within each MLPipeline trial, do you want to parallelize the permutation test runs too?\n",
    "# if set to true it will run 1 trial with no parallel jobs and enables debug msgs\n",
    "DEBUG = False\n",
    "    \n",
    "if DEBUG:\n",
    "    if N_PERMUTATIONS > 2:\n",
    "        N_PERMUTATIONS = 2\n",
    "    N_JOBS = 1 \n",
    "    PARALLELIZE = False"
   ]
  },
  {
   "cell_type": "code",
   "execution_count": 4,
   "id": "9f9a2c1b-2eca-409f-a6e1-c726bdbac73a",
   "metadata": {},
   "outputs": [],
   "source": [
    "dirs = ['newlbls-bl-*', 'newlbls-fu2-*', 'newlbls-fu3-*']"
   ]
  },
  {
   "cell_type": "code",
   "execution_count": 5,
   "id": "17ecf9e2-5d91-4067-8db7-5005bdd500f4",
   "metadata": {},
   "outputs": [
    {
     "data": {
      "image/png": "[encoded data removed]",
      "text/plain": [
       "<Figure size 1152x288 with 3 Axes>"
      ]
     },
     "metadata": {
      "needs_background": "light"
     },
     "output_type": "display_data"
    },
    {
     "data": {
      "text/html": [
       "<div>\n",
       "<style scoped>\n",
       "    .dataframe tbody tr th:only-of-type {\n",
       "        vertical-align: middle;\n",
       "    }\n",
       "\n",
       "    .dataframe tbody tr th {\n",
       "        vertical-align: top;\n",
       "    }\n",
       "\n",
       "    .dataframe thead th {\n",
       "        text-align: right;\n",
       "    }\n",
       "</style>\n",
       "<table border=\"1\" class=\"dataframe\">\n",
       "  <thead>\n",
       "    <tr style=\"text-align: right;\">\n",
       "      <th></th>\n",
       "      <th>o</th>\n",
       "      <th>model</th>\n",
       "      <th>trial</th>\n",
       "      <th>test_score</th>\n",
       "      <th>valid_score</th>\n",
       "      <th>train_score</th>\n",
       "      <th>roc_auc</th>\n",
       "      <th>model_SVM-rbf__C</th>\n",
       "      <th>model_SVM-rbf__gamma</th>\n",
       "      <th>model_SVM-lin__C</th>\n",
       "      <th>model_LR__C</th>\n",
       "      <th>model_GB__learning_rate</th>\n",
       "      <th>path</th>\n",
       "      <th>path_type</th>\n",
       "    </tr>\n",
       "  </thead>\n",
       "  <tbody>\n",
       "    <tr>\n",
       "      <th>0</th>\n",
       "      <td>Binge</td>\n",
       "      <td>SVM-rbf</td>\n",
       "      <td>3</td>\n",
       "      <td>0.738095</td>\n",
       "      <td>0.681725</td>\n",
       "      <td>0.899097</td>\n",
       "      <td>0.850529</td>\n",
       "      <td>1000.0</td>\n",
       "      <td>scale</td>\n",
       "      <td>NaN</td>\n",
       "      <td>NaN</td>\n",
       "      <td>NaN</td>\n",
       "      <td>results/newlbls-bl-espad-fu3-19a-binge-n620/20...</td>\n",
       "      <td>bl</td>\n",
       "    </tr>\n",
       "    <tr>\n",
       "      <th>1</th>\n",
       "      <td>Binge</td>\n",
       "      <td>SVM-rbf</td>\n",
       "      <td>2</td>\n",
       "      <td>0.759921</td>\n",
       "      <td>0.684937</td>\n",
       "      <td>0.902405</td>\n",
       "      <td>0.829696</td>\n",
       "      <td>1.0</td>\n",
       "      <td>auto</td>\n",
       "      <td>NaN</td>\n",
       "      <td>NaN</td>\n",
       "      <td>NaN</td>\n",
       "      <td>results/newlbls-bl-espad-fu3-19a-binge-n620/20...</td>\n",
       "      <td>bl</td>\n",
       "    </tr>\n",
       "    <tr>\n",
       "      <th>2</th>\n",
       "      <td>Binge</td>\n",
       "      <td>GB</td>\n",
       "      <td>0</td>\n",
       "      <td>0.791667</td>\n",
       "      <td>0.676688</td>\n",
       "      <td>0.977842</td>\n",
       "      <td>0.823413</td>\n",
       "      <td>NaN</td>\n",
       "      <td>NaN</td>\n",
       "      <td>NaN</td>\n",
       "      <td>NaN</td>\n",
       "      <td>0.25</td>\n",
       "      <td>results/newlbls-bl-espad-fu3-19a-binge-n620/20...</td>\n",
       "      <td>bl</td>\n",
       "    </tr>\n",
       "    <tr>\n",
       "      <th>3</th>\n",
       "      <td>Binge</td>\n",
       "      <td>SVM-rbf</td>\n",
       "      <td>7</td>\n",
       "      <td>0.760163</td>\n",
       "      <td>0.700548</td>\n",
       "      <td>0.889962</td>\n",
       "      <td>0.805894</td>\n",
       "      <td>1.0</td>\n",
       "      <td>scale</td>\n",
       "      <td>NaN</td>\n",
       "      <td>NaN</td>\n",
       "      <td>NaN</td>\n",
       "      <td>results/newlbls-bl-espad-fu3-19a-binge-n620/20...</td>\n",
       "      <td>bl</td>\n",
       "    </tr>\n",
       "    <tr>\n",
       "      <th>4</th>\n",
       "      <td>Binge</td>\n",
       "      <td>SVM-rbf</td>\n",
       "      <td>0</td>\n",
       "      <td>0.688492</td>\n",
       "      <td>0.675742</td>\n",
       "      <td>0.905163</td>\n",
       "      <td>0.800926</td>\n",
       "      <td>1000.0</td>\n",
       "      <td>scale</td>\n",
       "      <td>NaN</td>\n",
       "      <td>NaN</td>\n",
       "      <td>NaN</td>\n",
       "      <td>results/newlbls-bl-espad-fu3-19a-binge-n620/20...</td>\n",
       "      <td>bl</td>\n",
       "    </tr>\n",
       "    <tr>\n",
       "      <th>...</th>\n",
       "      <td>...</td>\n",
       "      <td>...</td>\n",
       "      <td>...</td>\n",
       "      <td>...</td>\n",
       "      <td>...</td>\n",
       "      <td>...</td>\n",
       "      <td>...</td>\n",
       "      <td>...</td>\n",
       "      <td>...</td>\n",
       "      <td>...</td>\n",
       "      <td>...</td>\n",
       "      <td>...</td>\n",
       "      <td>...</td>\n",
       "      <td>...</td>\n",
       "    </tr>\n",
       "    <tr>\n",
       "      <th>955</th>\n",
       "      <td>onset&lt;15</td>\n",
       "      <td>GB</td>\n",
       "      <td>7</td>\n",
       "      <td>0.457341</td>\n",
       "      <td>0.509410</td>\n",
       "      <td>0.956143</td>\n",
       "      <td>0.410714</td>\n",
       "      <td>NaN</td>\n",
       "      <td>NaN</td>\n",
       "      <td>NaN</td>\n",
       "      <td>NaN</td>\n",
       "      <td>0.05</td>\n",
       "      <td>results/newlbls-fu3-espad-fu3-29d-onset-15-n69...</td>\n",
       "      <td>fu3</td>\n",
       "    </tr>\n",
       "    <tr>\n",
       "      <th>956</th>\n",
       "      <td>onset&lt;15</td>\n",
       "      <td>SVM-rbf</td>\n",
       "      <td>5</td>\n",
       "      <td>0.468254</td>\n",
       "      <td>0.519639</td>\n",
       "      <td>0.890126</td>\n",
       "      <td>0.409392</td>\n",
       "      <td>1.0</td>\n",
       "      <td>scale</td>\n",
       "      <td>NaN</td>\n",
       "      <td>NaN</td>\n",
       "      <td>NaN</td>\n",
       "      <td>results/newlbls-fu3-espad-fu3-29d-onset-15-n69...</td>\n",
       "      <td>fu3</td>\n",
       "    </tr>\n",
       "    <tr>\n",
       "      <th>957</th>\n",
       "      <td>Frequency</td>\n",
       "      <td>SVM-lin</td>\n",
       "      <td>4</td>\n",
       "      <td>0.409035</td>\n",
       "      <td>0.505567</td>\n",
       "      <td>0.912027</td>\n",
       "      <td>0.394383</td>\n",
       "      <td>NaN</td>\n",
       "      <td>NaN</td>\n",
       "      <td>0.001</td>\n",
       "      <td>NaN</td>\n",
       "      <td>NaN</td>\n",
       "      <td>results/newlbls-fu3-espad-fu3-8c-frequency-n71...</td>\n",
       "      <td>fu3</td>\n",
       "    </tr>\n",
       "    <tr>\n",
       "      <th>958</th>\n",
       "      <td>Frequency</td>\n",
       "      <td>SVM-lin</td>\n",
       "      <td>3</td>\n",
       "      <td>0.420330</td>\n",
       "      <td>0.532849</td>\n",
       "      <td>0.913205</td>\n",
       "      <td>0.378510</td>\n",
       "      <td>NaN</td>\n",
       "      <td>NaN</td>\n",
       "      <td>0.001</td>\n",
       "      <td>NaN</td>\n",
       "      <td>NaN</td>\n",
       "      <td>results/newlbls-fu3-espad-fu3-8c-frequency-n71...</td>\n",
       "      <td>fu3</td>\n",
       "    </tr>\n",
       "    <tr>\n",
       "      <th>959</th>\n",
       "      <td>AUDIT_quick</td>\n",
       "      <td>SVM-lin</td>\n",
       "      <td>0</td>\n",
       "      <td>0.362732</td>\n",
       "      <td>0.579583</td>\n",
       "      <td>0.932484</td>\n",
       "      <td>0.315717</td>\n",
       "      <td>NaN</td>\n",
       "      <td>NaN</td>\n",
       "      <td>0.001</td>\n",
       "      <td>NaN</td>\n",
       "      <td>NaN</td>\n",
       "      <td>results/newlbls-fu3-audit-fu3-audit-freq-audit...</td>\n",
       "      <td>fu3</td>\n",
       "    </tr>\n",
       "  </tbody>\n",
       "</table>\n",
       "<p>960 rows × 14 columns</p>\n",
       "</div>"
      ],
      "text/plain": [
       "               o    model  trial  test_score  valid_score  train_score  \\\n",
       "0          Binge  SVM-rbf      3    0.738095     0.681725     0.899097   \n",
       "1          Binge  SVM-rbf      2    0.759921     0.684937     0.902405   \n",
       "2          Binge       GB      0    0.791667     0.676688     0.977842   \n",
       "3          Binge  SVM-rbf      7    0.760163     0.700548     0.889962   \n",
       "4          Binge  SVM-rbf      0    0.688492     0.675742     0.905163   \n",
       "..           ...      ...    ...         ...          ...          ...   \n",
       "955     onset<15       GB      7    0.457341     0.509410     0.956143   \n",
       "956     onset<15  SVM-rbf      5    0.468254     0.519639     0.890126   \n",
       "957    Frequency  SVM-lin      4    0.409035     0.505567     0.912027   \n",
       "958    Frequency  SVM-lin      3    0.420330     0.532849     0.913205   \n",
       "959  AUDIT_quick  SVM-lin      0    0.362732     0.579583     0.932484   \n",
       "\n",
       "      roc_auc  model_SVM-rbf__C model_SVM-rbf__gamma  model_SVM-lin__C  \\\n",
       "0    0.850529            1000.0                scale               NaN   \n",
       "1    0.829696               1.0                 auto               NaN   \n",
       "2    0.823413               NaN                  NaN               NaN   \n",
       "3    0.805894               1.0                scale               NaN   \n",
       "4    0.800926            1000.0                scale               NaN   \n",
       "..        ...               ...                  ...               ...   \n",
       "955  0.410714               NaN                  NaN               NaN   \n",
       "956  0.409392               1.0                scale               NaN   \n",
       "957  0.394383               NaN                  NaN             0.001   \n",
       "958  0.378510               NaN                  NaN             0.001   \n",
       "959  0.315717               NaN                  NaN             0.001   \n",
       "\n",
       "     model_LR__C  model_GB__learning_rate  \\\n",
       "0            NaN                      NaN   \n",
       "1            NaN                      NaN   \n",
       "2            NaN                     0.25   \n",
       "3            NaN                      NaN   \n",
       "4            NaN                      NaN   \n",
       "..           ...                      ...   \n",
       "955          NaN                     0.05   \n",
       "956          NaN                      NaN   \n",
       "957          NaN                      NaN   \n",
       "958          NaN                      NaN   \n",
       "959          NaN                      NaN   \n",
       "\n",
       "                                                  path path_type  \n",
       "0    results/newlbls-bl-espad-fu3-19a-binge-n620/20...        bl  \n",
       "1    results/newlbls-bl-espad-fu3-19a-binge-n620/20...        bl  \n",
       "2    results/newlbls-bl-espad-fu3-19a-binge-n620/20...        bl  \n",
       "3    results/newlbls-bl-espad-fu3-19a-binge-n620/20...        bl  \n",
       "4    results/newlbls-bl-espad-fu3-19a-binge-n620/20...        bl  \n",
       "..                                                 ...       ...  \n",
       "955  results/newlbls-fu3-espad-fu3-29d-onset-15-n69...       fu3  \n",
       "956  results/newlbls-fu3-espad-fu3-29d-onset-15-n69...       fu3  \n",
       "957  results/newlbls-fu3-espad-fu3-8c-frequency-n71...       fu3  \n",
       "958  results/newlbls-fu3-espad-fu3-8c-frequency-n71...       fu3  \n",
       "959  results/newlbls-fu3-audit-fu3-audit-freq-audit...       fu3  \n",
       "\n",
       "[960 rows x 14 columns]"
      ]
     },
     "execution_count": 5,
     "metadata": {},
     "output_type": "execute_result"
    }
   ],
   "source": [
    "\n",
    "sort_by = \"roc_auc\"  #\"roc_auc\" #\n",
    "best_results = pd.DataFrame()\n",
    "fig, axes = plt.subplots(1,3, sharex=True, sharey=True, figsize=(16,4))\n",
    "\n",
    "for i,each_dir in enumerate(dirs):\n",
    "    \n",
    "    results = pd.DataFrame()\n",
    "    for f in glob(f\"results/{each_dir}/*/run.csv\"):\n",
    "        run = pd.read_csv(f)\n",
    "        run = run[~(run.o_is_conf) & ~(run.i_is_conf) & (run.technique=='cb')]\n",
    "        run[\"path\"] = f.replace(\"/run.csv\", \"\")\n",
    "        results = pd.concat([results, run])\n",
    "\n",
    "    # results = results.sort_values(\"test_score\", ascending=False)\n",
    "    results = results.sort_values(sort_by, ascending=False)#.iloc[:10]\n",
    "    hyper_cols = results.filter(like=\"model_\").columns\n",
    "    results = results.filter(items=[\"o\", \"model\", \"trial\", \"test_score\", \"valid_score\", \"train_score\", \"roc_auc\", *hyper_cols, \"path\"])\n",
    "    results[\"path_type\"]= each_dir.replace(\"new\", \"\").replace(\"lbls-\", \"\").replace(\"*\", \"\").replace(\"-\", \"\")\n",
    "    results[[\"o\", \"model\"]].value_counts().unstack().plot.barh(stacked=True, title=results[\"path_type\"].iloc[0], ax=axes[i])\n",
    "    best_results = pd.concat([best_results, results])\n",
    "\n",
    "plt.show()\n",
    "\n",
    "best_results = best_results.reset_index(drop=True)\n",
    "best_results#.sort_values([\"path_type\", sort_by], ascending=False)"
   ]
  },
  {
   "cell_type": "code",
   "execution_count": 6,
   "id": "ef64da26-313b-4f16-86bc-61fdefe5641c",
   "metadata": {},
   "outputs": [
    {
     "data": {
      "text/plain": [
       "<AxesSubplot:ylabel='o'>"
      ]
     },
     "execution_count": 6,
     "metadata": {},
     "output_type": "execute_result"
    },
    {
     "data": {
      "image/png": "[encoded data removed]",
      "text/plain": [
       "<Figure size 432x288 with 1 Axes>"
      ]
     },
     "metadata": {
      "needs_background": "light"
     },
     "output_type": "display_data"
    }
   ],
   "source": [
    "best_results[[\"o\", \"model\"]].value_counts().unstack().plot.barh(stacked=True)"
   ]
  },
  {
   "cell_type": "code",
   "execution_count": null,
   "id": "2ea20888-dc9d-42cd-afcc-927cc68242d7",
   "metadata": {},
   "outputs": [
    {
     "name": "stdout",
     "output_type": "stream",
     "text": [
      "========================================\n",
      "time:  2021-06-18 12:17:50.861877\n",
      "Testing ML model from: results/newlbls-bl-espad-fu3-19a-binge-n620/20210618-1020\n",
      "training accuracy: 98.50% \t holdout accuracy: 71.54% \t holdout AUC ROC: 79.90%\n",
      "Testing ML model from: results/newlbls-bl-espad-fu3-19a-binge-n620/20210618-1020\n",
      "training accuracy: 96.41% \t holdout accuracy: 70.38% \t holdout AUC ROC: 78.40%\n",
      "Testing ML model from: results/newlbls-bl-espad-fu3-19a-binge-n620/20210618-1020\n"
     ]
    },
    {
     "name": "stderr",
     "output_type": "stream",
     "text": [
      "/ritter/roshan/installations/anaconda3/lib/python3.7/site-packages/xgboost/sklearn.py:888: UserWarning: The use of label encoder in XGBClassifier is deprecated and will be removed in a future release. To remove this warning, do the following: 1) Pass option use_label_encoder=False when constructing XGBClassifier object; and 2) Encode your labels (y) as integers starting with 0, i.e. 0, 1, 2, ..., [num_class - 1].\n",
      "  warnings.warn(label_encoder_deprecation_msg, UserWarning)\n"
     ]
    },
    {
     "name": "stdout",
     "output_type": "stream",
     "text": [
      "training accuracy: 97.75% \t holdout accuracy: 71.86% \t holdout AUC ROC: 78.60%\n",
      "Testing ML model from: results/newlbls-bl-espad-fu3-19a-binge-n620/20210618-1020\n",
      "training accuracy: 95.81% \t holdout accuracy: 74.62% \t holdout AUC ROC: 78.87%\n",
      "Testing ML model from: results/newlbls-bl-espad-fu3-19a-binge-n620/20210618-1020\n",
      "training accuracy: 98.20% \t holdout accuracy: 72.39% \t holdout AUC ROC: 81.12%\n",
      "Testing ML model from: results/newlbls-bl-espad-fu3-19a-binge-n620/20210618-1020\n"
     ]
    },
    {
     "name": "stderr",
     "output_type": "stream",
     "text": [
      "/ritter/roshan/installations/anaconda3/lib/python3.7/site-packages/xgboost/sklearn.py:888: UserWarning: The use of label encoder in XGBClassifier is deprecated and will be removed in a future release. To remove this warning, do the following: 1) Pass option use_label_encoder=False when constructing XGBClassifier object; and 2) Encode your labels (y) as integers starting with 0, i.e. 0, 1, 2, ..., [num_class - 1].\n",
      "  warnings.warn(label_encoder_deprecation_msg, UserWarning)\n"
     ]
    },
    {
     "name": "stdout",
     "output_type": "stream",
     "text": [
      "training accuracy: 98.35% \t holdout accuracy: 71.54% \t holdout AUC ROC: 82.38%\n",
      "Testing ML model from: results/newlbls-bl-espad-fu3-19a-binge-n620/20210618-1020\n"
     ]
    },
    {
     "name": "stderr",
     "output_type": "stream",
     "text": [
      "/ritter/roshan/installations/anaconda3/lib/python3.7/site-packages/xgboost/sklearn.py:888: UserWarning: The use of label encoder in XGBClassifier is deprecated and will be removed in a future release. To remove this warning, do the following: 1) Pass option use_label_encoder=False when constructing XGBClassifier object; and 2) Encode your labels (y) as integers starting with 0, i.e. 0, 1, 2, ..., [num_class - 1].\n",
      "  warnings.warn(label_encoder_deprecation_msg, UserWarning)\n"
     ]
    },
    {
     "name": "stdout",
     "output_type": "stream",
     "text": [
      "training accuracy: 97.98% \t holdout accuracy: 69.85% \t holdout AUC ROC: 80.80%\n",
      "Testing ML model from: results/newlbls-bl-espad-fu3-prev31-amount-n620/20210618-1029\n"
     ]
    },
    {
     "name": "stderr",
     "output_type": "stream",
     "text": [
      "/ritter/roshan/installations/anaconda3/lib/python3.7/site-packages/xgboost/sklearn.py:888: UserWarning: The use of label encoder in XGBClassifier is deprecated and will be removed in a future release. To remove this warning, do the following: 1) Pass option use_label_encoder=False when constructing XGBClassifier object; and 2) Encode your labels (y) as integers starting with 0, i.e. 0, 1, 2, ..., [num_class - 1].\n",
      "  warnings.warn(label_encoder_deprecation_msg, UserWarning)\n"
     ]
    },
    {
     "name": "stdout",
     "output_type": "stream",
     "text": [
      "training accuracy: 96.40% \t holdout accuracy: 54.21% \t holdout AUC ROC: 58.14%\n",
      "Testing ML model from: results/newlbls-bl-espad-fu3-19a-binge-n620/20210618-1020\n"
     ]
    },
    {
     "name": "stderr",
     "output_type": "stream",
     "text": [
      "/ritter/roshan/installations/anaconda3/lib/python3.7/site-packages/xgboost/sklearn.py:888: UserWarning: The use of label encoder in XGBClassifier is deprecated and will be removed in a future release. To remove this warning, do the following: 1) Pass option use_label_encoder=False when constructing XGBClassifier object; and 2) Encode your labels (y) as integers starting with 0, i.e. 0, 1, 2, ..., [num_class - 1].\n",
      "  warnings.warn(label_encoder_deprecation_msg, UserWarning)\n"
     ]
    },
    {
     "name": "stdout",
     "output_type": "stream",
     "text": [
      "training accuracy: 98.70% \t holdout accuracy: 76.19% \t holdout AUC ROC: 83.41%\n",
      "Testing ML model from: results/newlbls-bl-audit-fu3-audit-freq-audit-quick-n614/20210618-1012\n",
      "training accuracy: 97.50% \t holdout accuracy: 55.27% \t holdout AUC ROC: 58.04%\n",
      "Testing ML model from: results/newlbls-bl-audit-fu3-audit-freq-audit-quick-n614/20210618-1012\n"
     ]
    },
    {
     "name": "stderr",
     "output_type": "stream",
     "text": [
      "/ritter/roshan/installations/anaconda3/lib/python3.7/site-packages/sklearn/svm/_base.py:258: ConvergenceWarning: Solver terminated early (max_iter=10000).  Consider pre-processing your data with StandardScaler or MinMaxScaler.\n",
      "  % self.max_iter, ConvergenceWarning)\n"
     ]
    },
    {
     "name": "stdout",
     "output_type": "stream",
     "text": [
      "training accuracy: 96.82% \t holdout accuracy: 61.76% \t holdout AUC ROC: 62.46%\n",
      "Testing ML model from: results/newlbls-bl-espad-fu3-19a-binge-n620/20210618-1020\n",
      "training accuracy: 96.16% \t holdout accuracy: 72.39% \t holdout AUC ROC: 78.99%\n",
      "Testing ML model from: results/newlbls-bl-our-combo-cluster-combined-ours-n793/20210618-1035\n"
     ]
    },
    {
     "name": "stderr",
     "output_type": "stream",
     "text": [
      "/ritter/roshan/installations/anaconda3/lib/python3.7/site-packages/xgboost/sklearn.py:888: UserWarning: The use of label encoder in XGBClassifier is deprecated and will be removed in a future release. To remove this warning, do the following: 1) Pass option use_label_encoder=False when constructing XGBClassifier object; and 2) Encode your labels (y) as integers starting with 0, i.e. 0, 1, 2, ..., [num_class - 1].\n",
      "  warnings.warn(label_encoder_deprecation_msg, UserWarning)\n"
     ]
    },
    {
     "name": "stdout",
     "output_type": "stream",
     "text": [
      "training accuracy: 97.65% \t holdout accuracy: 49.88% \t holdout AUC ROC: 48.05%\n",
      "Testing ML model from: results/newlbls-bl-espad-fu3-19a-binge-n620/20210618-1020\n"
     ]
    },
    {
     "name": "stderr",
     "output_type": "stream",
     "text": [
      "/ritter/roshan/installations/anaconda3/lib/python3.7/site-packages/xgboost/sklearn.py:888: UserWarning: The use of label encoder in XGBClassifier is deprecated and will be removed in a future release. To remove this warning, do the following: 1) Pass option use_label_encoder=False when constructing XGBClassifier object; and 2) Encode your labels (y) as integers starting with 0, i.e. 0, 1, 2, ..., [num_class - 1].\n",
      "  warnings.warn(label_encoder_deprecation_msg, UserWarning)\n"
     ]
    },
    {
     "name": "stdout",
     "output_type": "stream",
     "text": [
      "training accuracy: 98.15% \t holdout accuracy: 74.40% \t holdout AUC ROC: 81.16%\n",
      "Testing ML model from: results/newlbls-bl-espad-fu3-prev31-amount-n620/20210618-1029\n"
     ]
    },
    {
     "name": "stderr",
     "output_type": "stream",
     "text": [
      "/ritter/roshan/installations/anaconda3/lib/python3.7/site-packages/xgboost/sklearn.py:888: UserWarning: The use of label encoder in XGBClassifier is deprecated and will be removed in a future release. To remove this warning, do the following: 1) Pass option use_label_encoder=False when constructing XGBClassifier object; and 2) Encode your labels (y) as integers starting with 0, i.e. 0, 1, 2, ..., [num_class - 1].\n",
      "  warnings.warn(label_encoder_deprecation_msg, UserWarning)\n"
     ]
    },
    {
     "name": "stdout",
     "output_type": "stream",
     "text": [
      "training accuracy: 96.40% \t holdout accuracy: 48.99% \t holdout AUC ROC: 48.32%\n",
      "Testing ML model from: results/newlbls-bl-espad-fu3-19a-binge-n620/20210618-1020\n",
      "training accuracy: 98.85% \t holdout accuracy: 73.24% \t holdout AUC ROC: 81.75%\n",
      "Testing ML model from: results/newlbls-bl-espad-gm-fine-cluster-binge-growth-n781/20210618-1031\n",
      "training accuracy: 95.65% \t holdout accuracy: 62.38% \t holdout AUC ROC: 66.87%\n",
      "Testing ML model from: results/newlbls-bl-our-combo-cluster-combined-ours-n793/20210618-1035\n",
      "training accuracy: 97.58% \t holdout accuracy: 57.86% \t holdout AUC ROC: 64.28%\n",
      "Testing ML model from: results/newlbls-bl-audit-fu3-audit-freq-audit-quick-n614/20210618-1012\n",
      "training accuracy: 98.65% \t holdout accuracy: 58.53% \t holdout AUC ROC: 64.55%\n",
      "Testing ML model from: results/newlbls-bl-espad-fu3-prev31-amount-n620/20210618-1029\n"
     ]
    },
    {
     "name": "stderr",
     "output_type": "stream",
     "text": [
      "/ritter/roshan/installations/anaconda3/lib/python3.7/site-packages/xgboost/sklearn.py:888: UserWarning: The use of label encoder in XGBClassifier is deprecated and will be removed in a future release. To remove this warning, do the following: 1) Pass option use_label_encoder=False when constructing XGBClassifier object; and 2) Encode your labels (y) as integers starting with 0, i.e. 0, 1, 2, ..., [num_class - 1].\n",
      "  warnings.warn(label_encoder_deprecation_msg, UserWarning)\n"
     ]
    },
    {
     "name": "stdout",
     "output_type": "stream",
     "text": [
      "training accuracy: 96.99% \t holdout accuracy: 56.82% \t holdout AUC ROC: 56.23%\n",
      "Testing ML model from: results/newlbls-bl-audit-fu3-audit-total-audit-n687/20210618-1014\n",
      "training accuracy: 93.08% \t holdout accuracy: 62.79% \t holdout AUC ROC: 72.20%\n",
      "Testing ML model from: results/newlbls-bl-our-combo-cluster-combined-ours-n793/20210618-1035\n"
     ]
    },
    {
     "name": "stderr",
     "output_type": "stream",
     "text": [
      "/ritter/roshan/installations/anaconda3/lib/python3.7/site-packages/xgboost/sklearn.py:888: UserWarning: The use of label encoder in XGBClassifier is deprecated and will be removed in a future release. To remove this warning, do the following: 1) Pass option use_label_encoder=False when constructing XGBClassifier object; and 2) Encode your labels (y) as integers starting with 0, i.e. 0, 1, 2, ..., [num_class - 1].\n",
      "  warnings.warn(label_encoder_deprecation_msg, UserWarning)\n"
     ]
    },
    {
     "name": "stdout",
     "output_type": "stream",
     "text": [
      "training accuracy: 97.75% \t holdout accuracy: 54.36% \t holdout AUC ROC: 56.77%\n",
      "Testing ML model from: results/newlbls-bl-audit-fu3-audit-total-audit-n687/20210618-1014\n",
      "training accuracy: 79.65% \t holdout accuracy: 58.92% \t holdout AUC ROC: 58.51%\n",
      "Testing ML model from: results/newlbls-bl-espad-fu3-prev31-amount-n620/20210618-1029\n",
      "training accuracy: 98.14% \t holdout accuracy: 52.27% \t holdout AUC ROC: 63.75%\n",
      "Testing ML model from: results/newlbls-bl-espad-gm-fine-cluster-binge-growth-n781/20210618-1031\n",
      "training accuracy: 77.28% \t holdout accuracy: 61.85% \t holdout AUC ROC: 62.20%\n",
      "Testing ML model from: results/newlbls-bl-espad-gm-fine-cluster-binge-growth-n781/20210618-1031\n",
      "training accuracy: 95.71% \t holdout accuracy: 63.22% \t holdout AUC ROC: 68.09%\n",
      "Testing ML model from: results/newlbls-bl-our-combo-cluster-combined-ours-n793/20210618-1035\n",
      "training accuracy: 98.49% \t holdout accuracy: 55.13% \t holdout AUC ROC: 63.11%\n",
      "Testing ML model from: results/newlbls-bl-espad-gm-fine-cluster-binge-growth-n781/20210618-1031\n"
     ]
    },
    {
     "name": "stderr",
     "output_type": "stream",
     "text": [
      "/ritter/roshan/installations/anaconda3/lib/python3.7/site-packages/xgboost/sklearn.py:888: UserWarning: The use of label encoder in XGBClassifier is deprecated and will be removed in a future release. To remove this warning, do the following: 1) Pass option use_label_encoder=False when constructing XGBClassifier object; and 2) Encode your labels (y) as integers starting with 0, i.e. 0, 1, 2, ..., [num_class - 1].\n",
      "  warnings.warn(label_encoder_deprecation_msg, UserWarning)\n"
     ]
    },
    {
     "name": "stdout",
     "output_type": "stream",
     "text": [
      "training accuracy: 96.20% \t holdout accuracy: 67.57% \t holdout AUC ROC: 72.76%\n",
      "Testing ML model from: results/newlbls-bl-espad-gm-fine-cluster-binge-growth-n781/20210618-1031\n"
     ]
    },
    {
     "name": "stderr",
     "output_type": "stream",
     "text": [
      "/ritter/roshan/installations/anaconda3/lib/python3.7/site-packages/xgboost/sklearn.py:888: UserWarning: The use of label encoder in XGBClassifier is deprecated and will be removed in a future release. To remove this warning, do the following: 1) Pass option use_label_encoder=False when constructing XGBClassifier object; and 2) Encode your labels (y) as integers starting with 0, i.e. 0, 1, 2, ..., [num_class - 1].\n",
      "  warnings.warn(label_encoder_deprecation_msg, UserWarning)\n"
     ]
    },
    {
     "name": "stdout",
     "output_type": "stream",
     "text": [
      "training accuracy: 96.97% \t holdout accuracy: 64.31% \t holdout AUC ROC: 68.34%\n",
      "Testing ML model from: results/newlbls-bl-espad-fu3-19a-binge-n620/20210618-1020\n"
     ]
    },
    {
     "name": "stderr",
     "output_type": "stream",
     "text": [
      "/ritter/roshan/installations/anaconda3/lib/python3.7/site-packages/xgboost/sklearn.py:888: UserWarning: The use of label encoder in XGBClassifier is deprecated and will be removed in a future release. To remove this warning, do the following: 1) Pass option use_label_encoder=False when constructing XGBClassifier object; and 2) Encode your labels (y) as integers starting with 0, i.e. 0, 1, 2, ..., [num_class - 1].\n",
      "  warnings.warn(label_encoder_deprecation_msg, UserWarning)\n"
     ]
    },
    {
     "name": "stdout",
     "output_type": "stream",
     "text": [
      "training accuracy: 97.73% \t holdout accuracy: 74.50% \t holdout AUC ROC: 82.07%\n",
      "Testing ML model from: results/newlbls-bl-espad-gm-fine-cluster-binge-growth-n781/20210618-1031\n",
      "training accuracy: 96.36% \t holdout accuracy: 65.11% \t holdout AUC ROC: 67.53%\n",
      "Testing ML model from: results/newlbls-bl-espad-fu3-prev31-amount-n620/20210618-1029\n",
      "training accuracy: 98.01% \t holdout accuracy: 51.01% \t holdout AUC ROC: 53.98%\n",
      "Testing ML model from: results/newlbls-bl-audit-fu3-audit-total-audit-n687/20210618-1014\n",
      "training accuracy: 94.61% \t holdout accuracy: 62.99% \t holdout AUC ROC: 73.15%\n",
      "Testing ML model from: results/newlbls-bl-audit-fu3-audit-freq-audit-quick-n614/20210618-1012\n",
      "training accuracy: 96.29% \t holdout accuracy: 65.29% \t holdout AUC ROC: 67.14%\n",
      "Testing ML model from: results/newlbls-bl-our-combo-cluster-combined-ours-n793/20210618-1035\n",
      "training accuracy: 94.16% \t holdout accuracy: 55.26% \t holdout AUC ROC: 63.71%\n",
      "Testing ML model from: results/newlbls-bl-espad-fu3-prev31-amount-n620/20210618-1029\n",
      "training accuracy: 97.68% \t holdout accuracy: 54.71% \t holdout AUC ROC: 55.16%\n",
      "Testing ML model from: results/newlbls-bl-espad-fu3-19a-binge-n620/20210618-1020\n",
      "training accuracy: 98.15% \t holdout accuracy: 73.87% \t holdout AUC ROC: 76.51%\n",
      "Testing ML model from: results/newlbls-bl-espad-gm-fine-cluster-binge-growth-n781/20210618-1031\n",
      "training accuracy: 96.46% \t holdout accuracy: 65.39% \t holdout AUC ROC: 68.20%\n",
      "Testing ML model from: results/newlbls-bl-phenotype-phenotype-combined-seo-n740/20210618-1038\n"
     ]
    },
    {
     "name": "stderr",
     "output_type": "stream",
     "text": [
      "/ritter/roshan/installations/anaconda3/lib/python3.7/site-packages/xgboost/sklearn.py:888: UserWarning: The use of label encoder in XGBClassifier is deprecated and will be removed in a future release. To remove this warning, do the following: 1) Pass option use_label_encoder=False when constructing XGBClassifier object; and 2) Encode your labels (y) as integers starting with 0, i.e. 0, 1, 2, ..., [num_class - 1].\n",
      "  warnings.warn(label_encoder_deprecation_msg, UserWarning)\n"
     ]
    },
    {
     "name": "stdout",
     "output_type": "stream",
     "text": [
      "training accuracy: 97.01% \t holdout accuracy: 58.58% \t holdout AUC ROC: 66.91%\n",
      "Testing ML model from: results/newlbls-bl-audit-fu3-audit-freq-audit-quick-n614/20210618-1012\n",
      "training accuracy: 96.83% \t holdout accuracy: 62.95% \t holdout AUC ROC: 66.29%\n",
      "Testing ML model from: results/newlbls-bl-espad-fu3-19a-binge-n620/20210618-1020\n",
      "training accuracy: 99.05% \t holdout accuracy: 65.83% \t holdout AUC ROC: 73.83%\n",
      "Testing ML model from: results/newlbls-bl-espad-fu3-19a-binge-n620/20210618-1020\n",
      "training accuracy: 94.96% \t holdout accuracy: 70.38% \t holdout AUC ROC: 78.56%\n",
      "Testing ML model from: results/newlbls-bl-audit-fu3-audit-total-audit-n687/20210618-1014\n"
     ]
    },
    {
     "name": "stderr",
     "output_type": "stream",
     "text": [
      "/ritter/roshan/installations/anaconda3/lib/python3.7/site-packages/xgboost/sklearn.py:888: UserWarning: The use of label encoder in XGBClassifier is deprecated and will be removed in a future release. To remove this warning, do the following: 1) Pass option use_label_encoder=False when constructing XGBClassifier object; and 2) Encode your labels (y) as integers starting with 0, i.e. 0, 1, 2, ..., [num_class - 1].\n",
      "  warnings.warn(label_encoder_deprecation_msg, UserWarning)\n"
     ]
    },
    {
     "name": "stdout",
     "output_type": "stream",
     "text": [
      "training accuracy: 95.19% \t holdout accuracy: 65.13% \t holdout AUC ROC: 71.26%\n",
      "Testing ML model from: results/newlbls-bl-espad-fu3-prev31-amount-n620/20210618-1029\n",
      "training accuracy: 94.88% \t holdout accuracy: 53.03% \t holdout AUC ROC: 63.58%\n",
      "Testing ML model from: results/newlbls-bl-espad-fu3-19a-binge-n620/20210618-1020\n"
     ]
    },
    {
     "name": "stderr",
     "output_type": "stream",
     "text": [
      "/ritter/roshan/installations/anaconda3/lib/python3.7/site-packages/xgboost/sklearn.py:888: UserWarning: The use of label encoder in XGBClassifier is deprecated and will be removed in a future release. To remove this warning, do the following: 1) Pass option use_label_encoder=False when constructing XGBClassifier object; and 2) Encode your labels (y) as integers starting with 0, i.e. 0, 1, 2, ..., [num_class - 1].\n",
      "  warnings.warn(label_encoder_deprecation_msg, UserWarning)\n"
     ]
    },
    {
     "name": "stdout",
     "output_type": "stream",
     "text": [
      "training accuracy: 97.88% \t holdout accuracy: 73.87% \t holdout AUC ROC: 81.51%\n",
      "Testing ML model from: results/newlbls-bl-phenotype-phenotype-combined-seo-n740/20210618-1038\n",
      "training accuracy: 96.22% \t holdout accuracy: 60.61% \t holdout AUC ROC: 67.19%\n",
      "Testing ML model from: results/newlbls-bl-audit-fu3-audit-total-audit-n687/20210618-1014\n"
     ]
    },
    {
     "name": "stderr",
     "output_type": "stream",
     "text": [
      "/ritter/roshan/installations/anaconda3/lib/python3.7/site-packages/xgboost/sklearn.py:888: UserWarning: The use of label encoder in XGBClassifier is deprecated and will be removed in a future release. To remove this warning, do the following: 1) Pass option use_label_encoder=False when constructing XGBClassifier object; and 2) Encode your labels (y) as integers starting with 0, i.e. 0, 1, 2, ..., [num_class - 1].\n",
      "  warnings.warn(label_encoder_deprecation_msg, UserWarning)\n"
     ]
    },
    {
     "name": "stdout",
     "output_type": "stream",
     "text": [
      "training accuracy: 95.20% \t holdout accuracy: 64.88% \t holdout AUC ROC: 70.64%\n",
      "Testing ML model from: results/newlbls-bl-audit-fu3-audit-freq-audit-quick-n614/20210618-1012\n"
     ]
    },
    {
     "name": "stderr",
     "output_type": "stream",
     "text": [
      "/ritter/roshan/installations/anaconda3/lib/python3.7/site-packages/xgboost/sklearn.py:888: UserWarning: The use of label encoder in XGBClassifier is deprecated and will be removed in a future release. To remove this warning, do the following: 1) Pass option use_label_encoder=False when constructing XGBClassifier object; and 2) Encode your labels (y) as integers starting with 0, i.e. 0, 1, 2, ..., [num_class - 1].\n",
      "  warnings.warn(label_encoder_deprecation_msg, UserWarning)\n"
     ]
    },
    {
     "name": "stdout",
     "output_type": "stream",
     "text": [
      "training accuracy: 96.62% \t holdout accuracy: 58.53% \t holdout AUC ROC: 68.48%\n",
      "Testing ML model from: results/newlbls-bl-espad-fu3-prev31-amount-n620/20210618-1029\n",
      "training accuracy: 97.47% \t holdout accuracy: 52.61% \t holdout AUC ROC: 56.23%\n",
      "Testing ML model from: results/newlbls-bl-phenotype-phenotype-combined-seo-n740/20210618-1038\n",
      "training accuracy: 96.56% \t holdout accuracy: 55.35% \t holdout AUC ROC: 54.68%\n",
      "Testing ML model from: results/newlbls-bl-phenotype-phenotype-combined-seo-n740/20210618-1038\n"
     ]
    },
    {
     "name": "stderr",
     "output_type": "stream",
     "text": [
      "/ritter/roshan/installations/anaconda3/lib/python3.7/site-packages/xgboost/sklearn.py:888: UserWarning: The use of label encoder in XGBClassifier is deprecated and will be removed in a future release. To remove this warning, do the following: 1) Pass option use_label_encoder=False when constructing XGBClassifier object; and 2) Encode your labels (y) as integers starting with 0, i.e. 0, 1, 2, ..., [num_class - 1].\n",
      "  warnings.warn(label_encoder_deprecation_msg, UserWarning)\n"
     ]
    },
    {
     "name": "stdout",
     "output_type": "stream",
     "text": [
      "training accuracy: 96.36% \t holdout accuracy: 66.38% \t holdout AUC ROC: 70.98%\n",
      "Testing ML model from: results/newlbls-bl-audit-fu3-audit-total-audit-n687/20210618-1014\n"
     ]
    },
    {
     "name": "stderr",
     "output_type": "stream",
     "text": [
      "/ritter/roshan/installations/anaconda3/lib/python3.7/site-packages/xgboost/sklearn.py:888: UserWarning: The use of label encoder in XGBClassifier is deprecated and will be removed in a future release. To remove this warning, do the following: 1) Pass option use_label_encoder=False when constructing XGBClassifier object; and 2) Encode your labels (y) as integers starting with 0, i.e. 0, 1, 2, ..., [num_class - 1].\n",
      "  warnings.warn(label_encoder_deprecation_msg, UserWarning)\n"
     ]
    },
    {
     "name": "stdout",
     "output_type": "stream",
     "text": [
      "training accuracy: 95.62% \t holdout accuracy: 63.32% \t holdout AUC ROC: 73.73%\n",
      "Testing ML model from: results/newlbls-bl-espad-fu3-prev31-amount-n620/20210618-1029\n",
      "training accuracy: 97.20% \t holdout accuracy: 50.34% \t holdout AUC ROC: 52.41%\n",
      "Testing ML model from: results/newlbls-bl-espad-gm-fine-cluster-binge-growth-n781/20210618-1031\n",
      "training accuracy: 76.53% \t holdout accuracy: 52.95% \t holdout AUC ROC: 57.33%\n",
      "Testing ML model from: results/newlbls-bl-espad-fu3-19a-binge-n620/20210618-1020\n",
      "training accuracy: 98.50% \t holdout accuracy: 71.54% \t holdout AUC ROC: 75.84%\n",
      "Testing ML model from: results/newlbls-bl-espad-fu3-prev31-amount-n620/20210618-1029\n",
      "training accuracy: 96.65% \t holdout accuracy: 53.79% \t holdout AUC ROC: 66.11%\n",
      "Testing ML model from: results/newlbls-bl-espad-fu3-19a-binge-n620/20210618-1020\n",
      "training accuracy: 80.71% \t holdout accuracy: 62.75% \t holdout AUC ROC: 66.54%\n",
      "Testing ML model from: results/newlbls-bl-espad-fu3-prev31-amount-n620/20210618-1029\n",
      "training accuracy: 93.62% \t holdout accuracy: 53.11% \t holdout AUC ROC: 65.04%\n",
      "Testing ML model from: results/newlbls-bl-our-combo-cluster-combined-ours-n793/20210618-1035\n"
     ]
    },
    {
     "name": "stderr",
     "output_type": "stream",
     "text": [
      "/ritter/roshan/installations/anaconda3/lib/python3.7/site-packages/xgboost/sklearn.py:888: UserWarning: The use of label encoder in XGBClassifier is deprecated and will be removed in a future release. To remove this warning, do the following: 1) Pass option use_label_encoder=False when constructing XGBClassifier object; and 2) Encode your labels (y) as integers starting with 0, i.e. 0, 1, 2, ..., [num_class - 1].\n",
      "  warnings.warn(label_encoder_deprecation_msg, UserWarning)\n"
     ]
    },
    {
     "name": "stdout",
     "output_type": "stream",
     "text": [
      "training accuracy: 98.59% \t holdout accuracy: 53.94% \t holdout AUC ROC: 48.84%\n",
      "Testing ML model from: results/newlbls-bl-our-combo-cluster-combined-ours-n793/20210618-1035\n",
      "training accuracy: 98.12% \t holdout accuracy: 56.11% \t holdout AUC ROC: 62.81%\n",
      "Testing ML model from: results/newlbls-bl-espad-fu3-8c-frequency-n660/20210618-1026\n"
     ]
    },
    {
     "name": "stderr",
     "output_type": "stream",
     "text": [
      "/ritter/roshan/installations/anaconda3/lib/python3.7/site-packages/xgboost/sklearn.py:888: UserWarning: The use of label encoder in XGBClassifier is deprecated and will be removed in a future release. To remove this warning, do the following: 1) Pass option use_label_encoder=False when constructing XGBClassifier object; and 2) Encode your labels (y) as integers starting with 0, i.e. 0, 1, 2, ..., [num_class - 1].\n",
      "  warnings.warn(label_encoder_deprecation_msg, UserWarning)\n"
     ]
    },
    {
     "name": "stdout",
     "output_type": "stream",
     "text": [
      "training accuracy: 94.46% \t holdout accuracy: 49.51% \t holdout AUC ROC: 51.69%\n",
      "Testing ML model from: results/newlbls-bl-espad-fu3-19a-binge-n620/20210618-1020\n",
      "training accuracy: 78.06% \t holdout accuracy: 69.53% \t holdout AUC ROC: 71.50%\n",
      "Testing ML model from: results/newlbls-bl-phenotype-phenotype-combined-seo-n740/20210618-1038\n",
      "training accuracy: 96.43% \t holdout accuracy: 61.12% \t holdout AUC ROC: 67.23%\n",
      "Testing ML model from: results/newlbls-bl-espad-fu3-8c-frequency-n660/20210618-1026\n",
      "training accuracy: 95.60% \t holdout accuracy: 50.61% \t holdout AUC ROC: 47.82%\n",
      "Testing ML model from: results/newlbls-bl-phenotype-phenotype-combined-seo-n740/20210618-1038\n"
     ]
    },
    {
     "name": "stderr",
     "output_type": "stream",
     "text": [
      "/ritter/roshan/installations/anaconda3/lib/python3.7/site-packages/sklearn/svm/_base.py:258: ConvergenceWarning: Solver terminated early (max_iter=10000).  Consider pre-processing your data with StandardScaler or MinMaxScaler.\n",
      "  % self.max_iter, ConvergenceWarning)\n"
     ]
    },
    {
     "name": "stdout",
     "output_type": "stream",
     "text": [
      "training accuracy: 97.18% \t holdout accuracy: 52.80% \t holdout AUC ROC: 58.96%\n",
      "Testing ML model from: results/newlbls-bl-espad-gm-fine-cluster-binge-growth-n781/20210618-1031\n",
      "training accuracy: 95.72% \t holdout accuracy: 66.16% \t holdout AUC ROC: 69.28%\n",
      "Testing ML model from: results/newlbls-bl-audit-fu3-audit-total-audit-n687/20210618-1014\n",
      "training accuracy: 94.96% \t holdout accuracy: 66.69% \t holdout AUC ROC: 73.07%\n",
      "Testing ML model from: results/newlbls-bl-espad-gm-fine-cluster-binge-growth-n781/20210618-1031\n",
      "training accuracy: 78.03% \t holdout accuracy: 60.24% \t holdout AUC ROC: 64.31%\n",
      "Testing ML model from: results/newlbls-bl-espad-fu3-prev31-amount-n620/20210618-1029\n"
     ]
    },
    {
     "name": "stderr",
     "output_type": "stream",
     "text": [
      "/ritter/roshan/installations/anaconda3/lib/python3.7/site-packages/xgboost/sklearn.py:888: UserWarning: The use of label encoder in XGBClassifier is deprecated and will be removed in a future release. To remove this warning, do the following: 1) Pass option use_label_encoder=False when constructing XGBClassifier object; and 2) Encode your labels (y) as integers starting with 0, i.e. 0, 1, 2, ..., [num_class - 1].\n",
      "  warnings.warn(label_encoder_deprecation_msg, UserWarning)\n"
     ]
    },
    {
     "name": "stdout",
     "output_type": "stream",
     "text": [
      "training accuracy: 97.45% \t holdout accuracy: 50.51% \t holdout AUC ROC: 62.35%\n",
      "Testing ML model from: results/newlbls-bl-audit-fu3-audit-total-audit-n687/20210618-1014\n"
     ]
    },
    {
     "name": "stderr",
     "output_type": "stream",
     "text": [
      "/ritter/roshan/installations/anaconda3/lib/python3.7/site-packages/sklearn/svm/_base.py:258: ConvergenceWarning: Solver terminated early (max_iter=10000).  Consider pre-processing your data with StandardScaler or MinMaxScaler.\n",
      "  % self.max_iter, ConvergenceWarning)\n",
      "/ritter/roshan/installations/anaconda3/lib/python3.7/site-packages/xgboost/sklearn.py:888: UserWarning: The use of label encoder in XGBClassifier is deprecated and will be removed in a future release. To remove this warning, do the following: 1) Pass option use_label_encoder=False when constructing XGBClassifier object; and 2) Encode your labels (y) as integers starting with 0, i.e. 0, 1, 2, ..., [num_class - 1].\n",
      "  warnings.warn(label_encoder_deprecation_msg, UserWarning)\n"
     ]
    },
    {
     "name": "stdout",
     "output_type": "stream",
     "text": [
      "training accuracy: 96.03% \t holdout accuracy: 57.03% \t holdout AUC ROC: 63.20%\n",
      "Testing ML model from: results/newlbls-bl-our-combo-cluster-combined-ours-n793/20210618-1035\n",
      "training accuracy: 97.62% \t holdout accuracy: 53.94% \t holdout AUC ROC: 58.79%\n",
      "Testing ML model from: results/newlbls-bl-our-combo-cluster-combined-ours-n793/20210618-1035\n"
     ]
    },
    {
     "name": "stderr",
     "output_type": "stream",
     "text": [
      "/ritter/roshan/installations/anaconda3/lib/python3.7/site-packages/xgboost/sklearn.py:888: UserWarning: The use of label encoder in XGBClassifier is deprecated and will be removed in a future release. To remove this warning, do the following: 1) Pass option use_label_encoder=False when constructing XGBClassifier object; and 2) Encode your labels (y) as integers starting with 0, i.e. 0, 1, 2, ..., [num_class - 1].\n",
      "  warnings.warn(label_encoder_deprecation_msg, UserWarning)\n"
     ]
    },
    {
     "name": "stdout",
     "output_type": "stream",
     "text": [
      "training accuracy: 98.12% \t holdout accuracy: 52.40% \t holdout AUC ROC: 52.70%\n",
      "Testing ML model from: results/newlbls-bl-audit-fu3-audit-total-audit-n687/20210618-1014\n",
      "training accuracy: 94.97% \t holdout accuracy: 62.75% \t holdout AUC ROC: 71.79%\n",
      "Testing ML model from: results/newlbls-bl-our-combo-cluster-combined-ours-n793/20210618-1035\n",
      "training accuracy: 94.93% \t holdout accuracy: 57.78% \t holdout AUC ROC: 63.77%\n",
      "Testing ML model from: results/newlbls-bl-our-combo-cluster-combined-ours-n793/20210618-1035\n",
      "training accuracy: 76.44% \t holdout accuracy: 53.67% \t holdout AUC ROC: 62.08%\n",
      "Testing ML model from: results/newlbls-bl-espad-fu3-19a-binge-n620/20210618-1020\n",
      "training accuracy: 97.83% \t holdout accuracy: 70.38% \t holdout AUC ROC: 72.21%\n",
      "Testing ML model from: results/newlbls-bl-phenotype-phenotype-combined-seo-n740/20210618-1038\n",
      "training accuracy: 95.46% \t holdout accuracy: 60.96% \t holdout AUC ROC: 70.74%\n",
      "Testing ML model from: results/newlbls-bl-espad-fu3-prev31-amount-n620/20210618-1029\n",
      "training accuracy: 97.34% \t holdout accuracy: 53.28% \t holdout AUC ROC: 60.27%\n",
      "Testing ML model from: results/newlbls-bl-espad-gm-fine-cluster-binge-growth-n781/20210618-1031\n"
     ]
    },
    {
     "name": "stderr",
     "output_type": "stream",
     "text": [
      "/ritter/roshan/installations/anaconda3/lib/python3.7/site-packages/sklearn/svm/_base.py:258: ConvergenceWarning: Solver terminated early (max_iter=10000).  Consider pre-processing your data with StandardScaler or MinMaxScaler.\n",
      "  % self.max_iter, ConvergenceWarning)\n"
     ]
    },
    {
     "name": "stdout",
     "output_type": "stream",
     "text": [
      "training accuracy: 97.66% \t holdout accuracy: 61.08% \t holdout AUC ROC: 59.82%\n",
      "Testing ML model from: results/newlbls-bl-phenotype-phenotype-combined-seo-n740/20210618-1038\n",
      "training accuracy: 93.52% \t holdout accuracy: 70.46% \t holdout AUC ROC: 75.42%\n",
      "Testing ML model from: results/newlbls-bl-espad-gm-fine-cluster-binge-growth-n781/20210618-1031\n",
      "training accuracy: 96.56% \t holdout accuracy: 66.20% \t holdout AUC ROC: 69.88%\n",
      "Testing ML model from: results/newlbls-bl-audit-fu3-audit-total-audit-n687/20210618-1014\n",
      "training accuracy: 91.70% \t holdout accuracy: 59.38% \t holdout AUC ROC: 67.72%\n",
      "Testing ML model from: results/newlbls-bl-our-combo-cluster-combined-ours-n793/20210618-1035\n",
      "training accuracy: 95.00% \t holdout accuracy: 58.42% \t holdout AUC ROC: 65.88%\n",
      "Testing ML model from: results/newlbls-bl-espad-fu3-8c-frequency-n660/20210618-1026\n"
     ]
    },
    {
     "name": "stderr",
     "output_type": "stream",
     "text": [
      "/ritter/roshan/installations/anaconda3/lib/python3.7/site-packages/xgboost/sklearn.py:888: UserWarning: The use of label encoder in XGBClassifier is deprecated and will be removed in a future release. To remove this warning, do the following: 1) Pass option use_label_encoder=False when constructing XGBClassifier object; and 2) Encode your labels (y) as integers starting with 0, i.e. 0, 1, 2, ..., [num_class - 1].\n",
      "  warnings.warn(label_encoder_deprecation_msg, UserWarning)\n"
     ]
    },
    {
     "name": "stdout",
     "output_type": "stream",
     "text": [
      "training accuracy: 96.33% \t holdout accuracy: 49.72% \t holdout AUC ROC: 47.86%\n",
      "Testing ML model from: results/newlbls-bl-espad-fu3-19a-binge-n620/20210618-1020\n"
     ]
    },
    {
     "name": "stderr",
     "output_type": "stream",
     "text": [
      "/ritter/roshan/installations/anaconda3/lib/python3.7/site-packages/xgboost/sklearn.py:888: UserWarning: The use of label encoder in XGBClassifier is deprecated and will be removed in a future release. To remove this warning, do the following: 1) Pass option use_label_encoder=False when constructing XGBClassifier object; and 2) Encode your labels (y) as integers starting with 0, i.e. 0, 1, 2, ..., [num_class - 1].\n",
      "  warnings.warn(label_encoder_deprecation_msg, UserWarning)\n"
     ]
    },
    {
     "name": "stdout",
     "output_type": "stream",
     "text": [
      "training accuracy: 98.38% \t holdout accuracy: 72.49% \t holdout AUC ROC: 78.48%\n",
      "Testing ML model from: results/newlbls-bl-our-combo-cluster-combined-ours-n793/20210618-1035\n"
     ]
    },
    {
     "name": "stderr",
     "output_type": "stream",
     "text": [
      "/ritter/roshan/installations/anaconda3/lib/python3.7/site-packages/xgboost/sklearn.py:888: UserWarning: The use of label encoder in XGBClassifier is deprecated and will be removed in a future release. To remove this warning, do the following: 1) Pass option use_label_encoder=False when constructing XGBClassifier object; and 2) Encode your labels (y) as integers starting with 0, i.e. 0, 1, 2, ..., [num_class - 1].\n",
      "  warnings.warn(label_encoder_deprecation_msg, UserWarning)\n"
     ]
    },
    {
     "name": "stdout",
     "output_type": "stream",
     "text": [
      "training accuracy: 98.35% \t holdout accuracy: 48.13% \t holdout AUC ROC: 53.24%\n",
      "Testing ML model from: results/newlbls-bl-audit-fu3-audit-freq-audit-quick-n614/20210618-1012\n",
      "training accuracy: 93.80% \t holdout accuracy: 57.23% \t holdout AUC ROC: 65.31%\n",
      "Testing ML model from: results/newlbls-bl-audit-fu3-audit-freq-audit-quick-n614/20210618-1012\n",
      "training accuracy: 98.04% \t holdout accuracy: 65.29% \t holdout AUC ROC: 66.12%\n",
      "Testing ML model from: results/newlbls-bl-audit-fu3-audit-freq-audit-quick-n614/20210618-1012\n"
     ]
    },
    {
     "name": "stderr",
     "output_type": "stream",
     "text": [
      "/ritter/roshan/installations/anaconda3/lib/python3.7/site-packages/xgboost/sklearn.py:888: UserWarning: The use of label encoder in XGBClassifier is deprecated and will be removed in a future release. To remove this warning, do the following: 1) Pass option use_label_encoder=False when constructing XGBClassifier object; and 2) Encode your labels (y) as integers starting with 0, i.e. 0, 1, 2, ..., [num_class - 1].\n",
      "  warnings.warn(label_encoder_deprecation_msg, UserWarning)\n"
     ]
    },
    {
     "name": "stdout",
     "output_type": "stream",
     "text": [
      "training accuracy: 96.02% \t holdout accuracy: 53.33% \t holdout AUC ROC: 61.21%\n",
      "Testing ML model from: results/newlbls-bl-audit-fu3-audit-freq-audit-quick-n614/20210618-1012\n",
      "training accuracy: 94.73% \t holdout accuracy: 59.31% \t holdout AUC ROC: 67.72%\n",
      "Testing ML model from: results/newlbls-bl-espad-gm-fine-cluster-binge-growth-n781/20210618-1031\n"
     ]
    },
    {
     "name": "stderr",
     "output_type": "stream",
     "text": [
      "/ritter/roshan/installations/anaconda3/lib/python3.7/site-packages/xgboost/sklearn.py:888: UserWarning: The use of label encoder in XGBClassifier is deprecated and will be removed in a future release. To remove this warning, do the following: 1) Pass option use_label_encoder=False when constructing XGBClassifier object; and 2) Encode your labels (y) as integers starting with 0, i.e. 0, 1, 2, ..., [num_class - 1].\n",
      "  warnings.warn(label_encoder_deprecation_msg, UserWarning)\n"
     ]
    },
    {
     "name": "stdout",
     "output_type": "stream",
     "text": [
      "training accuracy: 96.55% \t holdout accuracy: 68.62% \t holdout AUC ROC: 72.72%\n",
      "Testing ML model from: results/newlbls-bl-espad-fu3-19a-binge-n620/20210618-1020\n",
      "training accuracy: 98.05% \t holdout accuracy: 64.35% \t holdout AUC ROC: 72.88%\n",
      "Testing ML model from: results/newlbls-bl-espad-fu3-prev31-amount-n620/20210618-1029\n",
      "training accuracy: 94.12% \t holdout accuracy: 51.60% \t holdout AUC ROC: 68.57%\n",
      "Testing ML model from: results/newlbls-bl-our-combo-cluster-combined-ours-n793/20210618-1035\n",
      "training accuracy: 74.83% \t holdout accuracy: 56.95% \t holdout AUC ROC: 56.53%\n",
      "Testing ML model from: results/newlbls-bl-audit-gm-fine-cluster-audit-growth-n759/20210618-1017\n"
     ]
    },
    {
     "name": "stderr",
     "output_type": "stream",
     "text": [
      "/ritter/roshan/installations/anaconda3/lib/python3.7/site-packages/xgboost/sklearn.py:888: UserWarning: The use of label encoder in XGBClassifier is deprecated and will be removed in a future release. To remove this warning, do the following: 1) Pass option use_label_encoder=False when constructing XGBClassifier object; and 2) Encode your labels (y) as integers starting with 0, i.e. 0, 1, 2, ..., [num_class - 1].\n",
      "  warnings.warn(label_encoder_deprecation_msg, UserWarning)\n"
     ]
    },
    {
     "name": "stdout",
     "output_type": "stream",
     "text": [
      "training accuracy: 95.39% \t holdout accuracy: 69.66% \t holdout AUC ROC: 77.86%\n",
      "Testing ML model from: results/newlbls-bl-audit-fu3-audit-freq-audit-quick-n614/20210618-1012\n"
     ]
    },
    {
     "name": "stderr",
     "output_type": "stream",
     "text": [
      "/ritter/roshan/installations/anaconda3/lib/python3.7/site-packages/xgboost/sklearn.py:888: UserWarning: The use of label encoder in XGBClassifier is deprecated and will be removed in a future release. To remove this warning, do the following: 1) Pass option use_label_encoder=False when constructing XGBClassifier object; and 2) Encode your labels (y) as integers starting with 0, i.e. 0, 1, 2, ..., [num_class - 1].\n",
      "  warnings.warn(label_encoder_deprecation_msg, UserWarning)\n"
     ]
    },
    {
     "name": "stdout",
     "output_type": "stream",
     "text": [
      "training accuracy: 97.57% \t holdout accuracy: 61.38% \t holdout AUC ROC: 63.48%\n",
      "Testing ML model from: results/newlbls-bl-audit-fu3-audit-total-audit-n687/20210618-1014\n",
      "training accuracy: 76.44% \t holdout accuracy: 62.29% \t holdout AUC ROC: 62.66%\n",
      "Testing ML model from: results/newlbls-bl-audit-fu3-audit-total-audit-n687/20210618-1014\n"
     ]
    },
    {
     "name": "stderr",
     "output_type": "stream",
     "text": [
      "/ritter/roshan/installations/anaconda3/lib/python3.7/site-packages/xgboost/sklearn.py:888: UserWarning: The use of label encoder in XGBClassifier is deprecated and will be removed in a future release. To remove this warning, do the following: 1) Pass option use_label_encoder=False when constructing XGBClassifier object; and 2) Encode your labels (y) as integers starting with 0, i.e. 0, 1, 2, ..., [num_class - 1].\n",
      "  warnings.warn(label_encoder_deprecation_msg, UserWarning)\n"
     ]
    },
    {
     "name": "stdout",
     "output_type": "stream",
     "text": [
      "training accuracy: 95.08% \t holdout accuracy: 62.25% \t holdout AUC ROC: 65.38%\n",
      "Testing ML model from: results/newlbls-bl-our-combo-cluster-combined-ours-n793/20210618-1035\n"
     ]
    },
    {
     "name": "stderr",
     "output_type": "stream",
     "text": [
      "/ritter/roshan/installations/anaconda3/lib/python3.7/site-packages/xgboost/sklearn.py:888: UserWarning: The use of label encoder in XGBClassifier is deprecated and will be removed in a future release. To remove this warning, do the following: 1) Pass option use_label_encoder=False when constructing XGBClassifier object; and 2) Encode your labels (y) as integers starting with 0, i.e. 0, 1, 2, ..., [num_class - 1].\n",
      "  warnings.warn(label_encoder_deprecation_msg, UserWarning)\n"
     ]
    },
    {
     "name": "stdout",
     "output_type": "stream",
     "text": [
      "training accuracy: 98.25% \t holdout accuracy: 54.92% \t holdout AUC ROC: 56.53%\n",
      "Testing ML model from: results/newlbls-bl-our-combo-cluster-combined-ours-n793/20210618-1035\n",
      "training accuracy: 75.81% \t holdout accuracy: 57.93% \t holdout AUC ROC: 58.19%\n",
      "Testing ML model from: results/newlbls-bl-espad-gm-fine-cluster-binge-growth-n781/20210618-1031\n"
     ]
    },
    {
     "name": "stderr",
     "output_type": "stream",
     "text": [
      "/ritter/roshan/installations/anaconda3/lib/python3.7/site-packages/xgboost/sklearn.py:888: UserWarning: The use of label encoder in XGBClassifier is deprecated and will be removed in a future release. To remove this warning, do the following: 1) Pass option use_label_encoder=False when constructing XGBClassifier object; and 2) Encode your labels (y) as integers starting with 0, i.e. 0, 1, 2, ..., [num_class - 1].\n",
      "  warnings.warn(label_encoder_deprecation_msg, UserWarning)\n"
     ]
    },
    {
     "name": "stdout",
     "output_type": "stream",
     "text": [
      "training accuracy: 96.00% \t holdout accuracy: 65.92% \t holdout AUC ROC: 74.09%\n",
      "Testing ML model from: results/newlbls-bl-audit-fu3-audit-total-audit-n687/20210618-1014\n",
      "training accuracy: 91.94% \t holdout accuracy: 66.98% \t holdout AUC ROC: 70.81%\n",
      "Testing ML model from: results/newlbls-bl-audit-fu3-audit-freq-audit-quick-n614/20210618-1012\n",
      "training accuracy: 97.03% \t holdout accuracy: 55.13% \t holdout AUC ROC: 59.55%\n",
      "Testing ML model from: results/newlbls-bl-phenotype-phenotype-combined-seo-n740/20210618-1038\n"
     ]
    },
    {
     "name": "stderr",
     "output_type": "stream",
     "text": [
      "/ritter/roshan/installations/anaconda3/lib/python3.7/site-packages/xgboost/sklearn.py:888: UserWarning: The use of label encoder in XGBClassifier is deprecated and will be removed in a future release. To remove this warning, do the following: 1) Pass option use_label_encoder=False when constructing XGBClassifier object; and 2) Encode your labels (y) as integers starting with 0, i.e. 0, 1, 2, ..., [num_class - 1].\n",
      "  warnings.warn(label_encoder_deprecation_msg, UserWarning)\n"
     ]
    },
    {
     "name": "stdout",
     "output_type": "stream",
     "text": [
      "training accuracy: 94.88% \t holdout accuracy: 63.34% \t holdout AUC ROC: 67.92%\n",
      "Testing ML model from: results/newlbls-bl-espad-fu3-19a-binge-n620/20210618-1020\n",
      "training accuracy: 98.03% \t holdout accuracy: 69.22% \t holdout AUC ROC: 81.08%\n",
      "Testing ML model from: results/newlbls-bl-espad-gm-fine-cluster-binge-growth-n781/20210618-1031\n"
     ]
    },
    {
     "name": "stderr",
     "output_type": "stream",
     "text": [
      "/ritter/roshan/installations/anaconda3/lib/python3.7/site-packages/xgboost/sklearn.py:888: UserWarning: The use of label encoder in XGBClassifier is deprecated and will be removed in a future release. To remove this warning, do the following: 1) Pass option use_label_encoder=False when constructing XGBClassifier object; and 2) Encode your labels (y) as integers starting with 0, i.e. 0, 1, 2, ..., [num_class - 1].\n",
      "  warnings.warn(label_encoder_deprecation_msg, UserWarning)\n"
     ]
    },
    {
     "name": "stdout",
     "output_type": "stream",
     "text": [
      "training accuracy: 96.38% \t holdout accuracy: 66.48% \t holdout AUC ROC: 70.58%\n",
      "Testing ML model from: results/newlbls-bl-espad-fu3-8c-frequency-n660/20210618-1026\n"
     ]
    },
    {
     "name": "stderr",
     "output_type": "stream",
     "text": [
      "/ritter/roshan/installations/anaconda3/lib/python3.7/site-packages/xgboost/sklearn.py:888: UserWarning: The use of label encoder in XGBClassifier is deprecated and will be removed in a future release. To remove this warning, do the following: 1) Pass option use_label_encoder=False when constructing XGBClassifier object; and 2) Encode your labels (y) as integers starting with 0, i.e. 0, 1, 2, ..., [num_class - 1].\n",
      "  warnings.warn(label_encoder_deprecation_msg, UserWarning)\n"
     ]
    },
    {
     "name": "stdout",
     "output_type": "stream",
     "text": [
      "training accuracy: 92.87% \t holdout accuracy: 48.76% \t holdout AUC ROC: 55.88%\n",
      "Testing ML model from: results/newlbls-bl-espad-fu3-29d-onset-15-n654/20210618-1023\n",
      "training accuracy: 92.83% \t holdout accuracy: 48.43% \t holdout AUC ROC: 59.86%\n",
      "Testing ML model from: results/newlbls-bl-audit-fu3-audit-total-audit-n687/20210618-1014\n",
      "training accuracy: 76.21% \t holdout accuracy: 60.49% \t holdout AUC ROC: 60.61%\n",
      "Testing ML model from: results/newlbls-bl-espad-gm-fine-cluster-binge-growth-n781/20210618-1031\n",
      "training accuracy: 78.56% \t holdout accuracy: 56.49% \t holdout AUC ROC: 59.71%\n",
      "Testing ML model from: results/newlbls-bl-espad-gm-fine-cluster-binge-growth-n781/20210618-1031\n"
     ]
    },
    {
     "name": "stderr",
     "output_type": "stream",
     "text": [
      "/ritter/roshan/installations/anaconda3/lib/python3.7/site-packages/xgboost/sklearn.py:888: UserWarning: The use of label encoder in XGBClassifier is deprecated and will be removed in a future release. To remove this warning, do the following: 1) Pass option use_label_encoder=False when constructing XGBClassifier object; and 2) Encode your labels (y) as integers starting with 0, i.e. 0, 1, 2, ..., [num_class - 1].\n",
      "  warnings.warn(label_encoder_deprecation_msg, UserWarning)\n"
     ]
    },
    {
     "name": "stdout",
     "output_type": "stream",
     "text": [
      "training accuracy: 95.88% \t holdout accuracy: 69.14% \t holdout AUC ROC: 73.07%\n",
      "Testing ML model from: results/newlbls-bl-audit-gm-fine-cluster-audit-growth-n759/20210618-1017\n",
      "training accuracy: 91.07% \t holdout accuracy: 60.18% \t holdout AUC ROC: 65.85%\n",
      "Testing ML model from: results/newlbls-bl-phenotype-phenotype-combined-seo-n740/20210618-1038\n",
      "training accuracy: 95.69% \t holdout accuracy: 66.73% \t holdout AUC ROC: 71.07%\n",
      "Testing ML model from: results/newlbls-bl-audit-gm-fine-cluster-audit-growth-n759/20210618-1017\n"
     ]
    },
    {
     "name": "stderr",
     "output_type": "stream",
     "text": [
      "/ritter/roshan/installations/anaconda3/lib/python3.7/site-packages/xgboost/sklearn.py:888: UserWarning: The use of label encoder in XGBClassifier is deprecated and will be removed in a future release. To remove this warning, do the following: 1) Pass option use_label_encoder=False when constructing XGBClassifier object; and 2) Encode your labels (y) as integers starting with 0, i.e. 0, 1, 2, ..., [num_class - 1].\n",
      "  warnings.warn(label_encoder_deprecation_msg, UserWarning)\n"
     ]
    },
    {
     "name": "stdout",
     "output_type": "stream",
     "text": [
      "training accuracy: 95.11% \t holdout accuracy: 65.35% \t holdout AUC ROC: 70.75%\n",
      "Testing ML model from: results/newlbls-bl-phenotype-phenotype-combined-seo-n740/20210618-1038\n"
     ]
    },
    {
     "name": "stderr",
     "output_type": "stream",
     "text": [
      "/ritter/roshan/installations/anaconda3/lib/python3.7/site-packages/xgboost/sklearn.py:888: UserWarning: The use of label encoder in XGBClassifier is deprecated and will be removed in a future release. To remove this warning, do the following: 1) Pass option use_label_encoder=False when constructing XGBClassifier object; and 2) Encode your labels (y) as integers starting with 0, i.e. 0, 1, 2, ..., [num_class - 1].\n",
      "  warnings.warn(label_encoder_deprecation_msg, UserWarning)\n"
     ]
    },
    {
     "name": "stdout",
     "output_type": "stream",
     "text": [
      "training accuracy: 96.58% \t holdout accuracy: 61.46% \t holdout AUC ROC: 68.68%\n",
      "Testing ML model from: results/newlbls-bl-espad-fu3-8c-frequency-n660/20210618-1026\n"
     ]
    },
    {
     "name": "stderr",
     "output_type": "stream",
     "text": [
      "/ritter/roshan/installations/anaconda3/lib/python3.7/site-packages/xgboost/sklearn.py:888: UserWarning: The use of label encoder in XGBClassifier is deprecated and will be removed in a future release. To remove this warning, do the following: 1) Pass option use_label_encoder=False when constructing XGBClassifier object; and 2) Encode your labels (y) as integers starting with 0, i.e. 0, 1, 2, ..., [num_class - 1].\n",
      "  warnings.warn(label_encoder_deprecation_msg, UserWarning)\n"
     ]
    },
    {
     "name": "stdout",
     "output_type": "stream",
     "text": [
      "training accuracy: 95.92% \t holdout accuracy: 45.26% \t holdout AUC ROC: 46.24%\n",
      "Testing ML model from: results/newlbls-bl-audit-fu3-audit-freq-audit-quick-n614/20210618-1012\n"
     ]
    },
    {
     "name": "stderr",
     "output_type": "stream",
     "text": [
      "/ritter/roshan/installations/anaconda3/lib/python3.7/site-packages/xgboost/sklearn.py:888: UserWarning: The use of label encoder in XGBClassifier is deprecated and will be removed in a future release. To remove this warning, do the following: 1) Pass option use_label_encoder=False when constructing XGBClassifier object; and 2) Encode your labels (y) as integers starting with 0, i.e. 0, 1, 2, ..., [num_class - 1].\n",
      "  warnings.warn(label_encoder_deprecation_msg, UserWarning)\n"
     ]
    },
    {
     "name": "stdout",
     "output_type": "stream",
     "text": [
      "training accuracy: 95.95% \t holdout accuracy: 56.45% \t holdout AUC ROC: 62.41%\n",
      "Testing ML model from: results/newlbls-bl-espad-fu3-8c-frequency-n660/20210618-1026\n",
      "training accuracy: 96.01% \t holdout accuracy: 53.01% \t holdout AUC ROC: 52.06%\n",
      "Testing ML model from: results/newlbls-bl-audit-gm-fine-cluster-audit-growth-n759/20210618-1017\n",
      "training accuracy: 73.97% \t holdout accuracy: 51.56% \t holdout AUC ROC: 50.67%\n",
      "Testing ML model from: results/newlbls-bl-espad-fu3-prev31-amount-n620/20210618-1029\n",
      "training accuracy: 96.86% \t holdout accuracy: 53.45% \t holdout AUC ROC: 64.53%\n",
      "Testing ML model from: results/newlbls-bl-phenotype-phenotype-combined-seo-n740/20210618-1038\n",
      "training accuracy: 95.82% \t holdout accuracy: 63.50% \t holdout AUC ROC: 69.81%\n",
      "Testing ML model from: results/newlbls-bl-our-combo-cluster-combined-ours-n793/20210618-1035\n",
      "training accuracy: 98.35% \t holdout accuracy: 53.45% \t holdout AUC ROC: 57.38%\n",
      "Testing ML model from: results/newlbls-bl-our-combo-cluster-combined-ours-n793/20210618-1035\n",
      "training accuracy: 94.63% \t holdout accuracy: 56.46% \t holdout AUC ROC: 63.77%\n",
      "Testing ML model from: results/newlbls-bl-audit-gm-fine-cluster-audit-growth-n759/20210618-1017\n"
     ]
    },
    {
     "name": "stderr",
     "output_type": "stream",
     "text": [
      "/ritter/roshan/installations/anaconda3/lib/python3.7/site-packages/xgboost/sklearn.py:888: UserWarning: The use of label encoder in XGBClassifier is deprecated and will be removed in a future release. To remove this warning, do the following: 1) Pass option use_label_encoder=False when constructing XGBClassifier object; and 2) Encode your labels (y) as integers starting with 0, i.e. 0, 1, 2, ..., [num_class - 1].\n",
      "  warnings.warn(label_encoder_deprecation_msg, UserWarning)\n"
     ]
    },
    {
     "name": "stdout",
     "output_type": "stream",
     "text": [
      "training accuracy: 94.15% \t holdout accuracy: 57.93% \t holdout AUC ROC: 65.41%\n",
      "Testing ML model from: results/newlbls-bl-audit-fu3-audit-freq-audit-quick-n614/20210618-1012\n"
     ]
    },
    {
     "name": "stderr",
     "output_type": "stream",
     "text": [
      "/ritter/roshan/installations/anaconda3/lib/python3.7/site-packages/xgboost/sklearn.py:888: UserWarning: The use of label encoder in XGBClassifier is deprecated and will be removed in a future release. To remove this warning, do the following: 1) Pass option use_label_encoder=False when constructing XGBClassifier object; and 2) Encode your labels (y) as integers starting with 0, i.e. 0, 1, 2, ..., [num_class - 1].\n",
      "  warnings.warn(label_encoder_deprecation_msg, UserWarning)\n"
     ]
    },
    {
     "name": "stdout",
     "output_type": "stream",
     "text": [
      "training accuracy: 97.29% \t holdout accuracy: 60.74% \t holdout AUC ROC: 66.29%\n",
      "Testing ML model from: results/newlbls-bl-audit-fu3-audit-total-audit-n687/20210618-1014\n"
     ]
    },
    {
     "name": "stderr",
     "output_type": "stream",
     "text": [
      "/ritter/roshan/installations/anaconda3/lib/python3.7/site-packages/xgboost/sklearn.py:888: UserWarning: The use of label encoder in XGBClassifier is deprecated and will be removed in a future release. To remove this warning, do the following: 1) Pass option use_label_encoder=False when constructing XGBClassifier object; and 2) Encode your labels (y) as integers starting with 0, i.e. 0, 1, 2, ..., [num_class - 1].\n",
      "  warnings.warn(label_encoder_deprecation_msg, UserWarning)\n"
     ]
    },
    {
     "name": "stdout",
     "output_type": "stream",
     "text": [
      "training accuracy: 95.92% \t holdout accuracy: 53.62% \t holdout AUC ROC: 61.18%\n",
      "Testing ML model from: results/newlbls-bl-espad-gm-fine-cluster-binge-growth-n781/20210618-1031\n",
      "training accuracy: 79.14% \t holdout accuracy: 67.29% \t holdout AUC ROC: 65.08%\n",
      "Testing ML model from: results/newlbls-bl-audit-fu3-audit-freq-audit-quick-n614/20210618-1012\n"
     ]
    },
    {
     "name": "stderr",
     "output_type": "stream",
     "text": [
      "/ritter/roshan/installations/anaconda3/lib/python3.7/site-packages/xgboost/sklearn.py:888: UserWarning: The use of label encoder in XGBClassifier is deprecated and will be removed in a future release. To remove this warning, do the following: 1) Pass option use_label_encoder=False when constructing XGBClassifier object; and 2) Encode your labels (y) as integers starting with 0, i.e. 0, 1, 2, ..., [num_class - 1].\n",
      "  warnings.warn(label_encoder_deprecation_msg, UserWarning)\n"
     ]
    },
    {
     "name": "stdout",
     "output_type": "stream",
     "text": [
      "training accuracy: 96.90% \t holdout accuracy: 53.73% \t holdout AUC ROC: 57.14%\n",
      "Testing ML model from: results/newlbls-bl-espad-fu3-prev31-amount-n620/20210618-1029\n",
      "training accuracy: 96.97% \t holdout accuracy: 50.25% \t holdout AUC ROC: 55.33%\n",
      "Testing ML model from: results/newlbls-bl-espad-fu3-19a-binge-n620/20210618-1020\n",
      "training accuracy: 81.65% \t holdout accuracy: 62.97% \t holdout AUC ROC: 67.01%\n",
      "Testing ML model from: results/newlbls-bl-phenotype-phenotype-combined-seo-n740/20210618-1038\n",
      "training accuracy: 95.57% \t holdout accuracy: 60.11% \t holdout AUC ROC: 67.59%\n",
      "Testing ML model from: results/newlbls-bl-espad-gm-fine-cluster-binge-growth-n781/20210618-1031\n",
      "training accuracy: 96.22% \t holdout accuracy: 65.92% \t holdout AUC ROC: 69.53%\n",
      "Testing ML model from: results/newlbls-bl-espad-fu3-prev31-amount-n620/20210618-1029\n",
      "training accuracy: 98.35% \t holdout accuracy: 54.46% \t holdout AUC ROC: 63.97%\n",
      "Testing ML model from: results/newlbls-bl-espad-fu3-prev31-amount-n620/20210618-1029\n",
      "training accuracy: 97.78% \t holdout accuracy: 54.88% \t holdout AUC ROC: 63.19%\n",
      "Testing ML model from: results/newlbls-bl-audit-fu3-audit-total-audit-n687/20210618-1014\n",
      "training accuracy: 77.71% \t holdout accuracy: 54.98% \t holdout AUC ROC: 57.81%\n",
      "Testing ML model from: results/newlbls-bl-audit-fu3-audit-freq-audit-quick-n614/20210618-1012\n",
      "training accuracy: 79.21% \t holdout accuracy: 59.69% \t holdout AUC ROC: 59.60%\n",
      "Testing ML model from: results/newlbls-bl-phenotype-phenotype-combined-seo-n740/20210618-1038\n"
     ]
    },
    {
     "name": "stderr",
     "output_type": "stream",
     "text": [
      "/ritter/roshan/installations/anaconda3/lib/python3.7/site-packages/xgboost/sklearn.py:888: UserWarning: The use of label encoder in XGBClassifier is deprecated and will be removed in a future release. To remove this warning, do the following: 1) Pass option use_label_encoder=False when constructing XGBClassifier object; and 2) Encode your labels (y) as integers starting with 0, i.e. 0, 1, 2, ..., [num_class - 1].\n",
      "  warnings.warn(label_encoder_deprecation_msg, UserWarning)\n"
     ]
    },
    {
     "name": "stdout",
     "output_type": "stream",
     "text": [
      "training accuracy: 95.53% \t holdout accuracy: 64.51% \t holdout AUC ROC: 68.36%\n",
      "Testing ML model from: results/newlbls-bl-audit-fu3-audit-total-audit-n687/20210618-1014\n"
     ]
    },
    {
     "name": "stderr",
     "output_type": "stream",
     "text": [
      "/ritter/roshan/installations/anaconda3/lib/python3.7/site-packages/xgboost/sklearn.py:888: UserWarning: The use of label encoder in XGBClassifier is deprecated and will be removed in a future release. To remove this warning, do the following: 1) Pass option use_label_encoder=False when constructing XGBClassifier object; and 2) Encode your labels (y) as integers starting with 0, i.e. 0, 1, 2, ..., [num_class - 1].\n",
      "  warnings.warn(label_encoder_deprecation_msg, UserWarning)\n"
     ]
    },
    {
     "name": "stdout",
     "output_type": "stream",
     "text": [
      "training accuracy: 96.57% \t holdout accuracy: 70.11% \t holdout AUC ROC: 75.12%\n",
      "Testing ML model from: results/newlbls-bl-phenotype-phenotype-combined-seo-n740/20210618-1038\n"
     ]
    },
    {
     "name": "stderr",
     "output_type": "stream",
     "text": [
      "/ritter/roshan/installations/anaconda3/lib/python3.7/site-packages/sklearn/svm/_base.py:258: ConvergenceWarning: Solver terminated early (max_iter=10000).  Consider pre-processing your data with StandardScaler or MinMaxScaler.\n",
      "  % self.max_iter, ConvergenceWarning)\n"
     ]
    },
    {
     "name": "stdout",
     "output_type": "stream",
     "text": [
      "training accuracy: 95.96% \t holdout accuracy: 57.38% \t holdout AUC ROC: 59.04%\n",
      "Testing ML model from: results/newlbls-bl-audit-gm-fine-cluster-audit-growth-n759/20210618-1017\n",
      "training accuracy: 74.92% \t holdout accuracy: 51.45% \t holdout AUC ROC: 50.67%\n",
      "Testing ML model from: results/newlbls-bl-espad-gm-fine-cluster-binge-growth-n781/20210618-1031\n"
     ]
    },
    {
     "name": "stderr",
     "output_type": "stream",
     "text": [
      "/ritter/roshan/installations/anaconda3/lib/python3.7/site-packages/xgboost/sklearn.py:888: UserWarning: The use of label encoder in XGBClassifier is deprecated and will be removed in a future release. To remove this warning, do the following: 1) Pass option use_label_encoder=False when constructing XGBClassifier object; and 2) Encode your labels (y) as integers starting with 0, i.e. 0, 1, 2, ..., [num_class - 1].\n",
      "  warnings.warn(label_encoder_deprecation_msg, UserWarning)\n"
     ]
    },
    {
     "name": "stdout",
     "output_type": "stream",
     "text": [
      "training accuracy: 96.73% \t holdout accuracy: 63.22% \t holdout AUC ROC: 71.28%\n",
      "Testing ML model from: results/newlbls-bl-espad-gm-fine-cluster-binge-growth-n781/20210618-1031\n"
     ]
    },
    {
     "name": "stderr",
     "output_type": "stream",
     "text": [
      "/ritter/roshan/installations/anaconda3/lib/python3.7/site-packages/sklearn/svm/_base.py:258: ConvergenceWarning: Solver terminated early (max_iter=10000).  Consider pre-processing your data with StandardScaler or MinMaxScaler.\n",
      "  % self.max_iter, ConvergenceWarning)\n"
     ]
    },
    {
     "name": "stdout",
     "output_type": "stream",
     "text": [
      "training accuracy: 96.77% \t holdout accuracy: 57.33% \t holdout AUC ROC: 60.90%\n",
      "Testing ML model from: results/newlbls-bl-audit-fu3-audit-total-audit-n687/20210618-1014\n",
      "training accuracy: 95.61% \t holdout accuracy: 62.75% \t holdout AUC ROC: 71.01%\n",
      "Testing ML model from: results/newlbls-bl-phenotype-phenotype-combined-seo-n740/20210618-1038\n",
      "training accuracy: 94.24% \t holdout accuracy: 65.54% \t holdout AUC ROC: 71.43%\n",
      "Testing ML model from: results/newlbls-bl-phenotype-phenotype-combined-seo-n740/20210618-1038\n"
     ]
    },
    {
     "name": "stderr",
     "output_type": "stream",
     "text": [
      "/ritter/roshan/installations/anaconda3/lib/python3.7/site-packages/sklearn/svm/_base.py:258: ConvergenceWarning: Solver terminated early (max_iter=10000).  Consider pre-processing your data with StandardScaler or MinMaxScaler.\n",
      "  % self.max_iter, ConvergenceWarning)\n"
     ]
    },
    {
     "name": "stdout",
     "output_type": "stream",
     "text": [
      "training accuracy: 96.45% \t holdout accuracy: 59.60% \t holdout AUC ROC: 61.74%\n",
      "Testing ML model from: results/newlbls-bl-our-combo-cluster-combined-ours-n793/20210618-1035\n",
      "training accuracy: 77.82% \t holdout accuracy: 60.11% \t holdout AUC ROC: 63.95%\n",
      "Testing ML model from: results/newlbls-bl-espad-fu3-29d-onset-15-n654/20210618-1023\n",
      "training accuracy: 95.45% \t holdout accuracy: 48.99% \t holdout AUC ROC: 62.10%\n",
      "Testing ML model from: results/newlbls-bl-audit-fu3-audit-freq-audit-quick-n614/20210618-1012\n",
      "training accuracy: 93.72% \t holdout accuracy: 63.73% \t holdout AUC ROC: 65.40%\n",
      "Testing ML model from: results/newlbls-bl-audit-gm-fine-cluster-audit-growth-n759/20210618-1017\n"
     ]
    },
    {
     "name": "stderr",
     "output_type": "stream",
     "text": [
      "/ritter/roshan/installations/anaconda3/lib/python3.7/site-packages/xgboost/sklearn.py:888: UserWarning: The use of label encoder in XGBClassifier is deprecated and will be removed in a future release. To remove this warning, do the following: 1) Pass option use_label_encoder=False when constructing XGBClassifier object; and 2) Encode your labels (y) as integers starting with 0, i.e. 0, 1, 2, ..., [num_class - 1].\n",
      "  warnings.warn(label_encoder_deprecation_msg, UserWarning)\n"
     ]
    },
    {
     "name": "stdout",
     "output_type": "stream",
     "text": [
      "training accuracy: 94.78% \t holdout accuracy: 66.96% \t holdout AUC ROC: 73.47%\n",
      "Testing ML model from: results/newlbls-bl-espad-gm-fine-cluster-binge-growth-n781/20210618-1031\n",
      "training accuracy: 95.49% \t holdout accuracy: 67.25% \t holdout AUC ROC: 70.20%\n",
      "Testing ML model from: results/newlbls-bl-audit-gm-fine-cluster-audit-growth-n759/20210618-1017\n",
      "training accuracy: 68.38% \t holdout accuracy: 57.79% \t holdout AUC ROC: 54.00%\n",
      "Testing ML model from: results/newlbls-bl-espad-fu3-8c-frequency-n660/20210618-1026\n"
     ]
    },
    {
     "name": "stderr",
     "output_type": "stream",
     "text": [
      "/ritter/roshan/installations/anaconda3/lib/python3.7/site-packages/sklearn/svm/_base.py:258: ConvergenceWarning: Solver terminated early (max_iter=10000).  Consider pre-processing your data with StandardScaler or MinMaxScaler.\n",
      "  % self.max_iter, ConvergenceWarning)\n",
      "/ritter/roshan/installations/anaconda3/lib/python3.7/site-packages/xgboost/sklearn.py:888: UserWarning: The use of label encoder in XGBClassifier is deprecated and will be removed in a future release. To remove this warning, do the following: 1) Pass option use_label_encoder=False when constructing XGBClassifier object; and 2) Encode your labels (y) as integers starting with 0, i.e. 0, 1, 2, ..., [num_class - 1].\n",
      "  warnings.warn(label_encoder_deprecation_msg, UserWarning)\n"
     ]
    },
    {
     "name": "stdout",
     "output_type": "stream",
     "text": [
      "training accuracy: 96.33% \t holdout accuracy: 55.33% \t holdout AUC ROC: 54.33%\n",
      "Testing ML model from: results/newlbls-bl-phenotype-phenotype-combined-seo-n740/20210618-1038\n",
      "training accuracy: 95.71% \t holdout accuracy: 63.84% \t holdout AUC ROC: 70.74%\n",
      "Testing ML model from: results/newlbls-bl-audit-fu3-audit-total-audit-n687/20210618-1014\n",
      "training accuracy: 77.27% \t holdout accuracy: 60.73% \t holdout AUC ROC: 59.95%\n",
      "Testing ML model from: results/newlbls-bl-espad-fu3-8c-frequency-n660/20210618-1026\n",
      "training accuracy: 95.13% \t holdout accuracy: 48.76% \t holdout AUC ROC: 49.69%\n",
      "Testing ML model from: results/newlbls-bl-our-combo-cluster-combined-ours-n793/20210618-1035\n",
      "training accuracy: 75.17% \t holdout accuracy: 56.32% \t holdout AUC ROC: 58.85%\n",
      "Testing ML model from: results/newlbls-bl-espad-fu3-prev31-amount-n620/20210618-1029\n"
     ]
    },
    {
     "name": "stderr",
     "output_type": "stream",
     "text": [
      "/ritter/roshan/installations/anaconda3/lib/python3.7/site-packages/xgboost/sklearn.py:888: UserWarning: The use of label encoder in XGBClassifier is deprecated and will be removed in a future release. To remove this warning, do the following: 1) Pass option use_label_encoder=False when constructing XGBClassifier object; and 2) Encode your labels (y) as integers starting with 0, i.e. 0, 1, 2, ..., [num_class - 1].\n",
      "  warnings.warn(label_encoder_deprecation_msg, UserWarning)\n"
     ]
    },
    {
     "name": "stdout",
     "output_type": "stream",
     "text": [
      "training accuracy: 96.51% \t holdout accuracy: 56.06% \t holdout AUC ROC: 61.28%\n",
      "Testing ML model from: results/newlbls-bl-phenotype-phenotype-combined-seo-n740/20210618-1038\n",
      "training accuracy: 96.53% \t holdout accuracy: 58.58% \t holdout AUC ROC: 61.74%\n",
      "Testing ML model from: results/newlbls-bl-our-combo-cluster-combined-ours-n793/20210618-1035\n",
      "training accuracy: 74.66% \t holdout accuracy: 54.78% \t holdout AUC ROC: 56.74%\n",
      "Testing ML model from: results/newlbls-bl-espad-fu3-prev31-amount-n620/20210618-1029\n",
      "training accuracy: 96.63% \t holdout accuracy: 52.19% \t holdout AUC ROC: 55.84%\n",
      "Testing ML model from: results/newlbls-bl-phenotype-phenotype-combined-seo-n740/20210618-1038\n"
     ]
    },
    {
     "name": "stderr",
     "output_type": "stream",
     "text": [
      "/ritter/roshan/installations/anaconda3/lib/python3.7/site-packages/sklearn/svm/_base.py:258: ConvergenceWarning: Solver terminated early (max_iter=10000).  Consider pre-processing your data with StandardScaler or MinMaxScaler.\n",
      "  % self.max_iter, ConvergenceWarning)\n"
     ]
    },
    {
     "name": "stdout",
     "output_type": "stream",
     "text": [
      "training accuracy: 96.47% \t holdout accuracy: 58.41% \t holdout AUC ROC: 58.72%\n",
      "Testing ML model from: results/newlbls-bl-espad-fu3-29d-onset-15-n654/20210618-1023\n"
     ]
    },
    {
     "name": "stderr",
     "output_type": "stream",
     "text": [
      "/ritter/roshan/installations/anaconda3/lib/python3.7/site-packages/sklearn/svm/_base.py:258: ConvergenceWarning: Solver terminated early (max_iter=10000).  Consider pre-processing your data with StandardScaler or MinMaxScaler.\n",
      "  % self.max_iter, ConvergenceWarning)\n"
     ]
    },
    {
     "name": "stdout",
     "output_type": "stream",
     "text": [
      "training accuracy: 95.99% \t holdout accuracy: 53.42% \t holdout AUC ROC: 55.63%\n",
      "Testing ML model from: results/newlbls-bl-espad-fu3-29d-onset-15-n654/20210618-1023\n",
      "training accuracy: 97.33% \t holdout accuracy: 53.09% \t holdout AUC ROC: 56.53%\n",
      "Testing ML model from: results/newlbls-bl-espad-fu3-19a-binge-n620/20210618-1020\n",
      "training accuracy: 98.18% \t holdout accuracy: 72.07% \t holdout AUC ROC: 76.67%\n",
      "Testing ML model from: results/newlbls-bl-audit-gm-fine-cluster-audit-growth-n759/20210618-1017\n",
      "training accuracy: 91.85% \t holdout accuracy: 60.29% \t holdout AUC ROC: 65.74%\n",
      "Testing ML model from: results/newlbls-bl-audit-fu3-audit-total-audit-n687/20210618-1014\n"
     ]
    },
    {
     "name": "stderr",
     "output_type": "stream",
     "text": [
      "/ritter/roshan/installations/anaconda3/lib/python3.7/site-packages/sklearn/svm/_base.py:258: ConvergenceWarning: Solver terminated early (max_iter=10000).  Consider pre-processing your data with StandardScaler or MinMaxScaler.\n",
      "  % self.max_iter, ConvergenceWarning)\n",
      "/ritter/roshan/installations/anaconda3/lib/python3.7/site-packages/xgboost/sklearn.py:888: UserWarning: The use of label encoder in XGBClassifier is deprecated and will be removed in a future release. To remove this warning, do the following: 1) Pass option use_label_encoder=False when constructing XGBClassifier object; and 2) Encode your labels (y) as integers starting with 0, i.e. 0, 1, 2, ..., [num_class - 1].\n",
      "  warnings.warn(label_encoder_deprecation_msg, UserWarning)\n"
     ]
    },
    {
     "name": "stdout",
     "output_type": "stream",
     "text": [
      "training accuracy: 96.27% \t holdout accuracy: 57.57% \t holdout AUC ROC: 60.81%\n",
      "Testing ML model from: results/newlbls-bl-espad-fu3-29d-onset-15-n654/20210618-1023\n",
      "training accuracy: 95.99% \t holdout accuracy: 52.64% \t holdout AUC ROC: 66.67%\n",
      "Testing ML model from: results/newlbls-bl-espad-gm-fine-cluster-binge-growth-n781/20210618-1031\n",
      "training accuracy: 76.98% \t holdout accuracy: 61.08% \t holdout AUC ROC: 64.31%\n",
      "Testing ML model from: results/newlbls-bl-espad-gm-fine-cluster-binge-growth-n781/20210618-1031\n"
     ]
    },
    {
     "name": "stderr",
     "output_type": "stream",
     "text": [
      "/ritter/roshan/installations/anaconda3/lib/python3.7/site-packages/sklearn/svm/_base.py:258: ConvergenceWarning: Solver terminated early (max_iter=10000).  Consider pre-processing your data with StandardScaler or MinMaxScaler.\n",
      "  % self.max_iter, ConvergenceWarning)\n",
      "/ritter/roshan/installations/anaconda3/lib/python3.7/site-packages/xgboost/sklearn.py:888: UserWarning: The use of label encoder in XGBClassifier is deprecated and will be removed in a future release. To remove this warning, do the following: 1) Pass option use_label_encoder=False when constructing XGBClassifier object; and 2) Encode your labels (y) as integers starting with 0, i.e. 0, 1, 2, ..., [num_class - 1].\n",
      "  warnings.warn(label_encoder_deprecation_msg, UserWarning)\n"
     ]
    },
    {
     "name": "stdout",
     "output_type": "stream",
     "text": [
      "training accuracy: 96.24% \t holdout accuracy: 59.19% \t holdout AUC ROC: 62.87%\n",
      "Testing ML model from: results/newlbls-bl-audit-fu3-audit-freq-audit-quick-n614/20210618-1012\n",
      "training accuracy: 95.54% \t holdout accuracy: 59.44% \t holdout AUC ROC: 63.75%\n",
      "Testing ML model from: results/newlbls-bl-phenotype-phenotype-combined-seo-n740/20210618-1038\n",
      "training accuracy: 96.27% \t holdout accuracy: 55.19% \t holdout AUC ROC: 59.12%\n",
      "Testing ML model from: results/newlbls-bl-espad-fu3-19a-binge-n620/20210618-1020\n",
      "training accuracy: 99.00% \t holdout accuracy: 68.68% \t holdout AUC ROC: 72.76%\n",
      "Testing ML model from: results/newlbls-bl-audit-fu3-audit-total-audit-n687/20210618-1014\n",
      "training accuracy: 76.01% \t holdout accuracy: 50.49% \t holdout AUC ROC: 58.51%\n",
      "Testing ML model from: results/newlbls-bl-espad-fu3-prev31-amount-n620/20210618-1029\n"
     ]
    },
    {
     "name": "stderr",
     "output_type": "stream",
     "text": [
      "/ritter/roshan/installations/anaconda3/lib/python3.7/site-packages/sklearn/svm/_base.py:258: ConvergenceWarning: Solver terminated early (max_iter=10000).  Consider pre-processing your data with StandardScaler or MinMaxScaler.\n",
      "  % self.max_iter, ConvergenceWarning)\n"
     ]
    },
    {
     "name": "stdout",
     "output_type": "stream",
     "text": [
      "training accuracy: 97.34% \t holdout accuracy: 55.56% \t holdout AUC ROC: 56.12%\n",
      "Testing ML model from: results/newlbls-bl-phenotype-phenotype-combined-seo-n740/20210618-1038\n",
      "training accuracy: 96.76% \t holdout accuracy: 57.73% \t holdout AUC ROC: 62.67%\n",
      "Testing ML model from: results/newlbls-bl-audit-gm-fine-cluster-audit-growth-n759/20210618-1017\n"
     ]
    },
    {
     "name": "stderr",
     "output_type": "stream",
     "text": [
      "/ritter/roshan/installations/anaconda3/lib/python3.7/site-packages/xgboost/sklearn.py:888: UserWarning: The use of label encoder in XGBClassifier is deprecated and will be removed in a future release. To remove this warning, do the following: 1) Pass option use_label_encoder=False when constructing XGBClassifier object; and 2) Encode your labels (y) as integers starting with 0, i.e. 0, 1, 2, ..., [num_class - 1].\n",
      "  warnings.warn(label_encoder_deprecation_msg, UserWarning)\n"
     ]
    },
    {
     "name": "stdout",
     "output_type": "stream",
     "text": [
      "training accuracy: 94.07% \t holdout accuracy: 65.24% \t holdout AUC ROC: 75.47%\n",
      "Testing ML model from: results/newlbls-bl-audit-fu3-audit-total-audit-n687/20210618-1014\n",
      "training accuracy: 78.02% \t holdout accuracy: 53.17% \t holdout AUC ROC: 58.84%\n",
      "Testing ML model from: results/newlbls-bl-our-combo-cluster-combined-ours-n793/20210618-1035\n"
     ]
    },
    {
     "name": "stderr",
     "output_type": "stream",
     "text": [
      "/ritter/roshan/installations/anaconda3/lib/python3.7/site-packages/sklearn/svm/_base.py:258: ConvergenceWarning: Solver terminated early (max_iter=10000).  Consider pre-processing your data with StandardScaler or MinMaxScaler.\n",
      "  % self.max_iter, ConvergenceWarning)\n"
     ]
    },
    {
     "name": "stdout",
     "output_type": "stream",
     "text": [
      "training accuracy: 97.62% \t holdout accuracy: 54.01% \t holdout AUC ROC: 54.93%\n",
      "Testing ML model from: results/newlbls-bl-phenotype-phenotype-combined-seo-n740/20210618-1038\n",
      "training accuracy: 76.14% \t holdout accuracy: 50.26% \t holdout AUC ROC: 53.51%\n",
      "Testing ML model from: results/newlbls-bl-espad-gm-fine-cluster-binge-growth-n781/20210618-1031\n",
      "training accuracy: 78.54% \t holdout accuracy: 57.85% \t holdout AUC ROC: 60.17%\n",
      "Testing ML model from: results/newlbls-bl-audit-fu3-audit-total-audit-n687/20210618-1014\n",
      "training accuracy: 78.61% \t holdout accuracy: 58.10% \t holdout AUC ROC: 59.38%\n",
      "Testing ML model from: results/newlbls-bl-audit-fu3-audit-total-audit-n687/20210618-1014\n",
      "training accuracy: 74.29% \t holdout accuracy: 57.57% \t holdout AUC ROC: 61.76%\n",
      "Testing ML model from: results/newlbls-bl-espad-fu3-29d-onset-15-n654/20210618-1023\n",
      "training accuracy: 73.36% \t holdout accuracy: 61.62% \t holdout AUC ROC: 62.59%\n",
      "Testing ML model from: results/newlbls-bl-our-combo-cluster-combined-ours-n793/20210618-1035\n"
     ]
    },
    {
     "name": "stderr",
     "output_type": "stream",
     "text": [
      "/ritter/roshan/installations/anaconda3/lib/python3.7/site-packages/sklearn/svm/_base.py:258: ConvergenceWarning: Solver terminated early (max_iter=10000).  Consider pre-processing your data with StandardScaler or MinMaxScaler.\n",
      "  % self.max_iter, ConvergenceWarning)\n"
     ]
    },
    {
     "name": "stdout",
     "output_type": "stream",
     "text": [
      "training accuracy: 98.96% \t holdout accuracy: 51.15% \t holdout AUC ROC: 54.63%\n",
      "Testing ML model from: results/newlbls-bl-espad-gm-fine-cluster-binge-growth-n781/20210618-1031\n",
      "training accuracy: 96.95% \t holdout accuracy: 63.25% \t holdout AUC ROC: 60.73%\n",
      "Testing ML model from: results/newlbls-bl-audit-fu3-audit-freq-audit-quick-n614/20210618-1012\n",
      "training accuracy: 96.89% \t holdout accuracy: 64.51% \t holdout AUC ROC: 65.89%\n",
      "Testing ML model from: results/newlbls-bl-espad-gm-fine-cluster-binge-growth-n781/20210618-1031\n",
      "training accuracy: 77.69% \t holdout accuracy: 51.05% \t holdout AUC ROC: 55.86%\n",
      "Testing ML model from: results/newlbls-bl-audit-gm-fine-cluster-audit-growth-n759/20210618-1017\n",
      "training accuracy: 96.24% \t holdout accuracy: 60.07% \t holdout AUC ROC: 57.90%\n",
      "Testing ML model from: results/newlbls-bl-espad-fu3-19a-binge-n620/20210618-1020\n",
      "training accuracy: 99.35% \t holdout accuracy: 71.23% \t holdout AUC ROC: 74.77%\n",
      "Testing ML model from: results/newlbls-bl-espad-gm-fine-cluster-binge-growth-n781/20210618-1031\n",
      "training accuracy: 76.35% \t holdout accuracy: 57.82% \t holdout AUC ROC: 63.81%\n",
      "Testing ML model from: results/newlbls-bl-audit-gm-fine-cluster-audit-growth-n759/20210618-1017\n",
      "training accuracy: 90.10% \t holdout accuracy: 63.52% \t holdout AUC ROC: 66.74%\n",
      "Testing ML model from: results/newlbls-bl-phenotype-phenotype-combined-seo-n740/20210618-1038\n",
      "training accuracy: 77.14% \t holdout accuracy: 54.18% \t holdout AUC ROC: 55.08%\n",
      "Testing ML model from: results/newlbls-bl-audit-fu3-audit-freq-audit-quick-n614/20210618-1012\n"
     ]
    },
    {
     "name": "stderr",
     "output_type": "stream",
     "text": [
      "/ritter/roshan/installations/anaconda3/lib/python3.7/site-packages/sklearn/svm/_base.py:258: ConvergenceWarning: Solver terminated early (max_iter=10000).  Consider pre-processing your data with StandardScaler or MinMaxScaler.\n",
      "  % self.max_iter, ConvergenceWarning)\n"
     ]
    },
    {
     "name": "stdout",
     "output_type": "stream",
     "text": [
      "training accuracy: 97.97% \t holdout accuracy: 58.26% \t holdout AUC ROC: 59.38%\n",
      "Testing ML model from: results/newlbls-bl-espad-fu3-19a-binge-n620/20210618-1020\n",
      "training accuracy: 99.05% \t holdout accuracy: 74.18% \t holdout AUC ROC: 78.44%\n",
      "Testing ML model from: results/newlbls-bl-espad-fu3-19a-binge-n620/20210618-1020\n",
      "training accuracy: 78.76% \t holdout accuracy: 69.22% \t holdout AUC ROC: 67.91%\n",
      "Testing ML model from: results/newlbls-bl-espad-fu3-8c-frequency-n660/20210618-1026\n",
      "training accuracy: 95.30% \t holdout accuracy: 48.76% \t holdout AUC ROC: 47.62%\n",
      "Testing ML model from: results/newlbls-bl-espad-fu3-prev31-amount-n620/20210618-1029\n"
     ]
    },
    {
     "name": "stderr",
     "output_type": "stream",
     "text": [
      "/ritter/roshan/installations/anaconda3/lib/python3.7/site-packages/xgboost/sklearn.py:888: UserWarning: The use of label encoder in XGBClassifier is deprecated and will be removed in a future release. To remove this warning, do the following: 1) Pass option use_label_encoder=False when constructing XGBClassifier object; and 2) Encode your labels (y) as integers starting with 0, i.e. 0, 1, 2, ..., [num_class - 1].\n",
      "  warnings.warn(label_encoder_deprecation_msg, UserWarning)\n"
     ]
    },
    {
     "name": "stdout",
     "output_type": "stream",
     "text": [
      "training accuracy: 96.53% \t holdout accuracy: 54.21% \t holdout AUC ROC: 57.24%\n",
      "Testing ML model from: results/newlbls-bl-espad-fu3-29d-onset-15-n654/20210618-1023\n",
      "training accuracy: 76.68% \t holdout accuracy: 55.61% \t holdout AUC ROC: 53.61%\n",
      "Testing ML model from: results/newlbls-bl-our-combo-cluster-combined-ours-n793/20210618-1035\n"
     ]
    },
    {
     "name": "stderr",
     "output_type": "stream",
     "text": [
      "/ritter/roshan/installations/anaconda3/lib/python3.7/site-packages/sklearn/svm/_base.py:258: ConvergenceWarning: Solver terminated early (max_iter=10000).  Consider pre-processing your data with StandardScaler or MinMaxScaler.\n",
      "  % self.max_iter, ConvergenceWarning)\n"
     ]
    },
    {
     "name": "stdout",
     "output_type": "stream",
     "text": [
      "training accuracy: 98.62% \t holdout accuracy: 51.49% \t holdout AUC ROC: 56.08%\n",
      "Testing ML model from: results/newlbls-bl-espad-fu3-prev31-amount-n620/20210618-1029\n"
     ]
    },
    {
     "name": "stderr",
     "output_type": "stream",
     "text": [
      "/ritter/roshan/installations/anaconda3/lib/python3.7/site-packages/sklearn/svm/_base.py:258: ConvergenceWarning: Solver terminated early (max_iter=10000).  Consider pre-processing your data with StandardScaler or MinMaxScaler.\n",
      "  % self.max_iter, ConvergenceWarning)\n"
     ]
    },
    {
     "name": "stdout",
     "output_type": "stream",
     "text": [
      "training accuracy: 98.01% \t holdout accuracy: 47.64% \t holdout AUC ROC: 52.19%\n",
      "Testing ML model from: results/newlbls-bl-espad-fu3-prev31-amount-n620/20210618-1029\n"
     ]
    },
    {
     "name": "stderr",
     "output_type": "stream",
     "text": [
      "/ritter/roshan/installations/anaconda3/lib/python3.7/site-packages/sklearn/svm/_base.py:258: ConvergenceWarning: Solver terminated early (max_iter=10000).  Consider pre-processing your data with StandardScaler or MinMaxScaler.\n",
      "  % self.max_iter, ConvergenceWarning)\n"
     ]
    },
    {
     "name": "stdout",
     "output_type": "stream",
     "text": [
      "training accuracy: 97.89% \t holdout accuracy: 50.67% \t holdout AUC ROC: 54.26%\n",
      "Testing ML model from: results/newlbls-bl-espad-fu3-8c-frequency-n660/20210618-1026\n",
      "training accuracy: 96.01% \t holdout accuracy: 54.23% \t holdout AUC ROC: 52.75%\n",
      "Testing ML model from: results/newlbls-bl-phenotype-phenotype-combined-seo-n740/20210618-1038\n",
      "training accuracy: 78.06% \t holdout accuracy: 52.30% \t holdout AUC ROC: 58.35%\n",
      "Testing ML model from: results/newlbls-bl-espad-gm-fine-cluster-binge-growth-n781/20210618-1031\n",
      "training accuracy: 97.01% \t holdout accuracy: 59.71% \t holdout AUC ROC: 60.73%\n",
      "Testing ML model from: results/newlbls-bl-espad-fu3-prev31-amount-n620/20210618-1029\n",
      "training accuracy: 97.43% \t holdout accuracy: 48.82% \t holdout AUC ROC: 56.73%\n",
      "Testing ML model from: results/newlbls-bl-audit-fu3-audit-freq-audit-quick-n614/20210618-1012\n",
      "training accuracy: 96.35% \t holdout accuracy: 56.05% \t holdout AUC ROC: 59.82%\n",
      "Testing ML model from: results/newlbls-bl-audit-fu3-audit-freq-audit-quick-n614/20210618-1012\n",
      "training accuracy: 97.57% \t holdout accuracy: 54.35% \t holdout AUC ROC: 63.08%\n",
      "Testing ML model from: results/newlbls-bl-espad-fu3-29d-onset-15-n654/20210618-1023\n",
      "training accuracy: 79.40% \t holdout accuracy: 61.34% \t holdout AUC ROC: 65.06%\n",
      "Testing ML model from: results/newlbls-bl-espad-gm-fine-cluster-binge-growth-n781/20210618-1031\n"
     ]
    },
    {
     "name": "stderr",
     "output_type": "stream",
     "text": [
      "/ritter/roshan/installations/anaconda3/lib/python3.7/site-packages/xgboost/sklearn.py:888: UserWarning: The use of label encoder in XGBClassifier is deprecated and will be removed in a future release. To remove this warning, do the following: 1) Pass option use_label_encoder=False when constructing XGBClassifier object; and 2) Encode your labels (y) as integers starting with 0, i.e. 0, 1, 2, ..., [num_class - 1].\n",
      "  warnings.warn(label_encoder_deprecation_msg, UserWarning)\n"
     ]
    },
    {
     "name": "stdout",
     "output_type": "stream",
     "text": [
      "training accuracy: 96.12% \t holdout accuracy: 63.74% \t holdout AUC ROC: 71.28%\n",
      "Testing ML model from: results/newlbls-bl-audit-fu3-audit-total-audit-n687/20210618-1014\n",
      "training accuracy: 76.10% \t holdout accuracy: 61.51% \t holdout AUC ROC: 59.79%\n",
      "Testing ML model from: results/newlbls-bl-espad-fu3-29d-onset-15-n654/20210618-1023\n"
     ]
    },
    {
     "name": "stderr",
     "output_type": "stream",
     "text": [
      "/ritter/roshan/installations/anaconda3/lib/python3.7/site-packages/xgboost/sklearn.py:888: UserWarning: The use of label encoder in XGBClassifier is deprecated and will be removed in a future release. To remove this warning, do the following: 1) Pass option use_label_encoder=False when constructing XGBClassifier object; and 2) Encode your labels (y) as integers starting with 0, i.e. 0, 1, 2, ..., [num_class - 1].\n",
      "  warnings.warn(label_encoder_deprecation_msg, UserWarning)\n"
     ]
    },
    {
     "name": "stdout",
     "output_type": "stream",
     "text": [
      "training accuracy: 95.99% \t holdout accuracy: 50.56% \t holdout AUC ROC: 61.35%\n",
      "Testing ML model from: results/newlbls-bl-our-combo-cluster-combined-ours-n793/20210618-1035\n",
      "training accuracy: 97.85% \t holdout accuracy: 56.88% \t holdout AUC ROC: 63.23%\n",
      "Testing ML model from: results/newlbls-bl-phenotype-phenotype-combined-seo-n740/20210618-1038\n",
      "training accuracy: 77.07% \t holdout accuracy: 55.85% \t holdout AUC ROC: 54.44%\n",
      "Testing ML model from: results/newlbls-bl-audit-fu3-audit-freq-audit-quick-n614/20210618-1012\n",
      "training accuracy: 97.29% \t holdout accuracy: 55.92% \t holdout AUC ROC: 62.41%\n",
      "Testing ML model from: results/newlbls-bl-espad-fu3-8c-frequency-n660/20210618-1026\n",
      "training accuracy: 95.04% \t holdout accuracy: 50.61% \t holdout AUC ROC: 52.50%\n",
      "Testing ML model from: results/newlbls-bl-espad-gm-fine-cluster-binge-growth-n781/20210618-1031\n",
      "training accuracy: 76.93% \t holdout accuracy: 63.78% \t holdout AUC ROC: 66.27%\n",
      "Testing ML model from: results/newlbls-bl-audit-fu3-audit-total-audit-n687/20210618-1014\n",
      "training accuracy: 96.58% \t holdout accuracy: 59.91% \t holdout AUC ROC: 60.61%\n",
      "Testing ML model from: results/newlbls-bl-audit-fu3-audit-freq-audit-quick-n614/20210618-1012\n"
     ]
    },
    {
     "name": "stderr",
     "output_type": "stream",
     "text": [
      "/ritter/roshan/installations/anaconda3/lib/python3.7/site-packages/sklearn/svm/_base.py:258: ConvergenceWarning: Solver terminated early (max_iter=10000).  Consider pre-processing your data with StandardScaler or MinMaxScaler.\n",
      "  % self.max_iter, ConvergenceWarning)\n"
     ]
    },
    {
     "name": "stdout",
     "output_type": "stream",
     "text": [
      "training accuracy: 98.11% \t holdout accuracy: 60.47% \t holdout AUC ROC: 61.47%\n",
      "Testing ML model from: results/newlbls-bl-espad-fu3-19a-binge-n620/20210618-1020\n",
      "training accuracy: 82.08% \t holdout accuracy: 64.98% \t holdout AUC ROC: 66.65%\n",
      "Testing ML model from: results/newlbls-bl-espad-fu3-29d-onset-15-n654/20210618-1023\n"
     ]
    },
    {
     "name": "stderr",
     "output_type": "stream",
     "text": [
      "/ritter/roshan/installations/anaconda3/lib/python3.7/site-packages/sklearn/svm/_base.py:258: ConvergenceWarning: Solver terminated early (max_iter=10000).  Consider pre-processing your data with StandardScaler or MinMaxScaler.\n",
      "  % self.max_iter, ConvergenceWarning)\n"
     ]
    },
    {
     "name": "stdout",
     "output_type": "stream",
     "text": [
      "training accuracy: 95.99% \t holdout accuracy: 53.42% \t holdout AUC ROC: 54.06%\n",
      "Testing ML model from: results/newlbls-bl-espad-fu3-19a-binge-n620/20210618-1020\n",
      "training accuracy: 97.90% \t holdout accuracy: 71.23% \t holdout AUC ROC: 77.30%\n",
      "Testing ML model from: results/newlbls-bl-audit-gm-fine-cluster-audit-growth-n759/20210618-1017\n"
     ]
    },
    {
     "name": "stderr",
     "output_type": "stream",
     "text": [
      "/ritter/roshan/installations/anaconda3/lib/python3.7/site-packages/xgboost/sklearn.py:888: UserWarning: The use of label encoder in XGBClassifier is deprecated and will be removed in a future release. To remove this warning, do the following: 1) Pass option use_label_encoder=False when constructing XGBClassifier object; and 2) Encode your labels (y) as integers starting with 0, i.e. 0, 1, 2, ..., [num_class - 1].\n",
      "  warnings.warn(label_encoder_deprecation_msg, UserWarning)\n"
     ]
    },
    {
     "name": "stdout",
     "output_type": "stream",
     "text": [
      "training accuracy: 94.07% \t holdout accuracy: 69.55% \t holdout AUC ROC: 82.20%\n",
      "Testing ML model from: results/newlbls-bl-audit-gm-fine-cluster-audit-growth-n759/20210618-1017\n",
      "training accuracy: 96.06% \t holdout accuracy: 61.46% \t holdout AUC ROC: 52.67%\n",
      "Testing ML model from: results/newlbls-bl-phenotype-phenotype-combined-seo-n740/20210618-1038\n"
     ]
    },
    {
     "name": "stderr",
     "output_type": "stream",
     "text": [
      "/ritter/roshan/installations/anaconda3/lib/python3.7/site-packages/sklearn/svm/_base.py:258: ConvergenceWarning: Solver terminated early (max_iter=10000).  Consider pre-processing your data with StandardScaler or MinMaxScaler.\n",
      "  % self.max_iter, ConvergenceWarning)\n"
     ]
    },
    {
     "name": "stdout",
     "output_type": "stream",
     "text": [
      "training accuracy: 96.07% \t holdout accuracy: 58.92% \t holdout AUC ROC: 59.77%\n",
      "Testing ML model from: results/newlbls-bl-audit-gm-fine-cluster-audit-growth-n759/20210618-1017\n"
     ]
    },
    {
     "name": "stderr",
     "output_type": "stream",
     "text": [
      "/ritter/roshan/installations/anaconda3/lib/python3.7/site-packages/sklearn/svm/_base.py:258: ConvergenceWarning: Solver terminated early (max_iter=10000).  Consider pre-processing your data with StandardScaler or MinMaxScaler.\n",
      "  % self.max_iter, ConvergenceWarning)\n"
     ]
    },
    {
     "name": "stdout",
     "output_type": "stream",
     "text": [
      "training accuracy: 96.30% \t holdout accuracy: 58.23% \t holdout AUC ROC: 56.51%\n",
      "Testing ML model from: results/newlbls-bl-espad-fu3-8c-frequency-n660/20210618-1026\n"
     ]
    },
    {
     "name": "stderr",
     "output_type": "stream",
     "text": [
      "/ritter/roshan/installations/anaconda3/lib/python3.7/site-packages/sklearn/svm/_base.py:258: ConvergenceWarning: Solver terminated early (max_iter=10000).  Consider pre-processing your data with StandardScaler or MinMaxScaler.\n",
      "  % self.max_iter, ConvergenceWarning)\n"
     ]
    },
    {
     "name": "stdout",
     "output_type": "stream",
     "text": [
      "training accuracy: 94.33% \t holdout accuracy: 56.63% \t holdout AUC ROC: 53.72%\n",
      "Testing ML model from: results/newlbls-bl-audit-gm-fine-cluster-audit-growth-n759/20210618-1017\n",
      "training accuracy: 95.04% \t holdout accuracy: 65.35% \t holdout AUC ROC: 67.91%\n",
      "Testing ML model from: results/newlbls-bl-audit-fu3-audit-freq-audit-quick-n614/20210618-1012\n",
      "training accuracy: 95.67% \t holdout accuracy: 58.26% \t holdout AUC ROC: 61.43%\n",
      "Testing ML model from: results/newlbls-bl-our-combo-cluster-combined-ours-n793/20210618-1035\n"
     ]
    },
    {
     "name": "stderr",
     "output_type": "stream",
     "text": [
      "/ritter/roshan/installations/anaconda3/lib/python3.7/site-packages/sklearn/svm/_base.py:258: ConvergenceWarning: Solver terminated early (max_iter=10000).  Consider pre-processing your data with StandardScaler or MinMaxScaler.\n",
      "  % self.max_iter, ConvergenceWarning)\n"
     ]
    },
    {
     "name": "stdout",
     "output_type": "stream",
     "text": [
      "training accuracy: 98.39% \t holdout accuracy: 50.30% \t holdout AUC ROC: 56.11%\n",
      "Testing ML model from: results/newlbls-bl-espad-fu3-8c-frequency-n660/20210618-1026\n",
      "training accuracy: 96.89% \t holdout accuracy: 51.49% \t holdout AUC ROC: 52.95%\n",
      "Testing ML model from: results/newlbls-bl-espad-fu3-8c-frequency-n660/20210618-1026\n",
      "training accuracy: 95.49% \t holdout accuracy: 48.96% \t holdout AUC ROC: 45.71%\n",
      "Testing ML model from: results/newlbls-bl-audit-fu3-audit-freq-audit-quick-n614/20210618-1012\n",
      "training accuracy: 97.36% \t holdout accuracy: 58.26% \t holdout AUC ROC: 61.03%\n",
      "Testing ML model from: results/newlbls-bl-phenotype-phenotype-combined-seo-n740/20210618-1038\n"
     ]
    },
    {
     "name": "stderr",
     "output_type": "stream",
     "text": [
      "/ritter/roshan/installations/anaconda3/lib/python3.7/site-packages/xgboost/sklearn.py:888: UserWarning: The use of label encoder in XGBClassifier is deprecated and will be removed in a future release. To remove this warning, do the following: 1) Pass option use_label_encoder=False when constructing XGBClassifier object; and 2) Encode your labels (y) as integers starting with 0, i.e. 0, 1, 2, ..., [num_class - 1].\n",
      "  warnings.warn(label_encoder_deprecation_msg, UserWarning)\n"
     ]
    },
    {
     "name": "stdout",
     "output_type": "stream",
     "text": [
      "training accuracy: 95.75% \t holdout accuracy: 66.38% \t holdout AUC ROC: 68.08%\n",
      "Testing ML model from: results/newlbls-bl-our-combo-cluster-combined-ours-n793/20210618-1035\n"
     ]
    },
    {
     "name": "stderr",
     "output_type": "stream",
     "text": [
      "/ritter/roshan/installations/anaconda3/lib/python3.7/site-packages/xgboost/sklearn.py:888: UserWarning: The use of label encoder in XGBClassifier is deprecated and will be removed in a future release. To remove this warning, do the following: 1) Pass option use_label_encoder=False when constructing XGBClassifier object; and 2) Encode your labels (y) as integers starting with 0, i.e. 0, 1, 2, ..., [num_class - 1].\n",
      "  warnings.warn(label_encoder_deprecation_msg, UserWarning)\n"
     ]
    },
    {
     "name": "stdout",
     "output_type": "stream",
     "text": [
      "training accuracy: 98.69% \t holdout accuracy: 57.22% \t holdout AUC ROC: 55.48%\n",
      "Testing ML model from: results/newlbls-bl-espad-fu3-8c-frequency-n660/20210618-1026\n"
     ]
    },
    {
     "name": "stderr",
     "output_type": "stream",
     "text": [
      "/ritter/roshan/installations/anaconda3/lib/python3.7/site-packages/xgboost/sklearn.py:888: UserWarning: The use of label encoder in XGBClassifier is deprecated and will be removed in a future release. To remove this warning, do the following: 1) Pass option use_label_encoder=False when constructing XGBClassifier object; and 2) Encode your labels (y) as integers starting with 0, i.e. 0, 1, 2, ..., [num_class - 1].\n",
      "  warnings.warn(label_encoder_deprecation_msg, UserWarning)\n"
     ]
    },
    {
     "name": "stdout",
     "output_type": "stream",
     "text": [
      "training accuracy: 95.45% \t holdout accuracy: 49.51% \t holdout AUC ROC: 50.39%\n",
      "Testing ML model from: results/newlbls-bl-espad-fu3-prev31-amount-n620/20210618-1029\n"
     ]
    },
    {
     "name": "stderr",
     "output_type": "stream",
     "text": [
      "/ritter/roshan/installations/anaconda3/lib/python3.7/site-packages/xgboost/sklearn.py:888: UserWarning: The use of label encoder in XGBClassifier is deprecated and will be removed in a future release. To remove this warning, do the following: 1) Pass option use_label_encoder=False when constructing XGBClassifier object; and 2) Encode your labels (y) as integers starting with 0, i.e. 0, 1, 2, ..., [num_class - 1].\n",
      "  warnings.warn(label_encoder_deprecation_msg, UserWarning)\n"
     ]
    },
    {
     "name": "stdout",
     "output_type": "stream",
     "text": [
      "training accuracy: 96.99% \t holdout accuracy: 55.39% \t holdout AUC ROC: 57.97%\n",
      "Testing ML model from: results/newlbls-bl-espad-gm-fine-cluster-binge-growth-n781/20210618-1031\n"
     ]
    },
    {
     "name": "stderr",
     "output_type": "stream",
     "text": [
      "/ritter/roshan/installations/anaconda3/lib/python3.7/site-packages/sklearn/svm/_base.py:258: ConvergenceWarning: Solver terminated early (max_iter=10000).  Consider pre-processing your data with StandardScaler or MinMaxScaler.\n",
      "  % self.max_iter, ConvergenceWarning)\n"
     ]
    },
    {
     "name": "stdout",
     "output_type": "stream",
     "text": [
      "training accuracy: 96.80% \t holdout accuracy: 57.29% \t holdout AUC ROC: 62.03%\n",
      "Testing ML model from: results/newlbls-bl-espad-fu3-29d-onset-15-n654/20210618-1023\n"
     ]
    },
    {
     "name": "stderr",
     "output_type": "stream",
     "text": [
      "/ritter/roshan/installations/anaconda3/lib/python3.7/site-packages/xgboost/sklearn.py:888: UserWarning: The use of label encoder in XGBClassifier is deprecated and will be removed in a future release. To remove this warning, do the following: 1) Pass option use_label_encoder=False when constructing XGBClassifier object; and 2) Encode your labels (y) as integers starting with 0, i.e. 0, 1, 2, ..., [num_class - 1].\n",
      "  warnings.warn(label_encoder_deprecation_msg, UserWarning)\n"
     ]
    },
    {
     "name": "stdout",
     "output_type": "stream",
     "text": [
      "training accuracy: 96.52% \t holdout accuracy: 51.46% \t holdout AUC ROC: 64.72%\n",
      "Testing ML model from: results/newlbls-bl-espad-fu3-prev31-amount-n620/20210618-1029\n"
     ]
    },
    {
     "name": "stderr",
     "output_type": "stream",
     "text": [
      "/ritter/roshan/installations/anaconda3/lib/python3.7/site-packages/xgboost/sklearn.py:888: UserWarning: The use of label encoder in XGBClassifier is deprecated and will be removed in a future release. To remove this warning, do the following: 1) Pass option use_label_encoder=False when constructing XGBClassifier object; and 2) Encode your labels (y) as integers starting with 0, i.e. 0, 1, 2, ..., [num_class - 1].\n",
      "  warnings.warn(label_encoder_deprecation_msg, UserWarning)\n"
     ]
    },
    {
     "name": "stdout",
     "output_type": "stream",
     "text": [
      "training accuracy: 96.99% \t holdout accuracy: 56.14% \t holdout AUC ROC: 54.32%\n",
      "Testing ML model from: results/newlbls-bl-espad-fu3-8c-frequency-n660/20210618-1026\n",
      "training accuracy: 95.83% \t holdout accuracy: 52.58% \t holdout AUC ROC: 53.85%\n",
      "Testing ML model from: results/newlbls-bl-audit-gm-fine-cluster-audit-growth-n759/20210618-1017\n"
     ]
    },
    {
     "name": "stderr",
     "output_type": "stream",
     "text": [
      "/ritter/roshan/installations/anaconda3/lib/python3.7/site-packages/xgboost/sklearn.py:888: UserWarning: The use of label encoder in XGBClassifier is deprecated and will be removed in a future release. To remove this warning, do the following: 1) Pass option use_label_encoder=False when constructing XGBClassifier object; and 2) Encode your labels (y) as integers starting with 0, i.e. 0, 1, 2, ..., [num_class - 1].\n",
      "  warnings.warn(label_encoder_deprecation_msg, UserWarning)\n"
     ]
    },
    {
     "name": "stdout",
     "output_type": "stream",
     "text": [
      "training accuracy: 94.55% \t holdout accuracy: 61.15% \t holdout AUC ROC: 63.90%\n",
      "Testing ML model from: results/newlbls-bl-espad-fu3-29d-onset-15-n654/20210618-1023\n"
     ]
    },
    {
     "name": "stderr",
     "output_type": "stream",
     "text": [
      "/ritter/roshan/installations/anaconda3/lib/python3.7/site-packages/xgboost/sklearn.py:888: UserWarning: The use of label encoder in XGBClassifier is deprecated and will be removed in a future release. To remove this warning, do the following: 1) Pass option use_label_encoder=False when constructing XGBClassifier object; and 2) Encode your labels (y) as integers starting with 0, i.e. 0, 1, 2, ..., [num_class - 1].\n",
      "  warnings.warn(label_encoder_deprecation_msg, UserWarning)\n"
     ]
    },
    {
     "name": "stdout",
     "output_type": "stream",
     "text": [
      "training accuracy: 96.52% \t holdout accuracy: 50.22% \t holdout AUC ROC: 61.35%\n",
      "Testing ML model from: results/newlbls-bl-our-combo-cluster-combined-ours-n793/20210618-1035\n",
      "training accuracy: 77.05% \t holdout accuracy: 54.09% \t holdout AUC ROC: 61.39%\n",
      "Testing ML model from: results/newlbls-bl-espad-fu3-8c-frequency-n660/20210618-1026\n"
     ]
    },
    {
     "name": "stderr",
     "output_type": "stream",
     "text": [
      "/ritter/roshan/installations/anaconda3/lib/python3.7/site-packages/sklearn/svm/_base.py:258: ConvergenceWarning: Solver terminated early (max_iter=10000).  Consider pre-processing your data with StandardScaler or MinMaxScaler.\n",
      "  % self.max_iter, ConvergenceWarning)\n"
     ]
    },
    {
     "name": "stdout",
     "output_type": "stream",
     "text": [
      "training accuracy: 95.64% \t holdout accuracy: 56.29% \t holdout AUC ROC: 51.89%\n",
      "Testing ML model from: results/newlbls-bl-audit-gm-fine-cluster-audit-growth-n759/20210618-1017\n",
      "training accuracy: 75.65% \t holdout accuracy: 49.08% \t holdout AUC ROC: 53.45%\n",
      "Testing ML model from: results/newlbls-bl-phenotype-phenotype-combined-seo-n740/20210618-1038\n"
     ]
    },
    {
     "name": "stderr",
     "output_type": "stream",
     "text": [
      "/ritter/roshan/installations/anaconda3/lib/python3.7/site-packages/xgboost/sklearn.py:888: UserWarning: The use of label encoder in XGBClassifier is deprecated and will be removed in a future release. To remove this warning, do the following: 1) Pass option use_label_encoder=False when constructing XGBClassifier object; and 2) Encode your labels (y) as integers starting with 0, i.e. 0, 1, 2, ..., [num_class - 1].\n",
      "  warnings.warn(label_encoder_deprecation_msg, UserWarning)\n"
     ]
    },
    {
     "name": "stdout",
     "output_type": "stream",
     "text": [
      "training accuracy: 96.83% \t holdout accuracy: 65.03% \t holdout AUC ROC: 68.48%\n",
      "Testing ML model from: results/newlbls-bl-espad-fu3-29d-onset-15-n654/20210618-1023\n",
      "training accuracy: 97.59% \t holdout accuracy: 54.66% \t holdout AUC ROC: 55.89%\n",
      "Testing ML model from: results/newlbls-bl-phenotype-phenotype-combined-seo-n740/20210618-1038\n",
      "training accuracy: 97.56% \t holdout accuracy: 55.69% \t holdout AUC ROC: 59.28%\n",
      "Testing ML model from: results/newlbls-bl-audit-fu3-audit-total-audit-n687/20210618-1014\n"
     ]
    },
    {
     "name": "stderr",
     "output_type": "stream",
     "text": [
      "/ritter/roshan/installations/anaconda3/lib/python3.7/site-packages/xgboost/sklearn.py:888: UserWarning: The use of label encoder in XGBClassifier is deprecated and will be removed in a future release. To remove this warning, do the following: 1) Pass option use_label_encoder=False when constructing XGBClassifier object; and 2) Encode your labels (y) as integers starting with 0, i.e. 0, 1, 2, ..., [num_class - 1].\n",
      "  warnings.warn(label_encoder_deprecation_msg, UserWarning)\n"
     ]
    },
    {
     "name": "stdout",
     "output_type": "stream",
     "text": [
      "training accuracy: 94.28% \t holdout accuracy: 69.08% \t holdout AUC ROC: 72.82%\n",
      "Testing ML model from: results/newlbls-bl-phenotype-phenotype-combined-seo-n740/20210618-1038\n"
     ]
    },
    {
     "name": "stderr",
     "output_type": "stream",
     "text": [
      "/ritter/roshan/installations/anaconda3/lib/python3.7/site-packages/sklearn/svm/_base.py:258: ConvergenceWarning: Solver terminated early (max_iter=10000).  Consider pre-processing your data with StandardScaler or MinMaxScaler.\n",
      "  % self.max_iter, ConvergenceWarning)\n"
     ]
    },
    {
     "name": "stdout",
     "output_type": "stream",
     "text": [
      "training accuracy: 96.40% \t holdout accuracy: 57.73% \t holdout AUC ROC: 58.15%\n",
      "Testing ML model from: results/newlbls-bl-audit-fu3-audit-total-audit-n687/20210618-1014\n",
      "training accuracy: 95.44% \t holdout accuracy: 61.18% \t holdout AUC ROC: 71.50%\n",
      "Testing ML model from: results/newlbls-bl-audit-gm-fine-cluster-audit-growth-n759/20210618-1017\n"
     ]
    },
    {
     "name": "stderr",
     "output_type": "stream",
     "text": [
      "/ritter/roshan/installations/anaconda3/lib/python3.7/site-packages/sklearn/svm/_base.py:258: ConvergenceWarning: Solver terminated early (max_iter=10000).  Consider pre-processing your data with StandardScaler or MinMaxScaler.\n",
      "  % self.max_iter, ConvergenceWarning)\n"
     ]
    },
    {
     "name": "stdout",
     "output_type": "stream",
     "text": [
      "training accuracy: 94.39% \t holdout accuracy: 58.12% \t holdout AUC ROC: 57.45%\n",
      "Testing ML model from: results/newlbls-bl-audit-fu3-audit-total-audit-n687/20210618-1014\n",
      "training accuracy: 95.80% \t holdout accuracy: 63.86% \t holdout AUC ROC: 65.71%\n",
      "Testing ML model from: results/newlbls-bl-espad-fu3-prev31-amount-n620/20210618-1029\n",
      "training accuracy: 97.80% \t holdout accuracy: 48.06% \t holdout AUC ROC: 52.97%\n",
      "Testing ML model from: results/newlbls-bl-our-combo-cluster-combined-ours-n793/20210618-1035\n",
      "training accuracy: 77.42% \t holdout accuracy: 61.86% \t holdout AUC ROC: 62.68%\n",
      "Testing ML model from: results/newlbls-bl-espad-fu3-29d-onset-15-n654/20210618-1023\n",
      "training accuracy: 97.06% \t holdout accuracy: 51.12% \t holdout AUC ROC: 59.82%\n",
      "Testing ML model from: results/newlbls-bl-espad-fu3-prev31-amount-n620/20210618-1029\n"
     ]
    },
    {
     "name": "stderr",
     "output_type": "stream",
     "text": [
      "/ritter/roshan/installations/anaconda3/lib/python3.7/site-packages/sklearn/svm/_base.py:258: ConvergenceWarning: Solver terminated early (max_iter=10000).  Consider pre-processing your data with StandardScaler or MinMaxScaler.\n",
      "  % self.max_iter, ConvergenceWarning)\n"
     ]
    },
    {
     "name": "stdout",
     "output_type": "stream",
     "text": [
      "training accuracy: 98.83% \t holdout accuracy: 53.28% \t holdout AUC ROC: 53.25%\n",
      "Testing ML model from: results/newlbls-bl-our-combo-cluster-combined-ours-n793/20210618-1035\n",
      "training accuracy: 98.82% \t holdout accuracy: 57.80% \t holdout AUC ROC: 60.81%\n",
      "Testing ML model from: results/newlbls-bl-audit-fu3-audit-freq-audit-quick-n614/20210618-1012\n"
     ]
    },
    {
     "name": "stderr",
     "output_type": "stream",
     "text": [
      "/ritter/roshan/installations/anaconda3/lib/python3.7/site-packages/sklearn/svm/_base.py:258: ConvergenceWarning: Solver terminated early (max_iter=10000).  Consider pre-processing your data with StandardScaler or MinMaxScaler.\n",
      "  % self.max_iter, ConvergenceWarning)\n"
     ]
    },
    {
     "name": "stdout",
     "output_type": "stream",
     "text": [
      "training accuracy: 96.68% \t holdout accuracy: 52.92% \t holdout AUC ROC: 59.78%\n",
      "Testing ML model from: results/newlbls-bl-espad-fu3-29d-onset-15-n654/20210618-1023\n"
     ]
    },
    {
     "name": "stderr",
     "output_type": "stream",
     "text": [
      "/ritter/roshan/installations/anaconda3/lib/python3.7/site-packages/sklearn/svm/_base.py:258: ConvergenceWarning: Solver terminated early (max_iter=10000).  Consider pre-processing your data with StandardScaler or MinMaxScaler.\n",
      "  % self.max_iter, ConvergenceWarning)\n"
     ]
    },
    {
     "name": "stdout",
     "output_type": "stream",
     "text": [
      "training accuracy: 97.59% \t holdout accuracy: 52.81% \t holdout AUC ROC: 57.69%\n",
      "Testing ML model from: results/newlbls-bl-espad-fu3-29d-onset-15-n654/20210618-1023\n",
      "training accuracy: 92.51% \t holdout accuracy: 50.22% \t holdout AUC ROC: 61.69%\n",
      "Testing ML model from: results/newlbls-bl-audit-gm-fine-cluster-audit-growth-n759/20210618-1017\n",
      "training accuracy: 90.44% \t holdout accuracy: 64.38% \t holdout AUC ROC: 66.18%\n",
      "Testing ML model from: results/newlbls-bl-audit-gm-fine-cluster-audit-growth-n759/20210618-1017\n"
     ]
    },
    {
     "name": "stderr",
     "output_type": "stream",
     "text": [
      "/ritter/roshan/installations/anaconda3/lib/python3.7/site-packages/sklearn/svm/_base.py:258: ConvergenceWarning: Solver terminated early (max_iter=10000).  Consider pre-processing your data with StandardScaler or MinMaxScaler.\n",
      "  % self.max_iter, ConvergenceWarning)\n"
     ]
    },
    {
     "name": "stdout",
     "output_type": "stream",
     "text": [
      "training accuracy: 96.08% \t holdout accuracy: 60.71% \t holdout AUC ROC: 59.96%\n",
      "Testing ML model from: results/newlbls-bl-audit-gm-fine-cluster-audit-growth-n759/20210618-1017\n",
      "training accuracy: 88.58% \t holdout accuracy: 65.02% \t holdout AUC ROC: 67.85%\n",
      "Testing ML model from: results/newlbls-bl-espad-fu3-8c-frequency-n660/20210618-1026\n",
      "training accuracy: 94.65% \t holdout accuracy: 48.76% \t holdout AUC ROC: 51.40%\n",
      "Testing ML model from: results/newlbls-bl-espad-fu3-8c-frequency-n660/20210618-1026\n",
      "training accuracy: 75.29% \t holdout accuracy: 59.58% \t holdout AUC ROC: 60.72%\n",
      "Testing ML model from: results/newlbls-bl-espad-fu3-19a-binge-n620/20210618-1020\n",
      "training accuracy: 98.53% \t holdout accuracy: 71.54% \t holdout AUC ROC: 74.54%\n",
      "Testing ML model from: results/newlbls-bl-our-combo-cluster-combined-ours-n793/20210618-1035\n",
      "training accuracy: 73.79% \t holdout accuracy: 55.20% \t holdout AUC ROC: 58.76%\n",
      "Testing ML model from: results/newlbls-bl-audit-fu3-audit-freq-audit-quick-n614/20210618-1012\n",
      "training accuracy: 78.22% \t holdout accuracy: 56.43% \t holdout AUC ROC: 61.96%\n",
      "Testing ML model from: results/newlbls-bl-audit-gm-fine-cluster-audit-growth-n759/20210618-1017\n"
     ]
    },
    {
     "name": "stderr",
     "output_type": "stream",
     "text": [
      "/ritter/roshan/installations/anaconda3/lib/python3.7/site-packages/sklearn/svm/_base.py:258: ConvergenceWarning: Solver terminated early (max_iter=10000).  Consider pre-processing your data with StandardScaler or MinMaxScaler.\n",
      "  % self.max_iter, ConvergenceWarning)\n"
     ]
    },
    {
     "name": "stdout",
     "output_type": "stream",
     "text": [
      "training accuracy: 95.39% \t holdout accuracy: 58.12% \t holdout AUC ROC: 56.28%\n",
      "Testing ML model from: results/newlbls-bl-espad-fu3-29d-onset-15-n654/20210618-1023\n",
      "training accuracy: 77.64% \t holdout accuracy: 61.95% \t holdout AUC ROC: 65.54%\n",
      "Testing ML model from: results/newlbls-bl-espad-fu3-8c-frequency-n660/20210618-1026\n",
      "training accuracy: 97.04% \t holdout accuracy: 53.56% \t holdout AUC ROC: 49.41%\n",
      "Testing ML model from: results/newlbls-bl-espad-fu3-29d-onset-15-n654/20210618-1023\n"
     ]
    },
    {
     "name": "stderr",
     "output_type": "stream",
     "text": [
      "/ritter/roshan/installations/anaconda3/lib/python3.7/site-packages/xgboost/sklearn.py:888: UserWarning: The use of label encoder in XGBClassifier is deprecated and will be removed in a future release. To remove this warning, do the following: 1) Pass option use_label_encoder=False when constructing XGBClassifier object; and 2) Encode your labels (y) as integers starting with 0, i.e. 0, 1, 2, ..., [num_class - 1].\n",
      "  warnings.warn(label_encoder_deprecation_msg, UserWarning)\n"
     ]
    },
    {
     "name": "stdout",
     "output_type": "stream",
     "text": [
      "training accuracy: 96.79% \t holdout accuracy: 51.74% \t holdout AUC ROC: 62.89%\n",
      "Testing ML model from: results/newlbls-bl-audit-fu3-audit-freq-audit-quick-n614/20210618-1012\n",
      "training accuracy: 78.51% \t holdout accuracy: 62.54% \t holdout AUC ROC: 61.79%\n",
      "Testing ML model from: results/newlbls-bl-phenotype-phenotype-combined-seo-n740/20210618-1038\n"
     ]
    },
    {
     "name": "stderr",
     "output_type": "stream",
     "text": [
      "/ritter/roshan/installations/anaconda3/lib/python3.7/site-packages/sklearn/svm/_base.py:258: ConvergenceWarning: Solver terminated early (max_iter=10000).  Consider pre-processing your data with StandardScaler or MinMaxScaler.\n",
      "  % self.max_iter, ConvergenceWarning)\n"
     ]
    },
    {
     "name": "stdout",
     "output_type": "stream",
     "text": [
      "training accuracy: 95.48% \t holdout accuracy: 55.35% \t holdout AUC ROC: 58.03%\n",
      "Testing ML model from: results/newlbls-bl-espad-fu3-29d-onset-15-n654/20210618-1023\n",
      "training accuracy: 77.10% \t holdout accuracy: 61.67% \t holdout AUC ROC: 65.17%\n",
      "Testing ML model from: results/newlbls-bl-audit-gm-fine-cluster-audit-growth-n759/20210618-1017\n"
     ]
    },
    {
     "name": "stderr",
     "output_type": "stream",
     "text": [
      "/ritter/roshan/installations/anaconda3/lib/python3.7/site-packages/xgboost/sklearn.py:888: UserWarning: The use of label encoder in XGBClassifier is deprecated and will be removed in a future release. To remove this warning, do the following: 1) Pass option use_label_encoder=False when constructing XGBClassifier object; and 2) Encode your labels (y) as integers starting with 0, i.e. 0, 1, 2, ..., [num_class - 1].\n",
      "  warnings.warn(label_encoder_deprecation_msg, UserWarning)\n"
     ]
    },
    {
     "name": "stdout",
     "output_type": "stream",
     "text": [
      "training accuracy: 93.98% \t holdout accuracy: 67.07% \t holdout AUC ROC: 78.53%\n",
      "Testing ML model from: results/newlbls-bl-espad-fu3-29d-onset-15-n654/20210618-1023\n",
      "training accuracy: 96.26% \t holdout accuracy: 55.22% \t holdout AUC ROC: 58.62%\n",
      "Testing ML model from: results/newlbls-bl-espad-fu3-prev31-amount-n620/20210618-1029\n",
      "training accuracy: 98.35% \t holdout accuracy: 53.62% \t holdout AUC ROC: 54.21%\n",
      "Testing ML model from: results/newlbls-bl-espad-fu3-8c-frequency-n660/20210618-1026\n"
     ]
    },
    {
     "name": "stderr",
     "output_type": "stream",
     "text": [
      "/ritter/roshan/installations/anaconda3/lib/python3.7/site-packages/sklearn/svm/_base.py:258: ConvergenceWarning: Solver terminated early (max_iter=10000).  Consider pre-processing your data with StandardScaler or MinMaxScaler.\n",
      "  % self.max_iter, ConvergenceWarning)\n"
     ]
    },
    {
     "name": "stdout",
     "output_type": "stream",
     "text": [
      "training accuracy: 95.64% \t holdout accuracy: 53.68% \t holdout AUC ROC: 50.75%\n",
      "Testing ML model from: results/newlbls-bl-our-combo-cluster-combined-ours-n793/20210618-1035\n",
      "training accuracy: 76.04% \t holdout accuracy: 54.43% \t holdout AUC ROC: 60.00%\n",
      "Testing ML model from: results/newlbls-bl-audit-fu3-audit-freq-audit-quick-n614/20210618-1012\n",
      "training accuracy: 97.83% \t holdout accuracy: 58.26% \t holdout AUC ROC: 62.37%\n",
      "Testing ML model from: results/newlbls-bl-audit-fu3-audit-total-audit-n687/20210618-1014\n"
     ]
    },
    {
     "name": "stderr",
     "output_type": "stream",
     "text": [
      "/ritter/roshan/installations/anaconda3/lib/python3.7/site-packages/xgboost/sklearn.py:888: UserWarning: The use of label encoder in XGBClassifier is deprecated and will be removed in a future release. To remove this warning, do the following: 1) Pass option use_label_encoder=False when constructing XGBClassifier object; and 2) Encode your labels (y) as integers starting with 0, i.e. 0, 1, 2, ..., [num_class - 1].\n",
      "  warnings.warn(label_encoder_deprecation_msg, UserWarning)\n"
     ]
    },
    {
     "name": "stdout",
     "output_type": "stream",
     "text": [
      "training accuracy: 95.14% \t holdout accuracy: 58.02% \t holdout AUC ROC: 71.01%\n",
      "Testing ML model from: results/newlbls-bl-audit-fu3-audit-total-audit-n687/20210618-1014\n",
      "training accuracy: 95.31% \t holdout accuracy: 62.34% \t holdout AUC ROC: 62.05%\n",
      "Testing ML model from: results/newlbls-bl-audit-gm-fine-cluster-audit-growth-n759/20210618-1017\n",
      "training accuracy: 94.78% \t holdout accuracy: 61.90% \t holdout AUC ROC: 67.91%\n",
      "Testing ML model from: results/newlbls-bl-audit-gm-fine-cluster-audit-growth-n759/20210618-1017\n",
      "training accuracy: 73.25% \t holdout accuracy: 49.19% \t holdout AUC ROC: 51.45%\n",
      "Testing ML model from: results/newlbls-bl-espad-fu3-8c-frequency-n660/20210618-1026\n",
      "training accuracy: 94.03% \t holdout accuracy: 49.43% \t holdout AUC ROC: 50.06%\n",
      "Testing ML model from: results/newlbls-bl-espad-fu3-29d-onset-15-n654/20210618-1023\n",
      "training accuracy: 75.18% \t holdout accuracy: 62.51% \t holdout AUC ROC: 64.72%\n",
      "Testing ML model from: results/newlbls-bl-espad-fu3-prev31-amount-n620/20210618-1029\n",
      "training accuracy: 97.68% \t holdout accuracy: 49.92% \t holdout AUC ROC: 56.85%\n",
      "Testing ML model from: results/newlbls-bl-espad-fu3-29d-onset-15-n654/20210618-1023\n"
     ]
    },
    {
     "name": "stderr",
     "output_type": "stream",
     "text": [
      "/ritter/roshan/installations/anaconda3/lib/python3.7/site-packages/xgboost/sklearn.py:888: UserWarning: The use of label encoder in XGBClassifier is deprecated and will be removed in a future release. To remove this warning, do the following: 1) Pass option use_label_encoder=False when constructing XGBClassifier object; and 2) Encode your labels (y) as integers starting with 0, i.e. 0, 1, 2, ..., [num_class - 1].\n",
      "  warnings.warn(label_encoder_deprecation_msg, UserWarning)\n"
     ]
    },
    {
     "name": "stdout",
     "output_type": "stream",
     "text": [
      "training accuracy: 96.26% \t holdout accuracy: 49.94% \t holdout AUC ROC: 60.49%\n",
      "Testing ML model from: results/newlbls-bl-espad-fu3-prev31-amount-n620/20210618-1029\n"
     ]
    },
    {
     "name": "stderr",
     "output_type": "stream",
     "text": [
      "/ritter/roshan/installations/anaconda3/lib/python3.7/site-packages/sklearn/svm/_base.py:258: ConvergenceWarning: Solver terminated early (max_iter=10000).  Consider pre-processing your data with StandardScaler or MinMaxScaler.\n",
      "  % self.max_iter, ConvergenceWarning)\n",
      "/ritter/roshan/installations/anaconda3/lib/python3.7/site-packages/xgboost/sklearn.py:888: UserWarning: The use of label encoder in XGBClassifier is deprecated and will be removed in a future release. To remove this warning, do the following: 1) Pass option use_label_encoder=False when constructing XGBClassifier object; and 2) Encode your labels (y) as integers starting with 0, i.e. 0, 1, 2, ..., [num_class - 1].\n",
      "  warnings.warn(label_encoder_deprecation_msg, UserWarning)\n"
     ]
    },
    {
     "name": "stdout",
     "output_type": "stream",
     "text": [
      "training accuracy: 97.20% \t holdout accuracy: 51.43% \t holdout AUC ROC: 53.87%\n",
      "Testing ML model from: results/newlbls-bl-espad-fu3-8c-frequency-n660/20210618-1026\n",
      "training accuracy: 94.27% \t holdout accuracy: 46.01% \t holdout AUC ROC: 47.99%\n",
      "Testing ML model from: results/newlbls-bl-audit-gm-fine-cluster-audit-growth-n759/20210618-1017\n",
      "training accuracy: 73.14% \t holdout accuracy: 53.81% \t holdout AUC ROC: 55.34%\n",
      "Testing ML model from: results/newlbls-bl-audit-gm-fine-cluster-audit-growth-n759/20210618-1017\n",
      "training accuracy: 96.44% \t holdout accuracy: 52.42% \t holdout AUC ROC: 51.17%\n",
      "Testing ML model from: results/newlbls-bl-audit-gm-fine-cluster-audit-growth-n759/20210618-1017\n",
      "training accuracy: 75.04% \t holdout accuracy: 53.17% \t holdout AUC ROC: 53.78%\n",
      "Testing ML model from: results/newlbls-bl-audit-gm-fine-cluster-audit-growth-n759/20210618-1017\n"
     ]
    },
    {
     "name": "stderr",
     "output_type": "stream",
     "text": [
      "/ritter/roshan/installations/anaconda3/lib/python3.7/site-packages/sklearn/svm/_base.py:258: ConvergenceWarning: Solver terminated early (max_iter=10000).  Consider pre-processing your data with StandardScaler or MinMaxScaler.\n",
      "  % self.max_iter, ConvergenceWarning)\n",
      "/ritter/roshan/installations/anaconda3/lib/python3.7/site-packages/xgboost/sklearn.py:888: UserWarning: The use of label encoder in XGBClassifier is deprecated and will be removed in a future release. To remove this warning, do the following: 1) Pass option use_label_encoder=False when constructing XGBClassifier object; and 2) Encode your labels (y) as integers starting with 0, i.e. 0, 1, 2, ..., [num_class - 1].\n",
      "  warnings.warn(label_encoder_deprecation_msg, UserWarning)\n"
     ]
    },
    {
     "name": "stdout",
     "output_type": "stream",
     "text": [
      "training accuracy: 96.01% \t holdout accuracy: 54.89% \t holdout AUC ROC: 56.06%\n",
      "Testing ML model from: results/newlbls-bl-espad-fu3-8c-frequency-n660/20210618-1026\n",
      "training accuracy: 96.39% \t holdout accuracy: 47.66% \t holdout AUC ROC: 47.37%\n",
      "Testing ML model from: results/newlbls-bl-espad-fu3-8c-frequency-n660/20210618-1026\n",
      "training accuracy: 76.79% \t holdout accuracy: 60.34% \t holdout AUC ROC: 61.42%\n",
      "Testing ML model from: results/newlbls-bl-audit-fu3-audit-freq-audit-quick-n614/20210618-1012\n"
     ]
    },
    {
     "name": "stderr",
     "output_type": "stream",
     "text": [
      "/ritter/roshan/installations/anaconda3/lib/python3.7/site-packages/xgboost/sklearn.py:888: UserWarning: The use of label encoder in XGBClassifier is deprecated and will be removed in a future release. To remove this warning, do the following: 1) Pass option use_label_encoder=False when constructing XGBClassifier object; and 2) Encode your labels (y) as integers starting with 0, i.e. 0, 1, 2, ..., [num_class - 1].\n",
      "  warnings.warn(label_encoder_deprecation_msg, UserWarning)\n"
     ]
    },
    {
     "name": "stdout",
     "output_type": "stream",
     "text": [
      "training accuracy: 96.49% \t holdout accuracy: 59.58% \t holdout AUC ROC: 66.29%\n",
      "Testing ML model from: results/newlbls-bl-audit-fu3-audit-total-audit-n687/20210618-1014\n"
     ]
    },
    {
     "name": "stderr",
     "output_type": "stream",
     "text": [
      "/ritter/roshan/installations/anaconda3/lib/python3.7/site-packages/sklearn/svm/_base.py:258: ConvergenceWarning: Solver terminated early (max_iter=10000).  Consider pre-processing your data with StandardScaler or MinMaxScaler.\n",
      "  % self.max_iter, ConvergenceWarning)\n"
     ]
    },
    {
     "name": "stdout",
     "output_type": "stream",
     "text": [
      "training accuracy: 96.70% \t holdout accuracy: 53.62% \t holdout AUC ROC: 57.03%\n",
      "Testing ML model from: results/newlbls-bl-espad-fu3-29d-onset-15-n654/20210618-1023\n",
      "training accuracy: 77.80% \t holdout accuracy: 61.56% \t holdout AUC ROC: 60.12%\n",
      "Testing ML model from: results/newlbls-bl-audit-gm-fine-cluster-audit-growth-n759/20210618-1017\n",
      "training accuracy: 96.40% \t holdout accuracy: 56.62% \t holdout AUC ROC: 61.51%\n",
      "Testing ML model from: results/newlbls-bl-espad-fu3-8c-frequency-n660/20210618-1026\n",
      "training accuracy: 77.22% \t holdout accuracy: 58.14% \t holdout AUC ROC: 62.76%\n",
      "Testing ML model from: results/newlbls-bl-espad-fu3-8c-frequency-n660/20210618-1026\n",
      "training accuracy: 77.13% \t holdout accuracy: 58.89% \t holdout AUC ROC: 59.83%\n",
      "Testing ML model from: results/newlbls-bl-espad-fu3-29d-onset-15-n654/20210618-1023\n",
      "training accuracy: 75.60% \t holdout accuracy: 63.13% \t holdout AUC ROC: 63.11%\n",
      "Testing ML model from: results/newlbls-bl-audit-fu3-audit-freq-audit-quick-n614/20210618-1012\n",
      "training accuracy: 78.55% \t holdout accuracy: 57.48% \t holdout AUC ROC: 56.96%\n",
      "Testing ML model from: results/newlbls-bl-espad-fu3-8c-frequency-n660/20210618-1026\n",
      "training accuracy: 75.74% \t holdout accuracy: 55.19% \t holdout AUC ROC: 60.64%\n",
      "Testing ML model from: results/newlbls-bl-espad-fu3-8c-frequency-n660/20210618-1026\n",
      "training accuracy: 77.52% \t holdout accuracy: 59.65% \t holdout AUC ROC: 59.02%\n",
      "Testing ML model from: results/newlbls-bl-espad-fu3-8c-frequency-n660/20210618-1026\n"
     ]
    },
    {
     "name": "stderr",
     "output_type": "stream",
     "text": [
      "/ritter/roshan/installations/anaconda3/lib/python3.7/site-packages/xgboost/sklearn.py:888: UserWarning: The use of label encoder in XGBClassifier is deprecated and will be removed in a future release. To remove this warning, do the following: 1) Pass option use_label_encoder=False when constructing XGBClassifier object; and 2) Encode your labels (y) as integers starting with 0, i.e. 0, 1, 2, ..., [num_class - 1].\n",
      "  warnings.warn(label_encoder_deprecation_msg, UserWarning)\n"
     ]
    },
    {
     "name": "stdout",
     "output_type": "stream",
     "text": [
      "training accuracy: 95.86% \t holdout accuracy: 50.81% \t holdout AUC ROC: 52.26%\n",
      "Testing ML model from: results/newlbls-bl-espad-fu3-29d-onset-15-n654/20210618-1023\n",
      "training accuracy: 95.99% \t holdout accuracy: 51.40% \t holdout AUC ROC: 62.36%\n",
      "Testing ML model from: results/newlbls-bl-espad-fu3-8c-frequency-n660/20210618-1026\n",
      "training accuracy: 76.21% \t holdout accuracy: 56.08% \t holdout AUC ROC: 59.79%\n",
      "Testing ML model from: results/newlbls-bl-espad-fu3-29d-onset-15-n654/20210618-1023\n",
      "training accuracy: 96.52% \t holdout accuracy: 57.07% \t holdout AUC ROC: 58.74%\n",
      "Testing ML model from: results/newlbls-bl-espad-fu3-29d-onset-15-n654/20210618-1023\n",
      "training accuracy: 95.19% \t holdout accuracy: 49.27% \t holdout AUC ROC: 59.71%\n",
      "Testing ML model from: results/newlbls-bl-espad-fu3-29d-onset-15-n654/20210618-1023\n",
      "training accuracy: 95.99% \t holdout accuracy: 48.71% \t holdout AUC ROC: 57.43%\n",
      "Testing ML model from: results/newlbls-bl-espad-fu3-29d-onset-15-n654/20210618-1023\n",
      "training accuracy: 97.33% \t holdout accuracy: 56.45% \t holdout AUC ROC: 54.70%\n",
      "Testing ML model from: results/newlbls-bl-audit-gm-fine-cluster-audit-growth-n759/20210618-1017\n"
     ]
    },
    {
     "name": "stderr",
     "output_type": "stream",
     "text": [
      "/ritter/roshan/installations/anaconda3/lib/python3.7/site-packages/sklearn/svm/_base.py:258: ConvergenceWarning: Solver terminated early (max_iter=10000).  Consider pre-processing your data with StandardScaler or MinMaxScaler.\n",
      "  % self.max_iter, ConvergenceWarning)\n"
     ]
    },
    {
     "name": "stdout",
     "output_type": "stream",
     "text": [
      "training accuracy: 95.48% \t holdout accuracy: 56.51% \t holdout AUC ROC: 55.34%\n",
      "Testing ML model from: results/newlbls-bl-espad-fu3-8c-frequency-n660/20210618-1026\n",
      "training accuracy: 94.29% \t holdout accuracy: 57.94% \t holdout AUC ROC: 53.36%\n",
      "Testing ML model from: results/newlbls-bl-espad-fu3-29d-onset-15-n654/20210618-1023\n"
     ]
    },
    {
     "name": "stderr",
     "output_type": "stream",
     "text": [
      "/ritter/roshan/installations/anaconda3/lib/python3.7/site-packages/xgboost/sklearn.py:888: UserWarning: The use of label encoder in XGBClassifier is deprecated and will be removed in a future release. To remove this warning, do the following: 1) Pass option use_label_encoder=False when constructing XGBClassifier object; and 2) Encode your labels (y) as integers starting with 0, i.e. 0, 1, 2, ..., [num_class - 1].\n",
      "  warnings.warn(label_encoder_deprecation_msg, UserWarning)\n"
     ]
    },
    {
     "name": "stdout",
     "output_type": "stream",
     "text": [
      "training accuracy: 96.26% \t holdout accuracy: 50.84% \t holdout AUC ROC: 58.25%\n",
      "Testing ML model from: results/newlbls-bl-espad-fu3-29d-onset-15-n654/20210618-1023\n"
     ]
    },
    {
     "name": "stderr",
     "output_type": "stream",
     "text": [
      "/ritter/roshan/installations/anaconda3/lib/python3.7/site-packages/xgboost/sklearn.py:888: UserWarning: The use of label encoder in XGBClassifier is deprecated and will be removed in a future release. To remove this warning, do the following: 1) Pass option use_label_encoder=False when constructing XGBClassifier object; and 2) Encode your labels (y) as integers starting with 0, i.e. 0, 1, 2, ..., [num_class - 1].\n",
      "  warnings.warn(label_encoder_deprecation_msg, UserWarning)\n"
     ]
    },
    {
     "name": "stdout",
     "output_type": "stream",
     "text": [
      "training accuracy: 94.12% \t holdout accuracy: 51.46% \t holdout AUC ROC: 60.83%\n",
      "Testing ML model from: results/newlbls-bl-espad-fu3-29d-onset-15-n654/20210618-1023\n",
      "training accuracy: 77.32% \t holdout accuracy: 66.11% \t holdout AUC ROC: 67.79%\n",
      "Testing ML model from: results/newlbls-fu2-espad-fu3-19a-binge-n634/20210618-1050\n",
      "training accuracy: 98.93% \t holdout accuracy: 77.57% \t holdout AUC ROC: 84.51%\n",
      "Testing ML model from: results/newlbls-fu2-espad-fu3-19a-binge-n634/20210618-1050\n",
      "training accuracy: 99.08% \t holdout accuracy: 78.42% \t holdout AUC ROC: 84.75%\n",
      "Testing ML model from: results/newlbls-fu2-espad-fu3-19a-binge-n634/20210618-1050\n"
     ]
    },
    {
     "name": "stderr",
     "output_type": "stream",
     "text": [
      "/ritter/roshan/installations/anaconda3/lib/python3.7/site-packages/xgboost/sklearn.py:888: UserWarning: The use of label encoder in XGBClassifier is deprecated and will be removed in a future release. To remove this warning, do the following: 1) Pass option use_label_encoder=False when constructing XGBClassifier object; and 2) Encode your labels (y) as integers starting with 0, i.e. 0, 1, 2, ..., [num_class - 1].\n",
      "  warnings.warn(label_encoder_deprecation_msg, UserWarning)\n"
     ]
    },
    {
     "name": "stdout",
     "output_type": "stream",
     "text": [
      "training accuracy: 99.11% \t holdout accuracy: 73.87% \t holdout AUC ROC: 81.75%\n",
      "Testing ML model from: results/newlbls-fu2-espad-fu3-19a-binge-n634/20210618-1050\n",
      "training accuracy: 99.36% \t holdout accuracy: 81.06% \t holdout AUC ROC: 85.34%\n",
      "Testing ML model from: results/newlbls-fu2-espad-fu3-19a-binge-n634/20210618-1050\n"
     ]
    },
    {
     "name": "stderr",
     "output_type": "stream",
     "text": [
      "/ritter/roshan/installations/anaconda3/lib/python3.7/site-packages/xgboost/sklearn.py:888: UserWarning: The use of label encoder in XGBClassifier is deprecated and will be removed in a future release. To remove this warning, do the following: 1) Pass option use_label_encoder=False when constructing XGBClassifier object; and 2) Encode your labels (y) as integers starting with 0, i.e. 0, 1, 2, ..., [num_class - 1].\n",
      "  warnings.warn(label_encoder_deprecation_msg, UserWarning)\n"
     ]
    },
    {
     "name": "stdout",
     "output_type": "stream",
     "text": [
      "training accuracy: 99.22% \t holdout accuracy: 70.38% \t holdout AUC ROC: 82.54%\n",
      "Testing ML model from: results/newlbls-fu2-espad-fu3-19a-binge-n634/20210618-1050\n",
      "training accuracy: 98.90% \t holdout accuracy: 79.58% \t holdout AUC ROC: 85.34%\n",
      "Testing ML model from: results/newlbls-fu2-espad-fu3-19a-binge-n634/20210618-1050\n"
     ]
    },
    {
     "name": "stderr",
     "output_type": "stream",
     "text": [
      "/ritter/roshan/installations/anaconda3/lib/python3.7/site-packages/xgboost/sklearn.py:888: UserWarning: The use of label encoder in XGBClassifier is deprecated and will be removed in a future release. To remove this warning, do the following: 1) Pass option use_label_encoder=False when constructing XGBClassifier object; and 2) Encode your labels (y) as integers starting with 0, i.e. 0, 1, 2, ..., [num_class - 1].\n",
      "  warnings.warn(label_encoder_deprecation_msg, UserWarning)\n"
     ]
    },
    {
     "name": "stdout",
     "output_type": "stream",
     "text": [
      "training accuracy: 98.44% \t holdout accuracy: 73.87% \t holdout AUC ROC: 81.00%\n",
      "Testing ML model from: results/newlbls-fu2-espad-fu3-19a-binge-n634/20210618-1050\n"
     ]
    },
    {
     "name": "stderr",
     "output_type": "stream",
     "text": [
      "/ritter/roshan/installations/anaconda3/lib/python3.7/site-packages/xgboost/sklearn.py:888: UserWarning: The use of label encoder in XGBClassifier is deprecated and will be removed in a future release. To remove this warning, do the following: 1) Pass option use_label_encoder=False when constructing XGBClassifier object; and 2) Encode your labels (y) as integers starting with 0, i.e. 0, 1, 2, ..., [num_class - 1].\n",
      "  warnings.warn(label_encoder_deprecation_msg, UserWarning)\n"
     ]
    },
    {
     "name": "stdout",
     "output_type": "stream",
     "text": [
      "training accuracy: 99.08% \t holdout accuracy: 77.67% \t holdout AUC ROC: 81.08%\n",
      "Testing ML model from: results/newlbls-fu2-espad-fu3-19a-binge-n634/20210618-1050\n",
      "training accuracy: 98.64% \t holdout accuracy: 77.57% \t holdout AUC ROC: 83.33%\n",
      "Testing ML model from: results/newlbls-fu2-espad-fu3-19a-binge-n634/20210618-1050\n",
      "training accuracy: 97.66% \t holdout accuracy: 79.27% \t holdout AUC ROC: 83.96%\n",
      "Testing ML model from: results/newlbls-fu2-audit-gm-fine-cluster-audit-growth-n713/20210618-1047\n"
     ]
    },
    {
     "name": "stderr",
     "output_type": "stream",
     "text": [
      "/ritter/roshan/installations/anaconda3/lib/python3.7/site-packages/xgboost/sklearn.py:888: UserWarning: The use of label encoder in XGBClassifier is deprecated and will be removed in a future release. To remove this warning, do the following: 1) Pass option use_label_encoder=False when constructing XGBClassifier object; and 2) Encode your labels (y) as integers starting with 0, i.e. 0, 1, 2, ..., [num_class - 1].\n",
      "  warnings.warn(label_encoder_deprecation_msg, UserWarning)\n"
     ]
    },
    {
     "name": "stdout",
     "output_type": "stream",
     "text": [
      "training accuracy: 95.03% \t holdout accuracy: 55.03% \t holdout AUC ROC: 58.68%\n",
      "Testing ML model from: results/newlbls-fu2-audit-fu3-audit-freq-audit-quick-n628/20210618-1042\n",
      "training accuracy: 97.84% \t holdout accuracy: 48.66% \t holdout AUC ROC: 56.07%\n",
      "Testing ML model from: results/newlbls-fu2-our-combo-cluster-combined-ours-n745/20210618-1104\n",
      "training accuracy: 95.43% \t holdout accuracy: 58.63% \t holdout AUC ROC: 61.04%\n",
      "Testing ML model from: results/newlbls-fu2-espad-fu3-19a-binge-n634/20210618-1050\n",
      "training accuracy: 99.14% \t holdout accuracy: 70.79% \t holdout AUC ROC: 73.63%\n",
      "Testing ML model from: results/newlbls-fu2-espad-gm-fine-cluster-binge-growth-n775/20210618-1101\n",
      "training accuracy: 96.84% \t holdout accuracy: 57.22% \t holdout AUC ROC: 65.22%\n",
      "Testing ML model from: results/newlbls-fu2-espad-fu3-19a-binge-n634/20210618-1050\n"
     ]
    },
    {
     "name": "stderr",
     "output_type": "stream",
     "text": [
      "/ritter/roshan/installations/anaconda3/lib/python3.7/site-packages/xgboost/sklearn.py:888: UserWarning: The use of label encoder in XGBClassifier is deprecated and will be removed in a future release. To remove this warning, do the following: 1) Pass option use_label_encoder=False when constructing XGBClassifier object; and 2) Encode your labels (y) as integers starting with 0, i.e. 0, 1, 2, ..., [num_class - 1].\n",
      "  warnings.warn(label_encoder_deprecation_msg, UserWarning)\n"
     ]
    },
    {
     "name": "stdout",
     "output_type": "stream",
     "text": [
      "training accuracy: 99.54% \t holdout accuracy: 76.19% \t holdout AUC ROC: 82.81%\n",
      "Testing ML model from: results/newlbls-fu2-espad-fu3-19a-binge-n634/20210618-1050\n"
     ]
    },
    {
     "name": "stderr",
     "output_type": "stream",
     "text": [
      "/ritter/roshan/installations/anaconda3/lib/python3.7/site-packages/xgboost/sklearn.py:888: UserWarning: The use of label encoder in XGBClassifier is deprecated and will be removed in a future release. To remove this warning, do the following: 1) Pass option use_label_encoder=False when constructing XGBClassifier object; and 2) Encode your labels (y) as integers starting with 0, i.e. 0, 1, 2, ..., [num_class - 1].\n",
      "  warnings.warn(label_encoder_deprecation_msg, UserWarning)\n"
     ]
    },
    {
     "name": "stdout",
     "output_type": "stream",
     "text": [
      "training accuracy: 98.56% \t holdout accuracy: 79.68% \t holdout AUC ROC: 81.16%\n",
      "Testing ML model from: results/newlbls-fu2-our-combo-cluster-combined-ours-n745/20210618-1104\n",
      "training accuracy: 94.69% \t holdout accuracy: 57.65% \t holdout AUC ROC: 58.84%\n",
      "Testing ML model from: results/newlbls-fu2-espad-fu3-19a-binge-n634/20210618-1050\n",
      "training accuracy: 98.71% \t holdout accuracy: 73.65% \t holdout AUC ROC: 74.89%\n",
      "Testing ML model from: results/newlbls-fu2-espad-fu3-19a-binge-n634/20210618-1050\n"
     ]
    },
    {
     "name": "stderr",
     "output_type": "stream",
     "text": [
      "/ritter/roshan/installations/anaconda3/lib/python3.7/site-packages/xgboost/sklearn.py:888: UserWarning: The use of label encoder in XGBClassifier is deprecated and will be removed in a future release. To remove this warning, do the following: 1) Pass option use_label_encoder=False when constructing XGBClassifier object; and 2) Encode your labels (y) as integers starting with 0, i.e. 0, 1, 2, ..., [num_class - 1].\n",
      "  warnings.warn(label_encoder_deprecation_msg, UserWarning)\n"
     ]
    },
    {
     "name": "stdout",
     "output_type": "stream",
     "text": [
      "training accuracy: 98.53% \t holdout accuracy: 73.65% \t holdout AUC ROC: 83.72%\n",
      "Testing ML model from: results/newlbls-fu2-espad-gm-fine-cluster-binge-growth-n775/20210618-1101\n",
      "training accuracy: 96.75% \t holdout accuracy: 62.13% \t holdout AUC ROC: 66.55%\n",
      "Testing ML model from: results/newlbls-fu2-espad-gm-fine-cluster-binge-growth-n775/20210618-1101\n",
      "training accuracy: 94.42% \t holdout accuracy: 57.75% \t holdout AUC ROC: 66.69%\n",
      "Testing ML model from: results/newlbls-fu2-espad-fu3-19a-binge-n634/20210618-1050\n",
      "training accuracy: 97.61% \t holdout accuracy: 77.36% \t holdout AUC ROC: 84.15%\n",
      "Testing ML model from: results/newlbls-fu2-espad-fu3-19a-binge-n634/20210618-1050\n",
      "training accuracy: 98.79% \t holdout accuracy: 72.49% \t holdout AUC ROC: 76.78%\n",
      "Testing ML model from: results/newlbls-fu2-audit-fu3-audit-total-audit-n705/20210618-1044\n"
     ]
    },
    {
     "name": "stderr",
     "output_type": "stream",
     "text": [
      "/ritter/roshan/installations/anaconda3/lib/python3.7/site-packages/xgboost/sklearn.py:888: UserWarning: The use of label encoder in XGBClassifier is deprecated and will be removed in a future release. To remove this warning, do the following: 1) Pass option use_label_encoder=False when constructing XGBClassifier object; and 2) Encode your labels (y) as integers starting with 0, i.e. 0, 1, 2, ..., [num_class - 1].\n",
      "  warnings.warn(label_encoder_deprecation_msg, UserWarning)\n"
     ]
    },
    {
     "name": "stdout",
     "output_type": "stream",
     "text": [
      "training accuracy: 95.57% \t holdout accuracy: 54.89% \t holdout AUC ROC: 60.36%\n",
      "Testing ML model from: results/newlbls-fu2-our-combo-cluster-combined-ours-n745/20210618-1104\n",
      "training accuracy: 93.70% \t holdout accuracy: 57.30% \t holdout AUC ROC: 60.02%\n",
      "Testing ML model from: results/newlbls-fu2-espad-fu3-19a-binge-n634/20210618-1050\n",
      "training accuracy: 99.14% \t holdout accuracy: 70.79% \t holdout AUC ROC: 74.42%\n",
      "Testing ML model from: results/newlbls-fu2-audit-fu3-audit-total-audit-n705/20210618-1044\n",
      "training accuracy: 96.84% \t holdout accuracy: 56.17% \t holdout AUC ROC: 60.40%\n",
      "Testing ML model from: results/newlbls-fu2-phenotype-phenotype-combined-seo-n782/20210618-1108\n",
      "training accuracy: 96.50% \t holdout accuracy: 58.58% \t holdout AUC ROC: 68.77%\n",
      "Testing ML model from: results/newlbls-fu2-our-combo-cluster-combined-ours-n745/20210618-1104\n",
      "training accuracy: 95.86% \t holdout accuracy: 55.13% \t holdout AUC ROC: 60.74%\n",
      "Testing ML model from: results/newlbls-fu2-espad-fu3-prev31-amount-n641/20210618-1059\n"
     ]
    },
    {
     "name": "stderr",
     "output_type": "stream",
     "text": [
      "/ritter/roshan/installations/anaconda3/lib/python3.7/site-packages/xgboost/sklearn.py:888: UserWarning: The use of label encoder in XGBClassifier is deprecated and will be removed in a future release. To remove this warning, do the following: 1) Pass option use_label_encoder=False when constructing XGBClassifier object; and 2) Encode your labels (y) as integers starting with 0, i.e. 0, 1, 2, ..., [num_class - 1].\n",
      "  warnings.warn(label_encoder_deprecation_msg, UserWarning)\n"
     ]
    },
    {
     "name": "stdout",
     "output_type": "stream",
     "text": [
      "training accuracy: 95.67% \t holdout accuracy: 60.52% \t holdout AUC ROC: 62.01%\n",
      "Testing ML model from: results/newlbls-fu2-our-combo-cluster-combined-ours-n745/20210618-1104\n"
     ]
    },
    {
     "name": "stderr",
     "output_type": "stream",
     "text": [
      "/ritter/roshan/installations/anaconda3/lib/python3.7/site-packages/xgboost/sklearn.py:888: UserWarning: The use of label encoder in XGBClassifier is deprecated and will be removed in a future release. To remove this warning, do the following: 1) Pass option use_label_encoder=False when constructing XGBClassifier object; and 2) Encode your labels (y) as integers starting with 0, i.e. 0, 1, 2, ..., [num_class - 1].\n",
      "  warnings.warn(label_encoder_deprecation_msg, UserWarning)\n"
     ]
    },
    {
     "name": "stdout",
     "output_type": "stream",
     "text": [
      "training accuracy: 98.25% \t holdout accuracy: 58.36% \t holdout AUC ROC: 65.46%\n",
      "Testing ML model from: results/newlbls-fu2-espad-fu3-19a-binge-n634/20210618-1050\n",
      "training accuracy: 97.55% \t holdout accuracy: 73.55% \t holdout AUC ROC: 82.81%\n",
      "Testing ML model from: results/newlbls-fu2-audit-fu3-audit-freq-audit-quick-n628/20210618-1042\n",
      "training accuracy: 97.50% \t holdout accuracy: 53.08% \t holdout AUC ROC: 56.07%\n",
      "Testing ML model from: results/newlbls-fu2-phenotype-phenotype-combined-seo-n782/20210618-1108\n",
      "training accuracy: 94.94% \t holdout accuracy: 65.52% \t holdout AUC ROC: 76.88%\n",
      "Testing ML model from: results/newlbls-fu2-phenotype-phenotype-combined-seo-n782/20210618-1108\n"
     ]
    },
    {
     "name": "stderr",
     "output_type": "stream",
     "text": [
      "/ritter/roshan/installations/anaconda3/lib/python3.7/site-packages/xgboost/sklearn.py:888: UserWarning: The use of label encoder in XGBClassifier is deprecated and will be removed in a future release. To remove this warning, do the following: 1) Pass option use_label_encoder=False when constructing XGBClassifier object; and 2) Encode your labels (y) as integers starting with 0, i.e. 0, 1, 2, ..., [num_class - 1].\n",
      "  warnings.warn(label_encoder_deprecation_msg, UserWarning)\n"
     ]
    },
    {
     "name": "stdout",
     "output_type": "stream",
     "text": [
      "training accuracy: 96.60% \t holdout accuracy: 67.74% \t holdout AUC ROC: 75.18%\n",
      "Testing ML model from: results/newlbls-fu2-espad-gm-fine-cluster-binge-growth-n775/20210618-1101\n",
      "training accuracy: 76.73% \t holdout accuracy: 54.56% \t holdout AUC ROC: 59.29%\n",
      "Testing ML model from: results/newlbls-fu2-espad-gm-fine-cluster-binge-growth-n775/20210618-1101\n",
      "training accuracy: 79.44% \t holdout accuracy: 51.02% \t holdout AUC ROC: 56.84%\n",
      "Testing ML model from: results/newlbls-fu2-phenotype-phenotype-combined-seo-n782/20210618-1108\n",
      "training accuracy: 94.07% \t holdout accuracy: 66.02% \t holdout AUC ROC: 73.04%\n",
      "Testing ML model from: results/newlbls-fu2-audit-fu3-audit-freq-audit-quick-n628/20210618-1042\n"
     ]
    },
    {
     "name": "stderr",
     "output_type": "stream",
     "text": [
      "/ritter/roshan/installations/anaconda3/lib/python3.7/site-packages/xgboost/sklearn.py:888: UserWarning: The use of label encoder in XGBClassifier is deprecated and will be removed in a future release. To remove this warning, do the following: 1) Pass option use_label_encoder=False when constructing XGBClassifier object; and 2) Encode your labels (y) as integers starting with 0, i.e. 0, 1, 2, ..., [num_class - 1].\n",
      "  warnings.warn(label_encoder_deprecation_msg, UserWarning)\n"
     ]
    },
    {
     "name": "stdout",
     "output_type": "stream",
     "text": [
      "training accuracy: 97.75% \t holdout accuracy: 57.10% \t holdout AUC ROC: 60.49%\n",
      "Testing ML model from: results/newlbls-fu2-our-combo-cluster-combined-ours-n745/20210618-1104\n"
     ]
    },
    {
     "name": "stderr",
     "output_type": "stream",
     "text": [
      "/ritter/roshan/installations/anaconda3/lib/python3.7/site-packages/xgboost/sklearn.py:888: UserWarning: The use of label encoder in XGBClassifier is deprecated and will be removed in a future release. To remove this warning, do the following: 1) Pass option use_label_encoder=False when constructing XGBClassifier object; and 2) Encode your labels (y) as integers starting with 0, i.e. 0, 1, 2, ..., [num_class - 1].\n",
      "  warnings.warn(label_encoder_deprecation_msg, UserWarning)\n"
     ]
    },
    {
     "name": "stdout",
     "output_type": "stream",
     "text": [
      "training accuracy: 97.98% \t holdout accuracy: 53.24% \t holdout AUC ROC: 60.75%\n",
      "Testing ML model from: results/newlbls-fu2-espad-gm-fine-cluster-binge-growth-n775/20210618-1101\n"
     ]
    },
    {
     "name": "stderr",
     "output_type": "stream",
     "text": [
      "/ritter/roshan/installations/anaconda3/lib/python3.7/site-packages/xgboost/sklearn.py:888: UserWarning: The use of label encoder in XGBClassifier is deprecated and will be removed in a future release. To remove this warning, do the following: 1) Pass option use_label_encoder=False when constructing XGBClassifier object; and 2) Encode your labels (y) as integers starting with 0, i.e. 0, 1, 2, ..., [num_class - 1].\n",
      "  warnings.warn(label_encoder_deprecation_msg, UserWarning)\n"
     ]
    },
    {
     "name": "stdout",
     "output_type": "stream",
     "text": [
      "training accuracy: 96.09% \t holdout accuracy: 66.20% \t holdout AUC ROC: 66.62%\n",
      "Testing ML model from: results/newlbls-fu2-audit-gm-fine-cluster-audit-growth-n713/20210618-1047\n",
      "training accuracy: 95.20% \t holdout accuracy: 50.83% \t holdout AUC ROC: 53.73%\n",
      "Testing ML model from: results/newlbls-fu2-espad-fu3-19a-binge-n634/20210618-1050\n",
      "training accuracy: 98.96% \t holdout accuracy: 69.94% \t holdout AUC ROC: 75.21%\n",
      "Testing ML model from: results/newlbls-fu2-espad-gm-fine-cluster-binge-growth-n775/20210618-1101\n",
      "training accuracy: 79.77% \t holdout accuracy: 51.86% \t holdout AUC ROC: 54.70%\n",
      "Testing ML model from: results/newlbls-fu2-espad-gm-fine-cluster-binge-growth-n775/20210618-1101\n",
      "training accuracy: 97.22% \t holdout accuracy: 59.12% \t holdout AUC ROC: 64.55%\n",
      "Testing ML model from: results/newlbls-fu2-our-combo-cluster-combined-ours-n745/20210618-1104\n",
      "training accuracy: 95.47% \t holdout accuracy: 56.88% \t holdout AUC ROC: 61.10%\n",
      "Testing ML model from: results/newlbls-fu2-espad-fu3-19a-binge-n634/20210618-1050\n",
      "training accuracy: 98.82% \t holdout accuracy: 69.63% \t holdout AUC ROC: 74.38%\n",
      "Testing ML model from: results/newlbls-fu2-phenotype-phenotype-combined-seo-n782/20210618-1108\n",
      "training accuracy: 94.96% \t holdout accuracy: 65.17% \t holdout AUC ROC: 74.58%\n",
      "Testing ML model from: results/newlbls-fu2-our-combo-cluster-combined-ours-n745/20210618-1104\n"
     ]
    },
    {
     "name": "stderr",
     "output_type": "stream",
     "text": [
      "/ritter/roshan/installations/anaconda3/lib/python3.7/site-packages/xgboost/sklearn.py:888: UserWarning: The use of label encoder in XGBClassifier is deprecated and will be removed in a future release. To remove this warning, do the following: 1) Pass option use_label_encoder=False when constructing XGBClassifier object; and 2) Encode your labels (y) as integers starting with 0, i.e. 0, 1, 2, ..., [num_class - 1].\n",
      "  warnings.warn(label_encoder_deprecation_msg, UserWarning)\n"
     ]
    },
    {
     "name": "stdout",
     "output_type": "stream",
     "text": [
      "training accuracy: 98.69% \t holdout accuracy: 66.89% \t holdout AUC ROC: 67.87%\n",
      "Testing ML model from: results/newlbls-fu2-our-combo-cluster-combined-ours-n745/20210618-1104\n",
      "training accuracy: 98.41% \t holdout accuracy: 58.70% \t holdout AUC ROC: 61.33%\n",
      "Testing ML model from: results/newlbls-fu2-espad-fu3-prev31-amount-n641/20210618-1059\n"
     ]
    },
    {
     "name": "stderr",
     "output_type": "stream",
     "text": [
      "/ritter/roshan/installations/anaconda3/lib/python3.7/site-packages/xgboost/sklearn.py:888: UserWarning: The use of label encoder in XGBClassifier is deprecated and will be removed in a future release. To remove this warning, do the following: 1) Pass option use_label_encoder=False when constructing XGBClassifier object; and 2) Encode your labels (y) as integers starting with 0, i.e. 0, 1, 2, ..., [num_class - 1].\n",
      "  warnings.warn(label_encoder_deprecation_msg, UserWarning)\n"
     ]
    },
    {
     "name": "stdout",
     "output_type": "stream",
     "text": [
      "training accuracy: 97.22% \t holdout accuracy: 43.77% \t holdout AUC ROC: 54.77%\n",
      "Testing ML model from: results/newlbls-fu2-espad-fu3-19a-binge-n634/20210618-1050\n",
      "training accuracy: 99.11% \t holdout accuracy: 71.96% \t holdout AUC ROC: 73.35%\n",
      "Testing ML model from: results/newlbls-fu2-espad-gm-fine-cluster-binge-growth-n775/20210618-1101\n"
     ]
    },
    {
     "name": "stderr",
     "output_type": "stream",
     "text": [
      "/ritter/roshan/installations/anaconda3/lib/python3.7/site-packages/xgboost/sklearn.py:888: UserWarning: The use of label encoder in XGBClassifier is deprecated and will be removed in a future release. To remove this warning, do the following: 1) Pass option use_label_encoder=False when constructing XGBClassifier object; and 2) Encode your labels (y) as integers starting with 0, i.e. 0, 1, 2, ..., [num_class - 1].\n",
      "  warnings.warn(label_encoder_deprecation_msg, UserWarning)\n"
     ]
    },
    {
     "name": "stdout",
     "output_type": "stream",
     "text": [
      "training accuracy: 95.19% \t holdout accuracy: 61.08% \t holdout AUC ROC: 64.52%\n",
      "Testing ML model from: results/newlbls-fu2-espad-fu3-19a-binge-n634/20210618-1050\n",
      "training accuracy: 98.68% \t holdout accuracy: 71.64% \t holdout AUC ROC: 74.10%\n",
      "Testing ML model from: results/newlbls-fu2-audit-gm-fine-cluster-audit-growth-n713/20210618-1047\n",
      "training accuracy: 97.34% \t holdout accuracy: 50.83% \t holdout AUC ROC: 52.61%\n",
      "Testing ML model from: results/newlbls-fu2-espad-fu3-19a-binge-n634/20210618-1050\n",
      "training accuracy: 81.84% \t holdout accuracy: 69.41% \t holdout AUC ROC: 73.20%\n",
      "Testing ML model from: results/newlbls-fu2-espad-fu3-19a-binge-n634/20210618-1050\n",
      "training accuracy: 98.71% \t holdout accuracy: 73.97% \t holdout AUC ROC: 78.36%\n",
      "Testing ML model from: results/newlbls-fu2-espad-fu3-19a-binge-n634/20210618-1050\n",
      "training accuracy: 98.82% \t holdout accuracy: 67.93% \t holdout AUC ROC: 72.37%\n",
      "Testing ML model from: results/newlbls-fu2-audit-fu3-audit-freq-audit-quick-n628/20210618-1042\n",
      "training accuracy: 98.74% \t holdout accuracy: 52.43% \t holdout AUC ROC: 57.99%\n",
      "Testing ML model from: results/newlbls-fu2-espad-fu3-19a-binge-n634/20210618-1050\n",
      "training accuracy: 99.11% \t holdout accuracy: 71.96% \t holdout AUC ROC: 73.71%\n",
      "Testing ML model from: results/newlbls-fu2-espad-gm-fine-cluster-binge-growth-n775/20210618-1101\n"
     ]
    },
    {
     "name": "stderr",
     "output_type": "stream",
     "text": [
      "/ritter/roshan/installations/anaconda3/lib/python3.7/site-packages/xgboost/sklearn.py:888: UserWarning: The use of label encoder in XGBClassifier is deprecated and will be removed in a future release. To remove this warning, do the following: 1) Pass option use_label_encoder=False when constructing XGBClassifier object; and 2) Encode your labels (y) as integers starting with 0, i.e. 0, 1, 2, ..., [num_class - 1].\n",
      "  warnings.warn(label_encoder_deprecation_msg, UserWarning)\n"
     ]
    },
    {
     "name": "stdout",
     "output_type": "stream",
     "text": [
      "training accuracy: 96.44% \t holdout accuracy: 59.71% \t holdout AUC ROC: 62.10%\n",
      "Testing ML model from: results/newlbls-fu2-espad-fu3-19a-binge-n634/20210618-1050\n",
      "training accuracy: 98.61% \t holdout accuracy: 69.63% \t holdout AUC ROC: 71.74%\n",
      "Testing ML model from: results/newlbls-fu2-our-combo-cluster-combined-ours-n745/20210618-1104\n",
      "training accuracy: 78.57% \t holdout accuracy: 56.61% \t holdout AUC ROC: 62.32%\n",
      "Testing ML model from: results/newlbls-fu2-espad-gm-fine-cluster-binge-growth-n775/20210618-1101\n",
      "training accuracy: 96.67% \t holdout accuracy: 57.50% \t holdout AUC ROC: 65.25%\n",
      "Testing ML model from: results/newlbls-fu2-audit-gm-fine-cluster-audit-growth-n713/20210618-1047\n"
     ]
    },
    {
     "name": "stderr",
     "output_type": "stream",
     "text": [
      "/ritter/roshan/installations/anaconda3/lib/python3.7/site-packages/xgboost/sklearn.py:888: UserWarning: The use of label encoder in XGBClassifier is deprecated and will be removed in a future release. To remove this warning, do the following: 1) Pass option use_label_encoder=False when constructing XGBClassifier object; and 2) Encode your labels (y) as integers starting with 0, i.e. 0, 1, 2, ..., [num_class - 1].\n",
      "  warnings.warn(label_encoder_deprecation_msg, UserWarning)\n"
     ]
    },
    {
     "name": "stdout",
     "output_type": "stream",
     "text": [
      "training accuracy: 95.78% \t holdout accuracy: 59.12% \t holdout AUC ROC: 60.34%\n",
      "Testing ML model from: results/newlbls-fu2-our-combo-cluster-combined-ours-n745/20210618-1104\n"
     ]
    },
    {
     "name": "stderr",
     "output_type": "stream",
     "text": [
      "/ritter/roshan/installations/anaconda3/lib/python3.7/site-packages/xgboost/sklearn.py:888: UserWarning: The use of label encoder in XGBClassifier is deprecated and will be removed in a future release. To remove this warning, do the following: 1) Pass option use_label_encoder=False when constructing XGBClassifier object; and 2) Encode your labels (y) as integers starting with 0, i.e. 0, 1, 2, ..., [num_class - 1].\n",
      "  warnings.warn(label_encoder_deprecation_msg, UserWarning)\n"
     ]
    },
    {
     "name": "stdout",
     "output_type": "stream",
     "text": [
      "training accuracy: 98.05% \t holdout accuracy: 65.35% \t holdout AUC ROC: 67.51%\n",
      "Testing ML model from: results/newlbls-fu2-audit-gm-fine-cluster-audit-growth-n713/20210618-1047\n",
      "training accuracy: 97.46% \t holdout accuracy: 48.67% \t holdout AUC ROC: 43.83%\n",
      "Testing ML model from: results/newlbls-fu2-audit-gm-fine-cluster-audit-growth-n713/20210618-1047\n"
     ]
    },
    {
     "name": "stderr",
     "output_type": "stream",
     "text": [
      "/ritter/roshan/installations/anaconda3/lib/python3.7/site-packages/xgboost/sklearn.py:888: UserWarning: The use of label encoder in XGBClassifier is deprecated and will be removed in a future release. To remove this warning, do the following: 1) Pass option use_label_encoder=False when constructing XGBClassifier object; and 2) Encode your labels (y) as integers starting with 0, i.e. 0, 1, 2, ..., [num_class - 1].\n",
      "  warnings.warn(label_encoder_deprecation_msg, UserWarning)\n"
     ]
    },
    {
     "name": "stdout",
     "output_type": "stream",
     "text": [
      "training accuracy: 95.21% \t holdout accuracy: 58.15% \t holdout AUC ROC: 62.18%\n",
      "Testing ML model from: results/newlbls-fu2-phenotype-phenotype-combined-seo-n782/20210618-1108\n"
     ]
    },
    {
     "name": "stderr",
     "output_type": "stream",
     "text": [
      "/ritter/roshan/installations/anaconda3/lib/python3.7/site-packages/xgboost/sklearn.py:888: UserWarning: The use of label encoder in XGBClassifier is deprecated and will be removed in a future release. To remove this warning, do the following: 1) Pass option use_label_encoder=False when constructing XGBClassifier object; and 2) Encode your labels (y) as integers starting with 0, i.e. 0, 1, 2, ..., [num_class - 1].\n",
      "  warnings.warn(label_encoder_deprecation_msg, UserWarning)\n"
     ]
    },
    {
     "name": "stdout",
     "output_type": "stream",
     "text": [
      "training accuracy: 94.66% \t holdout accuracy: 66.04% \t holdout AUC ROC: 73.61%\n",
      "Testing ML model from: results/newlbls-fu2-espad-fu3-prev31-amount-n641/20210618-1059\n"
     ]
    },
    {
     "name": "stderr",
     "output_type": "stream",
     "text": [
      "/ritter/roshan/installations/anaconda3/lib/python3.7/site-packages/xgboost/sklearn.py:888: UserWarning: The use of label encoder in XGBClassifier is deprecated and will be removed in a future release. To remove this warning, do the following: 1) Pass option use_label_encoder=False when constructing XGBClassifier object; and 2) Encode your labels (y) as integers starting with 0, i.e. 0, 1, 2, ..., [num_class - 1].\n",
      "  warnings.warn(label_encoder_deprecation_msg, UserWarning)\n"
     ]
    },
    {
     "name": "stdout",
     "output_type": "stream",
     "text": [
      "training accuracy: 96.20% \t holdout accuracy: 54.21% \t holdout AUC ROC: 59.32%\n",
      "Testing ML model from: results/newlbls-fu2-espad-fu3-prev31-amount-n641/20210618-1059\n",
      "training accuracy: 96.51% \t holdout accuracy: 56.82% \t holdout AUC ROC: 53.37%\n",
      "Testing ML model from: results/newlbls-fu2-audit-fu3-audit-freq-audit-quick-n628/20210618-1042\n"
     ]
    },
    {
     "name": "stderr",
     "output_type": "stream",
     "text": [
      "/ritter/roshan/installations/anaconda3/lib/python3.7/site-packages/xgboost/sklearn.py:888: UserWarning: The use of label encoder in XGBClassifier is deprecated and will be removed in a future release. To remove this warning, do the following: 1) Pass option use_label_encoder=False when constructing XGBClassifier object; and 2) Encode your labels (y) as integers starting with 0, i.e. 0, 1, 2, ..., [num_class - 1].\n",
      "  warnings.warn(label_encoder_deprecation_msg, UserWarning)\n"
     ]
    },
    {
     "name": "stdout",
     "output_type": "stream",
     "text": [
      "training accuracy: 97.50% \t holdout accuracy: 55.94% \t holdout AUC ROC: 56.12%\n",
      "Testing ML model from: results/newlbls-fu2-audit-gm-fine-cluster-audit-growth-n713/20210618-1047\n"
     ]
    },
    {
     "name": "stderr",
     "output_type": "stream",
     "text": [
      "/ritter/roshan/installations/anaconda3/lib/python3.7/site-packages/xgboost/sklearn.py:888: UserWarning: The use of label encoder in XGBClassifier is deprecated and will be removed in a future release. To remove this warning, do the following: 1) Pass option use_label_encoder=False when constructing XGBClassifier object; and 2) Encode your labels (y) as integers starting with 0, i.e. 0, 1, 2, ..., [num_class - 1].\n",
      "  warnings.warn(label_encoder_deprecation_msg, UserWarning)\n"
     ]
    },
    {
     "name": "stdout",
     "output_type": "stream",
     "text": [
      "training accuracy: 95.13% \t holdout accuracy: 56.31% \t holdout AUC ROC: 61.23%\n",
      "Testing ML model from: results/newlbls-fu2-espad-gm-fine-cluster-binge-growth-n775/20210618-1101\n",
      "training accuracy: 96.74% \t holdout accuracy: 60.24% \t holdout AUC ROC: 67.60%\n",
      "Testing ML model from: results/newlbls-fu2-audit-fu3-audit-freq-audit-quick-n628/20210618-1042\n",
      "training accuracy: 97.43% \t holdout accuracy: 52.30% \t holdout AUC ROC: 57.41%\n",
      "Testing ML model from: results/newlbls-fu2-our-combo-cluster-combined-ours-n745/20210618-1104\n"
     ]
    },
    {
     "name": "stderr",
     "output_type": "stream",
     "text": [
      "/ritter/roshan/installations/anaconda3/lib/python3.7/site-packages/sklearn/svm/_base.py:258: ConvergenceWarning: Solver terminated early (max_iter=10000).  Consider pre-processing your data with StandardScaler or MinMaxScaler.\n",
      "  % self.max_iter, ConvergenceWarning)\n",
      "/ritter/roshan/installations/anaconda3/lib/python3.7/site-packages/xgboost/sklearn.py:888: UserWarning: The use of label encoder in XGBClassifier is deprecated and will be removed in a future release. To remove this warning, do the following: 1) Pass option use_label_encoder=False when constructing XGBClassifier object; and 2) Encode your labels (y) as integers starting with 0, i.e. 0, 1, 2, ..., [num_class - 1].\n",
      "  warnings.warn(label_encoder_deprecation_msg, UserWarning)\n"
     ]
    },
    {
     "name": "stdout",
     "output_type": "stream",
     "text": [
      "training accuracy: 98.78% \t holdout accuracy: 56.61% \t holdout AUC ROC: 62.11%\n",
      "Testing ML model from: results/newlbls-fu2-phenotype-phenotype-combined-seo-n782/20210618-1108\n",
      "training accuracy: 96.27% \t holdout accuracy: 66.38% \t holdout AUC ROC: 73.45%\n",
      "Testing ML model from: results/newlbls-fu2-our-combo-cluster-combined-ours-n745/20210618-1104\n"
     ]
    },
    {
     "name": "stderr",
     "output_type": "stream",
     "text": [
      "/ritter/roshan/installations/anaconda3/lib/python3.7/site-packages/xgboost/sklearn.py:888: UserWarning: The use of label encoder in XGBClassifier is deprecated and will be removed in a future release. To remove this warning, do the following: 1) Pass option use_label_encoder=False when constructing XGBClassifier object; and 2) Encode your labels (y) as integers starting with 0, i.e. 0, 1, 2, ..., [num_class - 1].\n",
      "  warnings.warn(label_encoder_deprecation_msg, UserWarning)\n"
     ]
    },
    {
     "name": "stdout",
     "output_type": "stream",
     "text": [
      "training accuracy: 98.46% \t holdout accuracy: 65.49% \t holdout AUC ROC: 67.99%\n",
      "Testing ML model from: results/newlbls-fu2-audit-fu3-audit-total-audit-n705/20210618-1044\n"
     ]
    },
    {
     "name": "stderr",
     "output_type": "stream",
     "text": [
      "/ritter/roshan/installations/anaconda3/lib/python3.7/site-packages/xgboost/sklearn.py:888: UserWarning: The use of label encoder in XGBClassifier is deprecated and will be removed in a future release. To remove this warning, do the following: 1) Pass option use_label_encoder=False when constructing XGBClassifier object; and 2) Encode your labels (y) as integers starting with 0, i.e. 0, 1, 2, ..., [num_class - 1].\n",
      "  warnings.warn(label_encoder_deprecation_msg, UserWarning)\n"
     ]
    },
    {
     "name": "stdout",
     "output_type": "stream",
     "text": [
      "training accuracy: 97.02% \t holdout accuracy: 60.16% \t holdout AUC ROC: 64.93%\n",
      "Testing ML model from: results/newlbls-fu2-espad-gm-fine-cluster-binge-growth-n775/20210618-1101\n"
     ]
    },
    {
     "name": "stderr",
     "output_type": "stream",
     "text": [
      "/ritter/roshan/installations/anaconda3/lib/python3.7/site-packages/xgboost/sklearn.py:888: UserWarning: The use of label encoder in XGBClassifier is deprecated and will be removed in a future release. To remove this warning, do the following: 1) Pass option use_label_encoder=False when constructing XGBClassifier object; and 2) Encode your labels (y) as integers starting with 0, i.e. 0, 1, 2, ..., [num_class - 1].\n",
      "  warnings.warn(label_encoder_deprecation_msg, UserWarning)\n"
     ]
    },
    {
     "name": "stdout",
     "output_type": "stream",
     "text": [
      "training accuracy: 97.20% \t holdout accuracy: 65.39% \t holdout AUC ROC: 66.62%\n",
      "Testing ML model from: results/newlbls-fu2-espad-gm-fine-cluster-binge-growth-n775/20210618-1101\n"
     ]
    },
    {
     "name": "stderr",
     "output_type": "stream",
     "text": [
      "/ritter/roshan/installations/anaconda3/lib/python3.7/site-packages/xgboost/sklearn.py:888: UserWarning: The use of label encoder in XGBClassifier is deprecated and will be removed in a future release. To remove this warning, do the following: 1) Pass option use_label_encoder=False when constructing XGBClassifier object; and 2) Encode your labels (y) as integers starting with 0, i.e. 0, 1, 2, ..., [num_class - 1].\n",
      "  warnings.warn(label_encoder_deprecation_msg, UserWarning)\n"
     ]
    },
    {
     "name": "stdout",
     "output_type": "stream",
     "text": [
      "training accuracy: 96.82% \t holdout accuracy: 64.59% \t holdout AUC ROC: 69.71%\n",
      "Testing ML model from: results/newlbls-fu2-espad-fu3-19a-binge-n634/20210618-1050\n"
     ]
    },
    {
     "name": "stderr",
     "output_type": "stream",
     "text": [
      "/ritter/roshan/installations/anaconda3/lib/python3.7/site-packages/xgboost/sklearn.py:888: UserWarning: The use of label encoder in XGBClassifier is deprecated and will be removed in a future release. To remove this warning, do the following: 1) Pass option use_label_encoder=False when constructing XGBClassifier object; and 2) Encode your labels (y) as integers starting with 0, i.e. 0, 1, 2, ..., [num_class - 1].\n",
      "  warnings.warn(label_encoder_deprecation_msg, UserWarning)\n"
     ]
    },
    {
     "name": "stdout",
     "output_type": "stream",
     "text": [
      "training accuracy: 98.99% \t holdout accuracy: 77.04% \t holdout AUC ROC: 83.48%\n",
      "Testing ML model from: results/newlbls-fu2-our-combo-cluster-combined-ours-n745/20210618-1104\n",
      "training accuracy: 80.23% \t holdout accuracy: 61.43% \t holdout AUC ROC: 64.62%\n",
      "Testing ML model from: results/newlbls-fu2-audit-fu3-audit-freq-audit-quick-n628/20210618-1042\n"
     ]
    },
    {
     "name": "stderr",
     "output_type": "stream",
     "text": [
      "/ritter/roshan/installations/anaconda3/lib/python3.7/site-packages/xgboost/sklearn.py:888: UserWarning: The use of label encoder in XGBClassifier is deprecated and will be removed in a future release. To remove this warning, do the following: 1) Pass option use_label_encoder=False when constructing XGBClassifier object; and 2) Encode your labels (y) as integers starting with 0, i.e. 0, 1, 2, ..., [num_class - 1].\n",
      "  warnings.warn(label_encoder_deprecation_msg, UserWarning)\n"
     ]
    },
    {
     "name": "stdout",
     "output_type": "stream",
     "text": [
      "training accuracy: 97.50% \t holdout accuracy: 55.80% \t holdout AUC ROC: 59.02%\n",
      "Testing ML model from: results/newlbls-fu2-audit-fu3-audit-freq-audit-quick-n628/20210618-1042\n",
      "training accuracy: 97.58% \t holdout accuracy: 46.05% \t holdout AUC ROC: 48.66%\n",
      "Testing ML model from: results/newlbls-fu2-espad-fu3-prev31-amount-n641/20210618-1059\n",
      "training accuracy: 97.17% \t holdout accuracy: 50.51% \t holdout AUC ROC: 52.81%\n",
      "Testing ML model from: results/newlbls-fu2-phenotype-phenotype-combined-seo-n782/20210618-1108\n",
      "training accuracy: 76.67% \t holdout accuracy: 64.35% \t holdout AUC ROC: 69.73%\n",
      "Testing ML model from: results/newlbls-fu2-espad-fu3-prev31-amount-n641/20210618-1059\n",
      "training accuracy: 76.67% \t holdout accuracy: 56.40% \t holdout AUC ROC: 51.46%\n",
      "Testing ML model from: results/newlbls-fu2-phenotype-phenotype-combined-seo-n782/20210618-1108\n"
     ]
    },
    {
     "name": "stderr",
     "output_type": "stream",
     "text": [
      "/ritter/roshan/installations/anaconda3/lib/python3.7/site-packages/xgboost/sklearn.py:888: UserWarning: The use of label encoder in XGBClassifier is deprecated and will be removed in a future release. To remove this warning, do the following: 1) Pass option use_label_encoder=False when constructing XGBClassifier object; and 2) Encode your labels (y) as integers starting with 0, i.e. 0, 1, 2, ..., [num_class - 1].\n",
      "  warnings.warn(label_encoder_deprecation_msg, UserWarning)\n"
     ]
    },
    {
     "name": "stdout",
     "output_type": "stream",
     "text": [
      "training accuracy: 95.94% \t holdout accuracy: 69.94% \t holdout AUC ROC: 74.82%\n",
      "Testing ML model from: results/newlbls-fu2-audit-fu3-audit-freq-audit-quick-n628/20210618-1042\n",
      "training accuracy: 97.62% \t holdout accuracy: 50.98% \t holdout AUC ROC: 49.73%\n",
      "Testing ML model from: results/newlbls-fu2-our-combo-cluster-combined-ours-n745/20210618-1104\n"
     ]
    },
    {
     "name": "stderr",
     "output_type": "stream",
     "text": [
      "/ritter/roshan/installations/anaconda3/lib/python3.7/site-packages/xgboost/sklearn.py:888: UserWarning: The use of label encoder in XGBClassifier is deprecated and will be removed in a future release. To remove this warning, do the following: 1) Pass option use_label_encoder=False when constructing XGBClassifier object; and 2) Encode your labels (y) as integers starting with 0, i.e. 0, 1, 2, ..., [num_class - 1].\n",
      "  warnings.warn(label_encoder_deprecation_msg, UserWarning)\n"
     ]
    },
    {
     "name": "stdout",
     "output_type": "stream",
     "text": [
      "training accuracy: 97.98% \t holdout accuracy: 59.26% \t holdout AUC ROC: 65.37%\n",
      "Testing ML model from: results/newlbls-fu2-espad-gm-fine-cluster-binge-growth-n775/20210618-1101\n"
     ]
    },
    {
     "name": "stderr",
     "output_type": "stream",
     "text": [
      "/ritter/roshan/installations/anaconda3/lib/python3.7/site-packages/xgboost/sklearn.py:888: UserWarning: The use of label encoder in XGBClassifier is deprecated and will be removed in a future release. To remove this warning, do the following: 1) Pass option use_label_encoder=False when constructing XGBClassifier object; and 2) Encode your labels (y) as integers starting with 0, i.e. 0, 1, 2, ..., [num_class - 1].\n",
      "  warnings.warn(label_encoder_deprecation_msg, UserWarning)\n"
     ]
    },
    {
     "name": "stdout",
     "output_type": "stream",
     "text": [
      "training accuracy: 96.41% \t holdout accuracy: 66.48% \t holdout AUC ROC: 71.81%\n",
      "Testing ML model from: results/newlbls-fu2-espad-gm-fine-cluster-binge-growth-n775/20210618-1101\n"
     ]
    },
    {
     "name": "stderr",
     "output_type": "stream",
     "text": [
      "/ritter/roshan/installations/anaconda3/lib/python3.7/site-packages/xgboost/sklearn.py:888: UserWarning: The use of label encoder in XGBClassifier is deprecated and will be removed in a future release. To remove this warning, do the following: 1) Pass option use_label_encoder=False when constructing XGBClassifier object; and 2) Encode your labels (y) as integers starting with 0, i.e. 0, 1, 2, ..., [num_class - 1].\n",
      "  warnings.warn(label_encoder_deprecation_msg, UserWarning)\n"
     ]
    },
    {
     "name": "stdout",
     "output_type": "stream",
     "text": [
      "training accuracy: 95.88% \t holdout accuracy: 67.57% \t holdout AUC ROC: 70.55%\n",
      "Testing ML model from: results/newlbls-fu2-phenotype-phenotype-combined-seo-n782/20210618-1108\n",
      "training accuracy: 93.54% \t holdout accuracy: 66.53% \t holdout AUC ROC: 76.43%\n",
      "Testing ML model from: results/newlbls-fu2-audit-fu3-audit-total-audit-n705/20210618-1044\n"
     ]
    },
    {
     "name": "stderr",
     "output_type": "stream",
     "text": [
      "/ritter/roshan/installations/anaconda3/lib/python3.7/site-packages/xgboost/sklearn.py:888: UserWarning: The use of label encoder in XGBClassifier is deprecated and will be removed in a future release. To remove this warning, do the following: 1) Pass option use_label_encoder=False when constructing XGBClassifier object; and 2) Encode your labels (y) as integers starting with 0, i.e. 0, 1, 2, ..., [num_class - 1].\n",
      "  warnings.warn(label_encoder_deprecation_msg, UserWarning)\n"
     ]
    },
    {
     "name": "stdout",
     "output_type": "stream",
     "text": [
      "training accuracy: 96.37% \t holdout accuracy: 54.61% \t holdout AUC ROC: 63.36%\n",
      "Testing ML model from: results/newlbls-fu2-espad-gm-fine-cluster-binge-growth-n775/20210618-1101\n",
      "training accuracy: 97.04% \t holdout accuracy: 61.33% \t holdout AUC ROC: 64.90%\n",
      "Testing ML model from: results/newlbls-fu2-our-combo-cluster-combined-ours-n745/20210618-1104\n"
     ]
    },
    {
     "name": "stderr",
     "output_type": "stream",
     "text": [
      "/ritter/roshan/installations/anaconda3/lib/python3.7/site-packages/sklearn/svm/_base.py:258: ConvergenceWarning: Solver terminated early (max_iter=10000).  Consider pre-processing your data with StandardScaler or MinMaxScaler.\n",
      "  % self.max_iter, ConvergenceWarning)\n"
     ]
    },
    {
     "name": "stdout",
     "output_type": "stream",
     "text": [
      "training accuracy: 97.93% \t holdout accuracy: 58.91% \t holdout AUC ROC: 61.81%\n",
      "Testing ML model from: results/newlbls-fu2-espad-gm-fine-cluster-binge-growth-n775/20210618-1101\n",
      "training accuracy: 77.97% \t holdout accuracy: 55.65% \t holdout AUC ROC: 59.85%\n",
      "Testing ML model from: results/newlbls-fu2-audit-fu3-audit-total-audit-n705/20210618-1044\n",
      "training accuracy: 95.70% \t holdout accuracy: 55.63% \t holdout AUC ROC: 60.69%\n",
      "Testing ML model from: results/newlbls-fu2-phenotype-phenotype-combined-seo-n782/20210618-1108\n",
      "training accuracy: 95.57% \t holdout accuracy: 66.71% \t holdout AUC ROC: 75.91%\n",
      "Testing ML model from: results/newlbls-fu2-espad-fu3-prev31-amount-n641/20210618-1059\n",
      "training accuracy: 96.92% \t holdout accuracy: 54.97% \t holdout AUC ROC: 54.10%\n",
      "Testing ML model from: results/newlbls-fu2-our-combo-cluster-combined-ours-n745/20210618-1104\n",
      "training accuracy: 98.48% \t holdout accuracy: 62.20% \t holdout AUC ROC: 63.17%\n",
      "Testing ML model from: results/newlbls-fu2-our-combo-cluster-combined-ours-n745/20210618-1104\n",
      "training accuracy: 77.01% \t holdout accuracy: 62.49% \t holdout AUC ROC: 65.10%\n",
      "Testing ML model from: results/newlbls-fu2-phenotype-phenotype-combined-seo-n782/20210618-1108\n"
     ]
    },
    {
     "name": "stderr",
     "output_type": "stream",
     "text": [
      "/ritter/roshan/installations/anaconda3/lib/python3.7/site-packages/xgboost/sklearn.py:888: UserWarning: The use of label encoder in XGBClassifier is deprecated and will be removed in a future release. To remove this warning, do the following: 1) Pass option use_label_encoder=False when constructing XGBClassifier object; and 2) Encode your labels (y) as integers starting with 0, i.e. 0, 1, 2, ..., [num_class - 1].\n",
      "  warnings.warn(label_encoder_deprecation_msg, UserWarning)\n"
     ]
    },
    {
     "name": "stdout",
     "output_type": "stream",
     "text": [
      "training accuracy: 96.65% \t holdout accuracy: 65.01% \t holdout AUC ROC: 72.48%\n",
      "Testing ML model from: results/newlbls-fu2-espad-fu3-19a-binge-n634/20210618-1050\n",
      "training accuracy: 98.85% \t holdout accuracy: 71.96% \t holdout AUC ROC: 74.02%\n",
      "Testing ML model from: results/newlbls-fu2-audit-fu3-audit-freq-audit-quick-n628/20210618-1042\n"
     ]
    },
    {
     "name": "stderr",
     "output_type": "stream",
     "text": [
      "/ritter/roshan/installations/anaconda3/lib/python3.7/site-packages/xgboost/sklearn.py:888: UserWarning: The use of label encoder in XGBClassifier is deprecated and will be removed in a future release. To remove this warning, do the following: 1) Pass option use_label_encoder=False when constructing XGBClassifier object; and 2) Encode your labels (y) as integers starting with 0, i.e. 0, 1, 2, ..., [num_class - 1].\n",
      "  warnings.warn(label_encoder_deprecation_msg, UserWarning)\n"
     ]
    },
    {
     "name": "stdout",
     "output_type": "stream",
     "text": [
      "training accuracy: 97.50% \t holdout accuracy: 54.24% \t holdout AUC ROC: 52.28%\n",
      "Testing ML model from: results/newlbls-fu2-our-combo-cluster-combined-ours-n745/20210618-1104\n"
     ]
    },
    {
     "name": "stderr",
     "output_type": "stream",
     "text": [
      "/ritter/roshan/installations/anaconda3/lib/python3.7/site-packages/xgboost/sklearn.py:888: UserWarning: The use of label encoder in XGBClassifier is deprecated and will be removed in a future release. To remove this warning, do the following: 1) Pass option use_label_encoder=False when constructing XGBClassifier object; and 2) Encode your labels (y) as integers starting with 0, i.e. 0, 1, 2, ..., [num_class - 1].\n",
      "  warnings.warn(label_encoder_deprecation_msg, UserWarning)\n"
     ]
    },
    {
     "name": "stdout",
     "output_type": "stream",
     "text": [
      "training accuracy: 98.97% \t holdout accuracy: 55.76% \t holdout AUC ROC: 63.74%\n",
      "Testing ML model from: results/newlbls-fu2-espad-gm-fine-cluster-binge-growth-n775/20210618-1101\n",
      "training accuracy: 78.12% \t holdout accuracy: 57.26% \t holdout AUC ROC: 59.82%\n",
      "Testing ML model from: results/newlbls-fu2-espad-fu3-8c-frequency-n686/20210618-1056\n"
     ]
    },
    {
     "name": "stderr",
     "output_type": "stream",
     "text": [
      "/ritter/roshan/installations/anaconda3/lib/python3.7/site-packages/xgboost/sklearn.py:888: UserWarning: The use of label encoder in XGBClassifier is deprecated and will be removed in a future release. To remove this warning, do the following: 1) Pass option use_label_encoder=False when constructing XGBClassifier object; and 2) Encode your labels (y) as integers starting with 0, i.e. 0, 1, 2, ..., [num_class - 1].\n",
      "  warnings.warn(label_encoder_deprecation_msg, UserWarning)\n"
     ]
    },
    {
     "name": "stdout",
     "output_type": "stream",
     "text": [
      "training accuracy: 96.53% \t holdout accuracy: 54.11% \t holdout AUC ROC: 55.11%\n",
      "Testing ML model from: results/newlbls-fu2-audit-fu3-audit-freq-audit-quick-n628/20210618-1042\n"
     ]
    },
    {
     "name": "stderr",
     "output_type": "stream",
     "text": [
      "/ritter/roshan/installations/anaconda3/lib/python3.7/site-packages/xgboost/sklearn.py:888: UserWarning: The use of label encoder in XGBClassifier is deprecated and will be removed in a future release. To remove this warning, do the following: 1) Pass option use_label_encoder=False when constructing XGBClassifier object; and 2) Encode your labels (y) as integers starting with 0, i.e. 0, 1, 2, ..., [num_class - 1].\n",
      "  warnings.warn(label_encoder_deprecation_msg, UserWarning)\n"
     ]
    },
    {
     "name": "stdout",
     "output_type": "stream",
     "text": [
      "training accuracy: 97.96% \t holdout accuracy: 50.74% \t holdout AUC ROC: 57.23%\n",
      "Testing ML model from: results/newlbls-fu2-phenotype-phenotype-combined-seo-n782/20210618-1108\n",
      "training accuracy: 95.97% \t holdout accuracy: 68.74% \t holdout AUC ROC: 76.19%\n",
      "Testing ML model from: results/newlbls-fu2-audit-gm-fine-cluster-audit-growth-n713/20210618-1047\n",
      "training accuracy: 92.49% \t holdout accuracy: 49.22% \t holdout AUC ROC: 51.39%\n",
      "Testing ML model from: results/newlbls-fu2-audit-gm-fine-cluster-audit-growth-n713/20210618-1047\n",
      "training accuracy: 95.32% \t holdout accuracy: 46.19% \t holdout AUC ROC: 40.27%\n",
      "Testing ML model from: results/newlbls-fu2-espad-fu3-8c-frequency-n686/20210618-1056\n",
      "training accuracy: 77.97% \t holdout accuracy: 47.92% \t holdout AUC ROC: 47.29%\n",
      "Testing ML model from: results/newlbls-fu2-espad-gm-fine-cluster-binge-growth-n775/20210618-1101\n",
      "training accuracy: 78.38% \t holdout accuracy: 59.96% \t holdout AUC ROC: 60.34%\n",
      "Testing ML model from: results/newlbls-fu2-espad-gm-fine-cluster-binge-growth-n775/20210618-1101\n",
      "training accuracy: 79.46% \t holdout accuracy: 59.15% \t holdout AUC ROC: 62.06%\n",
      "Testing ML model from: results/newlbls-fu2-audit-fu3-audit-freq-audit-quick-n628/20210618-1042\n"
     ]
    },
    {
     "name": "stderr",
     "output_type": "stream",
     "text": [
      "/ritter/roshan/installations/anaconda3/lib/python3.7/site-packages/xgboost/sklearn.py:888: UserWarning: The use of label encoder in XGBClassifier is deprecated and will be removed in a future release. To remove this warning, do the following: 1) Pass option use_label_encoder=False when constructing XGBClassifier object; and 2) Encode your labels (y) as integers starting with 0, i.e. 0, 1, 2, ..., [num_class - 1].\n",
      "  warnings.warn(label_encoder_deprecation_msg, UserWarning)\n"
     ]
    },
    {
     "name": "stdout",
     "output_type": "stream",
     "text": [
      "training accuracy: 97.31% \t holdout accuracy: 52.81% \t holdout AUC ROC: 56.21%\n",
      "Testing ML model from: results/newlbls-fu2-espad-fu3-8c-frequency-n686/20210618-1056\n"
     ]
    },
    {
     "name": "stderr",
     "output_type": "stream",
     "text": [
      "/ritter/roshan/installations/anaconda3/lib/python3.7/site-packages/xgboost/sklearn.py:888: UserWarning: The use of label encoder in XGBClassifier is deprecated and will be removed in a future release. To remove this warning, do the following: 1) Pass option use_label_encoder=False when constructing XGBClassifier object; and 2) Encode your labels (y) as integers starting with 0, i.e. 0, 1, 2, ..., [num_class - 1].\n",
      "  warnings.warn(label_encoder_deprecation_msg, UserWarning)\n"
     ]
    },
    {
     "name": "stdout",
     "output_type": "stream",
     "text": [
      "training accuracy: 96.60% \t holdout accuracy: 48.96% \t holdout AUC ROC: 57.63%\n",
      "Testing ML model from: results/newlbls-fu2-audit-gm-fine-cluster-audit-growth-n713/20210618-1047\n",
      "training accuracy: 78.11% \t holdout accuracy: 47.16% \t holdout AUC ROC: 42.71%\n",
      "Testing ML model from: results/newlbls-fu2-espad-fu3-prev31-amount-n641/20210618-1059\n"
     ]
    },
    {
     "name": "stderr",
     "output_type": "stream",
     "text": [
      "/ritter/roshan/installations/anaconda3/lib/python3.7/site-packages/xgboost/sklearn.py:888: UserWarning: The use of label encoder in XGBClassifier is deprecated and will be removed in a future release. To remove this warning, do the following: 1) Pass option use_label_encoder=False when constructing XGBClassifier object; and 2) Encode your labels (y) as integers starting with 0, i.e. 0, 1, 2, ..., [num_class - 1].\n",
      "  warnings.warn(label_encoder_deprecation_msg, UserWarning)\n"
     ]
    },
    {
     "name": "stdout",
     "output_type": "stream",
     "text": [
      "training accuracy: 96.95% \t holdout accuracy: 55.30% \t holdout AUC ROC: 56.85%\n",
      "Testing ML model from: results/newlbls-fu2-audit-fu3-audit-total-audit-n705/20210618-1044\n",
      "training accuracy: 96.96% \t holdout accuracy: 58.80% \t holdout AUC ROC: 60.86%\n",
      "Testing ML model from: results/newlbls-fu2-espad-fu3-8c-frequency-n686/20210618-1056\n",
      "training accuracy: 96.57% \t holdout accuracy: 48.76% \t holdout AUC ROC: 52.06%\n",
      "Testing ML model from: results/newlbls-fu2-audit-gm-fine-cluster-audit-growth-n713/20210618-1047\n"
     ]
    },
    {
     "name": "stderr",
     "output_type": "stream",
     "text": [
      "/ritter/roshan/installations/anaconda3/lib/python3.7/site-packages/xgboost/sklearn.py:888: UserWarning: The use of label encoder in XGBClassifier is deprecated and will be removed in a future release. To remove this warning, do the following: 1) Pass option use_label_encoder=False when constructing XGBClassifier object; and 2) Encode your labels (y) as integers starting with 0, i.e. 0, 1, 2, ..., [num_class - 1].\n",
      "  warnings.warn(label_encoder_deprecation_msg, UserWarning)\n"
     ]
    },
    {
     "name": "stdout",
     "output_type": "stream",
     "text": [
      "training accuracy: 96.30% \t holdout accuracy: 57.93% \t holdout AUC ROC: 63.46%\n",
      "Testing ML model from: results/newlbls-fu2-phenotype-phenotype-combined-seo-n782/20210618-1108\n",
      "training accuracy: 96.04% \t holdout accuracy: 68.91% \t holdout AUC ROC: 75.46%\n",
      "Testing ML model from: results/newlbls-fu2-audit-fu3-audit-freq-audit-quick-n628/20210618-1042\n"
     ]
    },
    {
     "name": "stderr",
     "output_type": "stream",
     "text": [
      "/ritter/roshan/installations/anaconda3/lib/python3.7/site-packages/sklearn/svm/_base.py:258: ConvergenceWarning: Solver terminated early (max_iter=10000).  Consider pre-processing your data with StandardScaler or MinMaxScaler.\n",
      "  % self.max_iter, ConvergenceWarning)\n"
     ]
    },
    {
     "name": "stdout",
     "output_type": "stream",
     "text": [
      "training accuracy: 97.58% \t holdout accuracy: 50.98% \t holdout AUC ROC: 49.78%\n",
      "Testing ML model from: results/newlbls-fu2-audit-gm-fine-cluster-audit-growth-n713/20210618-1047\n",
      "training accuracy: 94.61% \t holdout accuracy: 51.70% \t holdout AUC ROC: 49.44%\n",
      "Testing ML model from: results/newlbls-fu2-phenotype-phenotype-combined-seo-n782/20210618-1108\n"
     ]
    },
    {
     "name": "stderr",
     "output_type": "stream",
     "text": [
      "/ritter/roshan/installations/anaconda3/lib/python3.7/site-packages/sklearn/svm/_base.py:258: ConvergenceWarning: Solver terminated early (max_iter=10000).  Consider pre-processing your data with StandardScaler or MinMaxScaler.\n",
      "  % self.max_iter, ConvergenceWarning)\n"
     ]
    },
    {
     "name": "stdout",
     "output_type": "stream",
     "text": [
      "training accuracy: 96.22% \t holdout accuracy: 68.93% \t holdout AUC ROC: 71.51%\n",
      "Testing ML model from: results/newlbls-fu2-our-combo-cluster-combined-ours-n745/20210618-1104\n",
      "training accuracy: 78.43% \t holdout accuracy: 60.45% \t holdout AUC ROC: 65.79%\n",
      "Testing ML model from: results/newlbls-fu2-audit-gm-fine-cluster-audit-growth-n713/20210618-1047\n",
      "training accuracy: 93.53% \t holdout accuracy: 48.47% \t holdout AUC ROC: 54.12%\n",
      "Testing ML model from: results/newlbls-fu2-our-combo-cluster-combined-ours-n745/20210618-1104\n",
      "training accuracy: 78.66% \t holdout accuracy: 59.34% \t holdout AUC ROC: 61.21%\n",
      "Testing ML model from: results/newlbls-fu2-espad-gm-fine-cluster-binge-growth-n775/20210618-1101\n",
      "training accuracy: 95.37% \t holdout accuracy: 59.92% \t holdout AUC ROC: 65.39%\n",
      "Testing ML model from: results/newlbls-fu2-phenotype-phenotype-combined-seo-n782/20210618-1108\n"
     ]
    },
    {
     "name": "stderr",
     "output_type": "stream",
     "text": [
      "/ritter/roshan/installations/anaconda3/lib/python3.7/site-packages/xgboost/sklearn.py:888: UserWarning: The use of label encoder in XGBClassifier is deprecated and will be removed in a future release. To remove this warning, do the following: 1) Pass option use_label_encoder=False when constructing XGBClassifier object; and 2) Encode your labels (y) as integers starting with 0, i.e. 0, 1, 2, ..., [num_class - 1].\n",
      "  warnings.warn(label_encoder_deprecation_msg, UserWarning)\n"
     ]
    },
    {
     "name": "stdout",
     "output_type": "stream",
     "text": [
      "training accuracy: 95.71% \t holdout accuracy: 68.74% \t holdout AUC ROC: 74.66%\n",
      "Testing ML model from: results/newlbls-fu2-audit-fu3-audit-freq-audit-quick-n628/20210618-1042\n"
     ]
    },
    {
     "name": "stderr",
     "output_type": "stream",
     "text": [
      "/ritter/roshan/installations/anaconda3/lib/python3.7/site-packages/sklearn/svm/_base.py:258: ConvergenceWarning: Solver terminated early (max_iter=10000).  Consider pre-processing your data with StandardScaler or MinMaxScaler.\n",
      "  % self.max_iter, ConvergenceWarning)\n"
     ]
    },
    {
     "name": "stdout",
     "output_type": "stream",
     "text": [
      "training accuracy: 98.02% \t holdout accuracy: 54.75% \t holdout AUC ROC: 54.69%\n",
      "Testing ML model from: results/newlbls-fu2-espad-gm-fine-cluster-binge-growth-n775/20210618-1101\n",
      "training accuracy: 76.78% \t holdout accuracy: 54.80% \t holdout AUC ROC: 54.03%\n",
      "Testing ML model from: results/newlbls-fu2-espad-fu3-8c-frequency-n686/20210618-1056\n",
      "training accuracy: 97.02% \t holdout accuracy: 48.01% \t holdout AUC ROC: 46.24%\n",
      "Testing ML model from: results/newlbls-fu2-our-combo-cluster-combined-ours-n745/20210618-1104\n",
      "training accuracy: 78.27% \t holdout accuracy: 56.95% \t holdout AUC ROC: 62.68%\n",
      "Testing ML model from: results/newlbls-fu2-our-combo-cluster-combined-ours-n745/20210618-1104\n",
      "training accuracy: 77.81% \t holdout accuracy: 54.43% \t holdout AUC ROC: 63.08%\n",
      "Testing ML model from: results/newlbls-fu2-espad-fu3-29d-onset-15-n666/20210618-1053\n",
      "training accuracy: 76.69% \t holdout accuracy: 54.66% \t holdout AUC ROC: 63.67%\n",
      "Testing ML model from: results/newlbls-fu2-phenotype-phenotype-combined-seo-n782/20210618-1108\n",
      "training accuracy: 74.86% \t holdout accuracy: 63.66% \t holdout AUC ROC: 67.55%\n",
      "Testing ML model from: results/newlbls-fu2-espad-fu3-prev31-amount-n641/20210618-1059\n",
      "training accuracy: 96.97% \t holdout accuracy: 54.97% \t holdout AUC ROC: 53.42%\n",
      "Testing ML model from: results/newlbls-fu2-audit-fu3-audit-total-audit-n705/20210618-1044\n"
     ]
    },
    {
     "name": "stderr",
     "output_type": "stream",
     "text": [
      "/ritter/roshan/installations/anaconda3/lib/python3.7/site-packages/xgboost/sklearn.py:888: UserWarning: The use of label encoder in XGBClassifier is deprecated and will be removed in a future release. To remove this warning, do the following: 1) Pass option use_label_encoder=False when constructing XGBClassifier object; and 2) Encode your labels (y) as integers starting with 0, i.e. 0, 1, 2, ..., [num_class - 1].\n",
      "  warnings.warn(label_encoder_deprecation_msg, UserWarning)\n"
     ]
    },
    {
     "name": "stdout",
     "output_type": "stream",
     "text": [
      "training accuracy: 96.74% \t holdout accuracy: 58.55% \t holdout AUC ROC: 63.86%\n",
      "Testing ML model from: results/newlbls-fu2-our-combo-cluster-combined-ours-n745/20210618-1104\n"
     ]
    },
    {
     "name": "stderr",
     "output_type": "stream",
     "text": [
      "/ritter/roshan/installations/anaconda3/lib/python3.7/site-packages/xgboost/sklearn.py:888: UserWarning: The use of label encoder in XGBClassifier is deprecated and will be removed in a future release. To remove this warning, do the following: 1) Pass option use_label_encoder=False when constructing XGBClassifier object; and 2) Encode your labels (y) as integers starting with 0, i.e. 0, 1, 2, ..., [num_class - 1].\n",
      "  warnings.warn(label_encoder_deprecation_msg, UserWarning)\n"
     ]
    },
    {
     "name": "stdout",
     "output_type": "stream",
     "text": [
      "training accuracy: 98.53% \t holdout accuracy: 59.89% \t holdout AUC ROC: 68.66%\n",
      "Testing ML model from: results/newlbls-fu2-audit-fu3-audit-total-audit-n705/20210618-1044\n",
      "training accuracy: 77.24% \t holdout accuracy: 52.84% \t holdout AUC ROC: 48.11%\n",
      "Testing ML model from: results/newlbls-fu2-audit-gm-fine-cluster-audit-growth-n713/20210618-1047\n",
      "training accuracy: 97.22% \t holdout accuracy: 52.98% \t holdout AUC ROC: 42.55%\n",
      "Testing ML model from: results/newlbls-fu2-phenotype-phenotype-combined-seo-n782/20210618-1108\n",
      "training accuracy: 96.46% \t holdout accuracy: 65.19% \t holdout AUC ROC: 72.76%\n",
      "Testing ML model from: results/newlbls-fu2-espad-fu3-prev31-amount-n641/20210618-1059\n",
      "training accuracy: 95.33% \t holdout accuracy: 53.11% \t holdout AUC ROC: 51.12%\n",
      "Testing ML model from: results/newlbls-fu2-audit-fu3-audit-freq-audit-quick-n628/20210618-1042\n",
      "training accuracy: 97.31% \t holdout accuracy: 51.00% \t holdout AUC ROC: 55.45%\n",
      "Testing ML model from: results/newlbls-fu2-audit-fu3-audit-total-audit-n705/20210618-1044\n"
     ]
    },
    {
     "name": "stderr",
     "output_type": "stream",
     "text": [
      "/ritter/roshan/installations/anaconda3/lib/python3.7/site-packages/xgboost/sklearn.py:888: UserWarning: The use of label encoder in XGBClassifier is deprecated and will be removed in a future release. To remove this warning, do the following: 1) Pass option use_label_encoder=False when constructing XGBClassifier object; and 2) Encode your labels (y) as integers starting with 0, i.e. 0, 1, 2, ..., [num_class - 1].\n",
      "  warnings.warn(label_encoder_deprecation_msg, UserWarning)\n"
     ]
    },
    {
     "name": "stdout",
     "output_type": "stream",
     "text": [
      "training accuracy: 96.68% \t holdout accuracy: 53.82% \t holdout AUC ROC: 58.51%\n",
      "Testing ML model from: results/newlbls-fu2-audit-fu3-audit-total-audit-n705/20210618-1044\n"
     ]
    },
    {
     "name": "stderr",
     "output_type": "stream",
     "text": [
      "/ritter/roshan/installations/anaconda3/lib/python3.7/site-packages/xgboost/sklearn.py:888: UserWarning: The use of label encoder in XGBClassifier is deprecated and will be removed in a future release. To remove this warning, do the following: 1) Pass option use_label_encoder=False when constructing XGBClassifier object; and 2) Encode your labels (y) as integers starting with 0, i.e. 0, 1, 2, ..., [num_class - 1].\n",
      "  warnings.warn(label_encoder_deprecation_msg, UserWarning)\n"
     ]
    },
    {
     "name": "stdout",
     "output_type": "stream",
     "text": [
      "training accuracy: 97.09% \t holdout accuracy: 59.09% \t holdout AUC ROC: 67.85%\n",
      "Testing ML model from: results/newlbls-fu2-espad-fu3-29d-onset-15-n666/20210618-1053\n"
     ]
    },
    {
     "name": "stderr",
     "output_type": "stream",
     "text": [
      "/ritter/roshan/installations/anaconda3/lib/python3.7/site-packages/sklearn/svm/_base.py:258: ConvergenceWarning: Solver terminated early (max_iter=10000).  Consider pre-processing your data with StandardScaler or MinMaxScaler.\n",
      "  % self.max_iter, ConvergenceWarning)\n"
     ]
    },
    {
     "name": "stdout",
     "output_type": "stream",
     "text": [
      "training accuracy: 97.55% \t holdout accuracy: 51.23% \t holdout AUC ROC: 52.53%\n",
      "Testing ML model from: results/newlbls-fu2-espad-fu3-prev31-amount-n641/20210618-1059\n",
      "training accuracy: 97.60% \t holdout accuracy: 50.34% \t holdout AUC ROC: 52.69%\n",
      "Testing ML model from: results/newlbls-fu2-audit-fu3-audit-freq-audit-quick-n628/20210618-1042\n",
      "training accuracy: 98.02% \t holdout accuracy: 50.98% \t holdout AUC ROC: 49.24%\n",
      "Testing ML model from: results/newlbls-fu2-audit-fu3-audit-freq-audit-quick-n628/20210618-1042\n",
      "training accuracy: 98.29% \t holdout accuracy: 50.87% \t holdout AUC ROC: 55.31%\n",
      "Testing ML model from: results/newlbls-fu2-espad-fu3-29d-onset-15-n666/20210618-1053\n",
      "training accuracy: 77.84% \t holdout accuracy: 51.29% \t holdout AUC ROC: 54.28%\n",
      "Testing ML model from: results/newlbls-fu2-espad-fu3-prev31-amount-n641/20210618-1059\n",
      "training accuracy: 94.39% \t holdout accuracy: 50.59% \t holdout AUC ROC: 53.70%\n",
      "Testing ML model from: results/newlbls-fu2-audit-fu3-audit-total-audit-n705/20210618-1044\n",
      "training accuracy: 78.53% \t holdout accuracy: 47.86% \t holdout AUC ROC: 46.79%\n",
      "Testing ML model from: results/newlbls-fu2-our-combo-cluster-combined-ours-n745/20210618-1104\n",
      "training accuracy: 93.17% \t holdout accuracy: 58.21% \t holdout AUC ROC: 59.05%\n",
      "Testing ML model from: results/newlbls-fu2-phenotype-phenotype-combined-seo-n782/20210618-1108\n",
      "training accuracy: 96.22% \t holdout accuracy: 62.65% \t holdout AUC ROC: 70.78%\n",
      "Testing ML model from: results/newlbls-fu2-audit-gm-fine-cluster-audit-growth-n713/20210618-1047\n",
      "training accuracy: 95.44% \t holdout accuracy: 49.33% \t holdout AUC ROC: 54.56%\n",
      "Testing ML model from: results/newlbls-fu2-audit-gm-fine-cluster-audit-growth-n713/20210618-1047\n"
     ]
    },
    {
     "name": "stderr",
     "output_type": "stream",
     "text": [
      "/ritter/roshan/installations/anaconda3/lib/python3.7/site-packages/sklearn/svm/_base.py:258: ConvergenceWarning: Solver terminated early (max_iter=10000).  Consider pre-processing your data with StandardScaler or MinMaxScaler.\n",
      "  % self.max_iter, ConvergenceWarning)\n"
     ]
    },
    {
     "name": "stdout",
     "output_type": "stream",
     "text": [
      "training accuracy: 96.13% \t holdout accuracy: 42.32% \t holdout AUC ROC: 37.99%\n",
      "Testing ML model from: results/newlbls-fu2-our-combo-cluster-combined-ours-n745/20210618-1104\n",
      "training accuracy: 94.57% \t holdout accuracy: 58.42% \t holdout AUC ROC: 59.71%\n",
      "Testing ML model from: results/newlbls-fu2-espad-fu3-prev31-amount-n641/20210618-1059\n",
      "training accuracy: 96.58% \t holdout accuracy: 53.11% \t holdout AUC ROC: 54.10%\n",
      "Testing ML model from: results/newlbls-fu2-espad-fu3-29d-onset-15-n666/20210618-1053\n"
     ]
    },
    {
     "name": "stderr",
     "output_type": "stream",
     "text": [
      "/ritter/roshan/installations/anaconda3/lib/python3.7/site-packages/xgboost/sklearn.py:888: UserWarning: The use of label encoder in XGBClassifier is deprecated and will be removed in a future release. To remove this warning, do the following: 1) Pass option use_label_encoder=False when constructing XGBClassifier object; and 2) Encode your labels (y) as integers starting with 0, i.e. 0, 1, 2, ..., [num_class - 1].\n",
      "  warnings.warn(label_encoder_deprecation_msg, UserWarning)\n"
     ]
    },
    {
     "name": "stdout",
     "output_type": "stream",
     "text": [
      "training accuracy: 96.74% \t holdout accuracy: 50.56% \t holdout AUC ROC: 62.51%\n",
      "Testing ML model from: results/newlbls-fu2-audit-fu3-audit-total-audit-n705/20210618-1044\n",
      "training accuracy: 97.49% \t holdout accuracy: 53.91% \t holdout AUC ROC: 48.97%\n",
      "Testing ML model from: results/newlbls-fu2-audit-fu3-audit-freq-audit-quick-n628/20210618-1042\n",
      "training accuracy: 96.78% \t holdout accuracy: 52.41% \t holdout AUC ROC: 48.53%\n",
      "Testing ML model from: results/newlbls-fu2-espad-fu3-8c-frequency-n686/20210618-1056\n",
      "training accuracy: 95.28% \t holdout accuracy: 48.56% \t holdout AUC ROC: 49.78%\n",
      "Testing ML model from: results/newlbls-fu2-espad-gm-fine-cluster-binge-growth-n775/20210618-1101\n"
     ]
    },
    {
     "name": "stderr",
     "output_type": "stream",
     "text": [
      "/ritter/roshan/installations/anaconda3/lib/python3.7/site-packages/xgboost/sklearn.py:888: UserWarning: The use of label encoder in XGBClassifier is deprecated and will be removed in a future release. To remove this warning, do the following: 1) Pass option use_label_encoder=False when constructing XGBClassifier object; and 2) Encode your labels (y) as integers starting with 0, i.e. 0, 1, 2, ..., [num_class - 1].\n",
      "  warnings.warn(label_encoder_deprecation_msg, UserWarning)\n"
     ]
    },
    {
     "name": "stdout",
     "output_type": "stream",
     "text": [
      "training accuracy: 96.40% \t holdout accuracy: 61.61% \t holdout AUC ROC: 67.46%\n",
      "Testing ML model from: results/newlbls-fu2-phenotype-phenotype-combined-seo-n782/20210618-1108\n"
     ]
    },
    {
     "name": "stderr",
     "output_type": "stream",
     "text": [
      "/ritter/roshan/installations/anaconda3/lib/python3.7/site-packages/xgboost/sklearn.py:888: UserWarning: The use of label encoder in XGBClassifier is deprecated and will be removed in a future release. To remove this warning, do the following: 1) Pass option use_label_encoder=False when constructing XGBClassifier object; and 2) Encode your labels (y) as integers starting with 0, i.e. 0, 1, 2, ..., [num_class - 1].\n",
      "  warnings.warn(label_encoder_deprecation_msg, UserWarning)\n"
     ]
    },
    {
     "name": "stdout",
     "output_type": "stream",
     "text": [
      "training accuracy: 95.47% \t holdout accuracy: 64.16% \t holdout AUC ROC: 73.20%\n",
      "Testing ML model from: results/newlbls-fu2-espad-fu3-prev31-amount-n641/20210618-1059\n",
      "training accuracy: 97.07% \t holdout accuracy: 54.46% \t holdout AUC ROC: 62.18%\n",
      "Testing ML model from: results/newlbls-fu2-audit-fu3-audit-freq-audit-quick-n628/20210618-1042\n",
      "training accuracy: 97.98% \t holdout accuracy: 51.79% \t holdout AUC ROC: 56.61%\n",
      "Testing ML model from: results/newlbls-fu2-phenotype-phenotype-combined-seo-n782/20210618-1108\n",
      "training accuracy: 96.11% \t holdout accuracy: 64.51% \t holdout AUC ROC: 68.28%\n",
      "Testing ML model from: results/newlbls-fu2-espad-fu3-prev31-amount-n641/20210618-1059\n"
     ]
    },
    {
     "name": "stderr",
     "output_type": "stream",
     "text": [
      "/ritter/roshan/installations/anaconda3/lib/python3.7/site-packages/sklearn/svm/_base.py:258: ConvergenceWarning: Solver terminated early (max_iter=10000).  Consider pre-processing your data with StandardScaler or MinMaxScaler.\n",
      "  % self.max_iter, ConvergenceWarning)\n"
     ]
    },
    {
     "name": "stdout",
     "output_type": "stream",
     "text": [
      "training accuracy: 96.95% \t holdout accuracy: 48.82% \t holdout AUC ROC: 54.32%\n",
      "Testing ML model from: results/newlbls-fu2-phenotype-phenotype-combined-seo-n782/20210618-1108\n",
      "training accuracy: 96.62% \t holdout accuracy: 62.47% \t holdout AUC ROC: 70.38%\n",
      "Testing ML model from: results/newlbls-fu2-audit-fu3-audit-total-audit-n705/20210618-1044\n",
      "training accuracy: 97.02% \t holdout accuracy: 39.43% \t holdout AUC ROC: 41.24%\n",
      "Testing ML model from: results/newlbls-fu2-audit-fu3-audit-freq-audit-quick-n628/20210618-1042\n",
      "training accuracy: 98.47% \t holdout accuracy: 45.78% \t holdout AUC ROC: 48.84%\n",
      "Testing ML model from: results/newlbls-fu2-espad-fu3-8c-frequency-n686/20210618-1056\n",
      "training accuracy: 77.49% \t holdout accuracy: 49.78% \t holdout AUC ROC: 44.40%\n",
      "Testing ML model from: results/newlbls-fu2-audit-fu3-audit-total-audit-n705/20210618-1044\n"
     ]
    },
    {
     "name": "stderr",
     "output_type": "stream",
     "text": [
      "/ritter/roshan/installations/anaconda3/lib/python3.7/site-packages/sklearn/svm/_base.py:258: ConvergenceWarning: Solver terminated early (max_iter=10000).  Consider pre-processing your data with StandardScaler or MinMaxScaler.\n",
      "  % self.max_iter, ConvergenceWarning)\n",
      "/ritter/roshan/installations/anaconda3/lib/python3.7/site-packages/xgboost/sklearn.py:888: UserWarning: The use of label encoder in XGBClassifier is deprecated and will be removed in a future release. To remove this warning, do the following: 1) Pass option use_label_encoder=False when constructing XGBClassifier object; and 2) Encode your labels (y) as integers starting with 0, i.e. 0, 1, 2, ..., [num_class - 1].\n",
      "  warnings.warn(label_encoder_deprecation_msg, UserWarning)\n"
     ]
    },
    {
     "name": "stdout",
     "output_type": "stream",
     "text": [
      "training accuracy: 96.89% \t holdout accuracy: 48.64% \t holdout AUC ROC: 46.63%\n",
      "Testing ML model from: results/newlbls-fu2-phenotype-phenotype-combined-seo-n782/20210618-1108\n",
      "training accuracy: 96.16% \t holdout accuracy: 67.07% \t holdout AUC ROC: 74.50%\n",
      "Testing ML model from: results/newlbls-fu2-espad-fu3-8c-frequency-n686/20210618-1056\n",
      "training accuracy: 97.47% \t holdout accuracy: 51.63% \t holdout AUC ROC: 46.97%\n",
      "Testing ML model from: results/newlbls-fu2-audit-fu3-audit-freq-audit-quick-n628/20210618-1042\n"
     ]
    },
    {
     "name": "stderr",
     "output_type": "stream",
     "text": [
      "/ritter/roshan/installations/anaconda3/lib/python3.7/site-packages/sklearn/svm/_base.py:258: ConvergenceWarning: Solver terminated early (max_iter=10000).  Consider pre-processing your data with StandardScaler or MinMaxScaler.\n",
      "  % self.max_iter, ConvergenceWarning)\n"
     ]
    },
    {
     "name": "stdout",
     "output_type": "stream",
     "text": [
      "training accuracy: 97.54% \t holdout accuracy: 46.70% \t holdout AUC ROC: 49.24%\n",
      "Testing ML model from: results/newlbls-fu2-phenotype-phenotype-combined-seo-n782/20210618-1108\n",
      "training accuracy: 93.97% \t holdout accuracy: 61.44% \t holdout AUC ROC: 71.63%\n",
      "Testing ML model from: results/newlbls-fu2-audit-fu3-audit-freq-audit-quick-n628/20210618-1042\n"
     ]
    },
    {
     "name": "stderr",
     "output_type": "stream",
     "text": [
      "/ritter/roshan/installations/anaconda3/lib/python3.7/site-packages/sklearn/svm/_base.py:258: ConvergenceWarning: Solver terminated early (max_iter=10000).  Consider pre-processing your data with StandardScaler or MinMaxScaler.\n",
      "  % self.max_iter, ConvergenceWarning)\n"
     ]
    },
    {
     "name": "stdout",
     "output_type": "stream",
     "text": [
      "training accuracy: 97.58% \t holdout accuracy: 45.92% \t holdout AUC ROC: 50.04%\n",
      "Testing ML model from: results/newlbls-fu2-audit-fu3-audit-freq-audit-quick-n628/20210618-1042\n"
     ]
    },
    {
     "name": "stderr",
     "output_type": "stream",
     "text": [
      "/ritter/roshan/installations/anaconda3/lib/python3.7/site-packages/sklearn/svm/_base.py:258: ConvergenceWarning: Solver terminated early (max_iter=10000).  Consider pre-processing your data with StandardScaler or MinMaxScaler.\n",
      "  % self.max_iter, ConvergenceWarning)\n"
     ]
    },
    {
     "name": "stdout",
     "output_type": "stream",
     "text": [
      "training accuracy: 98.14% \t holdout accuracy: 52.68% \t holdout AUC ROC: 52.10%\n",
      "Testing ML model from: results/newlbls-fu2-our-combo-cluster-combined-ours-n745/20210618-1104\n",
      "training accuracy: 76.77% \t holdout accuracy: 58.28% \t holdout AUC ROC: 62.47%\n",
      "Testing ML model from: results/newlbls-fu2-espad-fu3-19a-binge-n634/20210618-1050\n",
      "training accuracy: 83.26% \t holdout accuracy: 64.01% \t holdout AUC ROC: 72.76%\n",
      "Testing ML model from: results/newlbls-fu2-audit-fu3-audit-freq-audit-quick-n628/20210618-1042\n"
     ]
    },
    {
     "name": "stderr",
     "output_type": "stream",
     "text": [
      "/ritter/roshan/installations/anaconda3/lib/python3.7/site-packages/sklearn/svm/_base.py:258: ConvergenceWarning: Solver terminated early (max_iter=10000).  Consider pre-processing your data with StandardScaler or MinMaxScaler.\n",
      "  % self.max_iter, ConvergenceWarning)\n",
      "/ritter/roshan/installations/anaconda3/lib/python3.7/site-packages/xgboost/sklearn.py:888: UserWarning: The use of label encoder in XGBClassifier is deprecated and will be removed in a future release. To remove this warning, do the following: 1) Pass option use_label_encoder=False when constructing XGBClassifier object; and 2) Encode your labels (y) as integers starting with 0, i.e. 0, 1, 2, ..., [num_class - 1].\n",
      "  warnings.warn(label_encoder_deprecation_msg, UserWarning)\n"
     ]
    },
    {
     "name": "stdout",
     "output_type": "stream",
     "text": [
      "training accuracy: 98.29% \t holdout accuracy: 50.47% \t holdout AUC ROC: 50.76%\n",
      "Testing ML model from: results/newlbls-fu2-espad-fu3-prev31-amount-n641/20210618-1059\n",
      "training accuracy: 96.32% \t holdout accuracy: 48.23% \t holdout AUC ROC: 50.34%\n",
      "Testing ML model from: results/newlbls-fu2-espad-gm-fine-cluster-binge-growth-n775/20210618-1101\n"
     ]
    },
    {
     "name": "stderr",
     "output_type": "stream",
     "text": [
      "/ritter/roshan/installations/anaconda3/lib/python3.7/site-packages/sklearn/svm/_base.py:258: ConvergenceWarning: Solver terminated early (max_iter=10000).  Consider pre-processing your data with StandardScaler or MinMaxScaler.\n",
      "  % self.max_iter, ConvergenceWarning)\n",
      "/ritter/roshan/installations/anaconda3/lib/python3.7/site-packages/xgboost/sklearn.py:888: UserWarning: The use of label encoder in XGBClassifier is deprecated and will be removed in a future release. To remove this warning, do the following: 1) Pass option use_label_encoder=False when constructing XGBClassifier object; and 2) Encode your labels (y) as integers starting with 0, i.e. 0, 1, 2, ..., [num_class - 1].\n",
      "  warnings.warn(label_encoder_deprecation_msg, UserWarning)\n"
     ]
    },
    {
     "name": "stdout",
     "output_type": "stream",
     "text": [
      "training accuracy: 96.73% \t holdout accuracy: 56.98% \t holdout AUC ROC: 57.26%\n",
      "Testing ML model from: results/newlbls-fu2-audit-gm-fine-cluster-audit-growth-n713/20210618-1047\n",
      "training accuracy: 96.36% \t holdout accuracy: 63.85% \t holdout AUC ROC: 69.74%\n",
      "Testing ML model from: results/newlbls-fu2-audit-fu3-audit-freq-audit-quick-n628/20210618-1042\n",
      "training accuracy: 76.96% \t holdout accuracy: 40.98% \t holdout AUC ROC: 43.30%\n",
      "Testing ML model from: results/newlbls-fu2-audit-fu3-audit-total-audit-n705/20210618-1044\n",
      "training accuracy: 94.42% \t holdout accuracy: 51.69% \t holdout AUC ROC: 54.73%\n",
      "Testing ML model from: results/newlbls-fu2-phenotype-phenotype-combined-seo-n782/20210618-1108\n"
     ]
    },
    {
     "name": "stderr",
     "output_type": "stream",
     "text": [
      "/ritter/roshan/installations/anaconda3/lib/python3.7/site-packages/sklearn/svm/_base.py:258: ConvergenceWarning: Solver terminated early (max_iter=10000).  Consider pre-processing your data with StandardScaler or MinMaxScaler.\n",
      "  % self.max_iter, ConvergenceWarning)\n",
      "/ritter/roshan/installations/anaconda3/lib/python3.7/site-packages/xgboost/sklearn.py:888: UserWarning: The use of label encoder in XGBClassifier is deprecated and will be removed in a future release. To remove this warning, do the following: 1) Pass option use_label_encoder=False when constructing XGBClassifier object; and 2) Encode your labels (y) as integers starting with 0, i.e. 0, 1, 2, ..., [num_class - 1].\n",
      "  warnings.warn(label_encoder_deprecation_msg, UserWarning)\n"
     ]
    },
    {
     "name": "stdout",
     "output_type": "stream",
     "text": [
      "training accuracy: 95.97% \t holdout accuracy: 65.36% \t holdout AUC ROC: 70.90%\n",
      "Testing ML model from: results/newlbls-fu2-espad-fu3-8c-frequency-n686/20210618-1056\n",
      "training accuracy: 95.94% \t holdout accuracy: 50.61% \t holdout AUC ROC: 52.14%\n",
      "Testing ML model from: results/newlbls-fu2-phenotype-phenotype-combined-seo-n782/20210618-1108\n",
      "training accuracy: 77.21% \t holdout accuracy: 61.12% \t holdout AUC ROC: 64.77%\n",
      "Testing ML model from: results/newlbls-fu2-espad-fu3-prev31-amount-n641/20210618-1059\n"
     ]
    },
    {
     "name": "stderr",
     "output_type": "stream",
     "text": [
      "/ritter/roshan/installations/anaconda3/lib/python3.7/site-packages/xgboost/sklearn.py:888: UserWarning: The use of label encoder in XGBClassifier is deprecated and will be removed in a future release. To remove this warning, do the following: 1) Pass option use_label_encoder=False when constructing XGBClassifier object; and 2) Encode your labels (y) as integers starting with 0, i.e. 0, 1, 2, ..., [num_class - 1].\n",
      "  warnings.warn(label_encoder_deprecation_msg, UserWarning)\n"
     ]
    },
    {
     "name": "stdout",
     "output_type": "stream",
     "text": [
      "training accuracy: 97.44% \t holdout accuracy: 51.94% \t holdout AUC ROC: 52.02%\n",
      "Testing ML model from: results/newlbls-fu2-espad-fu3-29d-onset-15-n666/20210618-1053\n",
      "training accuracy: 78.29% \t holdout accuracy: 56.79% \t holdout AUC ROC: 65.51%\n",
      "Testing ML model from: results/newlbls-fu2-phenotype-phenotype-combined-seo-n782/20210618-1108\n",
      "training accuracy: 96.22% \t holdout accuracy: 64.85% \t holdout AUC ROC: 73.24%\n",
      "Testing ML model from: results/newlbls-fu2-espad-fu3-prev31-amount-n641/20210618-1059\n",
      "training accuracy: 74.98% \t holdout accuracy: 55.64% \t holdout AUC ROC: 47.59%\n",
      "Testing ML model from: results/newlbls-fu2-our-combo-cluster-combined-ours-n745/20210618-1104\n",
      "training accuracy: 95.13% \t holdout accuracy: 55.13% \t holdout AUC ROC: 59.71%\n",
      "Testing ML model from: results/newlbls-fu2-espad-gm-fine-cluster-binge-growth-n775/20210618-1101\n",
      "training accuracy: 78.97% \t holdout accuracy: 53.19% \t holdout AUC ROC: 58.45%\n",
      "Testing ML model from: results/newlbls-fu2-audit-fu3-audit-freq-audit-quick-n628/20210618-1042\n",
      "training accuracy: 97.16% \t holdout accuracy: 53.21% \t holdout AUC ROC: 57.50%\n",
      "Testing ML model from: results/newlbls-fu2-audit-fu3-audit-freq-audit-quick-n628/20210618-1042\n"
     ]
    },
    {
     "name": "stderr",
     "output_type": "stream",
     "text": [
      "/ritter/roshan/installations/anaconda3/lib/python3.7/site-packages/xgboost/sklearn.py:888: UserWarning: The use of label encoder in XGBClassifier is deprecated and will be removed in a future release. To remove this warning, do the following: 1) Pass option use_label_encoder=False when constructing XGBClassifier object; and 2) Encode your labels (y) as integers starting with 0, i.e. 0, 1, 2, ..., [num_class - 1].\n",
      "  warnings.warn(label_encoder_deprecation_msg, UserWarning)\n"
     ]
    },
    {
     "name": "stdout",
     "output_type": "stream",
     "text": [
      "training accuracy: 96.92% \t holdout accuracy: 49.31% \t holdout AUC ROC: 53.39%\n",
      "Testing ML model from: results/newlbls-fu2-audit-fu3-audit-freq-audit-quick-n628/20210618-1042\n"
     ]
    },
    {
     "name": "stderr",
     "output_type": "stream",
     "text": [
      "/ritter/roshan/installations/anaconda3/lib/python3.7/site-packages/sklearn/svm/_base.py:258: ConvergenceWarning: Solver terminated early (max_iter=10000).  Consider pre-processing your data with StandardScaler or MinMaxScaler.\n",
      "  % self.max_iter, ConvergenceWarning)\n"
     ]
    },
    {
     "name": "stdout",
     "output_type": "stream",
     "text": [
      "training accuracy: 97.37% \t holdout accuracy: 51.12% \t holdout AUC ROC: 50.67%\n",
      "Testing ML model from: results/newlbls-fu2-espad-fu3-8c-frequency-n686/20210618-1056\n",
      "training accuracy: 97.02% \t holdout accuracy: 48.68% \t holdout AUC ROC: 44.73%\n",
      "Testing ML model from: results/newlbls-fu2-audit-gm-fine-cluster-audit-growth-n713/20210618-1047\n",
      "training accuracy: 97.00% \t holdout accuracy: 51.70% \t holdout AUC ROC: 55.84%\n",
      "Testing ML model from: results/newlbls-fu2-espad-fu3-29d-onset-15-n666/20210618-1053\n",
      "training accuracy: 95.92% \t holdout accuracy: 49.94% \t holdout AUC ROC: 62.81%\n",
      "Testing ML model from: results/newlbls-fu2-espad-fu3-8c-frequency-n686/20210618-1056\n"
     ]
    },
    {
     "name": "stderr",
     "output_type": "stream",
     "text": [
      "/ritter/roshan/installations/anaconda3/lib/python3.7/site-packages/xgboost/sklearn.py:888: UserWarning: The use of label encoder in XGBClassifier is deprecated and will be removed in a future release. To remove this warning, do the following: 1) Pass option use_label_encoder=False when constructing XGBClassifier object; and 2) Encode your labels (y) as integers starting with 0, i.e. 0, 1, 2, ..., [num_class - 1].\n",
      "  warnings.warn(label_encoder_deprecation_msg, UserWarning)\n"
     ]
    },
    {
     "name": "stdout",
     "output_type": "stream",
     "text": [
      "training accuracy: 94.69% \t holdout accuracy: 53.97% \t holdout AUC ROC: 54.42%\n",
      "Testing ML model from: results/newlbls-fu2-espad-fu3-8c-frequency-n686/20210618-1056\n"
     ]
    },
    {
     "name": "stderr",
     "output_type": "stream",
     "text": [
      "/ritter/roshan/installations/anaconda3/lib/python3.7/site-packages/sklearn/svm/_base.py:258: ConvergenceWarning: Solver terminated early (max_iter=10000).  Consider pre-processing your data with StandardScaler or MinMaxScaler.\n",
      "  % self.max_iter, ConvergenceWarning)\n"
     ]
    },
    {
     "name": "stdout",
     "output_type": "stream",
     "text": [
      "training accuracy: 95.42% \t holdout accuracy: 46.83% \t holdout AUC ROC: 43.59%\n",
      "Testing ML model from: results/newlbls-fu2-audit-fu3-audit-freq-audit-quick-n628/20210618-1042\n",
      "training accuracy: 98.22% \t holdout accuracy: 53.19% \t holdout AUC ROC: 51.52%\n",
      "Testing ML model from: results/newlbls-fu2-espad-fu3-prev31-amount-n641/20210618-1059\n",
      "training accuracy: 97.10% \t holdout accuracy: 52.53% \t holdout AUC ROC: 54.99%\n",
      "Testing ML model from: results/newlbls-fu2-espad-fu3-prev31-amount-n641/20210618-1059\n",
      "training accuracy: 96.69% \t holdout accuracy: 52.36% \t holdout AUC ROC: 53.42%\n",
      "Testing ML model from: results/newlbls-fu2-espad-fu3-29d-onset-15-n666/20210618-1053\n"
     ]
    },
    {
     "name": "stderr",
     "output_type": "stream",
     "text": [
      "/ritter/roshan/installations/anaconda3/lib/python3.7/site-packages/xgboost/sklearn.py:888: UserWarning: The use of label encoder in XGBClassifier is deprecated and will be removed in a future release. To remove this warning, do the following: 1) Pass option use_label_encoder=False when constructing XGBClassifier object; and 2) Encode your labels (y) as integers starting with 0, i.e. 0, 1, 2, ..., [num_class - 1].\n",
      "  warnings.warn(label_encoder_deprecation_msg, UserWarning)\n"
     ]
    },
    {
     "name": "stdout",
     "output_type": "stream",
     "text": [
      "training accuracy: 95.65% \t holdout accuracy: 50.22% \t holdout AUC ROC: 59.75%\n",
      "Testing ML model from: results/newlbls-fu2-phenotype-phenotype-combined-seo-n782/20210618-1108\n"
     ]
    },
    {
     "name": "stderr",
     "output_type": "stream",
     "text": [
      "/ritter/roshan/installations/anaconda3/lib/python3.7/site-packages/sklearn/svm/_base.py:258: ConvergenceWarning: Solver terminated early (max_iter=10000).  Consider pre-processing your data with StandardScaler or MinMaxScaler.\n",
      "  % self.max_iter, ConvergenceWarning)\n"
     ]
    },
    {
     "name": "stdout",
     "output_type": "stream",
     "text": [
      "training accuracy: 96.72% \t holdout accuracy: 65.36% \t holdout AUC ROC: 71.11%\n",
      "Testing ML model from: results/newlbls-fu2-audit-gm-fine-cluster-audit-growth-n713/20210618-1047\n",
      "training accuracy: 96.13% \t holdout accuracy: 47.69% \t holdout AUC ROC: 47.50%\n",
      "Testing ML model from: results/newlbls-fu2-espad-fu3-prev31-amount-n641/20210618-1059\n"
     ]
    },
    {
     "name": "stderr",
     "output_type": "stream",
     "text": [
      "/ritter/roshan/installations/anaconda3/lib/python3.7/site-packages/xgboost/sklearn.py:888: UserWarning: The use of label encoder in XGBClassifier is deprecated and will be removed in a future release. To remove this warning, do the following: 1) Pass option use_label_encoder=False when constructing XGBClassifier object; and 2) Encode your labels (y) as integers starting with 0, i.e. 0, 1, 2, ..., [num_class - 1].\n",
      "  warnings.warn(label_encoder_deprecation_msg, UserWarning)\n"
     ]
    },
    {
     "name": "stdout",
     "output_type": "stream",
     "text": [
      "training accuracy: 96.61% \t holdout accuracy: 56.40% \t holdout AUC ROC: 55.84%\n",
      "Testing ML model from: results/newlbls-fu2-audit-fu3-audit-total-audit-n705/20210618-1044\n",
      "training accuracy: 96.02% \t holdout accuracy: 53.00% \t holdout AUC ROC: 55.18%\n",
      "Testing ML model from: results/newlbls-fu2-espad-fu3-8c-frequency-n686/20210618-1056\n"
     ]
    },
    {
     "name": "stderr",
     "output_type": "stream",
     "text": [
      "/ritter/roshan/installations/anaconda3/lib/python3.7/site-packages/sklearn/svm/_base.py:258: ConvergenceWarning: Solver terminated early (max_iter=10000).  Consider pre-processing your data with StandardScaler or MinMaxScaler.\n",
      "  % self.max_iter, ConvergenceWarning)\n"
     ]
    },
    {
     "name": "stdout",
     "output_type": "stream",
     "text": [
      "training accuracy: 96.22% \t holdout accuracy: 46.28% \t holdout AUC ROC: 41.96%\n",
      "Testing ML model from: results/newlbls-fu2-espad-fu3-19a-binge-n634/20210618-1050\n",
      "training accuracy: 82.62% \t holdout accuracy: 68.57% \t holdout AUC ROC: 72.80%\n",
      "Testing ML model from: results/newlbls-fu2-espad-gm-fine-cluster-binge-growth-n775/20210618-1101\n",
      "training accuracy: 79.34% \t holdout accuracy: 55.08% \t holdout AUC ROC: 57.75%\n",
      "Testing ML model from: results/newlbls-fu2-phenotype-phenotype-combined-seo-n782/20210618-1108\n"
     ]
    },
    {
     "name": "stderr",
     "output_type": "stream",
     "text": [
      "/ritter/roshan/installations/anaconda3/lib/python3.7/site-packages/sklearn/svm/_base.py:258: ConvergenceWarning: Solver terminated early (max_iter=10000).  Consider pre-processing your data with StandardScaler or MinMaxScaler.\n",
      "  % self.max_iter, ConvergenceWarning)\n"
     ]
    },
    {
     "name": "stdout",
     "output_type": "stream",
     "text": [
      "training accuracy: 96.34% \t holdout accuracy: 63.32% \t holdout AUC ROC: 70.46%\n",
      "Testing ML model from: results/newlbls-fu2-audit-fu3-audit-freq-audit-quick-n628/20210618-1042\n",
      "training accuracy: 97.69% \t holdout accuracy: 50.33% \t holdout AUC ROC: 48.12%\n",
      "Testing ML model from: results/newlbls-fu2-espad-fu3-prev31-amount-n641/20210618-1059\n",
      "training accuracy: 76.72% \t holdout accuracy: 54.88% \t holdout AUC ROC: 50.51%\n",
      "Testing ML model from: results/newlbls-fu2-espad-gm-fine-cluster-binge-growth-n775/20210618-1101\n",
      "training accuracy: 96.95% \t holdout accuracy: 49.68% \t holdout AUC ROC: 48.00%\n",
      "Testing ML model from: results/newlbls-fu2-espad-fu3-8c-frequency-n686/20210618-1056\n"
     ]
    },
    {
     "name": "stderr",
     "output_type": "stream",
     "text": [
      "/ritter/roshan/installations/anaconda3/lib/python3.7/site-packages/xgboost/sklearn.py:888: UserWarning: The use of label encoder in XGBClassifier is deprecated and will be removed in a future release. To remove this warning, do the following: 1) Pass option use_label_encoder=False when constructing XGBClassifier object; and 2) Encode your labels (y) as integers starting with 0, i.e. 0, 1, 2, ..., [num_class - 1].\n",
      "  warnings.warn(label_encoder_deprecation_msg, UserWarning)\n"
     ]
    },
    {
     "name": "stdout",
     "output_type": "stream",
     "text": [
      "training accuracy: 95.21% \t holdout accuracy: 50.41% \t holdout AUC ROC: 57.22%\n",
      "Testing ML model from: results/newlbls-fu2-audit-gm-fine-cluster-audit-growth-n713/20210618-1047\n"
     ]
    },
    {
     "name": "stderr",
     "output_type": "stream",
     "text": [
      "/ritter/roshan/installations/anaconda3/lib/python3.7/site-packages/sklearn/svm/_base.py:258: ConvergenceWarning: Solver terminated early (max_iter=10000).  Consider pre-processing your data with StandardScaler or MinMaxScaler.\n",
      "  % self.max_iter, ConvergenceWarning)\n"
     ]
    },
    {
     "name": "stdout",
     "output_type": "stream",
     "text": [
      "training accuracy: 95.96% \t holdout accuracy: 46.08% \t holdout AUC ROC: 45.05%\n",
      "Testing ML model from: results/newlbls-fu2-audit-gm-fine-cluster-audit-growth-n713/20210618-1047\n",
      "training accuracy: 79.06% \t holdout accuracy: 41.57% \t holdout AUC ROC: 39.66%\n",
      "Testing ML model from: results/newlbls-fu2-audit-fu3-audit-total-audit-n705/20210618-1044\n",
      "training accuracy: 76.01% \t holdout accuracy: 51.81% \t holdout AUC ROC: 55.14%\n",
      "Testing ML model from: results/newlbls-fu2-audit-fu3-audit-freq-audit-quick-n628/20210618-1042\n"
     ]
    },
    {
     "name": "stderr",
     "output_type": "stream",
     "text": [
      "/ritter/roshan/installations/anaconda3/lib/python3.7/site-packages/xgboost/sklearn.py:888: UserWarning: The use of label encoder in XGBClassifier is deprecated and will be removed in a future release. To remove this warning, do the following: 1) Pass option use_label_encoder=False when constructing XGBClassifier object; and 2) Encode your labels (y) as integers starting with 0, i.e. 0, 1, 2, ..., [num_class - 1].\n",
      "  warnings.warn(label_encoder_deprecation_msg, UserWarning)\n"
     ]
    },
    {
     "name": "stdout",
     "output_type": "stream",
     "text": [
      "training accuracy: 98.01% \t holdout accuracy: 51.65% \t holdout AUC ROC: 62.32%\n",
      "Testing ML model from: results/newlbls-fu2-espad-fu3-8c-frequency-n686/20210618-1056\n",
      "training accuracy: 78.21% \t holdout accuracy: 52.73% \t holdout AUC ROC: 46.97%\n",
      "Testing ML model from: results/newlbls-fu2-audit-gm-fine-cluster-audit-growth-n713/20210618-1047\n",
      "training accuracy: 76.98% \t holdout accuracy: 40.38% \t holdout AUC ROC: 37.10%\n",
      "Testing ML model from: results/newlbls-fu2-phenotype-phenotype-combined-seo-n782/20210618-1108\n",
      "training accuracy: 76.43% \t holdout accuracy: 67.23% \t holdout AUC ROC: 69.05%\n",
      "Testing ML model from: results/newlbls-fu2-espad-fu3-8c-frequency-n686/20210618-1056\n"
     ]
    },
    {
     "name": "stderr",
     "output_type": "stream",
     "text": [
      "/ritter/roshan/installations/anaconda3/lib/python3.7/site-packages/sklearn/svm/_base.py:258: ConvergenceWarning: Solver terminated early (max_iter=10000).  Consider pre-processing your data with StandardScaler or MinMaxScaler.\n",
      "  % self.max_iter, ConvergenceWarning)\n",
      "/ritter/roshan/installations/anaconda3/lib/python3.7/site-packages/xgboost/sklearn.py:888: UserWarning: The use of label encoder in XGBClassifier is deprecated and will be removed in a future release. To remove this warning, do the following: 1) Pass option use_label_encoder=False when constructing XGBClassifier object; and 2) Encode your labels (y) as integers starting with 0, i.e. 0, 1, 2, ..., [num_class - 1].\n",
      "  warnings.warn(label_encoder_deprecation_msg, UserWarning)\n"
     ]
    },
    {
     "name": "stdout",
     "output_type": "stream",
     "text": [
      "training accuracy: 97.12% \t holdout accuracy: 48.47% \t holdout AUC ROC: 50.43%\n",
      "Testing ML model from: results/newlbls-fu2-audit-gm-fine-cluster-audit-growth-n713/20210618-1047\n",
      "training accuracy: 94.57% \t holdout accuracy: 58.90% \t holdout AUC ROC: 65.13%\n",
      "Testing ML model from: results/newlbls-fu2-espad-fu3-prev31-amount-n641/20210618-1059\n",
      "training accuracy: 97.33% \t holdout accuracy: 50.67% \t holdout AUC ROC: 56.45%\n",
      "Testing ML model from: results/newlbls-fu2-audit-gm-fine-cluster-audit-growth-n713/20210618-1047\n",
      "training accuracy: 97.29% \t holdout accuracy: 48.78% \t holdout AUC ROC: 43.27%\n",
      "Testing ML model from: results/newlbls-fu2-audit-fu3-audit-freq-audit-quick-n628/20210618-1042\n",
      "training accuracy: 97.23% \t holdout accuracy: 47.99% \t holdout AUC ROC: 45.85%\n",
      "Testing ML model from: results/newlbls-fu2-espad-fu3-8c-frequency-n686/20210618-1056\n",
      "training accuracy: 67.25% \t holdout accuracy: 43.53% \t holdout AUC ROC: 42.37%\n",
      "Testing ML model from: results/newlbls-fu2-our-combo-cluster-combined-ours-n745/20210618-1104\n"
     ]
    },
    {
     "name": "stderr",
     "output_type": "stream",
     "text": [
      "/ritter/roshan/installations/anaconda3/lib/python3.7/site-packages/sklearn/svm/_base.py:258: ConvergenceWarning: Solver terminated early (max_iter=10000).  Consider pre-processing your data with StandardScaler or MinMaxScaler.\n",
      "  % self.max_iter, ConvergenceWarning)\n"
     ]
    },
    {
     "name": "stdout",
     "output_type": "stream",
     "text": [
      "training accuracy: 97.79% \t holdout accuracy: 60.66% \t holdout AUC ROC: 61.21%\n",
      "Testing ML model from: results/newlbls-fu2-espad-fu3-8c-frequency-n686/20210618-1056\n",
      "training accuracy: 97.09% \t holdout accuracy: 57.18% \t holdout AUC ROC: 49.25%\n",
      "Testing ML model from: results/newlbls-fu2-espad-fu3-8c-frequency-n686/20210618-1056\n",
      "training accuracy: 77.21% \t holdout accuracy: 47.92% \t holdout AUC ROC: 44.16%\n",
      "Testing ML model from: results/newlbls-fu2-espad-fu3-prev31-amount-n641/20210618-1059\n",
      "training accuracy: 77.90% \t holdout accuracy: 53.03% \t holdout AUC ROC: 47.98%\n",
      "Testing ML model from: results/newlbls-fu2-espad-gm-fine-cluster-binge-growth-n775/20210618-1101\n",
      "training accuracy: 77.81% \t holdout accuracy: 54.80% \t holdout AUC ROC: 58.49%\n",
      "Testing ML model from: results/newlbls-fu2-phenotype-phenotype-combined-seo-n782/20210618-1108\n",
      "training accuracy: 97.07% \t holdout accuracy: 64.00% \t holdout AUC ROC: 71.51%\n",
      "Testing ML model from: results/newlbls-fu2-audit-gm-fine-cluster-audit-growth-n713/20210618-1047\n",
      "training accuracy: 94.63% \t holdout accuracy: 46.75% \t holdout AUC ROC: 53.34%\n",
      "Testing ML model from: results/newlbls-fu2-espad-fu3-8c-frequency-n686/20210618-1056\n",
      "training accuracy: 95.04% \t holdout accuracy: 51.63% \t holdout AUC ROC: 45.10%\n",
      "Testing ML model from: results/newlbls-fu2-audit-gm-fine-cluster-audit-growth-n713/20210618-1047\n",
      "training accuracy: 78.03% \t holdout accuracy: 50.39% \t holdout AUC ROC: 46.05%\n",
      "Testing ML model from: results/newlbls-fu2-audit-fu3-audit-total-audit-n705/20210618-1044\n"
     ]
    },
    {
     "name": "stderr",
     "output_type": "stream",
     "text": [
      "/ritter/roshan/installations/anaconda3/lib/python3.7/site-packages/xgboost/sklearn.py:888: UserWarning: The use of label encoder in XGBClassifier is deprecated and will be removed in a future release. To remove this warning, do the following: 1) Pass option use_label_encoder=False when constructing XGBClassifier object; and 2) Encode your labels (y) as integers starting with 0, i.e. 0, 1, 2, ..., [num_class - 1].\n",
      "  warnings.warn(label_encoder_deprecation_msg, UserWarning)\n"
     ]
    },
    {
     "name": "stdout",
     "output_type": "stream",
     "text": [
      "training accuracy: 96.49% \t holdout accuracy: 56.74% \t holdout AUC ROC: 63.90%\n",
      "Testing ML model from: results/newlbls-fu2-espad-fu3-29d-onset-15-n666/20210618-1053\n",
      "training accuracy: 97.55% \t holdout accuracy: 53.70% \t holdout AUC ROC: 57.09%\n",
      "Testing ML model from: results/newlbls-fu2-audit-gm-fine-cluster-audit-growth-n713/20210618-1047\n",
      "training accuracy: 96.65% \t holdout accuracy: 49.75% \t holdout AUC ROC: 40.32%\n",
      "Testing ML model from: results/newlbls-fu2-espad-fu3-prev31-amount-n641/20210618-1059\n",
      "training accuracy: 97.19% \t holdout accuracy: 47.73% \t holdout AUC ROC: 51.35%\n",
      "Testing ML model from: results/newlbls-fu2-our-combo-cluster-combined-ours-n745/20210618-1104\n",
      "training accuracy: 77.85% \t holdout accuracy: 56.18% \t holdout AUC ROC: 62.23%\n",
      "Testing ML model from: results/newlbls-fu2-espad-fu3-prev31-amount-n641/20210618-1059\n",
      "training accuracy: 97.19% \t holdout accuracy: 46.55% \t holdout AUC ROC: 50.95%\n",
      "Testing ML model from: results/newlbls-fu2-phenotype-phenotype-combined-seo-n782/20210618-1108\n"
     ]
    },
    {
     "name": "stderr",
     "output_type": "stream",
     "text": [
      "/ritter/roshan/installations/anaconda3/lib/python3.7/site-packages/sklearn/svm/_base.py:258: ConvergenceWarning: Solver terminated early (max_iter=10000).  Consider pre-processing your data with StandardScaler or MinMaxScaler.\n",
      "  % self.max_iter, ConvergenceWarning)\n"
     ]
    },
    {
     "name": "stdout",
     "output_type": "stream",
     "text": [
      "training accuracy: 95.24% \t holdout accuracy: 68.26% \t holdout AUC ROC: 73.12%\n",
      "Testing ML model from: results/newlbls-fu2-espad-fu3-29d-onset-15-n666/20210618-1053\n",
      "training accuracy: 77.87% \t holdout accuracy: 55.89% \t holdout AUC ROC: 62.25%\n",
      "Testing ML model from: results/newlbls-fu2-espad-fu3-8c-frequency-n686/20210618-1056\n",
      "training accuracy: 96.32% \t holdout accuracy: 47.92% \t holdout AUC ROC: 44.89%\n",
      "Testing ML model from: results/newlbls-fu2-audit-fu3-audit-total-audit-n705/20210618-1044\n",
      "training accuracy: 97.90% \t holdout accuracy: 48.64% \t holdout AUC ROC: 45.85%\n",
      "Testing ML model from: results/newlbls-fu2-audit-fu3-audit-total-audit-n705/20210618-1044\n",
      "training accuracy: 96.84% \t holdout accuracy: 48.11% \t holdout AUC ROC: 50.45%\n",
      "Testing ML model from: results/newlbls-fu2-espad-fu3-prev31-amount-n641/20210618-1059\n"
     ]
    },
    {
     "name": "stderr",
     "output_type": "stream",
     "text": [
      "/ritter/roshan/installations/anaconda3/lib/python3.7/site-packages/xgboost/sklearn.py:888: UserWarning: The use of label encoder in XGBClassifier is deprecated and will be removed in a future release. To remove this warning, do the following: 1) Pass option use_label_encoder=False when constructing XGBClassifier object; and 2) Encode your labels (y) as integers starting with 0, i.e. 0, 1, 2, ..., [num_class - 1].\n",
      "  warnings.warn(label_encoder_deprecation_msg, UserWarning)\n"
     ]
    },
    {
     "name": "stdout",
     "output_type": "stream",
     "text": [
      "training accuracy: 96.64% \t holdout accuracy: 44.87% \t holdout AUC ROC: 51.57%\n",
      "Testing ML model from: results/newlbls-fu2-espad-fu3-29d-onset-15-n666/20210618-1053\n",
      "training accuracy: 97.01% \t holdout accuracy: 56.62% \t holdout AUC ROC: 62.74%\n",
      "Testing ML model from: results/newlbls-fu2-audit-gm-fine-cluster-audit-growth-n713/20210618-1047\n",
      "training accuracy: 97.57% \t holdout accuracy: 47.05% \t holdout AUC ROC: 40.43%\n",
      "Testing ML model from: results/newlbls-fu2-espad-fu3-29d-onset-15-n666/20210618-1053\n"
     ]
    },
    {
     "name": "stderr",
     "output_type": "stream",
     "text": [
      "/ritter/roshan/installations/anaconda3/lib/python3.7/site-packages/sklearn/svm/_base.py:258: ConvergenceWarning: Solver terminated early (max_iter=10000).  Consider pre-processing your data with StandardScaler or MinMaxScaler.\n",
      "  % self.max_iter, ConvergenceWarning)\n",
      "/ritter/roshan/installations/anaconda3/lib/python3.7/site-packages/xgboost/sklearn.py:888: UserWarning: The use of label encoder in XGBClassifier is deprecated and will be removed in a future release. To remove this warning, do the following: 1) Pass option use_label_encoder=False when constructing XGBClassifier object; and 2) Encode your labels (y) as integers starting with 0, i.e. 0, 1, 2, ..., [num_class - 1].\n",
      "  warnings.warn(label_encoder_deprecation_msg, UserWarning)\n"
     ]
    },
    {
     "name": "stdout",
     "output_type": "stream",
     "text": [
      "training accuracy: 97.01% \t holdout accuracy: 46.07% \t holdout AUC ROC: 54.99%\n",
      "Testing ML model from: results/newlbls-fu2-espad-fu3-8c-frequency-n686/20210618-1056\n",
      "training accuracy: 96.64% \t holdout accuracy: 50.41% \t holdout AUC ROC: 57.18%\n",
      "Testing ML model from: results/newlbls-fu2-audit-fu3-audit-total-audit-n705/20210618-1044\n",
      "training accuracy: 96.78% \t holdout accuracy: 56.95% \t holdout AUC ROC: 59.87%\n",
      "Testing ML model from: results/newlbls-fu2-espad-fu3-29d-onset-15-n666/20210618-1053\n"
     ]
    },
    {
     "name": "stderr",
     "output_type": "stream",
     "text": [
      "/ritter/roshan/installations/anaconda3/lib/python3.7/site-packages/xgboost/sklearn.py:888: UserWarning: The use of label encoder in XGBClassifier is deprecated and will be removed in a future release. To remove this warning, do the following: 1) Pass option use_label_encoder=False when constructing XGBClassifier object; and 2) Encode your labels (y) as integers starting with 0, i.e. 0, 1, 2, ..., [num_class - 1].\n",
      "  warnings.warn(label_encoder_deprecation_msg, UserWarning)\n"
     ]
    },
    {
     "name": "stdout",
     "output_type": "stream",
     "text": [
      "training accuracy: 95.11% \t holdout accuracy: 54.49% \t holdout AUC ROC: 58.51%\n",
      "Testing ML model from: results/newlbls-fu2-audit-fu3-audit-total-audit-n705/20210618-1044\n",
      "training accuracy: 96.78% \t holdout accuracy: 57.48% \t holdout AUC ROC: 57.94%\n",
      "Testing ML model from: results/newlbls-fu2-espad-fu3-8c-frequency-n686/20210618-1056\n"
     ]
    },
    {
     "name": "stderr",
     "output_type": "stream",
     "text": [
      "/ritter/roshan/installations/anaconda3/lib/python3.7/site-packages/xgboost/sklearn.py:888: UserWarning: The use of label encoder in XGBClassifier is deprecated and will be removed in a future release. To remove this warning, do the following: 1) Pass option use_label_encoder=False when constructing XGBClassifier object; and 2) Encode your labels (y) as integers starting with 0, i.e. 0, 1, 2, ..., [num_class - 1].\n",
      "  warnings.warn(label_encoder_deprecation_msg, UserWarning)\n"
     ]
    },
    {
     "name": "stdout",
     "output_type": "stream",
     "text": [
      "training accuracy: 95.32% \t holdout accuracy: 50.20% \t holdout AUC ROC: 54.90%\n",
      "Testing ML model from: results/newlbls-fu2-audit-fu3-audit-total-audit-n705/20210618-1044\n"
     ]
    },
    {
     "name": "stderr",
     "output_type": "stream",
     "text": [
      "/ritter/roshan/installations/anaconda3/lib/python3.7/site-packages/sklearn/svm/_base.py:258: ConvergenceWarning: Solver terminated early (max_iter=10000).  Consider pre-processing your data with StandardScaler or MinMaxScaler.\n",
      "  % self.max_iter, ConvergenceWarning)\n"
     ]
    },
    {
     "name": "stdout",
     "output_type": "stream",
     "text": [
      "training accuracy: 97.47% \t holdout accuracy: 52.84% \t holdout AUC ROC: 51.19%\n",
      "Testing ML model from: results/newlbls-fu2-audit-fu3-audit-total-audit-n705/20210618-1044\n",
      "training accuracy: 96.66% \t holdout accuracy: 47.86% \t holdout AUC ROC: 45.85%\n",
      "Testing ML model from: results/newlbls-fu2-our-combo-cluster-combined-ours-n745/20210618-1104\n",
      "training accuracy: 77.14% \t holdout accuracy: 56.05% \t holdout AUC ROC: 62.68%\n",
      "Testing ML model from: results/newlbls-fu2-espad-gm-fine-cluster-binge-growth-n775/20210618-1101\n",
      "training accuracy: 78.96% \t holdout accuracy: 53.19% \t holdout AUC ROC: 58.66%\n",
      "Testing ML model from: results/newlbls-fu2-espad-fu3-prev31-amount-n641/20210618-1059\n"
     ]
    },
    {
     "name": "stderr",
     "output_type": "stream",
     "text": [
      "/ritter/roshan/installations/anaconda3/lib/python3.7/site-packages/sklearn/svm/_base.py:258: ConvergenceWarning: Solver terminated early (max_iter=10000).  Consider pre-processing your data with StandardScaler or MinMaxScaler.\n",
      "  % self.max_iter, ConvergenceWarning)\n"
     ]
    },
    {
     "name": "stdout",
     "output_type": "stream",
     "text": [
      "training accuracy: 97.51% \t holdout accuracy: 56.23% \t holdout AUC ROC: 55.89%\n",
      "Testing ML model from: results/newlbls-fu2-espad-fu3-8c-frequency-n686/20210618-1056\n",
      "training accuracy: 95.84% \t holdout accuracy: 47.46% \t holdout AUC ROC: 45.71%\n",
      "Testing ML model from: results/newlbls-fu2-espad-gm-fine-cluster-binge-growth-n775/20210618-1101\n",
      "training accuracy: 96.55% \t holdout accuracy: 45.06% \t holdout AUC ROC: 49.33%\n",
      "Testing ML model from: results/newlbls-fu2-audit-gm-fine-cluster-audit-growth-n713/20210618-1047\n"
     ]
    },
    {
     "name": "stderr",
     "output_type": "stream",
     "text": [
      "/ritter/roshan/installations/anaconda3/lib/python3.7/site-packages/sklearn/svm/_base.py:258: ConvergenceWarning: Solver terminated early (max_iter=10000).  Consider pre-processing your data with StandardScaler or MinMaxScaler.\n",
      "  % self.max_iter, ConvergenceWarning)\n"
     ]
    },
    {
     "name": "stdout",
     "output_type": "stream",
     "text": [
      "training accuracy: 97.00% \t holdout accuracy: 50.50% \t holdout AUC ROC: 42.16%\n",
      "Testing ML model from: results/newlbls-fu2-our-combo-cluster-combined-ours-n745/20210618-1104\n",
      "training accuracy: 77.21% \t holdout accuracy: 58.78% \t holdout AUC ROC: 65.79%\n",
      "Testing ML model from: results/newlbls-fu2-audit-fu3-audit-total-audit-n705/20210618-1044\n"
     ]
    },
    {
     "name": "stderr",
     "output_type": "stream",
     "text": [
      "/ritter/roshan/installations/anaconda3/lib/python3.7/site-packages/xgboost/sklearn.py:888: UserWarning: The use of label encoder in XGBClassifier is deprecated and will be removed in a future release. To remove this warning, do the following: 1) Pass option use_label_encoder=False when constructing XGBClassifier object; and 2) Encode your labels (y) as integers starting with 0, i.e. 0, 1, 2, ..., [num_class - 1].\n",
      "  warnings.warn(label_encoder_deprecation_msg, UserWarning)\n"
     ]
    },
    {
     "name": "stdout",
     "output_type": "stream",
     "text": [
      "training accuracy: 96.16% \t holdout accuracy: 63.28% \t holdout AUC ROC: 70.19%\n",
      "Testing ML model from: results/newlbls-fu2-espad-fu3-8c-frequency-n686/20210618-1056\n",
      "training accuracy: 68.01% \t holdout accuracy: 47.70% \t holdout AUC ROC: 47.50%\n",
      "Testing ML model from: results/newlbls-fu2-espad-fu3-8c-frequency-n686/20210618-1056\n",
      "training accuracy: 80.19% \t holdout accuracy: 50.53% \t holdout AUC ROC: 44.89%\n",
      "Testing ML model from: results/newlbls-fu2-espad-fu3-prev31-amount-n641/20210618-1059\n"
     ]
    },
    {
     "name": "stderr",
     "output_type": "stream",
     "text": [
      "/ritter/roshan/installations/anaconda3/lib/python3.7/site-packages/sklearn/svm/_base.py:258: ConvergenceWarning: Solver terminated early (max_iter=10000).  Consider pre-processing your data with StandardScaler or MinMaxScaler.\n",
      "  % self.max_iter, ConvergenceWarning)\n"
     ]
    },
    {
     "name": "stdout",
     "output_type": "stream",
     "text": [
      "training accuracy: 96.73% \t holdout accuracy: 47.31% \t holdout AUC ROC: 50.51%\n",
      "Testing ML model from: results/newlbls-fu2-audit-fu3-audit-total-audit-n705/20210618-1044\n",
      "training accuracy: 97.49% \t holdout accuracy: 49.18% \t holdout AUC ROC: 45.23%\n",
      "Testing ML model from: results/newlbls-fu2-espad-fu3-8c-frequency-n686/20210618-1056\n",
      "training accuracy: 67.46% \t holdout accuracy: 49.43% \t holdout AUC ROC: 45.26%\n",
      "Testing ML model from: results/newlbls-fu2-espad-fu3-prev31-amount-n641/20210618-1059\n",
      "training accuracy: 73.69% \t holdout accuracy: 55.64% \t holdout AUC ROC: 46.52%\n",
      "Testing ML model from: results/newlbls-fu2-espad-fu3-29d-onset-15-n666/20210618-1053\n"
     ]
    },
    {
     "name": "stderr",
     "output_type": "stream",
     "text": [
      "/ritter/roshan/installations/anaconda3/lib/python3.7/site-packages/xgboost/sklearn.py:888: UserWarning: The use of label encoder in XGBClassifier is deprecated and will be removed in a future release. To remove this warning, do the following: 1) Pass option use_label_encoder=False when constructing XGBClassifier object; and 2) Encode your labels (y) as integers starting with 0, i.e. 0, 1, 2, ..., [num_class - 1].\n",
      "  warnings.warn(label_encoder_deprecation_msg, UserWarning)\n"
     ]
    },
    {
     "name": "stdout",
     "output_type": "stream",
     "text": [
      "training accuracy: 97.01% \t holdout accuracy: 47.53% \t holdout AUC ROC: 63.37%\n",
      "Testing ML model from: results/newlbls-fu2-audit-fu3-audit-total-audit-n705/20210618-1044\n"
     ]
    },
    {
     "name": "stderr",
     "output_type": "stream",
     "text": [
      "/ritter/roshan/installations/anaconda3/lib/python3.7/site-packages/sklearn/svm/_base.py:258: ConvergenceWarning: Solver terminated early (max_iter=10000).  Consider pre-processing your data with StandardScaler or MinMaxScaler.\n",
      "  % self.max_iter, ConvergenceWarning)\n"
     ]
    },
    {
     "name": "stdout",
     "output_type": "stream",
     "text": [
      "training accuracy: 97.44% \t holdout accuracy: 44.98% \t holdout AUC ROC: 46.63%\n",
      "Testing ML model from: results/newlbls-fu2-audit-fu3-audit-total-audit-n705/20210618-1044\n",
      "training accuracy: 94.46% \t holdout accuracy: 51.69% \t holdout AUC ROC: 57.73%\n",
      "Testing ML model from: results/newlbls-fu2-audit-gm-fine-cluster-audit-growth-n713/20210618-1047\n"
     ]
    },
    {
     "name": "stderr",
     "output_type": "stream",
     "text": [
      "/ritter/roshan/installations/anaconda3/lib/python3.7/site-packages/xgboost/sklearn.py:888: UserWarning: The use of label encoder in XGBClassifier is deprecated and will be removed in a future release. To remove this warning, do the following: 1) Pass option use_label_encoder=False when constructing XGBClassifier object; and 2) Encode your labels (y) as integers starting with 0, i.e. 0, 1, 2, ..., [num_class - 1].\n",
      "  warnings.warn(label_encoder_deprecation_msg, UserWarning)\n"
     ]
    },
    {
     "name": "stdout",
     "output_type": "stream",
     "text": [
      "training accuracy: 94.51% \t holdout accuracy: 56.65% \t holdout AUC ROC: 61.29%\n",
      "Testing ML model from: results/newlbls-fu2-espad-fu3-29d-onset-15-n666/20210618-1053\n",
      "training accuracy: 71.31% \t holdout accuracy: 48.37% \t holdout AUC ROC: 55.78%\n",
      "Testing ML model from: results/newlbls-fu2-audit-fu3-audit-total-audit-n705/20210618-1044\n"
     ]
    },
    {
     "name": "stderr",
     "output_type": "stream",
     "text": [
      "/ritter/roshan/installations/anaconda3/lib/python3.7/site-packages/sklearn/svm/_base.py:258: ConvergenceWarning: Solver terminated early (max_iter=10000).  Consider pre-processing your data with StandardScaler or MinMaxScaler.\n",
      "  % self.max_iter, ConvergenceWarning)\n"
     ]
    },
    {
     "name": "stdout",
     "output_type": "stream",
     "text": [
      "training accuracy: 96.96% \t holdout accuracy: 40.25% \t holdout AUC ROC: 42.06%\n",
      "Testing ML model from: results/newlbls-fu2-espad-fu3-8c-frequency-n686/20210618-1056\n",
      "training accuracy: 78.87% \t holdout accuracy: 52.38% \t holdout AUC ROC: 48.31%\n",
      "Testing ML model from: results/newlbls-fu2-espad-fu3-29d-onset-15-n666/20210618-1053\n",
      "training accuracy: 77.33% \t holdout accuracy: 63.19% \t holdout AUC ROC: 61.95%\n",
      "Testing ML model from: results/newlbls-fu2-espad-fu3-29d-onset-15-n666/20210618-1053\n"
     ]
    },
    {
     "name": "stderr",
     "output_type": "stream",
     "text": [
      "/ritter/roshan/installations/anaconda3/lib/python3.7/site-packages/sklearn/svm/_base.py:258: ConvergenceWarning: Solver terminated early (max_iter=10000).  Consider pre-processing your data with StandardScaler or MinMaxScaler.\n",
      "  % self.max_iter, ConvergenceWarning)\n"
     ]
    },
    {
     "name": "stdout",
     "output_type": "stream",
     "text": [
      "training accuracy: 98.37% \t holdout accuracy: 51.01% \t holdout AUC ROC: 56.38%\n",
      "Testing ML model from: results/newlbls-fu2-espad-gm-fine-cluster-binge-growth-n775/20210618-1101\n",
      "training accuracy: 96.81% \t holdout accuracy: 47.51% \t holdout AUC ROC: 47.34%\n",
      "Testing ML model from: results/newlbls-fu2-audit-gm-fine-cluster-audit-growth-n713/20210618-1047\n"
     ]
    },
    {
     "name": "stderr",
     "output_type": "stream",
     "text": [
      "/ritter/roshan/installations/anaconda3/lib/python3.7/site-packages/sklearn/svm/_base.py:258: ConvergenceWarning: Solver terminated early (max_iter=10000).  Consider pre-processing your data with StandardScaler or MinMaxScaler.\n",
      "  % self.max_iter, ConvergenceWarning)\n"
     ]
    },
    {
     "name": "stdout",
     "output_type": "stream",
     "text": [
      "training accuracy: 96.88% \t holdout accuracy: 42.63% \t holdout AUC ROC: 42.38%\n",
      "Testing ML model from: results/newlbls-fu2-espad-fu3-29d-onset-15-n666/20210618-1053\n",
      "training accuracy: 78.66% \t holdout accuracy: 54.99% \t holdout AUC ROC: 61.47%\n",
      "Testing ML model from: results/newlbls-fu2-espad-fu3-8c-frequency-n686/20210618-1056\n"
     ]
    },
    {
     "name": "stderr",
     "output_type": "stream",
     "text": [
      "/ritter/roshan/installations/anaconda3/lib/python3.7/site-packages/xgboost/sklearn.py:888: UserWarning: The use of label encoder in XGBClassifier is deprecated and will be removed in a future release. To remove this warning, do the following: 1) Pass option use_label_encoder=False when constructing XGBClassifier object; and 2) Encode your labels (y) as integers starting with 0, i.e. 0, 1, 2, ..., [num_class - 1].\n",
      "  warnings.warn(label_encoder_deprecation_msg, UserWarning)\n"
     ]
    },
    {
     "name": "stdout",
     "output_type": "stream",
     "text": [
      "training accuracy: 94.97% \t holdout accuracy: 51.16% \t holdout AUC ROC: 54.82%\n",
      "Testing ML model from: results/newlbls-fu2-espad-fu3-29d-onset-15-n666/20210618-1053\n",
      "training accuracy: 77.96% \t holdout accuracy: 56.17% \t holdout AUC ROC: 61.58%\n",
      "Testing ML model from: results/newlbls-fu2-audit-fu3-audit-total-audit-n705/20210618-1044\n",
      "training accuracy: 76.43% \t holdout accuracy: 48.11% \t holdout AUC ROC: 49.14%\n",
      "Testing ML model from: results/newlbls-fu2-espad-fu3-29d-onset-15-n666/20210618-1053\n"
     ]
    },
    {
     "name": "stderr",
     "output_type": "stream",
     "text": [
      "/ritter/roshan/installations/anaconda3/lib/python3.7/site-packages/xgboost/sklearn.py:888: UserWarning: The use of label encoder in XGBClassifier is deprecated and will be removed in a future release. To remove this warning, do the following: 1) Pass option use_label_encoder=False when constructing XGBClassifier object; and 2) Encode your labels (y) as integers starting with 0, i.e. 0, 1, 2, ..., [num_class - 1].\n",
      "  warnings.warn(label_encoder_deprecation_msg, UserWarning)\n"
     ]
    },
    {
     "name": "stdout",
     "output_type": "stream",
     "text": [
      "training accuracy: 95.92% \t holdout accuracy: 51.46% \t holdout AUC ROC: 60.31%\n",
      "Testing ML model from: results/newlbls-fu2-espad-fu3-8c-frequency-n686/20210618-1056\n",
      "training accuracy: 95.25% \t holdout accuracy: 50.88% \t holdout AUC ROC: 42.74%\n",
      "Testing ML model from: results/newlbls-fu2-espad-fu3-29d-onset-15-n666/20210618-1053\n",
      "training accuracy: 96.20% \t holdout accuracy: 50.84% \t holdout AUC ROC: 64.57%\n",
      "Testing ML model from: results/newlbls-fu2-espad-fu3-29d-onset-15-n666/20210618-1053\n",
      "training accuracy: 80.29% \t holdout accuracy: 55.22% \t holdout AUC ROC: 63.00%\n",
      "Testing ML model from: results/newlbls-fu2-audit-gm-fine-cluster-audit-growth-n713/20210618-1047\n",
      "training accuracy: 95.73% \t holdout accuracy: 50.28% \t holdout AUC ROC: 46.11%\n",
      "Testing ML model from: results/newlbls-fu2-espad-fu3-8c-frequency-n686/20210618-1056\n",
      "training accuracy: 94.94% \t holdout accuracy: 49.31% \t holdout AUC ROC: 46.28%\n",
      "Testing ML model from: results/newlbls-fu2-espad-fu3-prev31-amount-n641/20210618-1059\n",
      "training accuracy: 77.93% \t holdout accuracy: 52.27% \t holdout AUC ROC: 46.13%\n",
      "Testing ML model from: results/newlbls-fu2-espad-fu3-29d-onset-15-n666/20210618-1053\n",
      "training accuracy: 78.82% \t holdout accuracy: 53.42% \t holdout AUC ROC: 61.65%\n",
      "Testing ML model from: results/newlbls-fu2-espad-fu3-prev31-amount-n641/20210618-1059\n",
      "training accuracy: 98.06% \t holdout accuracy: 54.04% \t holdout AUC ROC: 56.29%\n",
      "Testing ML model from: results/newlbls-fu2-audit-fu3-audit-total-audit-n705/20210618-1044\n",
      "training accuracy: 78.65% \t holdout accuracy: 50.74% \t holdout AUC ROC: 47.78%\n",
      "Testing ML model from: results/newlbls-fu2-audit-fu3-audit-total-audit-n705/20210618-1044\n",
      "training accuracy: 76.52% \t holdout accuracy: 43.91% \t holdout AUC ROC: 45.44%\n",
      "Testing ML model from: results/newlbls-fu2-espad-fu3-29d-onset-15-n666/20210618-1053\n"
     ]
    },
    {
     "name": "stderr",
     "output_type": "stream",
     "text": [
      "/ritter/roshan/installations/anaconda3/lib/python3.7/site-packages/xgboost/sklearn.py:888: UserWarning: The use of label encoder in XGBClassifier is deprecated and will be removed in a future release. To remove this warning, do the following: 1) Pass option use_label_encoder=False when constructing XGBClassifier object; and 2) Encode your labels (y) as integers starting with 0, i.e. 0, 1, 2, ..., [num_class - 1].\n",
      "  warnings.warn(label_encoder_deprecation_msg, UserWarning)\n"
     ]
    },
    {
     "name": "stdout",
     "output_type": "stream",
     "text": [
      "training accuracy: 97.28% \t holdout accuracy: 51.12% \t holdout AUC ROC: 59.48%\n",
      "Testing ML model from: results/newlbls-fu2-espad-fu3-29d-onset-15-n666/20210618-1053\n",
      "training accuracy: 97.83% \t holdout accuracy: 46.41% \t holdout AUC ROC: 54.47%\n",
      "Testing ML model from: results/newlbls-fu2-espad-fu3-8c-frequency-n686/20210618-1056\n"
     ]
    },
    {
     "name": "stderr",
     "output_type": "stream",
     "text": [
      "/ritter/roshan/installations/anaconda3/lib/python3.7/site-packages/sklearn/svm/_base.py:258: ConvergenceWarning: Solver terminated early (max_iter=10000).  Consider pre-processing your data with StandardScaler or MinMaxScaler.\n",
      "  % self.max_iter, ConvergenceWarning)\n"
     ]
    },
    {
     "name": "stdout",
     "output_type": "stream",
     "text": [
      "training accuracy: 96.36% \t holdout accuracy: 47.92% \t holdout AUC ROC: 43.06%\n",
      "Testing ML model from: results/newlbls-fu2-espad-fu3-29d-onset-15-n666/20210618-1053\n",
      "training accuracy: 92.93% \t holdout accuracy: 50.56% \t holdout AUC ROC: 58.51%\n",
      "Testing ML model from: results/newlbls-fu2-espad-fu3-29d-onset-15-n666/20210618-1053\n"
     ]
    }
   ],
   "source": [
    "from slugify import slugify\n",
    "\n",
    "best_results[\"holdout_score\"] = np.nan\n",
    "best_results[\"holdout_roc_auc\"] = np.nan\n",
    "\n",
    "print(\"========================================\")\n",
    "start_time = datetime.now()\n",
    "print(\"time: \", start_time)\n",
    "\n",
    "for k, row in best_results.iterrows():\n",
    "    \n",
    "    tp = row.path_type\n",
    "    print(f\"Testing ML model from: {row.path}\")\n",
    "    \n",
    "    # load the trained model\n",
    "    model = load(f\"{row.path}/{row.model}_{row.trial}.model\")\n",
    "    \n",
    "    # load the training data    \n",
    "    h5_path = \"/ritter/share/data/IMAGEN/h5files/{}.h5\".format(row.path.split('/')[-2])\n",
    "    data = h5py.File(h5_path, \"r\")\n",
    "    X = data['X'][()]\n",
    "    y_name = data.attrs['labels'][0]\n",
    "    y = data[y_name][()]    \n",
    "    confs = {}\n",
    "    for c in data.attrs['confs']:\n",
    "        confs[c] = np.array(data[c]) \n",
    "        \n",
    "    # load the holdout data \n",
    "    y_name_h5 = slugify(y_name)\n",
    "    if y_name_h5 == \"audit\": y_name_h5+=\"-total\"\n",
    "        \n",
    "    test_h5_path = sorted(glob(\"/ritter/share/data/IMAGEN/h5files/newholdout-{}*{}*.h5\".format(tp, y_name_h5)))\n",
    "    assert ((len(test_h5_path)==1) or (\"binge\" in y_name_h5)), \"for label {}, multiple test set files found: {}\".format(slugify(y_name), test_h5_path)\n",
    "    h5_path_holdout = test_h5_path[0]\n",
    "    test_data = h5py.File(h5_path_holdout, \"r\")\n",
    "    \n",
    "    X_test = test_data['X'][()]\n",
    "    y_test = test_data[y_name][()]    \n",
    "#     print(\"n(train_data) = {}\\t n(test_data)={} \\t n(features) = {}\".format(len(X), len(X_test), X.shape[-1]))\n",
    "        \n",
    "    # prepare confound-correction params\n",
    "    confs_grouped = np.array([])\n",
    "    for c, v in confs.items():               \n",
    "        if confs_grouped.size == 0:\n",
    "            confs_grouped = v\n",
    "        else:\n",
    "            confs_grouped = 100*confs_grouped + v\n",
    "            \n",
    "    conf_corr_params={\"conf_corr_cb__groups\": confs_grouped}\n",
    "    # retrain on entire data\n",
    "    model = model.fit(X, y, **conf_corr_params)\n",
    "    \n",
    "    test_score = make_scorer(balanced_accuracy_score)(model, X_test, y_test)  \n",
    "    # Calculate AUC if label is binary       \n",
    "    roc_auc = get_scorer(\"roc_auc\")(model, X_test, y_test)  \n",
    "    \n",
    "    \n",
    "    best_results.loc[k, \"holdout_score\"] = test_score    \n",
    "    best_results.loc[k, \"holdout_roc_auc\"] = roc_auc  \n",
    "    print(\"training accuracy: {:0.2f}% \\t holdout accuracy: {:0.2f}% \\t holdout AUC ROC: {:0.2f}%\".format(\n",
    "         make_scorer(balanced_accuracy_score)(model, X, y)*100, test_score*100, roc_auc*100))\n",
    "\n",
    "runtime=str(datetime.now()-start_time).split(\".\")[0]\n",
    "print(\"TOTAL RUNTIME: {} secs\".format(runtime))"
   ]
  },
  {
   "cell_type": "code",
   "execution_count": 25,
   "id": "ccd2fa4c-e6ff-46b7-a574-a2a6a85a82f1",
   "metadata": {},
   "outputs": [],
   "source": [
    "best_results.to_csv(\"holdout_results.csv\")"
   ]
  },
  {
   "cell_type": "code",
   "execution_count": 55,
   "id": "b9edab19-4a4f-4a2c-91f0-3aee305ff5dc",
   "metadata": {},
   "outputs": [],
   "source": [
    "best_results_plot = pd.DataFrame(columns=best_results.columns)\n",
    "for tp, grp in best_results.groupby(\"path_type\"):\n",
    "#     best = grp.sort_values([\"holdout_score\"], ascending=False)#.iloc[:3]\n",
    "    best = grp[grp[\"model\"].isin([\"SVM-rbf\"]) & grp[\"o\"].isin([\"Binge\"])].sort_values([\"holdout_score\"], ascending=False)#.iloc[:3]  #~grp[\"o\"].isin([\"Frequency\", \"onset<15\"])\n",
    "    best_results_plot = pd.concat([best_results_plot, best])"
   ]
  },
  {
   "cell_type": "code",
   "execution_count": 56,
   "id": "cf071ce6-5672-4188-b067-1f1884c83a90",
   "metadata": {},
   "outputs": [],
   "source": [
    "# best_results_plot.model.value_counts()"
   ]
  },
  {
   "cell_type": "code",
   "execution_count": 57,
   "id": "4abbc7a9-aefb-45f3-adc7-df1e0f2fcdfc",
   "metadata": {},
   "outputs": [
    {
     "data": {
      "text/plain": [
       "<matplotlib.lines.Line2D at 0x7f936060bf90>"
      ]
     },
     "execution_count": 57,
     "metadata": {},
     "output_type": "execute_result"
    },
    {
     "data": {
      "image/png": "[encoded data removed]",
      "text/plain": [
       "<Figure size 720x360 with 1 Axes>"
      ]
     },
     "metadata": {},
     "output_type": "display_data"
    }
   ],
   "source": [
    "sns.set(rc={'figure.figsize':(10,5)})\n",
    "ax = sns.violinplot(x=\"holdout_score\", y=\"path_type\", hue=\"o\",\n",
    "            data=best_results_plot)\n",
    "ax.set_xlim(0.0, 1.0)\n",
    "ax.set_ylabel(\"Time points\")\n",
    "ax.axvline(0.5, label=\"chance\", c='gray', ls='--', lw=1.5)"
   ]
  },
  {
   "cell_type": "code",
   "execution_count": 58,
   "id": "5f408833-ff82-445d-818b-0033413e976d",
   "metadata": {},
   "outputs": [
    {
     "data": {
      "text/plain": [
       "<matplotlib.lines.Line2D at 0x7f936060bfd0>"
      ]
     },
     "execution_count": 58,
     "metadata": {},
     "output_type": "execute_result"
    },
    {
     "data": {
      "image/png": "[encoded data removed]",
      "text/plain": [
       "<Figure size 720x360 with 1 Axes>"
      ]
     },
     "metadata": {},
     "output_type": "display_data"
    }
   ],
   "source": [
    "sns.set(rc={'figure.figsize':(10,5)})\n",
    "ax = sns.violinplot(x=\"holdout_score\", y=\"path_type\", hue=\"model\",\n",
    "            data=best_results_plot)\n",
    "ax.axvline(0.5, label=\"chance\", c='gray', ls='--', lw=1.5)"
   ]
  },
  {
   "cell_type": "code",
   "execution_count": null,
   "id": "1fe740c8-bd6c-44d8-86b4-a197cdda573b",
   "metadata": {},
   "outputs": [],
   "source": [
    "sns.set(rc={'figure.figsize':(20,10)})\n",
    "ax = sns.boxplot(y=\"holdout_roc_auc\", hue=\"o\", x=\"path_type\",\n",
    "            data=best_results, dodge=0.4)\n",
    "ax.axhline(0.5, label=\"chance\", c='gray', ls='--', lw=1.5)"
   ]
  },
  {
   "cell_type": "code",
   "execution_count": null,
   "id": "84cb25e6-7490-41d1-964c-e8e435264be1",
   "metadata": {},
   "outputs": [],
   "source": []
  }
 ],
 "metadata": {
  "kernelspec": {
   "display_name": "Python 3",
   "language": "python",
   "name": "python3"
  },
  "language_info": {
   "codemirror_mode": {
    "name": "ipython",
    "version": 3
   },
   "file_extension": ".py",
   "mimetype": "text/x-python",
   "name": "python",
   "nbconvert_exporter": "python",
   "pygments_lexer": "ipython3",
   "version": "3.7.9"
  }
 },
 "nbformat": 4,
 "nbformat_minor": 5
}
